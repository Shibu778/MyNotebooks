{
  "nbformat": 4,
  "nbformat_minor": 0,
  "metadata": {
    "colab": {
      "name": "Lyapunov_exponent_analysis.ipynb",
      "provenance": [],
      "collapsed_sections": [],
      "toc_visible": true,
      "mount_file_id": "1btCD-0FrKAX6B0jHKVNE_XL0QJN6ZKMP",
      "authorship_tag": "ABX9TyMAXDdgv20x6q9zeL6QKasz",
      "include_colab_link": true
    },
    "kernelspec": {
      "name": "python3",
      "display_name": "Python 3"
    }
  },
  "cells": [
    {
      "cell_type": "markdown",
      "metadata": {
        "id": "view-in-github",
        "colab_type": "text"
      },
      "source": [
        "<a href=\"https://colab.research.google.com/github/Shibu778/MyNotebooks/blob/master/Lyapunov_exponent_analysis.ipynb\" target=\"_parent\"><img src=\"https://colab.research.google.com/assets/colab-badge.svg\" alt=\"Open In Colab\"/></a>"
      ]
    },
    {
      "cell_type": "code",
      "metadata": {
        "id": "ffM4Dgk_8W1-",
        "colab_type": "code",
        "colab": {
          "base_uri": "https://localhost:8080/",
          "height": 35
        },
        "outputId": "2d5f097d-bc27-431f-a838-e96eb6a4a439"
      },
      "source": [
        "pwd"
      ],
      "execution_count": null,
      "outputs": [
        {
          "output_type": "execute_result",
          "data": {
            "application/vnd.google.colaboratory.intrinsic+json": {
              "type": "string"
            },
            "text/plain": [
              "'/content'"
            ]
          },
          "metadata": {
            "tags": []
          },
          "execution_count": 1
        }
      ]
    },
    {
      "cell_type": "code",
      "metadata": {
        "id": "Lb_Pp7rV93QO",
        "colab_type": "code",
        "colab": {
          "base_uri": "https://localhost:8080/",
          "height": 34
        },
        "outputId": "e51d9cea-22bf-4644-c3a1-8cc798fb6a95"
      },
      "source": [
        "cd /content/drive/My Drive"
      ],
      "execution_count": null,
      "outputs": [
        {
          "output_type": "stream",
          "text": [
            "/content/drive/My Drive\n"
          ],
          "name": "stdout"
        }
      ]
    },
    {
      "cell_type": "code",
      "metadata": {
        "id": "FVf3Cr2U-Coo",
        "colab_type": "code",
        "colab": {}
      },
      "source": [
        "# If found Import Error in the next cell uncomment the following line and run this cell\n",
        "#!pip install ./nolitsa"
      ],
      "execution_count": null,
      "outputs": []
    },
    {
      "cell_type": "code",
      "metadata": {
        "id": "UNVkzO1A93KM",
        "colab_type": "code",
        "colab": {}
      },
      "source": [
        "# First Mount the drive\n",
        "import pandas as pd\n",
        "import numpy as np\n",
        "import matplotlib.pyplot as plt\n",
        "import os\n",
        "import scipy.io\n",
        "from nolitsa.nolitsa import delay, lyapunov, utils"
      ],
      "execution_count": null,
      "outputs": []
    },
    {
      "cell_type": "code",
      "metadata": {
        "id": "UjR_PZsOQUfm",
        "colab_type": "code",
        "colab": {
          "base_uri": "https://localhost:8080/",
          "height": 34
        },
        "outputId": "e9a9216d-f0b2-45ef-8f19-b899869cedbb"
      },
      "source": [
        "cd Sleep data/Rawat\\ Sumit\\ -\\ 06.08.2019"
      ],
      "execution_count": null,
      "outputs": [
        {
          "output_type": "stream",
          "text": [
            "/content/drive/My Drive/Sleep data/Rawat Sumit - 06.08.2019\n"
          ],
          "name": "stdout"
        }
      ]
    },
    {
      "cell_type": "code",
      "metadata": {
        "id": "b9GY19r9-JV6",
        "colab_type": "code",
        "colab": {}
      },
      "source": [
        "# Making a class for analysis\n",
        "class LEA():  # LEA - Lyapunov exponent analysis\n",
        "\n",
        "  def __init__(self,filepath_in,maxnum):\n",
        "    self.filepath_in = filepath_in\n",
        "    self.maxnum = maxnum\n",
        "\n",
        "  def txt_to_arr(self,filepath_in):\n",
        "    '''\n",
        "    Function : Takes the relative file path and read the *.txt file mentioned in the path and\n",
        "    gives an numpy array as output.\n",
        "    Input : filepath\n",
        "    Output : Numpy array containing the single column signal inside the txt file\n",
        "    Use the following file format\n",
        "    filepath = '/content/drive/My Drive/Sleep data/Amit Agrahari/C3 - 14.04.2014.txt'\n",
        "    txt_to_mat(filepath)\n",
        "    '''\n",
        "    df = pd.read_csv(filepath_in,header=None,encoding= 'unicode_escape')\n",
        "    df = df[6:]\n",
        "    arr = np.squeeze(df.to_numpy(),axis = 1)\n",
        "    arr = arr.astype(float)\n",
        "    print(\"Length of data : \", len(arr))\n",
        "    return arr\n",
        "\n",
        "  def find_mle(self, arr, tau = 1, dim = [2], window = 0):\n",
        "    \"\"\"Finds the Lyapunov time series\n",
        "    \n",
        "    \"\"\"\n",
        "    d = lyapunov.mle_embed(arr, dim=dim, tau=tau, maxt=len(arr), window = window,maxnum = self.maxnum)[0]\n",
        "    return d\n",
        "\n",
        "  # Function to calculate all the minima\n",
        "  def all_minima(self,x):\n",
        "    minima_list = []\n",
        "    for i in range(1,len(x)-1):\n",
        "      if x[i] < x[i-1] and x[i] < x[i+1]:\n",
        "        minima_list.append(x[i])\n",
        "\n",
        "    return minima_list\n",
        "\n",
        "  # Function to calculate the local minima\n",
        "  def first_local_minima(self, minima_list):\n",
        "    return minima_list[0]\n",
        "\n",
        "  def delay_of_lyapunov(self, data):\n",
        "    R_delay = []\n",
        "    I_delay = []\n",
        "    data1 = data[0:1000]\n",
        "    count = 1000\n",
        "    for i in range(int(len(data)/1000)):\n",
        "      # Finding and storing time delay using auto-correlation\n",
        "      r = delay.acorr(data1, maxtau=50)\n",
        "      r_delay = np.argmax(r < 1.0 / np.e)\n",
        "      R_delay.append(r_delay)\n",
        "\n",
        "      # Finding and using time delay using average mutual information\n",
        "      i = delay.dmi(data1, maxtau=50)\n",
        "      allm = all_minima(i)\n",
        "      i_delay = np.where(i == allm[0])[0][0]\n",
        "      I_delay.append(i_delay)\n",
        "\n",
        "      # Accessing next data window of 1000 points\n",
        "      data1 = data[count-200:count+800]\n",
        "      count = count + 800\n",
        "\n",
        "    return R_delay, I_delay\n",
        "\n",
        "  def lyapunov_analysis(self):\n",
        "    arr = self.txt_to_arr(self.filepath_in)\n",
        "    arr = arr[:1000]\n",
        "    data = self.find_mle(arr)\n",
        "    R_delay, I_delay = self.delay_of_lyapunov(data)\n",
        "    # Plotting\n",
        "    # Figure 1 is for time-delay calculated using autocorrelation\n",
        "    plt.figure(1)\n",
        "    plt.plot(R_delay)\n",
        "\n",
        "    # Figure 2 is for time-delay calculated using AMI\n",
        "    plt.figure(2)\n",
        "    plt.plot(I_delay)\n",
        "    plt.show()\n",
        "      \n",
        "    return R_delay, I_delay\n"
      ],
      "execution_count": null,
      "outputs": []
    },
    {
      "cell_type": "code",
      "metadata": {
        "id": "kZvcZB1uURZO",
        "colab_type": "code",
        "colab": {}
      },
      "source": [
        "# Functions\n",
        "def txt_to_arr(filepath_in):\n",
        "    '''\n",
        "    Function : Takes the relative file path and read the *.txt file mentioned in the path and\n",
        "    gives an numpy array as output.\n",
        "    Input : filepath\n",
        "    Output : Numpy array containing the single column signal inside the txt file\n",
        "    Use the following file format\n",
        "    filepath = '/content/drive/My Drive/Sleep data/Amit Agrahari/C3 - 14.04.2014.txt'\n",
        "    txt_to_mat(filepath)\n",
        "    '''\n",
        "    df = pd.read_csv(filepath_in,header=None,encoding= 'unicode_escape')\n",
        "    df = df[6:]\n",
        "    arr = np.squeeze(df.to_numpy(),axis = 1)\n",
        "    arr = arr.astype(float)\n",
        "    print(\"Length of data : \", len(arr))\n",
        "    return arr\n",
        "\n",
        "def find_mle(arr, tau = 1, dim = [2], window = 0, maxnum = 10):\n",
        "    \"\"\"Finds the Lyapunov time series\n",
        "    \n",
        "    \"\"\"\n",
        "    d = lyapunov.mle_embed(arr, dim=dim, tau=tau, maxt=len(arr), window = window,maxnum = maxnum)[0]\n",
        "    return d"
      ],
      "execution_count": null,
      "outputs": []
    },
    {
      "cell_type": "code",
      "metadata": {
        "id": "tcdwTS-5VIp9",
        "colab_type": "code",
        "colab": {}
      },
      "source": [
        "??lyapunov.mle_embed"
      ],
      "execution_count": null,
      "outputs": []
    },
    {
      "cell_type": "code",
      "metadata": {
        "id": "KE0vtkVUS5G5",
        "colab_type": "code",
        "colab": {
          "base_uri": "https://localhost:8080/",
          "height": 34
        },
        "outputId": "b586ace6-1783-4014-dad2-a2b5187b8602"
      },
      "source": [
        "len(C3)\n"
      ],
      "execution_count": null,
      "outputs": [
        {
          "output_type": "execute_result",
          "data": {
            "text/plain": [
              "4619072"
            ]
          },
          "metadata": {
            "tags": []
          },
          "execution_count": 13
        }
      ]
    },
    {
      "cell_type": "code",
      "metadata": {
        "id": "Q9l0hMuYTxd9",
        "colab_type": "code",
        "colab": {}
      },
      "source": [
        "filepath = 'C3 - 06.08.2019.txt'\n",
        "C3 = txt_to_arr(filepath)\n",
        "data = C3[2000:3000]\n",
        "mle = find_mle(data, tau = 3, dim = [5], window = 100, maxnum = 500)\n",
        "mle"
      ],
      "execution_count": null,
      "outputs": []
    },
    {
      "cell_type": "code",
      "metadata": {
        "id": "BBMxaeG3hSfn",
        "colab_type": "code",
        "colab": {
          "base_uri": "https://localhost:8080/",
          "height": 34
        },
        "outputId": "5bd8cea2-1097-4037-c0a9-0817b990d006"
      },
      "source": [
        "arr = np.arange(0)\n",
        "arr = np.concatenate((arr,np.asarray([5])))\n",
        "arr"
      ],
      "execution_count": null,
      "outputs": [
        {
          "output_type": "execute_result",
          "data": {
            "text/plain": [
              "array([5])"
            ]
          },
          "metadata": {
            "tags": []
          },
          "execution_count": 49
        }
      ]
    },
    {
      "cell_type": "code",
      "metadata": {
        "id": "tZ1Ju9h9XalG",
        "colab_type": "code",
        "colab": {
          "base_uri": "https://localhost:8080/",
          "height": 34
        },
        "outputId": "3c048f62-af31-4289-8490-bd0a69a31257"
      },
      "source": [
        "import warnings\n",
        "warnings.filterwarnings('ignore')\n",
        "mle_arr = np.arange(0)\n",
        "for i in range(0,1000):\n",
        "  data = C3[i*1000:(i+1)*1000]\n",
        "  mle = find_mle(data, tau = 5, dim = [5], window = 100, maxnum = 500)\n",
        "  mle_arr = np.concatenate((mle_arr,np.asarray([max(mle)])))\n",
        "\n",
        "len(mle_arr)"
      ],
      "execution_count": null,
      "outputs": [
        {
          "output_type": "execute_result",
          "data": {
            "text/plain": [
              "1000"
            ]
          },
          "metadata": {
            "tags": []
          },
          "execution_count": 52
        }
      ]
    },
    {
      "cell_type": "code",
      "metadata": {
        "id": "iKD_iwrOtRW7",
        "colab_type": "code",
        "colab": {
          "base_uri": "https://localhost:8080/",
          "height": 282
        },
        "outputId": "4a072089-db7b-4b4f-ca0e-3b418e8221eb"
      },
      "source": [
        "plt.plot(mle_arr[:1000])"
      ],
      "execution_count": null,
      "outputs": [
        {
          "output_type": "execute_result",
          "data": {
            "text/plain": [
              "[<matplotlib.lines.Line2D at 0x7f84ffbd7fd0>]"
            ]
          },
          "metadata": {
            "tags": []
          },
          "execution_count": 55
        },
        {
          "output_type": "display_data",
          "data": {
            "image/png": "[encoded data removed]",
            "text/plain": [
              "<Figure size 432x288 with 1 Axes>"
            ]
          },
          "metadata": {
            "tags": [],
            "needs_background": "light"
          }
        }
      ]
    },
    {
      "cell_type": "code",
      "metadata": {
        "id": "FseSpyekuKIZ",
        "colab_type": "code",
        "colab": {
          "base_uri": "https://localhost:8080/",
          "height": 85
        },
        "outputId": "126b4a87-a4d5-4a29-978d-f6aac190b40e"
      },
      "source": [
        "mle_arr[800:850]"
      ],
      "execution_count": null,
      "outputs": [
        {
          "output_type": "execute_result",
          "data": {
            "text/plain": [
              "array([nan, nan, nan, nan, nan, nan, nan, nan, nan, nan, nan, nan, nan,\n",
              "       nan, nan, nan, nan, nan, nan, nan, nan, nan, nan, nan, nan, nan,\n",
              "       nan, nan, nan, nan, nan, nan, nan, nan, nan, nan, nan, nan, nan,\n",
              "       nan, nan, nan, nan, nan, nan, nan, nan, nan, nan, nan])"
            ]
          },
          "metadata": {
            "tags": []
          },
          "execution_count": 42
        }
      ]
    },
    {
      "cell_type": "code",
      "metadata": {
        "id": "qTkKKEOyQNdb",
        "colab_type": "code",
        "colab": {}
      },
      "source": [
        "filepath = 'C3 - 06.08.2019.txt'\n",
        "analyzer = LEA(filepath,900)\n",
        "#analyzer.filepath_in = filepath\n",
        "#data = analyzer.txt_to_arr(filepath)\n",
        "R_delay, I_delay = analyzer.lyapunov_analysis()"
      ],
      "execution_count": null,
      "outputs": []
    },
    {
      "cell_type": "code",
      "metadata": {
        "id": "WCrrNWrjRfT4",
        "colab_type": "code",
        "colab": {}
      },
      "source": [
        "analyzer.lya"
      ],
      "execution_count": null,
      "outputs": []
    },
    {
      "cell_type": "code",
      "metadata": {
        "id": "Vjdw2G6CAWbi",
        "colab_type": "code",
        "colab": {
          "base_uri": "https://localhost:8080/",
          "height": 297
        },
        "outputId": "6a4fd798-ae06-40b0-faba-83f5f83b79e7"
      },
      "source": [
        "from nolitsa import data, lyapunov\n",
        "import numpy as np\n",
        "import matplotlib.pyplot as plt\n",
        "\n",
        "x = data.henon(length=5000)[:, 0]\n",
        "\n",
        "# Time delay.\n",
        "tau = 1\n",
        "\n",
        "# Embedding dimension.\n",
        "dim = [2]\n",
        "\n",
        "d = lyapunov.mle_embed(x, dim=dim, tau=tau, maxt=len(x))[0]\n",
        "t = np.arange(len(x))\n",
        "\n",
        "plt.title('Maximum Lyapunov exponent for the Henon system')\n",
        "plt.xlabel(r'Time $t$')\n",
        "plt.ylabel(r'Average divergence $\\langle d_i(t) \\rangle$')\n",
        "plt.plot(t[:len(d)], d)\n",
        "#plt.plot(t, t * 0.419 + d[0], '--')\n",
        "\n",
        "plt.show()"
      ],
      "execution_count": null,
      "outputs": [
        {
          "output_type": "display_data",
          "data": {
            "image/png": "[encoded data removed]",
            "text/plain": [
              "<Figure size 432x288 with 1 Axes>"
            ]
          },
          "metadata": {
            "tags": [],
            "needs_background": "light"
          }
        }
      ]
    },
    {
      "cell_type": "code",
      "metadata": {
        "id": "6SQIdJw9AguD",
        "colab_type": "code",
        "colab": {
          "base_uri": "https://localhost:8080/",
          "height": 105
        },
        "outputId": "48894326-b103-41c5-af5b-ae3727200f51"
      },
      "source": [
        "import numpy as np\n",
        "import matplotlib.pyplot as plt\n",
        "#from nolitsa import lyapunov, utils\n",
        "\n",
        "t = np.linspace(0, 100 * np.pi, 5000)\n",
        "x = np.sin(t) + np.sin(2 * t) + np.sin(3 * t) + np.sin(5 * t)\n",
        "x = utils.corrupt(x, np.random.normal(size=5000), snr=1000)\n",
        "\n",
        "# Time delay.\n",
        "tau = 25\n",
        "\n",
        "window = 100\n",
        "\n",
        "# Embedding dimension.\n",
        "dim = [10]\n",
        "\n",
        "d = lyapunov.mle_embed(x, dim=dim, tau=tau, maxt=5000, window=window)[0]\n",
        "\n"
      ],
      "execution_count": null,
      "outputs": [
        {
          "output_type": "stream",
          "text": [
            "/usr/local/lib/python3.6/dist-packages/numpy/core/fromnumeric.py:3335: RuntimeWarning: Mean of empty slice.\n",
            "  out=out, **kwargs)\n",
            "/usr/local/lib/python3.6/dist-packages/numpy/core/_methods.py:161: RuntimeWarning: invalid value encountered in double_scalars\n",
            "  ret = ret.dtype.type(ret / rcount)\n"
          ],
          "name": "stderr"
        }
      ]
    },
    {
      "cell_type": "code",
      "metadata": {
        "id": "V9wdcMSlRLVd",
        "colab_type": "code",
        "colab": {
          "base_uri": "https://localhost:8080/",
          "height": 51
        },
        "outputId": "dc6af4aa-5492-46be-df2b-451a8cec8e79"
      },
      "source": [
        "d"
      ],
      "execution_count": null,
      "outputs": [
        {
          "output_type": "execute_result",
          "data": {
            "text/plain": [
              "array([-1.98627666, -1.56246199, -1.53151454, ...,         nan,\n",
              "               nan,         nan])"
            ]
          },
          "metadata": {
            "tags": []
          },
          "execution_count": 12
        }
      ]
    },
    {
      "cell_type": "code",
      "metadata": {
        "id": "lgxPFZvTEQ2Y",
        "colab_type": "code",
        "colab": {
          "base_uri": "https://localhost:8080/",
          "height": 297
        },
        "outputId": "ee4e7459-6870-4383-8d7c-119d55ca75f4"
      },
      "source": [
        "plt.title('Maximum Lyapunov exponent for a closed curve')\n",
        "plt.xlabel(r'Time $t$')\n",
        "plt.ylabel(r'Average divergence $\\langle d_i(t) \\rangle$')\n",
        "plt.plot(t[:len(d)], d)\n",
        "\n",
        "plt.show()"
      ],
      "execution_count": null,
      "outputs": [
        {
          "output_type": "display_data",
          "data": {
            "image/png": "[encoded data removed]",
            "text/plain": [
              "<Figure size 432x288 with 1 Axes>"
            ]
          },
          "metadata": {
            "tags": [],
            "needs_background": "light"
          }
        }
      ]
    },
    {
      "cell_type": "code",
      "metadata": {
        "id": "Ud3xUxdoF9EO",
        "colab_type": "code",
        "colab": {
          "base_uri": "https://localhost:8080/",
          "height": 34
        },
        "outputId": "49ba6a23-1c49-4a42-8086-74bb41feefd3"
      },
      "source": [
        ""
      ],
      "execution_count": null,
      "outputs": [
        {
          "output_type": "execute_result",
          "data": {
            "text/plain": [
              "((5000,), (4988,))"
            ]
          },
          "metadata": {
            "tags": []
          },
          "execution_count": 22
        }
      ]
    },
    {
      "cell_type": "markdown",
      "metadata": {
        "id": "G1DPlrCQUrD2",
        "colab_type": "text"
      },
      "source": [
        "Rough work"
      ]
    },
    {
      "cell_type": "code",
      "metadata": {
        "id": "MzDDY14aU4RD",
        "colab_type": "code",
        "colab": {}
      },
      "source": [
        "def txt_to_arr(filepath_in):\n",
        "    '''\n",
        "    Function : Takes the relative file path and read the *.txt file mentioned in the path and\n",
        "    gives an numpy array as output.\n",
        "    Input : filepath\n",
        "    Output : Numpy array containing the single column signal inside the txt file\n",
        "    Use the following file format\n",
        "    filepath = '/content/drive/My Drive/Sleep data/Amit Agrahari/C3 - 14.04.2014.txt'\n",
        "    txt_to_mat(filepath)\n",
        "    '''\n",
        "    df = pd.read_csv(filepath_in,header=None,encoding= 'unicode_escape')\n",
        "    df = df[6:]\n",
        "    arr = np.squeeze(df.to_numpy(),axis = 1)\n",
        "    arr = arr.astype(float)\n",
        "    print(\"Length of data : \", len(arr))\n",
        "    return arr\n",
        "\n",
        "def find_time_delay"
      ],
      "execution_count": null,
      "outputs": []
    },
    {
      "cell_type": "code",
      "metadata": {
        "id": "n63ILC3cUuNg",
        "colab_type": "code",
        "colab": {
          "base_uri": "https://localhost:8080/",
          "height": 349
        },
        "outputId": "ff54f505-3438-493a-dbb2-0cfad81f7035"
      },
      "source": [
        "filepath = 'C3 - 06.08.2019.txt'\n",
        "C3 = txt_to_arr(filepath)\n",
        "plt.plot(C3)\n",
        "plt.show()"
      ],
      "execution_count": null,
      "outputs": [
        {
          "output_type": "stream",
          "text": [
            "/usr/local/lib/python3.6/dist-packages/IPython/core/interactiveshell.py:2822: DtypeWarning: Columns (0) have mixed types.Specify dtype option on import or set low_memory=False.\n",
            "  if self.run_code(code, result):\n"
          ],
          "name": "stderr"
        },
        {
          "output_type": "stream",
          "text": [
            "Length of data :  4619072\n"
          ],
          "name": "stdout"
        },
        {
          "output_type": "display_data",
          "data": {
            "image/png": "[encoded data removed]",
            "text/plain": [
              "<Figure size 432x288 with 1 Axes>"
            ]
          },
          "metadata": {
            "tags": [],
            "needs_background": "light"
          }
        }
      ]
    },
    {
      "cell_type": "code",
      "metadata": {
        "id": "t1xhGsclVFn6",
        "colab_type": "code",
        "colab": {
          "base_uri": "https://localhost:8080/",
          "height": 1000
        },
        "outputId": "b3ddca74-8ed4-416b-d149-b9f660883e56"
      },
      "source": [
        "arr = C3[:1000]\n",
        "# Time delay.\n",
        "tau = delay.acorr(arr, maxtau = 50)\n",
        "tau = np.argmax(tau < 1/np.e)\n",
        "window = 0\n",
        "# Embedding dimension.\n",
        "dim = [3]\n",
        "d = lyapunov.mle_embed(arr, dim=dim, tau=tau, maxt=5000, window=window, maxnum = 900)[0]\n",
        "d"
      ],
      "execution_count": null,
      "outputs": [
        {
          "output_type": "stream",
          "text": [
            "/usr/local/lib/python3.6/dist-packages/numpy/core/fromnumeric.py:3335: RuntimeWarning: Mean of empty slice.\n",
            "  out=out, **kwargs)\n",
            "/usr/local/lib/python3.6/dist-packages/numpy/core/_methods.py:161: RuntimeWarning: invalid value encountered in double_scalars\n",
            "  ret = ret.dtype.type(ret / rcount)\n"
          ],
          "name": "stderr"
        },
        {
          "output_type": "execute_result",
          "data": {
            "text/plain": [
              "array([3.28598535, 3.83538362, 4.17545668, 4.30304952, 4.25687187,\n",
              "       4.10676436, 4.05379631, 4.24947427, 4.42867409, 4.47416185,\n",
              "       4.35780619, 4.34153722, 4.46603726, 4.58705942, 4.68413777,\n",
              "       4.68971561, 4.57433072, 4.45134978, 4.60744005, 4.71634149,\n",
              "       4.75542933, 4.69999067, 4.57324126, 4.49648297, 4.62455845,\n",
              "       4.71409851, 4.73486386, 4.67844486, 4.55774316, 4.48665139,\n",
              "       4.59477273, 4.66847109, 4.68618882, 4.65188423, 4.60818563,\n",
              "       4.58887892, 4.62550671, 4.65161387, 4.66100124, 4.64442372,\n",
              "       4.61435602, 4.61658237, 4.6708498 , 4.72658642, 4.76103954,\n",
              "       4.79323089, 4.83045571, 4.87115836, 4.89216402, 4.88426029,\n",
              "       4.8565055 , 4.83238706, 4.84182292, 4.87511911, 4.89385112,\n",
              "       4.88873151, 4.8604955 , 4.83438962, 4.85234664, 4.89460334,\n",
              "       4.92140191, 4.91756591, 4.87266097, 4.81377109, 4.78490403,\n",
              "       4.78076285, 4.77964816, 4.78958709, 4.79583662, 4.7917188 ,\n",
              "       4.79304528, 4.78682907, 4.7771725 , 4.8181946 , 4.89098188,\n",
              "       4.96055037, 4.99305763, 5.00410945, 5.01488729, 5.03923538,\n",
              "       5.04618975, 5.05751326, 5.06991994, 5.06141831, 5.04616862,\n",
              "       5.05835652, 5.05795693, 5.0601056 , 5.07883043, 5.07678357,\n",
              "       5.06780403, 5.06140863, 5.06483893, 5.08787043, 5.1159398 ,\n",
              "       5.10494469, 5.0530832 , 5.00364662, 4.9865748 , 4.99854777,\n",
              "       5.02296503, 5.02683489, 4.98414412, 4.94324727, 4.97858874,\n",
              "       5.03036358, 5.07411701, 5.07805947, 5.04215796, 4.99383774,\n",
              "       4.97221478, 4.97484404, 4.99274474, 4.98147215, 4.95329436,\n",
              "       4.9267638 , 4.91541404, 4.94568242, 4.98673739, 4.99855356,\n",
              "       4.98317785, 4.94559101, 4.90021129, 4.8870947 , 4.90069527,\n",
              "       4.91465048, 4.90642349, 4.88063121, 4.84510467, 4.81717141,\n",
              "       4.79793908, 4.80299742, 4.80431715, 4.79092295, 4.78269308,\n",
              "       4.77896782, 4.77979625, 4.7829938 , 4.771049  , 4.73661435,\n",
              "       4.73826388, 4.74577081, 4.75424844, 4.77837739, 4.80539251,\n",
              "       4.77745913, 4.75128147, 4.78183317, 4.83349516, 4.89181443,\n",
              "       4.92208096, 4.90592206, 4.85664767, 4.82991271, 4.8602552 ,\n",
              "       4.92771641, 4.98418143, 4.98418502, 4.94506711, 4.8966469 ,\n",
              "       4.89217783, 4.92574226, 4.95268454, 4.94671296, 4.92857427,\n",
              "       4.9057834 , 4.88473856, 4.89216112, 4.89752575, 4.88244303,\n",
              "       4.85569937, 4.84232788, 4.8239225 , 4.80601962, 4.78744533,\n",
              "       4.76532013, 4.73417761, 4.72297303, 4.70477313, 4.69124091,\n",
              "       4.71768186, 4.7649352 , 4.80794104, 4.83620956, 4.83716586,\n",
              "       4.8195282 , 4.79265891, 4.79595485, 4.83786051, 4.86814102,\n",
              "       4.87178319, 4.84365221, 4.78852972, 4.77553739, 4.8031263 ,\n",
              "       4.84337202, 4.86735339, 4.87704908, 4.84948387, 4.80294384,\n",
              "       4.76085507, 4.72360873, 4.71623835, 4.75007844, 4.78019875,\n",
              "       4.79811524, 4.80619546, 4.79455153, 4.78879706, 4.79107845,\n",
              "       4.80747919, 4.81440845, 4.81866609, 4.80330008, 4.79919495,\n",
              "       4.80724157, 4.81357599, 4.82691642, 4.83863906, 4.84002771,\n",
              "       4.85380181, 4.87790708, 4.8945932 , 4.89236811, 4.89339431,\n",
              "       4.89599451, 4.92917889, 4.98154075, 5.02835988, 5.03747538,\n",
              "       5.03916093, 5.02063506, 5.03104136, 5.05363036, 5.07833778,\n",
              "       5.07187534, 5.05612777, 5.02577846, 5.02533734, 5.05081609,\n",
              "       5.08470366, 5.08364973, 5.04622576, 5.00750398, 4.99797683,\n",
              "       5.00857547, 5.00678289, 4.99417023, 4.97930224, 4.96669365,\n",
              "       4.9832617 , 5.0496743 , 5.10782811, 5.12753794, 5.09821906,\n",
              "       5.05548762, 5.05327913, 5.10263897, 5.15999868, 5.19749869,\n",
              "       5.18883084, 5.16777972, 5.14599507, 5.15239325, 5.18154753,\n",
              "       5.19200421, 5.18325899, 5.15328269, 5.12452741, 5.10054266,\n",
              "       5.09419237, 5.10944336, 5.12100507, 5.12095585, 5.1141125 ,\n",
              "       5.09429688, 5.08075984, 5.10758443, 5.13939724, 5.16415403,\n",
              "       5.20223511, 5.2241665 , 5.24203155, 5.26275919, 5.30486087,\n",
              "       5.33056063, 5.34356956, 5.34166831, 5.34139379, 5.35335024,\n",
              "       5.39540854, 5.43220135, 5.44694185, 5.43210823, 5.41280697,\n",
              "       5.41149041, 5.43908007, 5.47269804, 5.49180509, 5.47589689,\n",
              "       5.45586194, 5.44897281, 5.44594057, 5.45100906, 5.45177983,\n",
              "       5.43068213, 5.41845792, 5.43649435, 5.43502139, 5.42001464,\n",
              "       5.38294512, 5.34223629, 5.32325946, 5.3499206 , 5.34123022,\n",
              "       5.27304988, 5.17195392, 5.1207293 , 5.13319278, 5.19672864,\n",
              "       5.22465854, 5.17513756, 5.05048255, 4.93687766, 4.94050864,\n",
              "       5.02362736, 5.0955183 , 5.12909356, 5.13692322, 5.14083291,\n",
              "       5.16464246, 5.22156308, 5.26087991, 5.28499691, 5.29232518,\n",
              "       5.29867578, 5.34551286, 5.40699846, 5.42683175, 5.41058386,\n",
              "       5.39224375, 5.3961519 , 5.42520863, 5.44183786, 5.45071839,\n",
              "       5.42856958, 5.40432916, 5.40647428, 5.43392844, 5.44633868,\n",
              "       5.43167459, 5.4248582 , 5.39542812, 5.37890647, 5.394174  ,\n",
              "       5.39317439, 5.36059184, 5.36952631, 5.36867335, 5.33884268,\n",
              "       5.32082741, 5.30426153, 5.27807174, 5.29830609, 5.3292135 ,\n",
              "       5.31643094, 5.28300793, 5.26441975, 5.26720824, 5.32942024,\n",
              "       5.36250471, 5.32068298, 5.19330873, 5.09450462, 5.25413275,\n",
              "       5.41735975, 5.4783697 , 5.43123061, 5.24762972, 5.07936445,\n",
              "       5.26820022, 5.4136479 , 5.46451999, 5.41878147, 5.23421608,\n",
              "       4.97204434, 5.19025148, 5.34676463, 5.39122852, 5.32601999,\n",
              "       5.16872692, 4.96850272, 4.94200697, 4.97950044, 4.99535791,\n",
              "       4.98214642, 4.92751   , 4.91066091, 4.98978417, 5.09253691,\n",
              "       5.15700382, 5.17777863, 5.15897064, 5.14863568, 5.20099   ,\n",
              "       5.29745448, 5.38766819, 5.46738405, 5.53467362, 5.59019209,\n",
              "       5.65458158, 5.70291688, 5.7258508 , 5.73644753, 5.74601867,\n",
              "       5.73009372, 5.75500877, 5.76637573, 5.7668639 , 5.75982614,\n",
              "       5.75946837, 5.76761123, 5.76260518, 5.76697765, 5.75632585,\n",
              "       5.73092981, 5.67995685, 5.63262621, 5.60888367, 5.61603644,\n",
              "       5.59976795, 5.55547442, 5.4996859 , 5.47906464, 5.49498317,\n",
              "       5.53057083, 5.54445582, 5.52477292, 5.49360182, 5.51275393,\n",
              "       5.56494575, 5.61324096, 5.63384393, 5.61910708, 5.56418662,\n",
              "       5.5172442 , 5.4962216 , 5.50360266, 5.52280241, 5.54010271,\n",
              "       5.56583563, 5.60109977, 5.65043117, 5.70639664, 5.73921084,\n",
              "       5.76012459, 5.75360135, 5.72447535, 5.69161555, 5.68229784,\n",
              "       5.69590597, 5.7370866 , 5.78208355, 5.80347502, 5.78850966,\n",
              "       5.75748867, 5.72624245, 5.71894752, 5.70493262, 5.64225961,\n",
              "       5.54769866, 5.46920332, 5.43719097, 5.45333584, 5.48229614,\n",
              "       5.47153719, 5.45690183, 5.48482603, 5.52364401, 5.5396596 ,\n",
              "       5.45897252, 5.24578934, 5.38570468, 5.66176904, 5.81520783,\n",
              "       5.87652671, 5.82365743, 5.6340199 , 5.40410844, 5.67782017,\n",
              "       5.93672111, 6.0842553 , 6.10609316, 6.0483893 , 6.02075796,\n",
              "       5.97510356, 6.00937508, 6.08458104, 6.09634533, 6.0613528 ,\n",
              "       6.02990346, 5.96753203, 5.94625395, 6.01586833, 6.03532273,\n",
              "       6.01813416, 6.05104898, 6.05915337, 6.03423388, 5.99383524,\n",
              "       5.93364937, 5.87965734, 5.89759079, 5.99208252, 6.06614072,\n",
              "       6.05122973, 5.98628007, 5.9054044 , 5.87075526, 5.90855002,\n",
              "       5.98024157, 5.99796009, 5.9859184 , 5.97773197, 5.96202789,\n",
              "       5.9061889 , 5.8293017 , 5.76717635, 5.75162568, 5.74626781,\n",
              "       5.71291621, 5.59049866, 5.38758414, 5.39487996, 5.57647479,\n",
              "       5.67312026, 5.68432223, 5.57778165, 5.38234544, 5.2981232 ,\n",
              "       5.42057696, 5.51318195, 5.54374812, 5.49672212, 5.40850506,\n",
              "       5.36784409, 5.42835945, 5.53253454, 5.56452643, 5.52175117,\n",
              "       5.40802561, 5.27663495, 5.23803664, 5.33868232, 5.40997865,\n",
              "       5.40137046, 5.36005722, 5.31498526, 5.29192124, 5.26786886,\n",
              "       5.24102689, 5.17980868, 5.18218441, 5.24995962, 5.15970154,\n",
              "       5.12681268, 5.05993302, 5.02649741, 5.05032424, 5.13189519,\n",
              "       5.17460288, 5.15791362, 5.05315588, 5.01705561, 5.02995628,\n",
              "       5.06699639, 5.10293196, 5.08542152, 4.98393429, 4.9914575 ,\n",
              "       5.0329165 , 5.08558645, 5.11233945, 5.14999581, 5.1424841 ,\n",
              "       5.08608552, 5.06490394, 5.11831172, 5.17484387, 5.2059893 ,\n",
              "       5.22740993, 5.19932406, 5.16523102, 5.13248289, 5.16136199,\n",
              "       5.1872569 , 5.22304992, 5.24355599, 5.21542551, 5.17137291,\n",
              "       5.19572684, 5.20854463, 5.21422088, 5.23932189, 5.25883985,\n",
              "       5.20520036, 5.15213044, 5.15152319, 5.15896988, 5.21723309,\n",
              "       5.24418933, 5.1573    , 5.10680144, 5.08762471, 5.05443121,\n",
              "       5.11783613, 5.14319064, 5.11548602, 5.07175976, 5.12932951,\n",
              "       5.14050549, 5.13578059, 5.14157771, 5.10887078, 5.06534948,\n",
              "       5.09245929, 5.12129499, 5.13096863, 5.1021602 , 5.0950914 ,\n",
              "       5.05232952, 5.0200993 , 5.00868162, 5.03163321, 5.04898956,\n",
              "       4.93749759, 4.89404662, 4.90156755, 4.90163846, 4.94490562,\n",
              "       4.99439739, 4.91247109, 4.91438167, 4.93762377, 4.97186572,\n",
              "       4.96854702, 4.92856813, 4.86584245, 4.90586662, 4.99718514,\n",
              "       5.04967331, 5.00844178, 4.94001529, 4.98458946, 4.94463019,\n",
              "       4.99143832, 5.08604295, 5.10609655, 4.98792756, 4.98190905,\n",
              "       5.01125419, 4.97441247, 5.00690121, 5.09217258, 5.04063453,\n",
              "       4.92773773, 5.00267266, 5.03165313, 5.06022917, 5.04632432,\n",
              "       4.99862637, 4.96334528, 5.02692192, 5.10234672, 5.10652646,\n",
              "       4.96615313, 4.88186832, 4.78271368, 4.94456853, 5.09256542,\n",
              "       5.12759944, 5.00442125, 4.84321136, 4.81533973, 4.8743587 ,\n",
              "       4.88872487, 4.91401906, 4.86392281, 4.71873245, 4.72682996,\n",
              "       4.81369039, 4.77461842, 4.79713801, 4.81890477, 4.72539631,\n",
              "       4.69609964, 4.69035712, 4.60970733, 4.34978958, 4.51874519,\n",
              "       4.58738603, 4.60223929, 4.59634381, 4.52441474, 4.44602975,\n",
              "       4.33431962, 4.4891135 , 4.6228347 , 4.56617274, 4.40235414,\n",
              "       4.31871193, 4.15705155, 4.3866127 , 4.60967658, 4.68953002,\n",
              "       4.53544851, 4.25754742, 4.01617349, 4.34977649, 4.57576754,\n",
              "       4.58547173, 4.28211409, 4.08468685, 4.24145282, 4.03179288,\n",
              "       4.02644949, 4.18415497, 4.08191753, 3.86226315, 3.87010527,\n",
              "       3.75094506, 3.91933926, 3.96218506, 3.92489671, 3.84730826,\n",
              "       3.76537001, 3.83900984, 4.01437432, 3.96246978, 3.91222297,\n",
              "              nan,        nan,        nan,        nan,        nan,\n",
              "              nan,        nan,        nan,        nan,        nan,\n",
              "              nan,        nan,        nan,        nan,        nan,\n",
              "              nan,        nan,        nan,        nan,        nan,\n",
              "              nan,        nan,        nan,        nan,        nan,\n",
              "              nan,        nan,        nan,        nan,        nan,\n",
              "              nan,        nan,        nan,        nan,        nan,\n",
              "              nan,        nan,        nan,        nan,        nan,\n",
              "              nan,        nan,        nan,        nan,        nan,\n",
              "              nan,        nan,        nan,        nan,        nan,\n",
              "              nan,        nan,        nan,        nan,        nan,\n",
              "              nan,        nan,        nan,        nan,        nan,\n",
              "              nan,        nan,        nan,        nan,        nan,\n",
              "              nan,        nan,        nan,        nan,        nan,\n",
              "              nan,        nan,        nan,        nan,        nan,\n",
              "              nan,        nan,        nan,        nan,        nan,\n",
              "              nan,        nan,        nan,        nan,        nan,\n",
              "              nan,        nan,        nan,        nan,        nan,\n",
              "              nan,        nan,        nan,        nan,        nan,\n",
              "              nan,        nan,        nan,        nan,        nan,\n",
              "              nan,        nan,        nan,        nan,        nan,\n",
              "              nan,        nan,        nan,        nan,        nan,\n",
              "              nan,        nan,        nan,        nan,        nan,\n",
              "              nan,        nan,        nan,        nan,        nan,\n",
              "              nan,        nan,        nan,        nan,        nan,\n",
              "              nan,        nan,        nan,        nan,        nan,\n",
              "              nan,        nan,        nan,        nan,        nan,\n",
              "              nan,        nan,        nan,        nan,        nan,\n",
              "              nan,        nan,        nan,        nan,        nan,\n",
              "              nan,        nan,        nan,        nan,        nan,\n",
              "              nan,        nan,        nan,        nan,        nan,\n",
              "              nan,        nan,        nan,        nan,        nan,\n",
              "              nan,        nan,        nan,        nan,        nan,\n",
              "              nan,        nan,        nan,        nan,        nan,\n",
              "              nan,        nan,        nan,        nan,        nan,\n",
              "              nan,        nan,        nan,        nan,        nan,\n",
              "              nan,        nan,        nan,        nan,        nan,\n",
              "              nan,        nan,        nan,        nan,        nan,\n",
              "              nan,        nan,        nan,        nan,        nan,\n",
              "              nan,        nan,        nan,        nan,        nan,\n",
              "              nan,        nan,        nan,        nan,        nan,\n",
              "              nan,        nan,        nan,        nan,        nan,\n",
              "              nan,        nan,        nan,        nan,        nan,\n",
              "              nan,        nan,        nan,        nan,        nan,\n",
              "              nan,        nan,        nan,        nan,        nan,\n",
              "              nan,        nan,        nan,        nan,        nan,\n",
              "              nan,        nan,        nan,        nan,        nan,\n",
              "              nan,        nan,        nan,        nan,        nan,\n",
              "              nan,        nan,        nan,        nan,        nan,\n",
              "              nan,        nan])"
            ]
          },
          "metadata": {
            "tags": []
          },
          "execution_count": 58
        }
      ]
    },
    {
      "cell_type": "code",
      "metadata": {
        "id": "ImU5BT6aWaAH",
        "colab_type": "code",
        "colab": {}
      },
      "source": [
        "from nolitsa.nolitsa.utils import reconstruct, parallel_map\n",
        "??parallel_map"
      ],
      "execution_count": null,
      "outputs": []
    },
    {
      "cell_type": "code",
      "metadata": {
        "id": "fEEsxv0RiBrZ",
        "colab_type": "code",
        "colab": {}
      },
      "source": [
        ""
      ],
      "execution_count": null,
      "outputs": []
    },
    {
      "cell_type": "code",
      "metadata": {
        "id": "znjjonuZX2lc",
        "colab_type": "code",
        "colab": {
          "base_uri": "https://localhost:8080/",
          "height": 1000
        },
        "outputId": "363d1442-76a9-48b4-c40c-1c5f2e87d8c3"
      },
      "source": [
        "x = np.random.rand(10000,1)\n",
        "l = lyapunov.mle(x)\n",
        "l"
      ],
      "execution_count": null,
      "outputs": [
        {
          "output_type": "execute_result",
          "data": {
            "text/plain": [
              "array([-10.51219219,  -1.50507427,  -1.51789397,  -1.48493374,\n",
              "        -1.4807463 ,  -1.50530108,  -1.49626322,  -1.5116192 ,\n",
              "        -1.48431171,  -1.4961407 ,  -1.49361688,  -1.49068603,\n",
              "        -1.53096024,  -1.48627326,  -1.4892715 ,  -1.50013076,\n",
              "        -1.50090066,  -1.49601449,  -1.50236633,  -1.46873851,\n",
              "        -1.48501818,  -1.49561282,  -1.47067231,  -1.49441566,\n",
              "        -1.51731704,  -1.46318389,  -1.5104969 ,  -1.48742556,\n",
              "        -1.49179975,  -1.50536233,  -1.50638995,  -1.49674812,\n",
              "        -1.49596387,  -1.48139605,  -1.47790152,  -1.50271684,\n",
              "        -1.48911715,  -1.48553069,  -1.51825248,  -1.49980561,\n",
              "        -1.49362882,  -1.49453855,  -1.49468663,  -1.50025513,\n",
              "        -1.50183024,  -1.52320178,  -1.50141358,  -1.47204331,\n",
              "        -1.4929461 ,  -1.48389999,  -1.50766163,  -1.48552243,\n",
              "        -1.51961182,  -1.50477028,  -1.50184812,  -1.49882066,\n",
              "        -1.47779802,  -1.50756728,  -1.49557313,  -1.52829844,\n",
              "        -1.45693824,  -1.52199009,  -1.50096955,  -1.49231566,\n",
              "        -1.49748791,  -1.47288109,  -1.51586198,  -1.4892374 ,\n",
              "        -1.47875564,  -1.51792694,  -1.50148847,  -1.4897812 ,\n",
              "        -1.5083068 ,  -1.50965133,  -1.48313949,  -1.52051731,\n",
              "        -1.49568174,  -1.52122886,  -1.50031945,  -1.49801579,\n",
              "        -1.49699171,  -1.51122769,  -1.49742709,  -1.51184264,\n",
              "        -1.49513734,  -1.50373271,  -1.49693521,  -1.5228594 ,\n",
              "        -1.51583754,  -1.50193578,  -1.53399219,  -1.50957295,\n",
              "        -1.50469332,  -1.51055534,  -1.49881324,  -1.50334753,\n",
              "        -1.47793598,  -1.49064686,  -1.51108305,  -1.49161905,\n",
              "        -1.49617165,  -1.51336953,  -1.47934678,  -1.50385155,\n",
              "        -1.4845607 ,  -1.49092619,  -1.50551443,  -1.47822141,\n",
              "        -1.4962572 ,  -1.50180157,  -1.51586398,  -1.46249577,\n",
              "        -1.49932841,  -1.48143526,  -1.4904486 ,  -1.49354775,\n",
              "        -1.49015806,  -1.49184075,  -1.49654855,  -1.51743957,\n",
              "        -1.51197877,  -1.48229837,  -1.50146615,  -1.51341437,\n",
              "        -1.48920766,  -1.51025753,  -1.51287734,  -1.4731648 ,\n",
              "        -1.50236693,  -1.49312236,  -1.50628992,  -1.498952  ,\n",
              "        -1.50046466,  -1.50604118,  -1.50333475,  -1.51380421,\n",
              "        -1.49677217,  -1.50257601,  -1.51306433,  -1.50569222,\n",
              "        -1.51203399,  -1.49612994,  -1.49614996,  -1.49585913,\n",
              "        -1.51400252,  -1.50573754,  -1.48345328,  -1.48143018,\n",
              "        -1.49804153,  -1.48663216,  -1.50599295,  -1.47215914,\n",
              "        -1.50998056,  -1.49468645,  -1.48323311,  -1.50760582,\n",
              "        -1.47082443,  -1.4877363 ,  -1.49125098,  -1.48125712,\n",
              "        -1.50887232,  -1.50573837,  -1.48240184,  -1.50547315,\n",
              "        -1.49170253,  -1.50718892,  -1.46561498,  -1.49716083,\n",
              "        -1.49816204,  -1.51028471,  -1.48430739,  -1.50420889,\n",
              "        -1.50439747,  -1.5160202 ,  -1.48478129,  -1.48919809,\n",
              "        -1.49302288,  -1.5119421 ,  -1.50879555,  -1.51606475,\n",
              "        -1.50453833,  -1.50573491,  -1.48585694,  -1.50065235,\n",
              "        -1.49509208,  -1.47299669,  -1.51821696,  -1.50583189,\n",
              "        -1.4983217 ,  -1.5027177 ,  -1.50177982,  -1.50760787,\n",
              "        -1.5022617 ,  -1.50444999,  -1.47693827,  -1.51823349,\n",
              "        -1.48050391,  -1.50008264,  -1.47633027,  -1.50641625,\n",
              "        -1.49768963,  -1.50692683,  -1.51014254,  -1.48394005,\n",
              "        -1.48558251,  -1.48744272,  -1.50081283,  -1.50082038,\n",
              "        -1.49711321,  -1.47087855,  -1.49248312,  -1.51350254,\n",
              "        -1.49855565,  -1.50278362,  -1.50487808,  -1.48982515,\n",
              "        -1.47804101,  -1.49534826,  -1.47405666,  -1.51078682,\n",
              "        -1.49204902,  -1.52679328,  -1.50218135,  -1.51152173,\n",
              "        -1.47657732,  -1.49383628,  -1.52720582,  -1.52261527,\n",
              "        -1.50969442,  -1.47311099,  -1.48605942,  -1.49377609,\n",
              "        -1.45381778,  -1.49802295,  -1.50346357,  -1.47883063,\n",
              "        -1.48279351,  -1.50415509,  -1.4690949 ,  -1.50103064,\n",
              "        -1.4919047 ,  -1.50668756,  -1.48882664,  -1.49599081,\n",
              "        -1.48152672,  -1.48989971,  -1.50897966,  -1.51200778,\n",
              "        -1.49740193,  -1.51689881,  -1.4943477 ,  -1.48120591,\n",
              "        -1.50163451,  -1.49759459,  -1.49745422,  -1.51293503,\n",
              "        -1.50841612,  -1.50152186,  -1.51814797,  -1.48027726,\n",
              "        -1.48321807,  -1.472402  ,  -1.49125046,  -1.48760389,\n",
              "        -1.487935  ,  -1.50791336,  -1.49786261,  -1.51104288,\n",
              "        -1.50088488,  -1.47418406,  -1.49541294,  -1.48835623,\n",
              "        -1.49417116,  -1.50271314,  -1.51614907,  -1.51604278,\n",
              "        -1.52754919,  -1.50694377,  -1.49910042,  -1.48594942,\n",
              "        -1.52701755,  -1.50084953,  -1.50107597,  -1.47850825,\n",
              "        -1.50116756,  -1.49273722,  -1.51721172,  -1.49897719,\n",
              "        -1.50442718,  -1.50225836,  -1.47823023,  -1.48593746,\n",
              "        -1.50182831,  -1.49539835,  -1.52042593,  -1.50096542,\n",
              "        -1.51165714,  -1.49696271,  -1.50334035,  -1.50029151,\n",
              "        -1.49608224,  -1.49407836,  -1.47183072,  -1.50970666,\n",
              "        -1.50700383,  -1.49873178,  -1.51545417,  -1.4984839 ,\n",
              "        -1.50490639,  -1.49575807,  -1.48136306,  -1.484865  ,\n",
              "        -1.49121305,  -1.48804713,  -1.51234325,  -1.50271937,\n",
              "        -1.49600454,  -1.48197216,  -1.4884771 ,  -1.50491656,\n",
              "        -1.49982463,  -1.48749635,  -1.51069567,  -1.49128395,\n",
              "        -1.49567416,  -1.4743051 ,  -1.47864276,  -1.48903049,\n",
              "        -1.51006111,  -1.5167744 ,  -1.50385688,  -1.51309621,\n",
              "        -1.50612199,  -1.48244989,  -1.49762391,  -1.50372851,\n",
              "        -1.50182623,  -1.52053595,  -1.48268462,  -1.49376173,\n",
              "        -1.50095595,  -1.5141111 ,  -1.49171166,  -1.51310952,\n",
              "        -1.49317647,  -1.50498025,  -1.47195838,  -1.51029755,\n",
              "        -1.49619443,  -1.46477568,  -1.49836778,  -1.52154529,\n",
              "        -1.4978608 ,  -1.51910666,  -1.50401865,  -1.50821866,\n",
              "        -1.51019231,  -1.50555197,  -1.49161574,  -1.50940496,\n",
              "        -1.49542596,  -1.48498111,  -1.48218317,  -1.47836479,\n",
              "        -1.50310259,  -1.50467736,  -1.4957038 ,  -1.49027163,\n",
              "        -1.50005113,  -1.4832902 ,  -1.48692808,  -1.51854488,\n",
              "        -1.49356751,  -1.51179033,  -1.49236829,  -1.47932537,\n",
              "        -1.49123052,  -1.47617513,  -1.53290104,  -1.53036255,\n",
              "        -1.48543991,  -1.47778995,  -1.50968719,  -1.49176277,\n",
              "        -1.51716606,  -1.4960239 ,  -1.51684237,  -1.50133195,\n",
              "        -1.48293566,  -1.50368575,  -1.51762922,  -1.50666057,\n",
              "        -1.49727898,  -1.47932464,  -1.49740625,  -1.49922809,\n",
              "        -1.51170347,  -1.48676476,  -1.50188368,  -1.50256936,\n",
              "        -1.51820866,  -1.49854901,  -1.51144756,  -1.50196269,\n",
              "        -1.49658314,  -1.4885494 ,  -1.48482247,  -1.49809258,\n",
              "        -1.49925057,  -1.50655064,  -1.46991843,  -1.48525911,\n",
              "        -1.50052173,  -1.49604766,  -1.52658587,  -1.49998273,\n",
              "        -1.51798792,  -1.48021555,  -1.51320752,  -1.51043539,\n",
              "        -1.51493767,  -1.47395148,  -1.49979488,  -1.49114304,\n",
              "        -1.51149097,  -1.47040338,  -1.4889609 ,  -1.50786025,\n",
              "        -1.4727834 ,  -1.51047067,  -1.50265103,  -1.46949369,\n",
              "        -1.49875197,  -1.48130844,  -1.48517684,  -1.48870765,\n",
              "        -1.54196269,  -1.4872759 ,  -1.53460908,  -1.49074461,\n",
              "        -1.52773542,  -1.48625332,  -1.50379455,  -1.50177609,\n",
              "        -1.50969173,  -1.48140268,  -1.48407458,  -1.49959181,\n",
              "        -1.50352955,  -1.53265037,  -1.49429265,  -1.50639671,\n",
              "        -1.5082878 ,  -1.51566977,  -1.50457079,  -1.48656005,\n",
              "        -1.52694631,  -1.49951005,  -1.50697651,  -1.46845338,\n",
              "        -1.51222833,  -1.48388175,  -1.4916415 ,  -1.50305018,\n",
              "        -1.47200736,  -1.4949824 ,  -1.50054333,  -1.49416911,\n",
              "        -1.49330277,  -1.48131265,  -1.48967142,  -1.51063817,\n",
              "        -1.51286729,  -1.49354097,  -1.49029411,  -1.48870697,\n",
              "        -1.50357264,  -1.51477353,  -1.50157751,  -1.50481082,\n",
              "        -1.49601755,  -1.51694677,  -1.47853647,  -1.52008986,\n",
              "        -1.49985551,  -1.49808111,  -1.49202953,  -1.50847494,\n",
              "        -1.50229502,  -1.53096851,  -1.47654777,  -1.52961343,\n",
              "        -1.51258727,  -1.51106557,  -1.51049763,  -1.51571671,\n",
              "        -1.51499641,  -1.50316016,  -1.50015152,  -1.49034739])"
            ]
          },
          "metadata": {
            "tags": []
          },
          "execution_count": 41
        }
      ]
    },
    {
      "cell_type": "code",
      "metadata": {
        "id": "aLqV1CUzgYVS",
        "colab_type": "code",
        "colab": {
          "base_uri": "https://localhost:8080/",
          "height": 34
        },
        "outputId": "2c2e729e-0d88-4e89-bd4b-ea42ec6eea53"
      },
      "source": [
        "l.shape"
      ],
      "execution_count": null,
      "outputs": [
        {
          "output_type": "execute_result",
          "data": {
            "text/plain": [
              "(500,)"
            ]
          },
          "metadata": {
            "tags": []
          },
          "execution_count": 40
        }
      ]
    },
    {
      "cell_type": "code",
      "metadata": {
        "id": "h-Zv7TYJYTYv",
        "colab_type": "code",
        "colab": {}
      },
      "source": [
        "from nolitsa.nolitsa.utils import neighbors"
      ],
      "execution_count": null,
      "outputs": []
    },
    {
      "cell_type": "code",
      "metadata": {
        "id": "cZo6LCGGYKxf",
        "colab_type": "code",
        "colab": {
          "base_uri": "https://localhost:8080/",
          "height": 34
        },
        "outputId": "eb9b5676-58ed-4630-b783-d2c86aed6dab"
      },
      "source": [
        "np.count_nonzero(np.array([1,0,0,1,1]))"
      ],
      "execution_count": null,
      "outputs": [
        {
          "output_type": "execute_result",
          "data": {
            "text/plain": [
              "3"
            ]
          },
          "metadata": {
            "tags": []
          },
          "execution_count": 36
        }
      ]
    },
    {
      "cell_type": "markdown",
      "metadata": {
        "id": "11d9ks0rcN2s",
        "colab_type": "text"
      },
      "source": [
        "###Procedure\n",
        "The Lyapunov exponent is a measure of sensitive dependence on initial conditions, i.e. how quickly two nearby states diverge.\n",
        "Now consider two points in the time-series, ti and tj, whose values are very close. That means the system reached near the same state at the ith and jth iterations. Now consider the two sequences  ti,  ti+1,  ti+2 … and  tj,  tj+1,  tj+2 … We wish to know how these two sequences diverge from each other. For this, consider the distance between the two sequences after k steps: d(k) = | ti+k– tj+k |. (This is for a 1D time series. For higher dimensions, you can define this to be the Euclidean distance and modify the code accordingly.) If the system is chaotic, d(k) will initially rise exponentially with k. For this, one can plot ln d(k) vs k and apply a linear fit. The slope will be an estimate for the Lyapunov exponent.\n",
        "(Since the system is bounded, the two nearby states will not diverge indefinitely though. Their exponential divergence will stop after some length. We must fit the straight line only within this region.)\n",
        "Now, this was for a single pair of initial states. The Lyapunov exponent is an average of this divergence exponent over all nearby initial pairs. So for this, define d(k)>, where is averaging over all starting pairs  ti,  tj, such that the initial distance d(0) = | ti – tj | is less than some fixed small value. The program finds all such initial pairs, calculates d(k)>, plots it against k, and the slope of the initial linear part gives us the Lyapunov exponent.\n",
        "###Python Code\n",
        "The following code takes a text file with the time series, ‘timeseries.txt’, as the argument. The text file must contain only the time series values in a single column, no serial numbers or any other text before or after. It asks for the starting diameter within which to limit the initial pairs. It displays how many such pairs it is finding in the time series, so you can vary the diameter based on this.\n",
        "It outputs a text file, ‘lyapunov.txt’ with two columns, k and d(k)>, which you can then plot and fit in the correct region by visual inspection\n"
      ]
    },
    {
      "cell_type": "code",
      "metadata": {
        "id": "VSP-7zkRcRPk",
        "colab_type": "code",
        "colab": {}
      },
      "source": [
        "from math import log\n",
        " \n",
        "def d(series,i,j):\n",
        "    return abs(series[i]-series[j])\n",
        " \n",
        "f=open('timeseries.txt', 'r')\n",
        "series=[float(i) for i in f.read().split()]\n",
        "f.close()\n",
        "N=len(series)\n",
        "eps=input('Initial diameter bound: ')\n",
        "dlist=[[] for i in range(N)]\n",
        "n=0 #number of nearby pairs found\n",
        "for i in range(N):\n",
        "    for j in range(i+1,N):\n",
        "        if d(series,i,j) < eps:\n",
        "            n+=1\n",
        "            print n\n",
        "            for k in range(min(N-i,N-j)):\n",
        "                dlist[k].append(log(d(series,i+k,j+k)))\n",
        "f=open('lyapunov.txt','w')\n",
        "for i in range(len(dlist)):\n",
        "    if len(dlist[i]):\n",
        "        print>>f, i, sum(dlist[i])/len(dlist[i])\n",
        "f.close()"
      ],
      "execution_count": null,
      "outputs": []
    }
  ]
}