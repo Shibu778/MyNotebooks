{
  "nbformat": 4,
  "nbformat_minor": 0,
  "metadata": {
    "colab": {
      "name": "GeneticAlgorithm_Code.ipynb",
      "provenance": [],
      "mount_file_id": "1HZIEPyXVDjt_CLT3j3lBTIud2SkP-g4c",
      "authorship_tag": "ABX9TyMZEboGmdspdhbTHhCw1L2T",
      "include_colab_link": true
    },
    "kernelspec": {
      "name": "python3",
      "display_name": "Python 3"
    }
  },
  "cells": [
    {
      "cell_type": "markdown",
      "metadata": {
        "id": "view-in-github",
        "colab_type": "text"
      },
      "source": [
        "<a href=\"https://colab.research.google.com/github/Shibu778/MyNotebooks/blob/master/GeneticAlgorithm_Code.ipynb\" target=\"_parent\"><img src=\"https://colab.research.google.com/assets/colab-badge.svg\" alt=\"Open In Colab\"/></a>"
      ]
    },
    {
      "cell_type": "code",
      "metadata": {
        "id": "IqP-2ktC_gMX",
        "colab_type": "code",
        "colab": {
          "base_uri": "https://localhost:8080/",
          "height": 72
        },
        "outputId": "11fbd2f8-5deb-47c1-f249-953afce8c6f5"
      },
      "source": [
        "import pandas as pd\n",
        "import numpy as np\n",
        "import random\n",
        "import copy\n",
        "import matplotlib.pyplot as plt\n",
        "import seaborn as sns"
      ],
      "execution_count": null,
      "outputs": [
        {
          "output_type": "stream",
          "text": [
            "/usr/local/lib/python3.6/dist-packages/statsmodels/tools/_testing.py:19: FutureWarning: pandas.util.testing is deprecated. Use the functions in the public API at pandas.testing instead.\n",
            "  import pandas.util.testing as tm\n"
          ],
          "name": "stderr"
        }
      ]
    },
    {
      "cell_type": "code",
      "metadata": {
        "id": "jY1J-ypPFnPA",
        "colab_type": "code",
        "colab": {}
      },
      "source": [
        "def print_pop(population):\n",
        "    for i in population:\n",
        "        print(i)"
      ],
      "execution_count": null,
      "outputs": []
    },
    {
      "cell_type": "code",
      "metadata": {
        "id": "kRzTMm0mFvSu",
        "colab_type": "code",
        "colab": {}
      },
      "source": [
        "def initialize_map(p_zero, N):\n",
        "    # first thing is to create the map that you're trying to navigate.  I will do this randomly.\n",
        "    # This will be of the form of a adjacency matrix...\n",
        "    # In other words, an NxN matrix where each row and column correspond to an intersection on a map\n",
        "    # X_ij, then is equal to the amount of time that it takes to get from position i to position j\n",
        "    # could also be considered a distance measure... but whatever is easier to think about.\n",
        "    # practically, then we need a matrix that has numeric values in it... \n",
        "    # there should be some paths that don't exist.  I will assign these a 0.  \n",
        "    # For instance, if you can't get directly from i to j, then X_ij = 0\n",
        "    \n",
        "    # The initialization needs some tuning parameters.  One is the proportion of 0's in the final result\n",
        "    \n",
        "    the_map = np.zeros((N,N))\n",
        "    \n",
        "    for i in range(0, N):\n",
        "        for j in range(0, i):\n",
        "            if random.random() > p_zero:\n",
        "                the_map[i][j] = random.random()\n",
        "                the_map[j][i] = the_map[i][j]\n",
        "                \n",
        "    return the_map"
      ],
      "execution_count": null,
      "outputs": []
    },
    {
      "cell_type": "code",
      "metadata": {
        "id": "zapzA925FzVD",
        "colab_type": "code",
        "colab": {}
      },
      "source": [
        "# Let's make a more complicated map that has at least 10 stops that have to be made and see what happens.\n",
        "\n",
        "def initialize_complex_map(p_zero, N, groups):\n",
        "\n",
        "    the_map = np.zeros((N,N))\n",
        "    \n",
        "    for i in range(0, N):\n",
        "        for j in range(0, i):\n",
        "            group_i = int(i/(N/groups))\n",
        "            group_j = int(j/(N/groups))\n",
        "            \n",
        "            if random.random() > p_zero and abs(group_i - group_j) <= 1:\n",
        "                the_map[i][j] = random.random()\n",
        "                the_map[j][i] = the_map[i][j]\n",
        "          \n",
        "        \n",
        "    ax = sns.heatmap(the_map)\n",
        "\n",
        "    plt.show()\n",
        "        \n",
        "    return the_map"
      ],
      "execution_count": null,
      "outputs": []
    },
    {
      "cell_type": "code",
      "metadata": {
        "id": "YBbkuTp8N4xP",
        "colab_type": "code",
        "colab": {}
      },
      "source": [
        ""
      ],
      "execution_count": null,
      "outputs": []
    },
    {
      "cell_type": "code",
      "metadata": {
        "id": "hCQ2Du0BF207",
        "colab_type": "code",
        "colab": {}
      },
      "source": [
        "def create_starting_population(size, the_map):\n",
        "    \n",
        "    #this just creates a population of different routes of a fixed size.  Pretty straightforward.\n",
        "    \n",
        "    population = []\n",
        "    \n",
        "    for i in range(0,size):\n",
        "        population.append(create_new_member(the_map))\n",
        "        \n",
        "    return population"
      ],
      "execution_count": null,
      "outputs": []
    },
    {
      "cell_type": "code",
      "metadata": {
        "id": "GpbIzpUvF8Zj",
        "colab_type": "code",
        "colab": {}
      },
      "source": [
        "def fitness(route, the_map):\n",
        "    \n",
        "    score = 0\n",
        "    \n",
        "    for i in range(1, len(route)):\n",
        "        if (the_map[route[i-1]][route[i]] == 0) and i != len(the_map)-1:\n",
        "            print(\"WARNING: INVALID ROUTE\")\n",
        "            print(route)\n",
        "            print(the_map)\n",
        "        score = score + the_map[route[i-1]][route[i]]\n",
        "\n",
        "    return score"
      ],
      "execution_count": null,
      "outputs": []
    },
    {
      "cell_type": "code",
      "metadata": {
        "id": "wYg5Y4R8GAn0",
        "colab_type": "code",
        "colab": {}
      },
      "source": [
        "def crossover(a, b):\n",
        "        \n",
        "    # I initially made an error here by allowing routes to crossover at any point, which obviously won't work\n",
        "    # you have to insure that when the two routes cross over that the resulting routes produce a valid route\n",
        "    # which means that crossover points have to be at the same position value on the map\n",
        "    \n",
        "    common_elements = set(a) & set(b)\n",
        "    \n",
        "    if len(common_elements) == 2:\n",
        "        return (a, b)\n",
        "    else:\n",
        "        common_elements.remove(0)\n",
        "        common_elements.remove(max(a)) \n",
        "        value = random.sample(common_elements, 1)        \n",
        "    \n",
        "    cut_a = np.random.choice(np.where(np.isin(a, value))[0])\n",
        "    cut_b = np.random.choice(np.where(np.isin(b, value))[0])\n",
        "    \n",
        "    new_a1 = copy.deepcopy(a[0:cut_a])\n",
        "    new_a2 = copy.deepcopy(b[cut_b:])\n",
        "    \n",
        "    new_b1 = copy.deepcopy(b[0:cut_b])\n",
        "    new_b2 = copy.deepcopy(a[cut_a:])\n",
        "    \n",
        "    new_a = np.append(new_a1, new_a2)\n",
        "    new_b = np.append(new_b1, new_b2)\n",
        "       \n",
        "    return (new_a, new_b)"
      ],
      "execution_count": null,
      "outputs": []
    },
    {
      "cell_type": "code",
      "metadata": {
        "id": "eAjKCCAUGD5T",
        "colab_type": "code",
        "colab": {}
      },
      "source": [
        "def mutate(route, probability, the_map):\n",
        "    \n",
        "    new_route = copy.deepcopy(route)\n",
        "    \n",
        "    for i in range(1, len(new_route)):\n",
        "        if random.random() < probability:\n",
        "            \n",
        "            go = True\n",
        "\n",
        "            while go:\n",
        "\n",
        "                possible_values = np.nonzero(the_map[new_route[i-1]])\n",
        "                proposed_value = random.randint(0,len(possible_values[0])-1)\n",
        "                route = np.append(new_route, possible_values[0][proposed_value])\n",
        "                #new_route = np.append(new_route, possible_values[0][proposed_value]) # This should be used instead\n",
        "                                                                                      #as the changes are made in route and returning\n",
        "                                                                                      #new_route. But this is leading to invalid path\n",
        "\n",
        "                if new_route[i] == len(the_map)-1:\n",
        "                    go = False\n",
        "                else:\n",
        "                    i += 1\n",
        "    \n",
        "    return new_route"
      ],
      "execution_count": null,
      "outputs": []
    },
    {
      "cell_type": "code",
      "metadata": {
        "id": "Abjs29yZuFLY",
        "colab_type": "code",
        "colab": {}
      },
      "source": [
        ""
      ],
      "execution_count": null,
      "outputs": []
    },
    {
      "cell_type": "code",
      "metadata": {
        "id": "y3ZW3tNiGHz6",
        "colab_type": "code",
        "colab": {}
      },
      "source": [
        "def create_new_member(the_map):\n",
        "    # here we are going to create a new route\n",
        "    # the new route can have any number of steps, so we'll select that randomly\n",
        "    # the structure of the route will be a vector of integers where each value is the next step in the route\n",
        "    # Everyone starts at 0, so the first value in the vector will indicate where to attempt to go next.\n",
        "    # That is, if v_i = 4, then that would correspond to X_0,4 in the map that was created at initialization\n",
        "    \n",
        "    # N is the size of the map, so we need to make sure that \n",
        "    # we don't generate any values that exceed the size of the map\n",
        "\n",
        "    N = len(the_map)\n",
        "    \n",
        "    route = np.zeros(1, dtype=int)\n",
        "\n",
        "    go = True\n",
        "    \n",
        "    i = 1\n",
        "    \n",
        "    while go:\n",
        "        \n",
        "        possible_values = np.nonzero(the_map[route[i-1]])\n",
        "        proposed_value = random.randint(0,len(possible_values[0])-1)\n",
        "        route = np.append(route, possible_values[0][proposed_value])\n",
        "                \n",
        "        if route[i] == N-1:\n",
        "            go = False\n",
        "        else:\n",
        "            i += 1\n",
        "    \n",
        "    return route"
      ],
      "execution_count": null,
      "outputs": []
    },
    {
      "cell_type": "code",
      "metadata": {
        "id": "zU_aYbd9GKzS",
        "colab_type": "code",
        "colab": {}
      },
      "source": [
        "def score_population(population, the_map):\n",
        "    \n",
        "    scores = []\n",
        "    \n",
        "    for i in range(0, len(population)):\n",
        "        scores += [fitness(population[i], the_map)]\n",
        "        \n",
        "    return scores\n"
      ],
      "execution_count": null,
      "outputs": []
    },
    {
      "cell_type": "code",
      "metadata": {
        "id": "2hRIS8u4Gc7p",
        "colab_type": "code",
        "colab": {}
      },
      "source": [
        "def pick_mate(scores):\n",
        "\n",
        "    array = np.array(scores)\n",
        "    temp = array.argsort()\n",
        "    ranks = np.empty_like(temp)\n",
        "    ranks[temp] = np.arange(len(array))\n",
        "\n",
        "    fitness = [len(ranks) - x for x in ranks]\n",
        "    \n",
        "    cum_scores = copy.deepcopy(fitness)\n",
        "    \n",
        "    for i in range(1,len(cum_scores)):\n",
        "        cum_scores[i] = fitness[i] + cum_scores[i-1]\n",
        "        \n",
        "    probs = [x / cum_scores[-1] for x in cum_scores]\n",
        "    \n",
        "    rand = random.random()\n",
        "    \n",
        "    for i in range(0, len(probs)):\n",
        "        if rand < probs[i]:\n",
        "            \n",
        "            return i\n"
      ],
      "execution_count": null,
      "outputs": []
    },
    {
      "cell_type": "code",
      "metadata": {
        "id": "DHl_yYJwwK_Y",
        "colab_type": "code",
        "colab": {}
      },
      "source": [
        ""
      ],
      "execution_count": null,
      "outputs": []
    },
    {
      "cell_type": "code",
      "metadata": {
        "id": "ORInARZbGgPd",
        "colab_type": "code",
        "colab": {}
      },
      "source": [
        "def main():\n",
        "    \n",
        "    # parameters\n",
        "    sparseness_of_map = 0.5\n",
        "    size_of_map = 20\n",
        "    population_size = 10\n",
        "    number_of_iterations = 500\n",
        "    number_of_couples = 5\n",
        "    number_of_winners_to_keep = 2\n",
        "    mutation_probability = 0.05\n",
        "    number_of_groups = 1\n",
        "    \n",
        "    # initialize the map and save it\n",
        "    the_map = initialize_complex_map(sparseness_of_map, size_of_map, number_of_groups)\n",
        "\n",
        "    # create the starting population\n",
        "    population = create_starting_population(population_size, the_map)\n",
        "\n",
        "    last_distance = 1000000000\n",
        "    # for a large number of iterations do:\n",
        "        \n",
        "    for i in range(0,number_of_iterations):\n",
        "        new_population = []\n",
        "        \n",
        "        # evaluate the fitness of the current population\n",
        "        scores = score_population(population, the_map)\n",
        "\n",
        "        best = population[np.argmin(scores)]\n",
        "        number_of_moves = len(best)\n",
        "        distance = fitness(best, the_map)\n",
        "        \n",
        "        if distance != last_distance:\n",
        "            print('Iteration %i: Best so far is %i steps for a distance of %f' % (i, number_of_moves, distance))\n",
        "            plot_best(the_map, best, i)\n",
        "\n",
        "        \n",
        "        # allow members of the population to breed based on their relative score; \n",
        "            # i.e., if their score is higher they're more likely to breed\n",
        "        for j in range(0, number_of_couples):  \n",
        "            new_1, new_2 = crossover(population[pick_mate(scores)], population[pick_mate(scores)])\n",
        "            new_population = new_population + [new_1, new_2]\n",
        "  \n",
        "        # mutate\n",
        "        for j in range(0, len(new_population)):\n",
        "            new_population[j] = np.copy(mutate(new_population[j], 0.05, the_map))\n",
        "            \n",
        "        # keep members of previous generation\n",
        "        new_population += [population[np.argmin(scores)]]\n",
        "        for j in range(1, number_of_winners_to_keep):\n",
        "            keeper = pick_mate(scores)            \n",
        "            new_population += [population[keeper]]\n",
        "            \n",
        "        # add new random members\n",
        "        while len(new_population) < population_size:\n",
        "            new_population += [create_new_member(the_map)]\n",
        "            \n",
        "        #replace the old population with a real copy\n",
        "        population = copy.deepcopy(new_population)\n",
        "                \n",
        "        last_distance = distance\n",
        "        \n",
        "    return best\n",
        "    # plot the results"
      ],
      "execution_count": null,
      "outputs": []
    },
    {
      "cell_type": "code",
      "metadata": {
        "id": "lmg6XsooG0UZ",
        "colab_type": "code",
        "colab": {}
      },
      "source": [
        "def plot_best(the_map, route, iteration_number):\n",
        "    ax = sns.heatmap(the_map)\n",
        "\n",
        "    x=[0.5] + [x + 0.5 for x in route[0:len(route)-1]] + [len(the_map) - 0.5]\n",
        "    y=[0.5] + [x + 0.5 for x in route[1:len(route)]] + [len(the_map) - 0.5]\n",
        "    \n",
        "    plt.plot(x, y, marker = 'o', linewidth=4, markersize=12, linestyle = \"-\", color='white')\n",
        "    #plt.savefig('content/drive/My Drive/new1000plot_%i.png' %(iteration_number), dpi=300)\n",
        "    plt.show()"
      ],
      "execution_count": null,
      "outputs": []
    },
    {
      "cell_type": "code",
      "metadata": {
        "id": "ctSaaJnaG0WV",
        "colab_type": "code",
        "colab": {
          "base_uri": "https://localhost:8080/",
          "height": 531
        },
        "outputId": "9bc135a0-2b46-4107-b400-39b748759c8d"
      },
      "source": [
        "best = main()"
      ],
      "execution_count": null,
      "outputs": [
        {
          "output_type": "display_data",
          "data": {
            "image/png": "[encoded data removed]",
            "text/plain": [
              "<Figure size 432x288 with 2 Axes>"
            ]
          },
          "metadata": {
            "tags": [],
            "needs_background": "light"
          }
        },
        {
          "output_type": "stream",
          "text": [
            "Iteration 0: Best so far is 3 steps for a distance of 1.028030\n"
          ],
          "name": "stdout"
        },
        {
          "output_type": "display_data",
          "data": {
            "image/png": "[encoded data removed]",
            "text/plain": [
              "<Figure size 432x288 with 2 Axes>"
            ]
          },
          "metadata": {
            "tags": [],
            "needs_background": "light"
          }
        }
      ]
    },
    {
      "cell_type": "code",
      "metadata": {
        "id": "4SObaL1cFbih",
        "colab_type": "code",
        "colab": {
          "base_uri": "https://localhost:8080/",
          "height": 34
        },
        "outputId": "f338d148-63d4-4ddf-e7ec-51278771839c"
      },
      "source": [
        "best"
      ],
      "execution_count": null,
      "outputs": [
        {
          "output_type": "execute_result",
          "data": {
            "text/plain": [
              "array([ 0, 15, 19])"
            ]
          },
          "metadata": {
            "tags": []
          },
          "execution_count": 29
        }
      ]
    }
  ]
}