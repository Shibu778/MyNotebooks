{
  "nbformat": 4,
  "nbformat_minor": 0,
  "metadata": {
    "colab": {
      "name": "AutoEncoder_Notes.ipynb",
      "provenance": [],
      "authorship_tag": "ABX9TyNm1rb1vrVwUymizV63suDr",
      "include_colab_link": true
    },
    "kernelspec": {
      "name": "python3",
      "display_name": "Python 3"
    }
  },
  "cells": [
    {
      "cell_type": "markdown",
      "metadata": {
        "id": "view-in-github",
        "colab_type": "text"
      },
      "source": [
        "<a href=\"https://colab.research.google.com/github/Shibu778/MyNotebooks/blob/master/AutoEncoder_Notes.ipynb\" target=\"_parent\"><img src=\"https://colab.research.google.com/assets/colab-badge.svg\" alt=\"Open In Colab\"/></a>"
      ]
    },
    {
      "cell_type": "code",
      "metadata": {
        "id": "_4VqJIfsAcbX",
        "colab_type": "code",
        "colab": {}
      },
      "source": [
        "# Link for tutorial - https://blog.keras.io/building-autoencoders-in-keras.html"
      ],
      "execution_count": null,
      "outputs": []
    },
    {
      "cell_type": "code",
      "metadata": {
        "id": "3kZCV7kz-o5f",
        "colab_type": "code",
        "colab": {
          "base_uri": "https://localhost:8080/",
          "height": 34
        },
        "outputId": "b7faa9af-5c3e-46a6-c502-5ffa84b3612c"
      },
      "source": [
        "from keras.layers import Input, Dense\n",
        "from keras.models import Model\n",
        "\n",
        "# this is the size of our encoded representations\n",
        "encoding_dim = 32  # 32 floats -> compression of factor 24.5, assuming the input is 784 floats\n",
        "\n",
        "# this is our input placeholder\n",
        "input_img = Input(shape=(784,))\n",
        "# \"encoded\" is the encoded representation of the input\n",
        "encoded = Dense(encoding_dim, activation='relu')(input_img)\n",
        "# \"decoded\" is the lossy reconstruction of the input\n",
        "decoded = Dense(784, activation='sigmoid')(encoded)\n",
        "\n",
        "# this model maps an input to its reconstruction\n",
        "autoencoder = Model(input_img, decoded)"
      ],
      "execution_count": null,
      "outputs": [
        {
          "output_type": "stream",
          "text": [
            "Using TensorFlow backend.\n"
          ],
          "name": "stderr"
        }
      ]
    },
    {
      "cell_type": "code",
      "metadata": {
        "id": "LxXmIAMz-_Xx",
        "colab_type": "code",
        "colab": {}
      },
      "source": [
        "# this model maps an input to its encoded representation\n",
        "encoder = Model(input_img, encoded)"
      ],
      "execution_count": null,
      "outputs": []
    },
    {
      "cell_type": "code",
      "metadata": {
        "id": "nFs62aj3_Ee0",
        "colab_type": "code",
        "colab": {}
      },
      "source": [
        "# create a placeholder for an encoded (32-dimensional) input\n",
        "encoded_input = Input(shape=(encoding_dim,))\n",
        "# retrieve the last layer of the autoencoder model\n",
        "decoder_layer = autoencoder.layers[-1]\n",
        "# create the decoder model\n",
        "decoder = Model(encoded_input, decoder_layer(encoded_input))"
      ],
      "execution_count": null,
      "outputs": []
    },
    {
      "cell_type": "code",
      "metadata": {
        "id": "9b_GcHp-_U8x",
        "colab_type": "code",
        "colab": {}
      },
      "source": [
        "autoencoder.compile(optimizer='adadelta', loss='binary_crossentropy')"
      ],
      "execution_count": null,
      "outputs": []
    },
    {
      "cell_type": "code",
      "metadata": {
        "id": "RzLBPUEQ_cH7",
        "colab_type": "code",
        "colab": {
          "base_uri": "https://localhost:8080/",
          "height": 51
        },
        "outputId": "b484f1fa-585d-478f-bfd6-891f640db6f9"
      },
      "source": [
        "from keras.datasets import mnist\n",
        "import numpy as np\n",
        "(x_train, _), (x_test, _) = mnist.load_data()"
      ],
      "execution_count": null,
      "outputs": [
        {
          "output_type": "stream",
          "text": [
            "Downloading data from https://s3.amazonaws.com/img-datasets/mnist.npz\n",
            "11493376/11490434 [==============================] - 0s 0us/step\n"
          ],
          "name": "stdout"
        }
      ]
    },
    {
      "cell_type": "code",
      "metadata": {
        "id": "rmx3RqiE_i0x",
        "colab_type": "code",
        "colab": {
          "base_uri": "https://localhost:8080/",
          "height": 51
        },
        "outputId": "c4b32653-4d23-4791-b003-921d334f0c59"
      },
      "source": [
        "x_train = x_train.astype('float32') / 255.\n",
        "x_test = x_test.astype('float32') / 255.\n",
        "x_train = x_train.reshape((len(x_train), np.prod(x_train.shape[1:])))\n",
        "x_test = x_test.reshape((len(x_test), np.prod(x_test.shape[1:])))\n",
        "print(x_train.shape)\n",
        "print(x_test.shape)"
      ],
      "execution_count": null,
      "outputs": [
        {
          "output_type": "stream",
          "text": [
            "(60000, 784)\n",
            "(10000, 784)\n"
          ],
          "name": "stdout"
        }
      ]
    },
    {
      "cell_type": "code",
      "metadata": {
        "id": "3VlPXbEj_46d",
        "colab_type": "code",
        "colab": {
          "base_uri": "https://localhost:8080/",
          "height": 1000
        },
        "outputId": "a78036e4-0685-4e6a-d5c1-441d654eb40c"
      },
      "source": [
        "autoencoder.fit(x_train, x_train,\n",
        "                epochs=50,\n",
        "                batch_size=256,\n",
        "                shuffle=True,\n",
        "                validation_data=(x_test, x_test))"
      ],
      "execution_count": null,
      "outputs": [
        {
          "output_type": "stream",
          "text": [
            "Train on 60000 samples, validate on 10000 samples\n",
            "Epoch 1/50\n",
            "60000/60000 [==============================] - 3s 44us/step - loss: 0.3680 - val_loss: 0.2719\n",
            "Epoch 2/50\n",
            "60000/60000 [==============================] - 2s 39us/step - loss: 0.2657 - val_loss: 0.2559\n",
            "Epoch 3/50\n",
            "60000/60000 [==============================] - 2s 39us/step - loss: 0.2461 - val_loss: 0.2342\n",
            "Epoch 4/50\n",
            "60000/60000 [==============================] - 2s 39us/step - loss: 0.2256 - val_loss: 0.2150\n",
            "Epoch 5/50\n",
            "60000/60000 [==============================] - 2s 39us/step - loss: 0.2087 - val_loss: 0.2004\n",
            "Epoch 6/50\n",
            "60000/60000 [==============================] - 2s 38us/step - loss: 0.1966 - val_loss: 0.1904\n",
            "Epoch 7/50\n",
            "60000/60000 [==============================] - 2s 39us/step - loss: 0.1879 - val_loss: 0.1825\n",
            "Epoch 8/50\n",
            "60000/60000 [==============================] - 2s 39us/step - loss: 0.1808 - val_loss: 0.1761\n",
            "Epoch 9/50\n",
            "60000/60000 [==============================] - 2s 39us/step - loss: 0.1747 - val_loss: 0.1705\n",
            "Epoch 10/50\n",
            "60000/60000 [==============================] - 2s 39us/step - loss: 0.1696 - val_loss: 0.1659\n",
            "Epoch 11/50\n",
            "60000/60000 [==============================] - 2s 39us/step - loss: 0.1651 - val_loss: 0.1616\n",
            "Epoch 12/50\n",
            "60000/60000 [==============================] - 2s 39us/step - loss: 0.1611 - val_loss: 0.1577\n",
            "Epoch 13/50\n",
            "60000/60000 [==============================] - 2s 39us/step - loss: 0.1575 - val_loss: 0.1543\n",
            "Epoch 14/50\n",
            "60000/60000 [==============================] - 2s 39us/step - loss: 0.1541 - val_loss: 0.1511\n",
            "Epoch 15/50\n",
            "60000/60000 [==============================] - 2s 39us/step - loss: 0.1509 - val_loss: 0.1481\n",
            "Epoch 16/50\n",
            "60000/60000 [==============================] - 2s 39us/step - loss: 0.1480 - val_loss: 0.1452\n",
            "Epoch 17/50\n",
            "60000/60000 [==============================] - 2s 39us/step - loss: 0.1452 - val_loss: 0.1425\n",
            "Epoch 18/50\n",
            "60000/60000 [==============================] - 2s 39us/step - loss: 0.1427 - val_loss: 0.1400\n",
            "Epoch 19/50\n",
            "60000/60000 [==============================] - 2s 39us/step - loss: 0.1403 - val_loss: 0.1377\n",
            "Epoch 20/50\n",
            "60000/60000 [==============================] - 2s 39us/step - loss: 0.1380 - val_loss: 0.1354\n",
            "Epoch 21/50\n",
            "60000/60000 [==============================] - 2s 39us/step - loss: 0.1358 - val_loss: 0.1332\n",
            "Epoch 22/50\n",
            "60000/60000 [==============================] - 2s 39us/step - loss: 0.1337 - val_loss: 0.1313\n",
            "Epoch 23/50\n",
            "60000/60000 [==============================] - 2s 38us/step - loss: 0.1316 - val_loss: 0.1292\n",
            "Epoch 24/50\n",
            "60000/60000 [==============================] - 2s 39us/step - loss: 0.1297 - val_loss: 0.1273\n",
            "Epoch 25/50\n",
            "60000/60000 [==============================] - 2s 39us/step - loss: 0.1278 - val_loss: 0.1254\n",
            "Epoch 26/50\n",
            "60000/60000 [==============================] - 2s 39us/step - loss: 0.1260 - val_loss: 0.1235\n",
            "Epoch 27/50\n",
            "60000/60000 [==============================] - 2s 39us/step - loss: 0.1243 - val_loss: 0.1219\n",
            "Epoch 28/50\n",
            "60000/60000 [==============================] - 2s 39us/step - loss: 0.1226 - val_loss: 0.1203\n",
            "Epoch 29/50\n",
            "60000/60000 [==============================] - 2s 39us/step - loss: 0.1211 - val_loss: 0.1188\n",
            "Epoch 30/50\n",
            "60000/60000 [==============================] - 2s 39us/step - loss: 0.1196 - val_loss: 0.1173\n",
            "Epoch 31/50\n",
            "60000/60000 [==============================] - 2s 39us/step - loss: 0.1183 - val_loss: 0.1160\n",
            "Epoch 32/50\n",
            "60000/60000 [==============================] - 2s 39us/step - loss: 0.1170 - val_loss: 0.1147\n",
            "Epoch 33/50\n",
            "60000/60000 [==============================] - 2s 39us/step - loss: 0.1158 - val_loss: 0.1136\n",
            "Epoch 34/50\n",
            "60000/60000 [==============================] - 2s 39us/step - loss: 0.1147 - val_loss: 0.1125\n",
            "Epoch 35/50\n",
            "60000/60000 [==============================] - 2s 39us/step - loss: 0.1137 - val_loss: 0.1115\n",
            "Epoch 36/50\n",
            "60000/60000 [==============================] - 2s 39us/step - loss: 0.1127 - val_loss: 0.1106\n",
            "Epoch 37/50\n",
            "60000/60000 [==============================] - 2s 39us/step - loss: 0.1118 - val_loss: 0.1097\n",
            "Epoch 38/50\n",
            "60000/60000 [==============================] - 2s 38us/step - loss: 0.1110 - val_loss: 0.1090\n",
            "Epoch 39/50\n",
            "60000/60000 [==============================] - 2s 39us/step - loss: 0.1103 - val_loss: 0.1082\n",
            "Epoch 40/50\n",
            "60000/60000 [==============================] - 2s 39us/step - loss: 0.1096 - val_loss: 0.1075\n",
            "Epoch 41/50\n",
            "60000/60000 [==============================] - 2s 39us/step - loss: 0.1090 - val_loss: 0.1069\n",
            "Epoch 42/50\n",
            "60000/60000 [==============================] - 2s 39us/step - loss: 0.1084 - val_loss: 0.1064\n",
            "Epoch 43/50\n",
            "60000/60000 [==============================] - 2s 39us/step - loss: 0.1078 - val_loss: 0.1059\n",
            "Epoch 44/50\n",
            "60000/60000 [==============================] - 2s 39us/step - loss: 0.1073 - val_loss: 0.1053\n",
            "Epoch 45/50\n",
            "60000/60000 [==============================] - 2s 39us/step - loss: 0.1068 - val_loss: 0.1049\n",
            "Epoch 46/50\n",
            "60000/60000 [==============================] - 2s 40us/step - loss: 0.1064 - val_loss: 0.1045\n",
            "Epoch 47/50\n",
            "60000/60000 [==============================] - 2s 39us/step - loss: 0.1060 - val_loss: 0.1041\n",
            "Epoch 48/50\n",
            "60000/60000 [==============================] - 2s 40us/step - loss: 0.1056 - val_loss: 0.1037\n",
            "Epoch 49/50\n",
            "60000/60000 [==============================] - 2s 39us/step - loss: 0.1052 - val_loss: 0.1033\n",
            "Epoch 50/50\n",
            "60000/60000 [==============================] - 2s 39us/step - loss: 0.1049 - val_loss: 0.1030\n"
          ],
          "name": "stdout"
        },
        {
          "output_type": "execute_result",
          "data": {
            "text/plain": [
              "<keras.callbacks.callbacks.History at 0x7f041aa3dc18>"
            ]
          },
          "metadata": {
            "tags": []
          },
          "execution_count": 9
        }
      ]
    },
    {
      "cell_type": "code",
      "metadata": {
        "id": "M41kc0PxABmh",
        "colab_type": "code",
        "colab": {}
      },
      "source": [
        "# encode and decode some digits\n",
        "# note that we take them from the *test* set\n",
        "encoded_imgs = encoder.predict(x_test)\n",
        "decoded_imgs = decoder.predict(encoded_imgs)"
      ],
      "execution_count": null,
      "outputs": []
    },
    {
      "cell_type": "code",
      "metadata": {
        "id": "iN0ez-7xAKuf",
        "colab_type": "code",
        "colab": {
          "base_uri": "https://localhost:8080/",
          "height": 248
        },
        "outputId": "3fdf33cb-dc16-407f-8784-65174edc03e8"
      },
      "source": [
        "# use Matplotlib (don't ask)\n",
        "import matplotlib.pyplot as plt\n",
        "\n",
        "n = 10  # how many digits we will display\n",
        "plt.figure(figsize=(20, 4))\n",
        "for i in range(n):\n",
        "    # display original\n",
        "    ax = plt.subplot(2, n, i + 1)\n",
        "    plt.imshow(x_test[i].reshape(28, 28))\n",
        "    plt.gray()\n",
        "    ax.get_xaxis().set_visible(False)\n",
        "    ax.get_yaxis().set_visible(False)\n",
        "\n",
        "    # display reconstruction\n",
        "    ax = plt.subplot(2, n, i + 1 + n)\n",
        "    plt.imshow(decoded_imgs[i].reshape(28, 28))\n",
        "    plt.gray()\n",
        "    ax.get_xaxis().set_visible(False)\n",
        "    ax.get_yaxis().set_visible(False)\n",
        "plt.show()"
      ],
      "execution_count": null,
      "outputs": [
        {
          "output_type": "display_data",
          "data": {
            "image/png": "[encoded data removed]",
            "text/plain": [
              "<Figure size 1440x288 with 20 Axes>"
            ]
          },
          "metadata": {
            "tags": [],
            "needs_background": "light"
          }
        }
      ]
    },
    {
      "cell_type": "code",
      "metadata": {
        "id": "rE8vm4Y-AOkS",
        "colab_type": "code",
        "colab": {}
      },
      "source": [
        "from keras import regularizers\n",
        "\n",
        "encoding_dim = 32\n",
        "\n",
        "input_img = Input(shape=(784,))\n",
        "# add a Dense layer with a L1 activity regularizer\n",
        "encoded = Dense(encoding_dim, activation='relu',\n",
        "                activity_regularizer=regularizers.l1(10e-5))(input_img)\n",
        "decoded = Dense(784, activation='sigmoid')(encoded)\n",
        "\n",
        "autoencoder = Model(input_img, decoded)"
      ],
      "execution_count": null,
      "outputs": []
    },
    {
      "cell_type": "code",
      "metadata": {
        "id": "236niy6PA-8D",
        "colab_type": "code",
        "colab": {}
      },
      "source": [
        "# this model maps an input to its encoded representation\n",
        "encoder = Model(input_img, encoded)"
      ],
      "execution_count": null,
      "outputs": []
    },
    {
      "cell_type": "code",
      "metadata": {
        "id": "Z-tUymPZBFuB",
        "colab_type": "code",
        "colab": {}
      },
      "source": [
        "# create a placeholder for an encoded (32-dimensional) input\n",
        "encoded_input = Input(shape=(encoding_dim,))\n",
        "# retrieve the last layer of the autoencoder model\n",
        "decoder_layer = autoencoder.layers[-1]\n",
        "# create the decoder model\n",
        "decoder = Model(encoded_input, decoder_layer(encoded_input))"
      ],
      "execution_count": null,
      "outputs": []
    },
    {
      "cell_type": "code",
      "metadata": {
        "id": "mmAfVTNVBGIu",
        "colab_type": "code",
        "colab": {}
      },
      "source": [
        "autoencoder.compile(optimizer='adadelta', loss='binary_crossentropy')"
      ],
      "execution_count": null,
      "outputs": []
    },
    {
      "cell_type": "code",
      "metadata": {
        "id": "EQ6jd-Ua_RtG",
        "colab_type": "code",
        "colab": {
          "base_uri": "https://localhost:8080/",
          "height": 1000
        },
        "outputId": "af8e290f-fca8-4b0a-c62f-25143b727f36"
      },
      "source": [
        "autoencoder.fit(x_train, x_train,\n",
        "                epochs=100,\n",
        "                batch_size=256,\n",
        "                shuffle=True,\n",
        "                validation_data=(x_test, x_test))"
      ],
      "execution_count": null,
      "outputs": [
        {
          "output_type": "stream",
          "text": [
            "Train on 60000 samples, validate on 10000 samples\n",
            "Epoch 1/100\n",
            "60000/60000 [==============================] - 2s 39us/step - loss: 0.6727 - val_loss: 0.6484\n",
            "Epoch 2/100\n",
            "60000/60000 [==============================] - 2s 37us/step - loss: 0.6284 - val_loss: 0.6090\n",
            "Epoch 3/100\n",
            "60000/60000 [==============================] - 2s 37us/step - loss: 0.5916 - val_loss: 0.5749\n",
            "Epoch 4/100\n",
            "60000/60000 [==============================] - 2s 38us/step - loss: 0.5598 - val_loss: 0.5454\n",
            "Epoch 5/100\n",
            "60000/60000 [==============================] - 2s 39us/step - loss: 0.5323 - val_loss: 0.5198\n",
            "Epoch 6/100\n",
            "60000/60000 [==============================] - 2s 40us/step - loss: 0.5084 - val_loss: 0.4975\n",
            "Epoch 7/100\n",
            "60000/60000 [==============================] - 2s 39us/step - loss: 0.4875 - val_loss: 0.4780\n",
            "Epoch 8/100\n",
            "60000/60000 [==============================] - 2s 40us/step - loss: 0.4692 - val_loss: 0.4609\n",
            "Epoch 9/100\n",
            "60000/60000 [==============================] - 2s 39us/step - loss: 0.4531 - val_loss: 0.4457\n",
            "Epoch 10/100\n",
            "60000/60000 [==============================] - 2s 40us/step - loss: 0.4389 - val_loss: 0.4324\n",
            "Epoch 11/100\n",
            "60000/60000 [==============================] - 2s 39us/step - loss: 0.4262 - val_loss: 0.4205\n",
            "Epoch 12/100\n",
            "60000/60000 [==============================] - 2s 39us/step - loss: 0.4150 - val_loss: 0.4098\n",
            "Epoch 13/100\n",
            "60000/60000 [==============================] - 2s 39us/step - loss: 0.4049 - val_loss: 0.4003\n",
            "Epoch 14/100\n",
            "60000/60000 [==============================] - 2s 40us/step - loss: 0.3959 - val_loss: 0.3918\n",
            "Epoch 15/100\n",
            "60000/60000 [==============================] - 2s 39us/step - loss: 0.3877 - val_loss: 0.3840\n",
            "Epoch 16/100\n",
            "60000/60000 [==============================] - 2s 40us/step - loss: 0.3804 - val_loss: 0.3771\n",
            "Epoch 17/100\n",
            "60000/60000 [==============================] - 2s 40us/step - loss: 0.3737 - val_loss: 0.3707\n",
            "Epoch 18/100\n",
            "60000/60000 [==============================] - 2s 40us/step - loss: 0.3676 - val_loss: 0.3649\n",
            "Epoch 19/100\n",
            "60000/60000 [==============================] - 2s 40us/step - loss: 0.3621 - val_loss: 0.3596\n",
            "Epoch 20/100\n",
            "60000/60000 [==============================] - 2s 39us/step - loss: 0.3570 - val_loss: 0.3548\n",
            "Epoch 21/100\n",
            "60000/60000 [==============================] - 2s 39us/step - loss: 0.3524 - val_loss: 0.3503\n",
            "Epoch 22/100\n",
            "60000/60000 [==============================] - 2s 40us/step - loss: 0.3481 - val_loss: 0.3463\n",
            "Epoch 23/100\n",
            "60000/60000 [==============================] - 2s 40us/step - loss: 0.3442 - val_loss: 0.3425\n",
            "Epoch 24/100\n",
            "60000/60000 [==============================] - 2s 40us/step - loss: 0.3406 - val_loss: 0.3390\n",
            "Epoch 25/100\n",
            "60000/60000 [==============================] - 2s 40us/step - loss: 0.3372 - val_loss: 0.3357\n",
            "Epoch 26/100\n",
            "60000/60000 [==============================] - 2s 39us/step - loss: 0.3341 - val_loss: 0.3327\n",
            "Epoch 27/100\n",
            "60000/60000 [==============================] - 2s 39us/step - loss: 0.3312 - val_loss: 0.3299\n",
            "Epoch 28/100\n",
            "60000/60000 [==============================] - 2s 39us/step - loss: 0.3285 - val_loss: 0.3273\n",
            "Epoch 29/100\n",
            "60000/60000 [==============================] - 2s 40us/step - loss: 0.3259 - val_loss: 0.3249\n",
            "Epoch 30/100\n",
            "60000/60000 [==============================] - 2s 39us/step - loss: 0.3236 - val_loss: 0.3226\n",
            "Epoch 31/100\n",
            "60000/60000 [==============================] - 2s 40us/step - loss: 0.3213 - val_loss: 0.3204\n",
            "Epoch 32/100\n",
            "60000/60000 [==============================] - 2s 40us/step - loss: 0.3193 - val_loss: 0.3184\n",
            "Epoch 33/100\n",
            "60000/60000 [==============================] - 2s 39us/step - loss: 0.3173 - val_loss: 0.3165\n",
            "Epoch 34/100\n",
            "60000/60000 [==============================] - 2s 39us/step - loss: 0.3155 - val_loss: 0.3147\n",
            "Epoch 35/100\n",
            "60000/60000 [==============================] - 2s 40us/step - loss: 0.3138 - val_loss: 0.3131\n",
            "Epoch 36/100\n",
            "60000/60000 [==============================] - 2s 39us/step - loss: 0.3121 - val_loss: 0.3115\n",
            "Epoch 37/100\n",
            "60000/60000 [==============================] - 2s 40us/step - loss: 0.3106 - val_loss: 0.3100\n",
            "Epoch 38/100\n",
            "60000/60000 [==============================] - 2s 39us/step - loss: 0.3091 - val_loss: 0.3085\n",
            "Epoch 39/100\n",
            "60000/60000 [==============================] - 2s 40us/step - loss: 0.3077 - val_loss: 0.3072\n",
            "Epoch 40/100\n",
            "60000/60000 [==============================] - 2s 39us/step - loss: 0.3064 - val_loss: 0.3059\n",
            "Epoch 41/100\n",
            "60000/60000 [==============================] - 2s 40us/step - loss: 0.3052 - val_loss: 0.3047\n",
            "Epoch 42/100\n",
            "60000/60000 [==============================] - 2s 40us/step - loss: 0.3040 - val_loss: 0.3035\n",
            "Epoch 43/100\n",
            "60000/60000 [==============================] - 2s 40us/step - loss: 0.3029 - val_loss: 0.3024\n",
            "Epoch 44/100\n",
            "60000/60000 [==============================] - 2s 39us/step - loss: 0.3018 - val_loss: 0.3014\n",
            "Epoch 45/100\n",
            "60000/60000 [==============================] - 2s 40us/step - loss: 0.3008 - val_loss: 0.3004\n",
            "Epoch 46/100\n",
            "60000/60000 [==============================] - 2s 39us/step - loss: 0.2998 - val_loss: 0.2994\n",
            "Epoch 47/100\n",
            "60000/60000 [==============================] - 2s 40us/step - loss: 0.2989 - val_loss: 0.2985\n",
            "Epoch 48/100\n",
            "60000/60000 [==============================] - 2s 39us/step - loss: 0.2980 - val_loss: 0.2976\n",
            "Epoch 49/100\n",
            "60000/60000 [==============================] - 2s 40us/step - loss: 0.2971 - val_loss: 0.2968\n",
            "Epoch 50/100\n",
            "60000/60000 [==============================] - 2s 40us/step - loss: 0.2963 - val_loss: 0.2960\n",
            "Epoch 51/100\n",
            "60000/60000 [==============================] - 2s 39us/step - loss: 0.2955 - val_loss: 0.2952\n",
            "Epoch 52/100\n",
            "60000/60000 [==============================] - 2s 39us/step - loss: 0.2948 - val_loss: 0.2945\n",
            "Epoch 53/100\n",
            "60000/60000 [==============================] - 2s 39us/step - loss: 0.2941 - val_loss: 0.2938\n",
            "Epoch 54/100\n",
            "60000/60000 [==============================] - 2s 39us/step - loss: 0.2934 - val_loss: 0.2931\n",
            "Epoch 55/100\n",
            "60000/60000 [==============================] - 2s 39us/step - loss: 0.2927 - val_loss: 0.2925\n",
            "Epoch 56/100\n",
            "60000/60000 [==============================] - 2s 40us/step - loss: 0.2921 - val_loss: 0.2918\n",
            "Epoch 57/100\n",
            "60000/60000 [==============================] - 2s 40us/step - loss: 0.2915 - val_loss: 0.2912\n",
            "Epoch 58/100\n",
            "60000/60000 [==============================] - 2s 40us/step - loss: 0.2909 - val_loss: 0.2906\n",
            "Epoch 59/100\n",
            "60000/60000 [==============================] - 2s 39us/step - loss: 0.2903 - val_loss: 0.2901\n",
            "Epoch 60/100\n",
            "60000/60000 [==============================] - 2s 40us/step - loss: 0.2898 - val_loss: 0.2895\n",
            "Epoch 61/100\n",
            "60000/60000 [==============================] - 2s 39us/step - loss: 0.2892 - val_loss: 0.2890\n",
            "Epoch 62/100\n",
            "60000/60000 [==============================] - 2s 40us/step - loss: 0.2887 - val_loss: 0.2885\n",
            "Epoch 63/100\n",
            "60000/60000 [==============================] - 2s 40us/step - loss: 0.2882 - val_loss: 0.2880\n",
            "Epoch 64/100\n",
            "60000/60000 [==============================] - 2s 40us/step - loss: 0.2877 - val_loss: 0.2875\n",
            "Epoch 65/100\n",
            "60000/60000 [==============================] - 2s 39us/step - loss: 0.2873 - val_loss: 0.2871\n",
            "Epoch 66/100\n",
            "60000/60000 [==============================] - 2s 40us/step - loss: 0.2868 - val_loss: 0.2867\n",
            "Epoch 67/100\n",
            "60000/60000 [==============================] - 2s 39us/step - loss: 0.2864 - val_loss: 0.2862\n",
            "Epoch 68/100\n",
            "60000/60000 [==============================] - 2s 39us/step - loss: 0.2860 - val_loss: 0.2858\n",
            "Epoch 69/100\n",
            "60000/60000 [==============================] - 2s 38us/step - loss: 0.2856 - val_loss: 0.2854\n",
            "Epoch 70/100\n",
            "60000/60000 [==============================] - 2s 39us/step - loss: 0.2852 - val_loss: 0.2850\n",
            "Epoch 71/100\n",
            "60000/60000 [==============================] - 2s 38us/step - loss: 0.2848 - val_loss: 0.2846\n",
            "Epoch 72/100\n",
            "60000/60000 [==============================] - 2s 39us/step - loss: 0.2844 - val_loss: 0.2843\n",
            "Epoch 73/100\n",
            "60000/60000 [==============================] - 2s 39us/step - loss: 0.2841 - val_loss: 0.2839\n",
            "Epoch 74/100\n",
            "60000/60000 [==============================] - 2s 40us/step - loss: 0.2837 - val_loss: 0.2836\n",
            "Epoch 75/100\n",
            "60000/60000 [==============================] - 3s 42us/step - loss: 0.2834 - val_loss: 0.2832\n",
            "Epoch 76/100\n",
            "60000/60000 [==============================] - 2s 41us/step - loss: 0.2831 - val_loss: 0.2829\n",
            "Epoch 77/100\n",
            "60000/60000 [==============================] - 2s 40us/step - loss: 0.2828 - val_loss: 0.2826\n",
            "Epoch 78/100\n",
            "60000/60000 [==============================] - 2s 39us/step - loss: 0.2825 - val_loss: 0.2823\n",
            "Epoch 79/100\n",
            "60000/60000 [==============================] - 2s 39us/step - loss: 0.2822 - val_loss: 0.2820\n",
            "Epoch 80/100\n",
            "60000/60000 [==============================] - 2s 39us/step - loss: 0.2819 - val_loss: 0.2817\n",
            "Epoch 81/100\n",
            "60000/60000 [==============================] - 2s 39us/step - loss: 0.2816 - val_loss: 0.2814\n",
            "Epoch 82/100\n",
            "60000/60000 [==============================] - 2s 39us/step - loss: 0.2813 - val_loss: 0.2812\n",
            "Epoch 83/100\n",
            "60000/60000 [==============================] - 2s 39us/step - loss: 0.2810 - val_loss: 0.2809\n",
            "Epoch 84/100\n",
            "60000/60000 [==============================] - 2s 39us/step - loss: 0.2808 - val_loss: 0.2806\n",
            "Epoch 85/100\n",
            "60000/60000 [==============================] - 2s 39us/step - loss: 0.2805 - val_loss: 0.2804\n",
            "Epoch 86/100\n",
            "60000/60000 [==============================] - 2s 39us/step - loss: 0.2803 - val_loss: 0.2801\n",
            "Epoch 87/100\n",
            "60000/60000 [==============================] - 2s 39us/step - loss: 0.2800 - val_loss: 0.2799\n",
            "Epoch 88/100\n",
            "60000/60000 [==============================] - 2s 39us/step - loss: 0.2798 - val_loss: 0.2796\n",
            "Epoch 89/100\n",
            "60000/60000 [==============================] - 2s 39us/step - loss: 0.2796 - val_loss: 0.2794\n",
            "Epoch 90/100\n",
            "60000/60000 [==============================] - 2s 39us/step - loss: 0.2793 - val_loss: 0.2792\n",
            "Epoch 91/100\n",
            "60000/60000 [==============================] - 2s 39us/step - loss: 0.2791 - val_loss: 0.2790\n",
            "Epoch 92/100\n",
            "60000/60000 [==============================] - 2s 39us/step - loss: 0.2789 - val_loss: 0.2788\n",
            "Epoch 93/100\n",
            "60000/60000 [==============================] - 2s 39us/step - loss: 0.2787 - val_loss: 0.2785\n",
            "Epoch 94/100\n",
            "60000/60000 [==============================] - 2s 39us/step - loss: 0.2785 - val_loss: 0.2783\n",
            "Epoch 95/100\n",
            "60000/60000 [==============================] - 2s 39us/step - loss: 0.2783 - val_loss: 0.2781\n",
            "Epoch 96/100\n",
            "60000/60000 [==============================] - 2s 41us/step - loss: 0.2781 - val_loss: 0.2779\n",
            "Epoch 97/100\n",
            "60000/60000 [==============================] - 3s 42us/step - loss: 0.2779 - val_loss: 0.2778\n",
            "Epoch 98/100\n",
            "60000/60000 [==============================] - 2s 41us/step - loss: 0.2777 - val_loss: 0.2776\n",
            "Epoch 99/100\n",
            "60000/60000 [==============================] - 2s 41us/step - loss: 0.2775 - val_loss: 0.2774\n",
            "Epoch 100/100\n",
            "60000/60000 [==============================] - 2s 40us/step - loss: 0.2774 - val_loss: 0.2772\n"
          ],
          "name": "stdout"
        },
        {
          "output_type": "execute_result",
          "data": {
            "text/plain": [
              "<keras.callbacks.callbacks.History at 0x7f0412b2a6d8>"
            ]
          },
          "metadata": {
            "tags": []
          },
          "execution_count": 28
        }
      ]
    },
    {
      "cell_type": "code",
      "metadata": {
        "id": "U03Ij5GLBGsf",
        "colab_type": "code",
        "colab": {}
      },
      "source": [
        "# encode and decode some digits\n",
        "# note that we take them from the *test* set\n",
        "encoded_imgs = encoder.predict(x_test)\n",
        "decoded_imgs = decoder.predict(encoded_imgs)"
      ],
      "execution_count": null,
      "outputs": []
    },
    {
      "cell_type": "code",
      "metadata": {
        "id": "BdZWetJoDBHP",
        "colab_type": "code",
        "colab": {
          "base_uri": "https://localhost:8080/",
          "height": 248
        },
        "outputId": "befae6bc-8e89-4fa4-9f8c-498c38160cbf"
      },
      "source": [
        "# use Matplotlib (don't ask)\n",
        "import matplotlib.pyplot as plt\n",
        "\n",
        "n = 10  # how many digits we will display\n",
        "plt.figure(figsize=(20, 4))\n",
        "for i in range(n):\n",
        "    # display original\n",
        "    ax = plt.subplot(2, n, i + 1)\n",
        "    plt.imshow(x_test[i].reshape(28, 28))\n",
        "    plt.gray()\n",
        "    ax.get_xaxis().set_visible(False)\n",
        "    ax.get_yaxis().set_visible(False)\n",
        "\n",
        "    # display reconstruction\n",
        "    ax = plt.subplot(2, n, i + 1 + n)\n",
        "    plt.imshow(decoded_imgs[i].reshape(28, 28))\n",
        "    plt.gray()\n",
        "    ax.get_xaxis().set_visible(False)\n",
        "    ax.get_yaxis().set_visible(False)\n",
        "plt.show()"
      ],
      "execution_count": null,
      "outputs": [
        {
          "output_type": "display_data",
          "data": {
            "image/png": "[encoded data removed]",
            "text/plain": [
              "<Figure size 1440x288 with 20 Axes>"
            ]
          },
          "metadata": {
            "tags": [],
            "needs_background": "light"
          }
        }
      ]
    },
    {
      "cell_type": "code",
      "metadata": {
        "id": "u_b4w6y_BbLv",
        "colab_type": "code",
        "colab": {}
      },
      "source": [
        "# Deep autoencoder\n",
        "input_img = Input(shape=(784,))\n",
        "encoded = Dense(128, activation='relu')(input_img)\n",
        "encoded = Dense(64, activation='relu')(encoded)\n",
        "encoded = Dense(32, activation='relu')(encoded)\n",
        "\n",
        "decoded = Dense(64, activation='relu')(encoded)\n",
        "decoded = Dense(128, activation='relu')(decoded)\n",
        "decoded = Dense(784, activation='sigmoid')(decoded)"
      ],
      "execution_count": null,
      "outputs": []
    },
    {
      "cell_type": "code",
      "metadata": {
        "id": "d5W4_FnuCMqI",
        "colab_type": "code",
        "colab": {
          "base_uri": "https://localhost:8080/",
          "height": 1000
        },
        "outputId": "f7474fd0-bb0c-4939-fce1-c38f1c44430b"
      },
      "source": [
        "autoencoder = Model(input_img, decoded)\n",
        "autoencoder.compile(optimizer='adadelta', loss='binary_crossentropy')\n",
        "\n",
        "autoencoder.fit(x_train, x_train,\n",
        "                epochs=100,\n",
        "                batch_size=256,\n",
        "                shuffle=True,\n",
        "                validation_data=(x_test, x_test))"
      ],
      "execution_count": null,
      "outputs": [
        {
          "output_type": "stream",
          "text": [
            "Train on 60000 samples, validate on 10000 samples\n",
            "Epoch 1/100\n",
            "60000/60000 [==============================] - 4s 67us/step - loss: 0.3333 - val_loss: 0.2637\n",
            "Epoch 2/100\n",
            "60000/60000 [==============================] - 4s 65us/step - loss: 0.2557 - val_loss: 0.2474\n",
            "Epoch 3/100\n",
            "60000/60000 [==============================] - 4s 63us/step - loss: 0.2387 - val_loss: 0.2295\n",
            "Epoch 4/100\n",
            "60000/60000 [==============================] - 4s 64us/step - loss: 0.2245 - val_loss: 0.2177\n",
            "Epoch 5/100\n",
            "60000/60000 [==============================] - 4s 65us/step - loss: 0.2115 - val_loss: 0.2056\n",
            "Epoch 6/100\n",
            "60000/60000 [==============================] - 4s 65us/step - loss: 0.2012 - val_loss: 0.1941\n",
            "Epoch 7/100\n",
            "60000/60000 [==============================] - 4s 64us/step - loss: 0.1880 - val_loss: 0.1794\n",
            "Epoch 8/100\n",
            "60000/60000 [==============================] - 4s 65us/step - loss: 0.1778 - val_loss: 0.1737\n",
            "Epoch 9/100\n",
            "60000/60000 [==============================] - 4s 64us/step - loss: 0.1717 - val_loss: 0.1674\n",
            "Epoch 10/100\n",
            "60000/60000 [==============================] - 4s 64us/step - loss: 0.1671 - val_loss: 0.1634\n",
            "Epoch 11/100\n",
            "60000/60000 [==============================] - 4s 65us/step - loss: 0.1625 - val_loss: 0.1598\n",
            "Epoch 12/100\n",
            "60000/60000 [==============================] - 4s 64us/step - loss: 0.1580 - val_loss: 0.1559\n",
            "Epoch 13/100\n",
            "60000/60000 [==============================] - 4s 64us/step - loss: 0.1540 - val_loss: 0.1517\n",
            "Epoch 14/100\n",
            "60000/60000 [==============================] - 4s 64us/step - loss: 0.1509 - val_loss: 0.1487\n",
            "Epoch 15/100\n",
            "60000/60000 [==============================] - 4s 64us/step - loss: 0.1480 - val_loss: 0.1443\n",
            "Epoch 16/100\n",
            "60000/60000 [==============================] - 4s 65us/step - loss: 0.1456 - val_loss: 0.1431\n",
            "Epoch 17/100\n",
            "60000/60000 [==============================] - 4s 65us/step - loss: 0.1433 - val_loss: 0.1418\n",
            "Epoch 18/100\n",
            "60000/60000 [==============================] - 4s 64us/step - loss: 0.1415 - val_loss: 0.1391\n",
            "Epoch 19/100\n",
            "60000/60000 [==============================] - 4s 67us/step - loss: 0.1399 - val_loss: 0.1367\n",
            "Epoch 20/100\n",
            "60000/60000 [==============================] - 4s 66us/step - loss: 0.1384 - val_loss: 0.1362\n",
            "Epoch 21/100\n",
            "60000/60000 [==============================] - 4s 66us/step - loss: 0.1368 - val_loss: 0.1345\n",
            "Epoch 22/100\n",
            "60000/60000 [==============================] - 4s 67us/step - loss: 0.1352 - val_loss: 0.1337\n",
            "Epoch 23/100\n",
            "60000/60000 [==============================] - 4s 67us/step - loss: 0.1337 - val_loss: 0.1325\n",
            "Epoch 24/100\n",
            "60000/60000 [==============================] - 4s 66us/step - loss: 0.1319 - val_loss: 0.1306\n",
            "Epoch 25/100\n",
            "60000/60000 [==============================] - 4s 68us/step - loss: 0.1305 - val_loss: 0.1291\n",
            "Epoch 26/100\n",
            "60000/60000 [==============================] - 4s 67us/step - loss: 0.1290 - val_loss: 0.1277\n",
            "Epoch 27/100\n",
            "60000/60000 [==============================] - 4s 66us/step - loss: 0.1277 - val_loss: 0.1279\n",
            "Epoch 28/100\n",
            "60000/60000 [==============================] - 4s 65us/step - loss: 0.1266 - val_loss: 0.1259\n",
            "Epoch 29/100\n",
            "60000/60000 [==============================] - 4s 65us/step - loss: 0.1254 - val_loss: 0.1226\n",
            "Epoch 30/100\n",
            "60000/60000 [==============================] - 4s 66us/step - loss: 0.1243 - val_loss: 0.1240\n",
            "Epoch 31/100\n",
            "60000/60000 [==============================] - 4s 66us/step - loss: 0.1233 - val_loss: 0.1207\n",
            "Epoch 32/100\n",
            "60000/60000 [==============================] - 4s 66us/step - loss: 0.1223 - val_loss: 0.1205\n",
            "Epoch 33/100\n",
            "60000/60000 [==============================] - 4s 65us/step - loss: 0.1213 - val_loss: 0.1196\n",
            "Epoch 34/100\n",
            "60000/60000 [==============================] - 4s 65us/step - loss: 0.1205 - val_loss: 0.1196\n",
            "Epoch 35/100\n",
            "60000/60000 [==============================] - 4s 66us/step - loss: 0.1195 - val_loss: 0.1175\n",
            "Epoch 36/100\n",
            "60000/60000 [==============================] - 4s 63us/step - loss: 0.1189 - val_loss: 0.1173\n",
            "Epoch 37/100\n",
            "60000/60000 [==============================] - 4s 64us/step - loss: 0.1182 - val_loss: 0.1168\n",
            "Epoch 38/100\n",
            "60000/60000 [==============================] - 4s 63us/step - loss: 0.1174 - val_loss: 0.1151\n",
            "Epoch 39/100\n",
            "60000/60000 [==============================] - 4s 64us/step - loss: 0.1170 - val_loss: 0.1146\n",
            "Epoch 40/100\n",
            "60000/60000 [==============================] - 4s 66us/step - loss: 0.1162 - val_loss: 0.1144\n",
            "Epoch 41/100\n",
            "60000/60000 [==============================] - 4s 65us/step - loss: 0.1158 - val_loss: 0.1167\n",
            "Epoch 42/100\n",
            "60000/60000 [==============================] - 4s 65us/step - loss: 0.1152 - val_loss: 0.1115\n",
            "Epoch 43/100\n",
            "60000/60000 [==============================] - 4s 65us/step - loss: 0.1147 - val_loss: 0.1132\n",
            "Epoch 44/100\n",
            "60000/60000 [==============================] - 4s 65us/step - loss: 0.1143 - val_loss: 0.1119\n",
            "Epoch 45/100\n",
            "60000/60000 [==============================] - 4s 65us/step - loss: 0.1139 - val_loss: 0.1133\n",
            "Epoch 46/100\n",
            "60000/60000 [==============================] - 4s 66us/step - loss: 0.1133 - val_loss: 0.1113\n",
            "Epoch 47/100\n",
            "60000/60000 [==============================] - 4s 65us/step - loss: 0.1128 - val_loss: 0.1120\n",
            "Epoch 48/100\n",
            "60000/60000 [==============================] - 4s 67us/step - loss: 0.1123 - val_loss: 0.1106\n",
            "Epoch 49/100\n",
            "60000/60000 [==============================] - 4s 65us/step - loss: 0.1118 - val_loss: 0.1111\n",
            "Epoch 50/100\n",
            "60000/60000 [==============================] - 4s 66us/step - loss: 0.1114 - val_loss: 0.1109\n",
            "Epoch 51/100\n",
            "60000/60000 [==============================] - 4s 63us/step - loss: 0.1110 - val_loss: 0.1106\n",
            "Epoch 52/100\n",
            "60000/60000 [==============================] - 4s 64us/step - loss: 0.1105 - val_loss: 0.1094\n",
            "Epoch 53/100\n",
            "60000/60000 [==============================] - 4s 64us/step - loss: 0.1101 - val_loss: 0.1083\n",
            "Epoch 54/100\n",
            "60000/60000 [==============================] - 4s 64us/step - loss: 0.1097 - val_loss: 0.1089\n",
            "Epoch 55/100\n",
            "60000/60000 [==============================] - 4s 64us/step - loss: 0.1094 - val_loss: 0.1092\n",
            "Epoch 56/100\n",
            "60000/60000 [==============================] - 4s 64us/step - loss: 0.1089 - val_loss: 0.1074\n",
            "Epoch 57/100\n",
            "60000/60000 [==============================] - 4s 65us/step - loss: 0.1085 - val_loss: 0.1061\n",
            "Epoch 58/100\n",
            "60000/60000 [==============================] - 4s 65us/step - loss: 0.1082 - val_loss: 0.1067\n",
            "Epoch 59/100\n",
            "60000/60000 [==============================] - 4s 64us/step - loss: 0.1079 - val_loss: 0.1074\n",
            "Epoch 60/100\n",
            "60000/60000 [==============================] - 4s 65us/step - loss: 0.1076 - val_loss: 0.1082\n",
            "Epoch 61/100\n",
            "60000/60000 [==============================] - 4s 65us/step - loss: 0.1073 - val_loss: 0.1074\n",
            "Epoch 62/100\n",
            "60000/60000 [==============================] - 4s 65us/step - loss: 0.1069 - val_loss: 0.1060\n",
            "Epoch 63/100\n",
            "60000/60000 [==============================] - 4s 65us/step - loss: 0.1067 - val_loss: 0.1040\n",
            "Epoch 64/100\n",
            "60000/60000 [==============================] - 4s 64us/step - loss: 0.1063 - val_loss: 0.1051\n",
            "Epoch 65/100\n",
            "60000/60000 [==============================] - 4s 64us/step - loss: 0.1062 - val_loss: 0.1041\n",
            "Epoch 66/100\n",
            "60000/60000 [==============================] - 4s 64us/step - loss: 0.1059 - val_loss: 0.1055\n",
            "Epoch 67/100\n",
            "60000/60000 [==============================] - 4s 63us/step - loss: 0.1055 - val_loss: 0.1048\n",
            "Epoch 68/100\n",
            "60000/60000 [==============================] - 4s 64us/step - loss: 0.1053 - val_loss: 0.1049\n",
            "Epoch 69/100\n",
            "60000/60000 [==============================] - 4s 63us/step - loss: 0.1050 - val_loss: 0.1058\n",
            "Epoch 70/100\n",
            "60000/60000 [==============================] - 4s 64us/step - loss: 0.1048 - val_loss: 0.1037\n",
            "Epoch 71/100\n",
            "60000/60000 [==============================] - 4s 65us/step - loss: 0.1045 - val_loss: 0.1047\n",
            "Epoch 72/100\n",
            "60000/60000 [==============================] - 4s 66us/step - loss: 0.1044 - val_loss: 0.1040\n",
            "Epoch 73/100\n",
            "60000/60000 [==============================] - 4s 65us/step - loss: 0.1041 - val_loss: 0.1026\n",
            "Epoch 74/100\n",
            "60000/60000 [==============================] - 4s 64us/step - loss: 0.1040 - val_loss: 0.1040\n",
            "Epoch 75/100\n",
            "60000/60000 [==============================] - 4s 65us/step - loss: 0.1037 - val_loss: 0.1033\n",
            "Epoch 76/100\n",
            "60000/60000 [==============================] - 4s 65us/step - loss: 0.1034 - val_loss: 0.1015\n",
            "Epoch 77/100\n",
            "60000/60000 [==============================] - 4s 64us/step - loss: 0.1033 - val_loss: 0.1048\n",
            "Epoch 78/100\n",
            "60000/60000 [==============================] - 4s 64us/step - loss: 0.1030 - val_loss: 0.1012\n",
            "Epoch 79/100\n",
            "60000/60000 [==============================] - 4s 63us/step - loss: 0.1028 - val_loss: 0.1022\n",
            "Epoch 80/100\n",
            "60000/60000 [==============================] - 4s 64us/step - loss: 0.1026 - val_loss: 0.1010\n",
            "Epoch 81/100\n",
            "60000/60000 [==============================] - 4s 63us/step - loss: 0.1025 - val_loss: 0.1020\n",
            "Epoch 82/100\n",
            "60000/60000 [==============================] - 4s 63us/step - loss: 0.1023 - val_loss: 0.1014\n",
            "Epoch 83/100\n",
            "60000/60000 [==============================] - 4s 64us/step - loss: 0.1020 - val_loss: 0.1018\n",
            "Epoch 84/100\n",
            "60000/60000 [==============================] - 4s 63us/step - loss: 0.1019 - val_loss: 0.1018\n",
            "Epoch 85/100\n",
            "60000/60000 [==============================] - 4s 64us/step - loss: 0.1017 - val_loss: 0.1007\n",
            "Epoch 86/100\n",
            "60000/60000 [==============================] - 4s 64us/step - loss: 0.1015 - val_loss: 0.1007\n",
            "Epoch 87/100\n",
            "60000/60000 [==============================] - 4s 63us/step - loss: 0.1013 - val_loss: 0.1013\n",
            "Epoch 88/100\n",
            "60000/60000 [==============================] - 4s 64us/step - loss: 0.1011 - val_loss: 0.0994\n",
            "Epoch 89/100\n",
            "60000/60000 [==============================] - 4s 64us/step - loss: 0.1010 - val_loss: 0.0997\n",
            "Epoch 90/100\n",
            "60000/60000 [==============================] - 4s 64us/step - loss: 0.1009 - val_loss: 0.1013\n",
            "Epoch 91/100\n",
            "60000/60000 [==============================] - 4s 63us/step - loss: 0.1006 - val_loss: 0.1001\n",
            "Epoch 92/100\n",
            "60000/60000 [==============================] - 4s 64us/step - loss: 0.1004 - val_loss: 0.1003\n",
            "Epoch 93/100\n",
            "60000/60000 [==============================] - 4s 64us/step - loss: 0.1003 - val_loss: 0.0993\n",
            "Epoch 94/100\n",
            "60000/60000 [==============================] - 4s 64us/step - loss: 0.1001 - val_loss: 0.0985\n",
            "Epoch 95/100\n",
            "60000/60000 [==============================] - 4s 64us/step - loss: 0.0999 - val_loss: 0.0997\n",
            "Epoch 96/100\n",
            "60000/60000 [==============================] - 4s 64us/step - loss: 0.0998 - val_loss: 0.0989\n",
            "Epoch 97/100\n",
            "60000/60000 [==============================] - 4s 64us/step - loss: 0.0997 - val_loss: 0.0981\n",
            "Epoch 98/100\n",
            "60000/60000 [==============================] - 4s 64us/step - loss: 0.0995 - val_loss: 0.0989\n",
            "Epoch 99/100\n",
            "60000/60000 [==============================] - 4s 64us/step - loss: 0.0994 - val_loss: 0.0985\n",
            "Epoch 100/100\n",
            "60000/60000 [==============================] - 4s 63us/step - loss: 0.0992 - val_loss: 0.1003\n"
          ],
          "name": "stdout"
        },
        {
          "output_type": "execute_result",
          "data": {
            "text/plain": [
              "<keras.callbacks.callbacks.History at 0x7f0412996240>"
            ]
          },
          "metadata": {
            "tags": []
          },
          "execution_count": 30
        }
      ]
    },
    {
      "cell_type": "code",
      "metadata": {
        "id": "5SedhhRaCQEh",
        "colab_type": "code",
        "colab": {}
      },
      "source": [
        "# encode and decode some digits\n",
        "# note that we take them from the *test* set\n",
        "encoded_imgs = encoder.predict(x_test)\n",
        "decoded_imgs = decoder.predict(encoded_imgs)"
      ],
      "execution_count": null,
      "outputs": []
    },
    {
      "cell_type": "code",
      "metadata": {
        "id": "JPQtDSRbCUfC",
        "colab_type": "code",
        "colab": {
          "base_uri": "https://localhost:8080/",
          "height": 248
        },
        "outputId": "bc1b0d3d-0a79-42f4-bb8f-ffe885ca86bf"
      },
      "source": [
        "# use Matplotlib (don't ask)\n",
        "import matplotlib.pyplot as plt\n",
        "\n",
        "n = 10  # how many digits we will display\n",
        "plt.figure(figsize=(20, 4))\n",
        "for i in range(n):\n",
        "    # display original\n",
        "    ax = plt.subplot(2, n, i + 1)\n",
        "    plt.imshow(x_test[i].reshape(28, 28))\n",
        "    plt.gray()\n",
        "    ax.get_xaxis().set_visible(False)\n",
        "    ax.get_yaxis().set_visible(False)\n",
        "\n",
        "    # display reconstruction\n",
        "    ax = plt.subplot(2, n, i + 1 + n)\n",
        "    plt.imshow(decoded_imgs[i].reshape(28, 28))\n",
        "    plt.gray()\n",
        "    ax.get_xaxis().set_visible(False)\n",
        "    ax.get_yaxis().set_visible(False)\n",
        "plt.show()"
      ],
      "execution_count": null,
      "outputs": [
        {
          "output_type": "display_data",
          "data": {
            "image/png": "[encoded data removed]",
            "text/plain": [
              "<Figure size 1440x288 with 20 Axes>"
            ]
          },
          "metadata": {
            "tags": [],
            "needs_background": "light"
          }
        }
      ]
    },
    {
      "cell_type": "code",
      "metadata": {
        "id": "Y4GHueUiCUbh",
        "colab_type": "code",
        "colab": {}
      },
      "source": [
        "# Convolutional Autoencoder\n",
        "from keras.layers import Input, Dense, Conv2D, MaxPooling2D, UpSampling2D\n",
        "from keras.models import Model\n",
        "from keras import backend as K\n",
        "\n",
        "input_img = Input(shape=(28, 28, 1))  # adapt this if using `channels_first` image data format\n",
        "\n",
        "x = Conv2D(16, (3, 3), activation='relu', padding='same')(input_img)\n",
        "x = MaxPooling2D((2, 2), padding='same')(x)\n",
        "x = Conv2D(8, (3, 3), activation='relu', padding='same')(x)\n",
        "x = MaxPooling2D((2, 2), padding='same')(x)\n",
        "x = Conv2D(8, (3, 3), activation='relu', padding='same')(x)\n",
        "encoded = MaxPooling2D((2, 2), padding='same')(x)\n",
        "\n",
        "# at this point the representation is (4, 4, 8) i.e. 128-dimensional\n",
        "\n",
        "x = Conv2D(8, (3, 3), activation='relu', padding='same')(encoded)\n",
        "x = UpSampling2D((2, 2))(x)\n",
        "x = Conv2D(8, (3, 3), activation='relu', padding='same')(x)\n",
        "x = UpSampling2D((2, 2))(x)\n",
        "x = Conv2D(16, (3, 3), activation='relu')(x)\n",
        "x = UpSampling2D((2, 2))(x)\n",
        "decoded = Conv2D(1, (3, 3), activation='sigmoid', padding='same')(x)\n",
        "\n",
        "autoencoder = Model(input_img, decoded)\n",
        "autoencoder.compile(optimizer='adadelta', loss='binary_crossentropy')"
      ],
      "execution_count": null,
      "outputs": []
    },
    {
      "cell_type": "code",
      "metadata": {
        "id": "nWm8Dx2gCUXb",
        "colab_type": "code",
        "colab": {}
      },
      "source": [
        "import numpy as np\n",
        "\n",
        "(x_train, _), (x_test, _) = mnist.load_data()\n",
        "\n",
        "x_train = x_train.astype('float32') / 255.\n",
        "x_test = x_test.astype('float32') / 255.\n",
        "x_train = np.reshape(x_train, (len(x_train), 28, 28, 1))  # adapt this if using `channels_first` image data format\n",
        "x_test = np.reshape(x_test, (len(x_test), 28, 28, 1))  # adapt this if using `channels_first` image data format"
      ],
      "execution_count": null,
      "outputs": []
    },
    {
      "cell_type": "code",
      "metadata": {
        "id": "jGL359j3CUSi",
        "colab_type": "code",
        "colab": {
          "base_uri": "https://localhost:8080/",
          "height": 129
        },
        "outputId": "a6af66b8-554a-4fc3-c860-b20cafbbfa73"
      },
      "source": [
        "tensorboard --logdir=/tmp/autoencoder"
      ],
      "execution_count": null,
      "outputs": [
        {
          "output_type": "error",
          "ename": "SyntaxError",
          "evalue": "ignored",
          "traceback": [
            "\u001b[0;36m  File \u001b[0;32m\"<ipython-input-36-d252ebf52f78>\"\u001b[0;36m, line \u001b[0;32m1\u001b[0m\n\u001b[0;31m    tensorboard --logdir=/tmp/autoencoder\u001b[0m\n\u001b[0m                         ^\u001b[0m\n\u001b[0;31mSyntaxError\u001b[0m\u001b[0;31m:\u001b[0m invalid syntax\n"
          ]
        }
      ]
    },
    {
      "cell_type": "code",
      "metadata": {
        "id": "iQrLANR9CxCv",
        "colab_type": "code",
        "colab": {
          "base_uri": "https://localhost:8080/",
          "height": 1000
        },
        "outputId": "8e479614-8b93-4994-959e-3e68c43a7898"
      },
      "source": [
        "from keras.callbacks import TensorBoard\n",
        "\n",
        "autoencoder.fit(x_train, x_train,\n",
        "                epochs=50,\n",
        "                batch_size=128,\n",
        "                shuffle=True,\n",
        "                validation_data=(x_test, x_test),\n",
        "                callbacks=[TensorBoard(log_dir='/tmp/autoencoder')])"
      ],
      "execution_count": null,
      "outputs": [
        {
          "output_type": "stream",
          "text": [
            "Train on 60000 samples, validate on 10000 samples\n",
            "Epoch 1/50\n",
            "60000/60000 [==============================] - 80s 1ms/step - loss: 0.2221 - val_loss: 0.1698\n",
            "Epoch 2/50\n",
            "60000/60000 [==============================] - 79s 1ms/step - loss: 0.1547 - val_loss: 0.1429\n",
            "Epoch 3/50\n",
            "60000/60000 [==============================] - 80s 1ms/step - loss: 0.1394 - val_loss: 0.1319\n",
            "Epoch 4/50\n",
            "60000/60000 [==============================] - 81s 1ms/step - loss: 0.1315 - val_loss: 0.1320\n",
            "Epoch 5/50\n",
            "60000/60000 [==============================] - 86s 1ms/step - loss: 0.1265 - val_loss: 0.1223\n",
            "Epoch 6/50\n",
            "60000/60000 [==============================] - 80s 1ms/step - loss: 0.1230 - val_loss: 0.1226\n",
            "Epoch 7/50\n",
            "60000/60000 [==============================] - 81s 1ms/step - loss: 0.1206 - val_loss: 0.1229\n",
            "Epoch 8/50\n",
            "60000/60000 [==============================] - 81s 1ms/step - loss: 0.1180 - val_loss: 0.1147\n",
            "Epoch 9/50\n",
            "60000/60000 [==============================] - 81s 1ms/step - loss: 0.1166 - val_loss: 0.1184\n",
            "Epoch 10/50\n",
            "60000/60000 [==============================] - 80s 1ms/step - loss: 0.1151 - val_loss: 0.1112\n",
            "Epoch 11/50\n",
            "60000/60000 [==============================] - 80s 1ms/step - loss: 0.1140 - val_loss: 0.1122\n",
            "Epoch 12/50\n",
            "60000/60000 [==============================] - 87s 1ms/step - loss: 0.1131 - val_loss: 0.1116\n",
            "Epoch 13/50\n",
            "60000/60000 [==============================] - 81s 1ms/step - loss: 0.1121 - val_loss: 0.1132\n",
            "Epoch 14/50\n",
            "60000/60000 [==============================] - 81s 1ms/step - loss: 0.1116 - val_loss: 0.1113\n",
            "Epoch 15/50\n",
            "60000/60000 [==============================] - 80s 1ms/step - loss: 0.1106 - val_loss: 0.1086\n",
            "Epoch 16/50\n",
            "60000/60000 [==============================] - 80s 1ms/step - loss: 0.1098 - val_loss: 0.1089\n",
            "Epoch 17/50\n",
            "60000/60000 [==============================] - 80s 1ms/step - loss: 0.1094 - val_loss: 0.1050\n",
            "Epoch 18/50\n",
            "60000/60000 [==============================] - 82s 1ms/step - loss: 0.1087 - val_loss: 0.1057\n",
            "Epoch 19/50\n",
            "60000/60000 [==============================] - 81s 1ms/step - loss: 0.1083 - val_loss: 0.1072\n",
            "Epoch 20/50\n",
            "60000/60000 [==============================] - 86s 1ms/step - loss: 0.1078 - val_loss: 0.1081\n",
            "Epoch 21/50\n",
            "60000/60000 [==============================] - 81s 1ms/step - loss: 0.1073 - val_loss: 0.1067\n",
            "Epoch 22/50\n",
            "60000/60000 [==============================] - 81s 1ms/step - loss: 0.1070 - val_loss: 0.1055\n",
            "Epoch 23/50\n",
            "60000/60000 [==============================] - 81s 1ms/step - loss: 0.1066 - val_loss: 0.1055\n",
            "Epoch 24/50\n",
            "60000/60000 [==============================] - 80s 1ms/step - loss: 0.1062 - val_loss: 0.1034\n",
            "Epoch 25/50\n",
            "60000/60000 [==============================] - 80s 1ms/step - loss: 0.1058 - val_loss: 0.1034\n",
            "Epoch 26/50\n",
            "60000/60000 [==============================] - 81s 1ms/step - loss: 0.1055 - val_loss: 0.1019\n",
            "Epoch 27/50\n",
            "60000/60000 [==============================] - 87s 1ms/step - loss: 0.1051 - val_loss: 0.1064\n",
            "Epoch 28/50\n",
            "60000/60000 [==============================] - 80s 1ms/step - loss: 0.1047 - val_loss: 0.1042\n",
            "Epoch 29/50\n",
            "60000/60000 [==============================] - 81s 1ms/step - loss: 0.1044 - val_loss: 0.1029\n",
            "Epoch 30/50\n",
            "60000/60000 [==============================] - 80s 1ms/step - loss: 0.1042 - val_loss: 0.1017\n",
            "Epoch 31/50\n",
            "60000/60000 [==============================] - 81s 1ms/step - loss: 0.1040 - val_loss: 0.1045\n",
            "Epoch 32/50\n",
            "60000/60000 [==============================] - 80s 1ms/step - loss: 0.1033 - val_loss: 0.1017\n",
            "Epoch 33/50\n",
            "60000/60000 [==============================] - 80s 1ms/step - loss: 0.1032 - val_loss: 0.1023\n",
            "Epoch 34/50\n",
            "60000/60000 [==============================] - 81s 1ms/step - loss: 0.1028 - val_loss: 0.1005\n",
            "Epoch 35/50\n",
            "60000/60000 [==============================] - 86s 1ms/step - loss: 0.1025 - val_loss: 0.1017\n",
            "Epoch 36/50\n",
            "60000/60000 [==============================] - 81s 1ms/step - loss: 0.1024 - val_loss: 0.1054\n",
            "Epoch 37/50\n",
            "60000/60000 [==============================] - 81s 1ms/step - loss: 0.1021 - val_loss: 0.1018\n",
            "Epoch 38/50\n",
            "60000/60000 [==============================] - 80s 1ms/step - loss: 0.1016 - val_loss: 0.1037\n",
            "Epoch 39/50\n",
            "60000/60000 [==============================] - 80s 1ms/step - loss: 0.1017 - val_loss: 0.0977\n",
            "Epoch 40/50\n",
            "60000/60000 [==============================] - 81s 1ms/step - loss: 0.1014 - val_loss: 0.1018\n",
            "Epoch 41/50\n",
            "60000/60000 [==============================] - 81s 1ms/step - loss: 0.1015 - val_loss: 0.0999\n",
            "Epoch 42/50\n",
            "60000/60000 [==============================] - 87s 1ms/step - loss: 0.1014 - val_loss: 0.1055\n",
            "Epoch 43/50\n",
            "60000/60000 [==============================] - 81s 1ms/step - loss: 0.1012 - val_loss: 0.1005\n",
            "Epoch 44/50\n",
            "60000/60000 [==============================] - 80s 1ms/step - loss: 0.1010 - val_loss: 0.0977\n",
            "Epoch 45/50\n",
            "60000/60000 [==============================] - 80s 1ms/step - loss: 0.1008 - val_loss: 0.0998\n",
            "Epoch 46/50\n",
            "60000/60000 [==============================] - 80s 1ms/step - loss: 0.1007 - val_loss: 0.0990\n",
            "Epoch 47/50\n",
            "60000/60000 [==============================] - 80s 1ms/step - loss: 0.1006 - val_loss: 0.1006\n",
            "Epoch 48/50\n",
            "60000/60000 [==============================] - 80s 1ms/step - loss: 0.1004 - val_loss: 0.0988\n",
            "Epoch 49/50\n",
            "60000/60000 [==============================] - 80s 1ms/step - loss: 0.1001 - val_loss: 0.0987\n",
            "Epoch 50/50\n",
            "60000/60000 [==============================] - 85s 1ms/step - loss: 0.1001 - val_loss: 0.0983\n"
          ],
          "name": "stdout"
        },
        {
          "output_type": "execute_result",
          "data": {
            "text/plain": [
              "<keras.callbacks.callbacks.History at 0x7f041264c240>"
            ]
          },
          "metadata": {
            "tags": []
          },
          "execution_count": 37
        }
      ]
    },
    {
      "cell_type": "code",
      "metadata": {
        "id": "qzyjylPkCykO",
        "colab_type": "code",
        "colab": {}
      },
      "source": [
        "decoded_imgs = autoencoder.predict(x_test)\n",
        "\n",
        "n = 10\n",
        "plt.figure(figsize=(20, 4))\n",
        "for i in range(n):\n",
        "    # display original\n",
        "    ax = plt.subplot(2, n, i)\n",
        "    plt.imshow(x_test[i].reshape(28, 28))\n",
        "    plt.gray()\n",
        "    ax.get_xaxis().set_visible(False)\n",
        "    ax.get_yaxis().set_visible(False)\n",
        "\n",
        "    # display reconstruction\n",
        "    ax = plt.subplot(2, n, i + n)\n",
        "    plt.imshow(decoded_imgs[i].reshape(28, 28))\n",
        "    plt.gray()\n",
        "    ax.get_xaxis().set_visible(False)\n",
        "    ax.get_yaxis().set_visible(False)\n",
        "plt.show()"
      ],
      "execution_count": null,
      "outputs": []
    },
    {
      "cell_type": "code",
      "metadata": {
        "id": "sArdQh4oCysh",
        "colab_type": "code",
        "colab": {}
      },
      "source": [
        "n = 10\n",
        "plt.figure(figsize=(20, 8))\n",
        "for i in range(n):\n",
        "    ax = plt.subplot(1, n, i)\n",
        "    plt.imshow(encoded_imgs[i].reshape(4, 4 * 8).T)\n",
        "    plt.gray()\n",
        "    ax.get_xaxis().set_visible(False)\n",
        "    ax.get_yaxis().set_visible(False)\n",
        "plt.show()"
      ],
      "execution_count": null,
      "outputs": []
    },
    {
      "cell_type": "code",
      "metadata": {
        "id": "aUcPigZVCy0z",
        "colab_type": "code",
        "colab": {}
      },
      "source": [
        "# Application to Image Denoising\n",
        "from keras.datasets import mnist\n",
        "import numpy as np\n",
        "\n",
        "(x_train, _), (x_test, _) = mnist.load_data()\n",
        "\n",
        "x_train = x_train.astype('float32') / 255.\n",
        "x_test = x_test.astype('float32') / 255.\n",
        "x_train = np.reshape(x_train, (len(x_train), 28, 28, 1))  # adapt this if using `channels_first` image data format\n",
        "x_test = np.reshape(x_test, (len(x_test), 28, 28, 1))  # adapt this if using `channels_first` image data format\n",
        "\n",
        "noise_factor = 0.5\n",
        "x_train_noisy = x_train + noise_factor * np.random.normal(loc=0.0, scale=1.0, size=x_train.shape) \n",
        "x_test_noisy = x_test + noise_factor * np.random.normal(loc=0.0, scale=1.0, size=x_test.shape) \n",
        "\n",
        "x_train_noisy = np.clip(x_train_noisy, 0., 1.)\n",
        "x_test_noisy = np.clip(x_test_noisy, 0., 1.)"
      ],
      "execution_count": null,
      "outputs": []
    },
    {
      "cell_type": "code",
      "metadata": {
        "id": "oaxWSbsoDvl9",
        "colab_type": "code",
        "colab": {}
      },
      "source": [
        "n = 10\n",
        "plt.figure(figsize=(20, 2))\n",
        "for i in range(n):\n",
        "    ax = plt.subplot(1, n, i)\n",
        "    plt.imshow(x_test_noisy[i].reshape(28, 28))\n",
        "    plt.gray()\n",
        "    ax.get_xaxis().set_visible(False)\n",
        "    ax.get_yaxis().set_visible(False)\n",
        "plt.show()"
      ],
      "execution_count": null,
      "outputs": []
    },
    {
      "cell_type": "code",
      "metadata": {
        "id": "vmClbXGEDwKm",
        "colab_type": "code",
        "colab": {}
      },
      "source": [
        "input_img = Input(shape=(28, 28, 1))  # adapt this if using `channels_first` image data format\n",
        "\n",
        "x = Conv2D(32, (3, 3), activation='relu', padding='same')(input_img)\n",
        "x = MaxPooling2D((2, 2), padding='same')(x)\n",
        "x = Conv2D(32, (3, 3), activation='relu', padding='same')(x)\n",
        "encoded = MaxPooling2D((2, 2), padding='same')(x)\n",
        "\n",
        "# at this point the representation is (7, 7, 32)\n",
        "\n",
        "x = Conv2D(32, (3, 3), activation='relu', padding='same')(encoded)\n",
        "x = UpSampling2D((2, 2))(x)\n",
        "x = Conv2D(32, (3, 3), activation='relu', padding='same')(x)\n",
        "x = UpSampling2D((2, 2))(x)\n",
        "decoded = Conv2D(1, (3, 3), activation='sigmoid', padding='same')(x)\n",
        "\n",
        "autoencoder = Model(input_img, decoded)\n",
        "autoencoder.compile(optimizer='adadelta', loss='binary_crossentropy')"
      ],
      "execution_count": null,
      "outputs": []
    },
    {
      "cell_type": "code",
      "metadata": {
        "id": "Tb8LWHDHDwVg",
        "colab_type": "code",
        "colab": {}
      },
      "source": [
        "autoencoder.fit(x_train_noisy, x_train,\n",
        "                epochs=100,\n",
        "                batch_size=128,\n",
        "                shuffle=True,\n",
        "                validation_data=(x_test_noisy, x_test),\n",
        "                callbacks=[TensorBoard(log_dir='/tmp/tb', histogram_freq=0, write_graph=False)])"
      ],
      "execution_count": null,
      "outputs": []
    },
    {
      "cell_type": "code",
      "metadata": {
        "id": "tl1TKxWRDwRK",
        "colab_type": "code",
        "colab": {}
      },
      "source": [
        "#Sequence-to-sequence autoencoder\n",
        "from keras.layers import Input, LSTM, RepeatVector\n",
        "from keras.models import Model\n",
        "\n",
        "inputs = Input(shape=(timesteps, input_dim))\n",
        "encoded = LSTM(latent_dim)(inputs)\n",
        "\n",
        "decoded = RepeatVector(timesteps)(encoded)\n",
        "decoded = LSTM(input_dim, return_sequences=True)(decoded)\n",
        "\n",
        "sequence_autoencoder = Model(inputs, decoded)\n",
        "encoder = Model(inputs, encoded)"
      ],
      "execution_count": null,
      "outputs": []
    },
    {
      "cell_type": "code",
      "metadata": {
        "id": "rOnoCno5EEaC",
        "colab_type": "code",
        "colab": {}
      },
      "source": [
        "#  Variational Autoencoder\n",
        "x = Input(batch_shape=(batch_size, original_dim))\n",
        "h = Dense(intermediate_dim, activation='relu')(x)\n",
        "z_mean = Dense(latent_dim)(h)\n",
        "z_log_sigma = Dense(latent_dim)(h)"
      ],
      "execution_count": null,
      "outputs": []
    },
    {
      "cell_type": "code",
      "metadata": {
        "id": "NQCJVznqEGWx",
        "colab_type": "code",
        "colab": {}
      },
      "source": [
        "def sampling(args):\n",
        "    z_mean, z_log_sigma = args\n",
        "    epsilon = K.random_normal(shape=(batch_size, latent_dim),\n",
        "                              mean=0., std=epsilon_std)\n",
        "    return z_mean + K.exp(z_log_sigma) * epsilon\n",
        "\n",
        "# note that \"output_shape\" isn't necessary with the TensorFlow backend\n",
        "# so you could write `Lambda(sampling)([z_mean, z_log_sigma])`\n",
        "z = Lambda(sampling, output_shape=(latent_dim,))([z_mean, z_log_sigma])"
      ],
      "execution_count": null,
      "outputs": []
    },
    {
      "cell_type": "code",
      "metadata": {
        "id": "f1PtmJHbEGx5",
        "colab_type": "code",
        "colab": {}
      },
      "source": [
        "decoder_h = Dense(intermediate_dim, activation='relu')\n",
        "decoder_mean = Dense(original_dim, activation='sigmoid')\n",
        "h_decoded = decoder_h(z)\n",
        "x_decoded_mean = decoder_mean(h_decoded)"
      ],
      "execution_count": null,
      "outputs": []
    },
    {
      "cell_type": "code",
      "metadata": {
        "id": "F0bL4jbxEHPg",
        "colab_type": "code",
        "colab": {}
      },
      "source": [
        "# end-to-end autoencoder\n",
        "vae = Model(x, x_decoded_mean)\n",
        "\n",
        "# encoder, from inputs to latent space\n",
        "encoder = Model(x, z_mean)\n",
        "\n",
        "# generator, from latent space to reconstructed inputs\n",
        "decoder_input = Input(shape=(latent_dim,))\n",
        "_h_decoded = decoder_h(decoder_input)\n",
        "_x_decoded_mean = decoder_mean(_h_decoded)\n",
        "generator = Model(decoder_input, _x_decoded_mean)"
      ],
      "execution_count": null,
      "outputs": []
    },
    {
      "cell_type": "code",
      "metadata": {
        "id": "Gf3dNy0sEHoq",
        "colab_type": "code",
        "colab": {}
      },
      "source": [
        "def vae_loss(x, x_decoded_mean):\n",
        "    xent_loss = objectives.binary_crossentropy(x, x_decoded_mean)\n",
        "    kl_loss = - 0.5 * K.mean(1 + z_log_sigma - K.square(z_mean) - K.exp(z_log_sigma), axis=-1)\n",
        "    return xent_loss + kl_loss\n",
        "\n",
        "vae.compile(optimizer='rmsprop', loss=vae_loss)"
      ],
      "execution_count": null,
      "outputs": []
    },
    {
      "cell_type": "code",
      "metadata": {
        "id": "r9ZxF5woEH6M",
        "colab_type": "code",
        "colab": {}
      },
      "source": [
        "(x_train, y_train), (x_test, y_test) = mnist.load_data()\n",
        "\n",
        "x_train = x_train.astype('float32') / 255.\n",
        "x_test = x_test.astype('float32') / 255.\n",
        "x_train = x_train.reshape((len(x_train), np.prod(x_train.shape[1:])))\n",
        "x_test = x_test.reshape((len(x_test), np.prod(x_test.shape[1:])))\n",
        "\n",
        "vae.fit(x_train, x_train,\n",
        "        shuffle=True,\n",
        "        epochs=epochs,\n",
        "        batch_size=batch_size,\n",
        "        validation_data=(x_test, x_test))"
      ],
      "execution_count": null,
      "outputs": []
    },
    {
      "cell_type": "code",
      "metadata": {
        "id": "09tjEpJ_F3DP",
        "colab_type": "code",
        "colab": {}
      },
      "source": [
        "x_test_encoded = encoder.predict(x_test, batch_size=batch_size)\n",
        "plt.figure(figsize=(6, 6))\n",
        "plt.scatter(x_test_encoded[:, 0], x_test_encoded[:, 1], c=y_test)\n",
        "plt.colorbar()\n",
        "plt.show()"
      ],
      "execution_count": null,
      "outputs": []
    },
    {
      "cell_type": "code",
      "metadata": {
        "id": "g6OU9BQlF8DV",
        "colab_type": "code",
        "colab": {}
      },
      "source": [
        "# display a 2D manifold of the digits\n",
        "n = 15  # figure with 15x15 digits\n",
        "digit_size = 28\n",
        "figure = np.zeros((digit_size * n, digit_size * n))\n",
        "# we will sample n points within [-15, 15] standard deviations\n",
        "grid_x = np.linspace(-15, 15, n)\n",
        "grid_y = np.linspace(-15, 15, n)\n",
        "\n",
        "for i, yi in enumerate(grid_x):\n",
        "    for j, xi in enumerate(grid_y):\n",
        "        z_sample = np.array([[xi, yi]]) * epsilon_std\n",
        "        x_decoded = generator.predict(z_sample)\n",
        "        digit = x_decoded[0].reshape(digit_size, digit_size)\n",
        "        figure[i * digit_size: (i + 1) * digit_size,\n",
        "               j * digit_size: (j + 1) * digit_size] = digit\n",
        "\n",
        "plt.figure(figsize=(10, 10))\n",
        "plt.imshow(figure)\n",
        "plt.show()"
      ],
      "execution_count": null,
      "outputs": []
    }
  ]
}