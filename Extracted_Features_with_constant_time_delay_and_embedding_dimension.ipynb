{
  "nbformat": 4,
  "nbformat_minor": 0,
  "metadata": {
    "colab": {
      "name": "Extracted Features with constant time delay and embedding dimension.ipynb",
      "provenance": [],
      "toc_visible": true,
      "mount_file_id": "13I21qe1I6sZuimpUxnzGZGT7VxPDxhKB",
      "authorship_tag": "ABX9TyNUYyX+LhG3Jj8AMD44VG+Y",
      "include_colab_link": true
    },
    "kernelspec": {
      "name": "python3",
      "display_name": "Python 3"
    }
  },
  "cells": [
    {
      "cell_type": "markdown",
      "metadata": {
        "id": "view-in-github",
        "colab_type": "text"
      },
      "source": [
        "<a href=\"https://colab.research.google.com/github/Shibu778/MyNotebooks/blob/master/Extracted_Features_with_constant_time_delay_and_embedding_dimension.ipynb\" target=\"_parent\"><img src=\"https://colab.research.google.com/assets/colab-badge.svg\" alt=\"Open In Colab\"/></a>"
      ]
    },
    {
      "cell_type": "markdown",
      "metadata": {
        "id": "njSBS6b0b_AQ",
        "colab_type": "text"
      },
      "source": [
        "This notebook consists of code to extract the area under the amplification factor histogram from Anil Verma and Vinod Grover Dataset. The time delay and embedding dimension are taken constant."
      ]
    },
    {
      "cell_type": "markdown",
      "metadata": {
        "id": "6fsa1LrXcUNM",
        "colab_type": "text"
      },
      "source": [
        "# Initial Setup\n"
      ]
    },
    {
      "cell_type": "markdown",
      "metadata": {
        "id": "vlDNyBe7ccGO",
        "colab_type": "text"
      },
      "source": [
        "- Step 1 is to mount the drive.\n",
        "- Step 2 is to change the current working directory to the My Drive Folder where the Nolitsa package is there.\n",
        "- Step 3 is to import the required library."
      ]
    },
    {
      "cell_type": "code",
      "metadata": {
        "id": "85b_2Rh6b3Fi",
        "colab_type": "code",
        "colab": {
          "base_uri": "https://localhost:8080/",
          "height": 34
        },
        "outputId": "d28aef8b-8d7e-4ec4-dd16-fefe55e12924"
      },
      "source": [
        "cd drive/My\\ Drive"
      ],
      "execution_count": null,
      "outputs": [
        {
          "output_type": "stream",
          "text": [
            "/content/drive/My Drive\n"
          ],
          "name": "stdout"
        }
      ]
    },
    {
      "cell_type": "code",
      "metadata": {
        "id": "GQWyH-bEc5kQ",
        "colab_type": "code",
        "colab": {}
      },
      "source": [
        "# Importing the required library\n",
        "import numpy as np\n",
        "import pandas as pd\n",
        "import matplotlib.pyplot as plt\n",
        "from nolitsa.nolitsa import lyapunov, utils, delay, dimension\n",
        "from scipy.spatial import cKDTree as KDTree\n",
        "import os"
      ],
      "execution_count": null,
      "outputs": []
    },
    {
      "cell_type": "markdown",
      "metadata": {
        "id": "4qk6u4lmdMs4",
        "colab_type": "text"
      },
      "source": [
        "- Define some useful functions"
      ]
    },
    {
      "cell_type": "code",
      "metadata": {
        "id": "016c2K-udAVJ",
        "colab_type": "code",
        "colab": {}
      },
      "source": [
        "# Utility Functions\n",
        "def txt_to_arr(filepath_in):\n",
        "    '''\n",
        "    Function : Takes the relative file path and read the *.txt file mentioned in the path and\n",
        "    gives an numpy array as output.\n",
        "    Input : filepath\n",
        "    Output : Numpy array containing the single column signal inside the txt file\n",
        "    Use the following file format\n",
        "    filepath = '/content/drive/My Drive/Sleep data/Amit Agrahari/C3 - 14.04.2014.txt'\n",
        "    txt_to_mat(filepath)\n",
        "    '''\n",
        "    df = pd.read_csv(filepath_in,header=None,encoding= 'unicode_escape')\n",
        "    df = df[6:]\n",
        "    arr = np.squeeze(df.to_numpy(),axis = 1)\n",
        "    arr = arr.astype(float)\n",
        "    print(\"Length of data : \", len(arr))\n",
        "    return arr\n",
        "def read_sleep_profile(filename):\n",
        "  profile = []\n",
        "  with open(filename) as f:\n",
        "    for row in f:\n",
        "      profile.append(row.split(';'))\n",
        "\n",
        "  profile = profile[7:]\n",
        "  pr = []\n",
        "  for i in range(len(profile)):\n",
        "    pr.append(profile[i][1][:-1])\n",
        "\n",
        "  pr = np.asarray(pr)\n",
        "  return pr\n",
        "\n",
        "def find_area(x,x1, dim = [6], tau = 10):\n",
        "  #r = delay.acorr(x, maxtau=50)\n",
        "  #tau = np.argmax(r < 1.0 / np.e)\n",
        "  data1 = np.asarray([utils.reconstruct(x, dim=d, tau=tau) for d in dim], dtype = float)\n",
        "  data1 = np.squeeze(data1)\n",
        "  data2 = np.asarray([utils.reconstruct(x1, dim=d, tau=tau) for d in dim], dtype = float)\n",
        "  data2 = np.squeeze(data2)\n",
        "  tree = KDTree(data1)\n",
        "  j = 1 # index of the point whose nearest neighbor is taken into study\n",
        "  for i in range(2, 23):\n",
        "    dist, index = tree.query(data1[j], k = i, p =2) # p=2 for euclidean distance\n",
        "\n",
        "  # So point with index 1 and 4477 can be taken as the two point in closest trajectories \n",
        "  #(Considering the Theiler wondow; as 4477 is greater than the theiler window)\n",
        "  # Finding the amplification upto next 1000 points in each\n",
        "  A = np.array([],dtype = float)\n",
        "  d0 = dist[1]\n",
        "  A = np.append(A,d0)\n",
        "  for i in range(1,3000):\n",
        "    d1 = np.asarray(euclidean_distance(data2[j+i],data2[index[1]+i]), dtype = float)\n",
        "    A = np.append(A,d1)\n",
        "\n",
        "  # Plotting the histogram\n",
        "  plt.figure(2)\n",
        "  n, bins = np.histogram(A, bins=100)\n",
        "  area = sum(np.diff(bins)*n)\n",
        "  return area\n",
        "\n",
        "def euclidean_distance(x,y):\n",
        "  return np.sqrt((x[0]-y[0])**2+(x[1]-y[1])**2+(x[2]-y[2])**2)\n",
        "\n",
        "def best_fit_slope(xs,ys):\n",
        "    m = (((np.mean(xs)*np.mean(ys)) - np.mean(xs*ys)) /\n",
        "         ((np.mean(xs)**2) - np.mean(xs**2)))\n",
        "    return m\n"
      ],
      "execution_count": null,
      "outputs": []
    },
    {
      "cell_type": "markdown",
      "metadata": {
        "id": "0U49KGoMeCxU",
        "colab_type": "text"
      },
      "source": [
        "- Initialize the time delay and embedding dimension value to some particular value\n"
      ]
    },
    {
      "cell_type": "code",
      "metadata": {
        "id": "QYL_Q6LveKGJ",
        "colab_type": "code",
        "colab": {}
      },
      "source": [
        "tau = 20\n",
        "dim = 5"
      ],
      "execution_count": null,
      "outputs": []
    },
    {
      "cell_type": "markdown",
      "metadata": {
        "id": "tGKEXr6LeYRZ",
        "colab_type": "text"
      },
      "source": [
        "# Extracting Features from Vinod Grover Data"
      ]
    },
    {
      "cell_type": "markdown",
      "metadata": {
        "id": "HtdxO7xjdaBR",
        "colab_type": "text"
      },
      "source": [
        "- Change directory to Vinod Grover directory"
      ]
    },
    {
      "cell_type": "code",
      "metadata": {
        "id": "CqUTz8MwdhGt",
        "colab_type": "code",
        "colab": {
          "base_uri": "https://localhost:8080/",
          "height": 34
        },
        "outputId": "67f67ad0-4f5a-4c52-d2e2-35218b6f5482"
      },
      "source": [
        "cd Sleep data/Vinod Grover"
      ],
      "execution_count": null,
      "outputs": [
        {
          "output_type": "stream",
          "text": [
            "/content/drive/My Drive/Sleep data/Vinod Grover\n"
          ],
          "name": "stdout"
        }
      ]
    },
    {
      "cell_type": "markdown",
      "metadata": {
        "id": "bdFFEyRkdndq",
        "colab_type": "text"
      },
      "source": [
        "- Read the C3, O2, F3 and ECG channel from a csv file"
      ]
    },
    {
      "cell_type": "code",
      "metadata": {
        "id": "prjUEn4adlbI",
        "colab_type": "code",
        "colab": {
          "base_uri": "https://localhost:8080/",
          "height": 204
        },
        "outputId": "ab63307c-236a-4a6b-c2a1-32ad4a39315d"
      },
      "source": [
        "df = pd.read_csv(\"C3_O2_F3_ECG_Vinod_Grover.csv\")\n",
        "df.head()"
      ],
      "execution_count": null,
      "outputs": [
        {
          "output_type": "execute_result",
          "data": {
            "text/html": [
              "<div>\n",
              "<style scoped>\n",
              "    .dataframe tbody tr th:only-of-type {\n",
              "        vertical-align: middle;\n",
              "    }\n",
              "\n",
              "    .dataframe tbody tr th {\n",
              "        vertical-align: top;\n",
              "    }\n",
              "\n",
              "    .dataframe thead th {\n",
              "        text-align: right;\n",
              "    }\n",
              "</style>\n",
              "<table border=\"1\" class=\"dataframe\">\n",
              "  <thead>\n",
              "    <tr style=\"text-align: right;\">\n",
              "      <th></th>\n",
              "      <th>C3</th>\n",
              "      <th>O2</th>\n",
              "      <th>F3</th>\n",
              "      <th>ECG</th>\n",
              "    </tr>\n",
              "  </thead>\n",
              "  <tbody>\n",
              "    <tr>\n",
              "      <th>0</th>\n",
              "      <td>-0.012207</td>\n",
              "      <td>-0.012207</td>\n",
              "      <td>-0.012207</td>\n",
              "      <td>0.036622</td>\n",
              "    </tr>\n",
              "    <tr>\n",
              "      <th>1</th>\n",
              "      <td>-0.012207</td>\n",
              "      <td>-0.012207</td>\n",
              "      <td>-0.012207</td>\n",
              "      <td>0.036622</td>\n",
              "    </tr>\n",
              "    <tr>\n",
              "      <th>2</th>\n",
              "      <td>-0.012207</td>\n",
              "      <td>-0.012207</td>\n",
              "      <td>-0.012207</td>\n",
              "      <td>0.036622</td>\n",
              "    </tr>\n",
              "    <tr>\n",
              "      <th>3</th>\n",
              "      <td>-0.012207</td>\n",
              "      <td>-0.012207</td>\n",
              "      <td>-0.012207</td>\n",
              "      <td>0.036622</td>\n",
              "    </tr>\n",
              "    <tr>\n",
              "      <th>4</th>\n",
              "      <td>-0.012207</td>\n",
              "      <td>-0.012207</td>\n",
              "      <td>-0.012207</td>\n",
              "      <td>0.036622</td>\n",
              "    </tr>\n",
              "  </tbody>\n",
              "</table>\n",
              "</div>"
            ],
            "text/plain": [
              "         C3        O2        F3       ECG\n",
              "0 -0.012207 -0.012207 -0.012207  0.036622\n",
              "1 -0.012207 -0.012207 -0.012207  0.036622\n",
              "2 -0.012207 -0.012207 -0.012207  0.036622\n",
              "3 -0.012207 -0.012207 -0.012207  0.036622\n",
              "4 -0.012207 -0.012207 -0.012207  0.036622"
            ]
          },
          "metadata": {
            "tags": []
          },
          "execution_count": 5
        }
      ]
    },
    {
      "cell_type": "markdown",
      "metadata": {
        "id": "tfzOJE3Bd6m9",
        "colab_type": "text"
      },
      "source": [
        "- Extract each channels to a python variable and see the length"
      ]
    },
    {
      "cell_type": "code",
      "metadata": {
        "id": "1JX0DIwKdzE7",
        "colab_type": "code",
        "colab": {
          "base_uri": "https://localhost:8080/",
          "height": 34
        },
        "outputId": "f0a37cd2-036f-493c-fea8-189cb6c9342d"
      },
      "source": [
        "C3 = df.C3.values\n",
        "O2 = df.O2.values\n",
        "F3 = df.F3.values\n",
        "ECG = df.ECG.values\n",
        "len(C3), len(O2), len(F3), len(ECG)"
      ],
      "execution_count": null,
      "outputs": [
        {
          "output_type": "execute_result",
          "data": {
            "text/plain": [
              "(7480064, 7480064, 7480064, 7480064)"
            ]
          },
          "metadata": {
            "tags": []
          },
          "execution_count": 6
        }
      ]
    },
    {
      "cell_type": "markdown",
      "metadata": {
        "id": "IJ5mNsUGefvB",
        "colab_type": "text"
      },
      "source": [
        "## Reading the Sleep profile"
      ]
    },
    {
      "cell_type": "code",
      "metadata": {
        "id": "DVuxPNSzen_a",
        "colab_type": "code",
        "colab": {
          "base_uri": "https://localhost:8080/",
          "height": 34
        },
        "outputId": "0ccd1669-ca34-41cf-d381-f1f7dc55327e"
      },
      "source": [
        "# Reading the sleep profile\n",
        "filename = 'Sleep profile.txt'\n",
        "profile = read_sleep_profile(filename)\n",
        "len(profile)"
      ],
      "execution_count": null,
      "outputs": [
        {
          "output_type": "execute_result",
          "data": {
            "text/plain": [
              "975"
            ]
          },
          "metadata": {
            "tags": []
          },
          "execution_count": 8
        }
      ]
    },
    {
      "cell_type": "code",
      "metadata": {
        "id": "t-dwU0c2erL9",
        "colab_type": "code",
        "colab": {
          "base_uri": "https://localhost:8080/",
          "height": 34
        },
        "outputId": "95d8b3fa-a29e-4add-9876-1bc8064a0423"
      },
      "source": [
        "profile[:5]"
      ],
      "execution_count": null,
      "outputs": [
        {
          "output_type": "execute_result",
          "data": {
            "text/plain": [
              "array([' A', ' Wake', ' Wake', ' Wake', ' Wake'], dtype='<U5')"
            ]
          },
          "metadata": {
            "tags": []
          },
          "execution_count": 9
        }
      ]
    },
    {
      "cell_type": "code",
      "metadata": {
        "id": "PlSpREMkeuuY",
        "colab_type": "code",
        "colab": {
          "base_uri": "https://localhost:8080/",
          "height": 34
        },
        "outputId": "39810e33-86ee-4bca-cdf3-6395f7cd2f38"
      },
      "source": [
        "set(profile)"
      ],
      "execution_count": null,
      "outputs": [
        {
          "output_type": "execute_result",
          "data": {
            "text/plain": [
              "{' A', ' N1', ' N2', ' N3', ' N4', ' REM', ' Wake'}"
            ]
          },
          "metadata": {
            "tags": []
          },
          "execution_count": 10
        }
      ]
    },
    {
      "cell_type": "code",
      "metadata": {
        "id": "7Snh_sqlexUu",
        "colab_type": "code",
        "colab": {
          "base_uri": "https://localhost:8080/",
          "height": 136
        },
        "outputId": "ccdf11df-0a4d-475e-e27d-f5c88e11b038"
      },
      "source": [
        "[np.sum(profile == ' A')/len(profile), np.sum(profile == ' N1')/len(profile),np.sum(profile == ' N2')/len(profile),\n",
        "np.sum(profile == ' N3')/len(profile), np.sum(profile == ' N4')/len(profile), np.sum(profile == ' REM')/len(profile),\n",
        "np.sum(profile == ' Wake')/len(profile)]"
      ],
      "execution_count": null,
      "outputs": [
        {
          "output_type": "execute_result",
          "data": {
            "text/plain": [
              "[0.0020512820512820513,\n",
              " 0.32,\n",
              " 0.27487179487179486,\n",
              " 0.021538461538461538,\n",
              " 0.005128205128205128,\n",
              " 0.024615384615384615,\n",
              " 0.3517948717948718]"
            ]
          },
          "metadata": {
            "tags": []
          },
          "execution_count": 11
        }
      ]
    },
    {
      "cell_type": "code",
      "metadata": {
        "id": "yQD1GeeBe0h9",
        "colab_type": "code",
        "colab": {}
      },
      "source": [
        "profile[profile == ' A'] = 0\n",
        "profile[profile == ' N1'] = 1\n",
        "profile[profile == ' N2'] = 2\n",
        "profile[profile == ' N3'] = 3\n",
        "profile[profile == ' N4'] = 4\n",
        "profile[profile == ' REM'] = 5\n",
        "profile[profile == ' Wake'] = 6\n",
        "profile"
      ],
      "execution_count": null,
      "outputs": []
    },
    {
      "cell_type": "code",
      "metadata": {
        "id": "Dgd6iVXMe5Zr",
        "colab_type": "code",
        "colab": {
          "base_uri": "https://localhost:8080/",
          "height": 34
        },
        "outputId": "9173bb97-7185-4739-d171-471dba0bb3a1"
      },
      "source": [
        "len(profile)"
      ],
      "execution_count": null,
      "outputs": [
        {
          "output_type": "execute_result",
          "data": {
            "text/plain": [
              "975"
            ]
          },
          "metadata": {
            "tags": []
          },
          "execution_count": 13
        }
      ]
    },
    {
      "cell_type": "markdown",
      "metadata": {
        "id": "o1TawhH2e_wZ",
        "colab_type": "text"
      },
      "source": [
        "## Extracting Features from C3 channel and storing it in a dataframe ar_label\n"
      ]
    },
    {
      "cell_type": "code",
      "metadata": {
        "id": "QuAJxwXTfGtf",
        "colab_type": "code",
        "colab": {
          "base_uri": "https://localhost:8080/",
          "height": 238
        },
        "outputId": "2604fd45-dcf6-450f-cfba-6fac2a8c6c93"
      },
      "source": [
        "C3 = C3/max(C3)\n",
        "area_C3 = np.array([], dtype = float)\n",
        "for i in range(int(len(C3)/7680)-1):\n",
        "  #print(i)\n",
        "  x = C3[i*7680:i*7680+7680]\n",
        "  x1 = C3[i*7680:i*7680+2*7680]\n",
        "  #print(x)\n",
        "  ar = np.asarray([find_area(x,x1, dim = [dim], tau = tau)],dtype=float)\n",
        "  area_C3 = np.append(area_C3,ar)\n",
        "print(len(area_C3))\n",
        "ar_label = pd.DataFrame({'area_C3':area_C3})\n",
        "ar_label.head()"
      ],
      "execution_count": null,
      "outputs": [
        {
          "output_type": "stream",
          "text": [
            "972\n"
          ],
          "name": "stdout"
        },
        {
          "output_type": "execute_result",
          "data": {
            "text/html": [
              "<div>\n",
              "<style scoped>\n",
              "    .dataframe tbody tr th:only-of-type {\n",
              "        vertical-align: middle;\n",
              "    }\n",
              "\n",
              "    .dataframe tbody tr th {\n",
              "        vertical-align: top;\n",
              "    }\n",
              "\n",
              "    .dataframe thead th {\n",
              "        text-align: right;\n",
              "    }\n",
              "</style>\n",
              "<table border=\"1\" class=\"dataframe\">\n",
              "  <thead>\n",
              "    <tr style=\"text-align: right;\">\n",
              "      <th></th>\n",
              "      <th>area_C3</th>\n",
              "    </tr>\n",
              "  </thead>\n",
              "  <tbody>\n",
              "    <tr>\n",
              "      <th>0</th>\n",
              "      <td>30.000000</td>\n",
              "    </tr>\n",
              "    <tr>\n",
              "      <th>1</th>\n",
              "      <td>3.010115</td>\n",
              "    </tr>\n",
              "    <tr>\n",
              "      <th>2</th>\n",
              "      <td>2.448438</td>\n",
              "    </tr>\n",
              "    <tr>\n",
              "      <th>3</th>\n",
              "      <td>1.399680</td>\n",
              "    </tr>\n",
              "    <tr>\n",
              "      <th>4</th>\n",
              "      <td>0.310114</td>\n",
              "    </tr>\n",
              "  </tbody>\n",
              "</table>\n",
              "</div>"
            ],
            "text/plain": [
              "     area_C3\n",
              "0  30.000000\n",
              "1   3.010115\n",
              "2   2.448438\n",
              "3   1.399680\n",
              "4   0.310114"
            ]
          },
          "metadata": {
            "tags": []
          },
          "execution_count": 18
        },
        {
          "output_type": "display_data",
          "data": {
            "text/plain": [
              "<Figure size 432x288 with 0 Axes>"
            ]
          },
          "metadata": {
            "tags": []
          }
        }
      ]
    },
    {
      "cell_type": "markdown",
      "metadata": {
        "id": "P87fyP6wfhh4",
        "colab_type": "text"
      },
      "source": [
        "## Extracting Features from O2 channel and storing it in ar_label"
      ]
    },
    {
      "cell_type": "code",
      "metadata": {
        "id": "njnTM4I0fqAt",
        "colab_type": "code",
        "colab": {
          "base_uri": "https://localhost:8080/",
          "height": 238
        },
        "outputId": "abc36d5a-5d4f-411f-d3bc-39c5ab3502cf"
      },
      "source": [
        "O2 = O2/max(O2)\n",
        "area_O2 = np.array([], dtype = float)\n",
        "for i in range(int(len(O2)/7680)-1):\n",
        "  #print(i)\n",
        "  x = O2[i*7680:i*7680+7680]\n",
        "  x1 = O2[i*7680:i*7680+2*7680]\n",
        "  #print(x)\n",
        "  ar = np.asarray([find_area(x,x1, dim = [dim], tau = tau)],dtype=float)\n",
        "  area_O2 = np.append(area_O2,ar)\n",
        "print(len(area_O2))\n",
        "ar_label['area_O2'] = area_O2\n",
        "ar_label.head()"
      ],
      "execution_count": null,
      "outputs": [
        {
          "output_type": "stream",
          "text": [
            "972\n"
          ],
          "name": "stdout"
        },
        {
          "output_type": "execute_result",
          "data": {
            "text/html": [
              "<div>\n",
              "<style scoped>\n",
              "    .dataframe tbody tr th:only-of-type {\n",
              "        vertical-align: middle;\n",
              "    }\n",
              "\n",
              "    .dataframe tbody tr th {\n",
              "        vertical-align: top;\n",
              "    }\n",
              "\n",
              "    .dataframe thead th {\n",
              "        text-align: right;\n",
              "    }\n",
              "</style>\n",
              "<table border=\"1\" class=\"dataframe\">\n",
              "  <thead>\n",
              "    <tr style=\"text-align: right;\">\n",
              "      <th></th>\n",
              "      <th>area_C3</th>\n",
              "      <th>area_O2</th>\n",
              "    </tr>\n",
              "  </thead>\n",
              "  <tbody>\n",
              "    <tr>\n",
              "      <th>0</th>\n",
              "      <td>30.000000</td>\n",
              "      <td>30.000000</td>\n",
              "    </tr>\n",
              "    <tr>\n",
              "      <th>1</th>\n",
              "      <td>3.010115</td>\n",
              "      <td>16.586917</td>\n",
              "    </tr>\n",
              "    <tr>\n",
              "      <th>2</th>\n",
              "      <td>2.448438</td>\n",
              "      <td>0.349703</td>\n",
              "    </tr>\n",
              "    <tr>\n",
              "      <th>3</th>\n",
              "      <td>1.399680</td>\n",
              "      <td>2.129442</td>\n",
              "    </tr>\n",
              "    <tr>\n",
              "      <th>4</th>\n",
              "      <td>0.310114</td>\n",
              "      <td>2.099614</td>\n",
              "    </tr>\n",
              "  </tbody>\n",
              "</table>\n",
              "</div>"
            ],
            "text/plain": [
              "     area_C3    area_O2\n",
              "0  30.000000  30.000000\n",
              "1   3.010115  16.586917\n",
              "2   2.448438   0.349703\n",
              "3   1.399680   2.129442\n",
              "4   0.310114   2.099614"
            ]
          },
          "metadata": {
            "tags": []
          },
          "execution_count": 19
        },
        {
          "output_type": "display_data",
          "data": {
            "text/plain": [
              "<Figure size 432x288 with 0 Axes>"
            ]
          },
          "metadata": {
            "tags": []
          }
        }
      ]
    },
    {
      "cell_type": "markdown",
      "metadata": {
        "id": "1HVHeaDyhH07",
        "colab_type": "text"
      },
      "source": [
        "## Extracting Features from F3 channel"
      ]
    },
    {
      "cell_type": "code",
      "metadata": {
        "id": "CYqs1eVkhMR9",
        "colab_type": "code",
        "colab": {
          "base_uri": "https://localhost:8080/",
          "height": 238
        },
        "outputId": "8483f3d4-106b-4a56-e55d-0e5ed35d604a"
      },
      "source": [
        "F3 = F3/max(F3)\n",
        "area_F3 = np.array([], dtype = float)\n",
        "for i in range(int(len(F3)/7680)-1):\n",
        "  #print(i)\n",
        "  x = F3[i*7680:i*7680+7680]\n",
        "  x1 = F3[i*7680:i*7680+2*7680]\n",
        "  #print(x)\n",
        "  ar = np.asarray([find_area(x,x1, dim = [dim], tau = tau)],dtype=float)\n",
        "  area_F3 = np.append(area_F3,ar)\n",
        "print(len(area_F3))\n",
        "ar_label['area_F3'] = area_F3\n",
        "ar_label.head()"
      ],
      "execution_count": null,
      "outputs": [
        {
          "output_type": "stream",
          "text": [
            "972\n"
          ],
          "name": "stdout"
        },
        {
          "output_type": "execute_result",
          "data": {
            "text/html": [
              "<div>\n",
              "<style scoped>\n",
              "    .dataframe tbody tr th:only-of-type {\n",
              "        vertical-align: middle;\n",
              "    }\n",
              "\n",
              "    .dataframe tbody tr th {\n",
              "        vertical-align: top;\n",
              "    }\n",
              "\n",
              "    .dataframe thead th {\n",
              "        text-align: right;\n",
              "    }\n",
              "</style>\n",
              "<table border=\"1\" class=\"dataframe\">\n",
              "  <thead>\n",
              "    <tr style=\"text-align: right;\">\n",
              "      <th></th>\n",
              "      <th>area_C3</th>\n",
              "      <th>area_O2</th>\n",
              "      <th>area_F3</th>\n",
              "    </tr>\n",
              "  </thead>\n",
              "  <tbody>\n",
              "    <tr>\n",
              "      <th>0</th>\n",
              "      <td>30.000000</td>\n",
              "      <td>30.000000</td>\n",
              "      <td>30.000000</td>\n",
              "    </tr>\n",
              "    <tr>\n",
              "      <th>1</th>\n",
              "      <td>3.010115</td>\n",
              "      <td>16.586917</td>\n",
              "      <td>3.570716</td>\n",
              "    </tr>\n",
              "    <tr>\n",
              "      <th>2</th>\n",
              "      <td>2.448438</td>\n",
              "      <td>0.349703</td>\n",
              "      <td>3.588676</td>\n",
              "    </tr>\n",
              "    <tr>\n",
              "      <th>3</th>\n",
              "      <td>1.399680</td>\n",
              "      <td>2.129442</td>\n",
              "      <td>0.243728</td>\n",
              "    </tr>\n",
              "    <tr>\n",
              "      <th>4</th>\n",
              "      <td>0.310114</td>\n",
              "      <td>2.099614</td>\n",
              "      <td>2.517491</td>\n",
              "    </tr>\n",
              "  </tbody>\n",
              "</table>\n",
              "</div>"
            ],
            "text/plain": [
              "     area_C3    area_O2    area_F3\n",
              "0  30.000000  30.000000  30.000000\n",
              "1   3.010115  16.586917   3.570716\n",
              "2   2.448438   0.349703   3.588676\n",
              "3   1.399680   2.129442   0.243728\n",
              "4   0.310114   2.099614   2.517491"
            ]
          },
          "metadata": {
            "tags": []
          },
          "execution_count": 20
        },
        {
          "output_type": "display_data",
          "data": {
            "text/plain": [
              "<Figure size 432x288 with 0 Axes>"
            ]
          },
          "metadata": {
            "tags": []
          }
        }
      ]
    },
    {
      "cell_type": "markdown",
      "metadata": {
        "id": "C1LOAGpujJp4",
        "colab_type": "text"
      },
      "source": [
        "## Extracting Features from ECG channel\n"
      ]
    },
    {
      "cell_type": "code",
      "metadata": {
        "id": "Zkhml0fWjQXm",
        "colab_type": "code",
        "colab": {
          "base_uri": "https://localhost:8080/",
          "height": 238
        },
        "outputId": "14518e84-558c-4379-f14b-504d9e24d358"
      },
      "source": [
        "ECG = ECG/max(ECG)\n",
        "area_ECG = np.array([], dtype = float)\n",
        "for i in range(int(len(ECG)/7680)-1):\n",
        "  #print(i)\n",
        "  x = ECG[i*7680:i*7680+7680]\n",
        "  x1 = ECG[i*7680:i*7680+2*7680]\n",
        "  #print(x)\n",
        "  ar = np.asarray([find_area(x,x1, dim = [dim], tau = tau)],dtype=float)\n",
        "  area_ECG = np.append(area_ECG,ar)\n",
        "print(len(area_ECG))\n",
        "ar_label['area_ECG'] = area_ECG\n",
        "ar_label.head()"
      ],
      "execution_count": null,
      "outputs": [
        {
          "output_type": "stream",
          "text": [
            "972\n"
          ],
          "name": "stdout"
        },
        {
          "output_type": "execute_result",
          "data": {
            "text/html": [
              "<div>\n",
              "<style scoped>\n",
              "    .dataframe tbody tr th:only-of-type {\n",
              "        vertical-align: middle;\n",
              "    }\n",
              "\n",
              "    .dataframe tbody tr th {\n",
              "        vertical-align: top;\n",
              "    }\n",
              "\n",
              "    .dataframe thead th {\n",
              "        text-align: right;\n",
              "    }\n",
              "</style>\n",
              "<table border=\"1\" class=\"dataframe\">\n",
              "  <thead>\n",
              "    <tr style=\"text-align: right;\">\n",
              "      <th></th>\n",
              "      <th>area_C3</th>\n",
              "      <th>area_O2</th>\n",
              "      <th>area_F3</th>\n",
              "      <th>area_ECG</th>\n",
              "    </tr>\n",
              "  </thead>\n",
              "  <tbody>\n",
              "    <tr>\n",
              "      <th>0</th>\n",
              "      <td>30.000000</td>\n",
              "      <td>30.000000</td>\n",
              "      <td>30.000000</td>\n",
              "      <td>30.000000</td>\n",
              "    </tr>\n",
              "    <tr>\n",
              "      <th>1</th>\n",
              "      <td>3.010115</td>\n",
              "      <td>16.586917</td>\n",
              "      <td>3.570716</td>\n",
              "      <td>11.843110</td>\n",
              "    </tr>\n",
              "    <tr>\n",
              "      <th>2</th>\n",
              "      <td>2.448438</td>\n",
              "      <td>0.349703</td>\n",
              "      <td>3.588676</td>\n",
              "      <td>10.811324</td>\n",
              "    </tr>\n",
              "    <tr>\n",
              "      <th>3</th>\n",
              "      <td>1.399680</td>\n",
              "      <td>2.129442</td>\n",
              "      <td>0.243728</td>\n",
              "      <td>6.099449</td>\n",
              "    </tr>\n",
              "    <tr>\n",
              "      <th>4</th>\n",
              "      <td>0.310114</td>\n",
              "      <td>2.099614</td>\n",
              "      <td>2.517491</td>\n",
              "      <td>11.527038</td>\n",
              "    </tr>\n",
              "  </tbody>\n",
              "</table>\n",
              "</div>"
            ],
            "text/plain": [
              "     area_C3    area_O2    area_F3   area_ECG\n",
              "0  30.000000  30.000000  30.000000  30.000000\n",
              "1   3.010115  16.586917   3.570716  11.843110\n",
              "2   2.448438   0.349703   3.588676  10.811324\n",
              "3   1.399680   2.129442   0.243728   6.099449\n",
              "4   0.310114   2.099614   2.517491  11.527038"
            ]
          },
          "metadata": {
            "tags": []
          },
          "execution_count": 21
        },
        {
          "output_type": "display_data",
          "data": {
            "text/plain": [
              "<Figure size 432x288 with 0 Axes>"
            ]
          },
          "metadata": {
            "tags": []
          }
        }
      ]
    },
    {
      "cell_type": "markdown",
      "metadata": {
        "id": "2F3WsTHKyQaC",
        "colab_type": "text"
      },
      "source": [
        "- Adding the profile column"
      ]
    },
    {
      "cell_type": "code",
      "metadata": {
        "id": "j8FbyRbqyT-j",
        "colab_type": "code",
        "colab": {
          "base_uri": "https://localhost:8080/",
          "height": 34
        },
        "outputId": "2295ead3-814c-4822-e3c4-2c5375c14de0"
      },
      "source": [
        "len(profile[:-3])"
      ],
      "execution_count": null,
      "outputs": [
        {
          "output_type": "execute_result",
          "data": {
            "text/plain": [
              "972"
            ]
          },
          "metadata": {
            "tags": []
          },
          "execution_count": 22
        }
      ]
    },
    {
      "cell_type": "code",
      "metadata": {
        "id": "I0Do9VyXyXM9",
        "colab_type": "code",
        "colab": {
          "base_uri": "https://localhost:8080/",
          "height": 204
        },
        "outputId": "fe6f2f98-9bb1-4ee0-eba3-079f6f6efe4a"
      },
      "source": [
        "# Adding the label\n",
        "ar_label['label'] = profile[:-3]\n",
        "ar_label.head()"
      ],
      "execution_count": null,
      "outputs": [
        {
          "output_type": "execute_result",
          "data": {
            "text/html": [
              "<div>\n",
              "<style scoped>\n",
              "    .dataframe tbody tr th:only-of-type {\n",
              "        vertical-align: middle;\n",
              "    }\n",
              "\n",
              "    .dataframe tbody tr th {\n",
              "        vertical-align: top;\n",
              "    }\n",
              "\n",
              "    .dataframe thead th {\n",
              "        text-align: right;\n",
              "    }\n",
              "</style>\n",
              "<table border=\"1\" class=\"dataframe\">\n",
              "  <thead>\n",
              "    <tr style=\"text-align: right;\">\n",
              "      <th></th>\n",
              "      <th>area_C3</th>\n",
              "      <th>area_O2</th>\n",
              "      <th>area_F3</th>\n",
              "      <th>area_ECG</th>\n",
              "      <th>label</th>\n",
              "    </tr>\n",
              "  </thead>\n",
              "  <tbody>\n",
              "    <tr>\n",
              "      <th>0</th>\n",
              "      <td>30.000000</td>\n",
              "      <td>30.000000</td>\n",
              "      <td>30.000000</td>\n",
              "      <td>30.000000</td>\n",
              "      <td>0</td>\n",
              "    </tr>\n",
              "    <tr>\n",
              "      <th>1</th>\n",
              "      <td>3.010115</td>\n",
              "      <td>16.586917</td>\n",
              "      <td>3.570716</td>\n",
              "      <td>11.843110</td>\n",
              "      <td>6</td>\n",
              "    </tr>\n",
              "    <tr>\n",
              "      <th>2</th>\n",
              "      <td>2.448438</td>\n",
              "      <td>0.349703</td>\n",
              "      <td>3.588676</td>\n",
              "      <td>10.811324</td>\n",
              "      <td>6</td>\n",
              "    </tr>\n",
              "    <tr>\n",
              "      <th>3</th>\n",
              "      <td>1.399680</td>\n",
              "      <td>2.129442</td>\n",
              "      <td>0.243728</td>\n",
              "      <td>6.099449</td>\n",
              "      <td>6</td>\n",
              "    </tr>\n",
              "    <tr>\n",
              "      <th>4</th>\n",
              "      <td>0.310114</td>\n",
              "      <td>2.099614</td>\n",
              "      <td>2.517491</td>\n",
              "      <td>11.527038</td>\n",
              "      <td>6</td>\n",
              "    </tr>\n",
              "  </tbody>\n",
              "</table>\n",
              "</div>"
            ],
            "text/plain": [
              "     area_C3    area_O2    area_F3   area_ECG label\n",
              "0  30.000000  30.000000  30.000000  30.000000     0\n",
              "1   3.010115  16.586917   3.570716  11.843110     6\n",
              "2   2.448438   0.349703   3.588676  10.811324     6\n",
              "3   1.399680   2.129442   0.243728   6.099449     6\n",
              "4   0.310114   2.099614   2.517491  11.527038     6"
            ]
          },
          "metadata": {
            "tags": []
          },
          "execution_count": 23
        }
      ]
    },
    {
      "cell_type": "code",
      "metadata": {
        "id": "4f7YrGQKybBa",
        "colab_type": "code",
        "colab": {}
      },
      "source": [
        "ar_label.to_csv('Feature_C3_O2_F3_label_Vinod_constant_tau_dim.csv', index = False)"
      ],
      "execution_count": null,
      "outputs": []
    },
    {
      "cell_type": "code",
      "metadata": {
        "id": "OahRkW-8yj3Q",
        "colab_type": "code",
        "colab": {
          "base_uri": "https://localhost:8080/",
          "height": 419
        },
        "outputId": "feae2cf8-1d4c-4e67-ac51-67b551a8725f"
      },
      "source": [
        "df2 = pd.read_csv('Feature_C3_O2_F3_label_Vinod_constant_tau_dim.csv')\n",
        "df2"
      ],
      "execution_count": null,
      "outputs": [
        {
          "output_type": "execute_result",
          "data": {
            "text/html": [
              "<div>\n",
              "<style scoped>\n",
              "    .dataframe tbody tr th:only-of-type {\n",
              "        vertical-align: middle;\n",
              "    }\n",
              "\n",
              "    .dataframe tbody tr th {\n",
              "        vertical-align: top;\n",
              "    }\n",
              "\n",
              "    .dataframe thead th {\n",
              "        text-align: right;\n",
              "    }\n",
              "</style>\n",
              "<table border=\"1\" class=\"dataframe\">\n",
              "  <thead>\n",
              "    <tr style=\"text-align: right;\">\n",
              "      <th></th>\n",
              "      <th>area_C3</th>\n",
              "      <th>area_O2</th>\n",
              "      <th>area_F3</th>\n",
              "      <th>area_ECG</th>\n",
              "      <th>label</th>\n",
              "    </tr>\n",
              "  </thead>\n",
              "  <tbody>\n",
              "    <tr>\n",
              "      <th>0</th>\n",
              "      <td>30.000000</td>\n",
              "      <td>30.000000</td>\n",
              "      <td>30.000000</td>\n",
              "      <td>30.000000</td>\n",
              "      <td>0</td>\n",
              "    </tr>\n",
              "    <tr>\n",
              "      <th>1</th>\n",
              "      <td>3.010115</td>\n",
              "      <td>16.586917</td>\n",
              "      <td>3.570716</td>\n",
              "      <td>11.843110</td>\n",
              "      <td>6</td>\n",
              "    </tr>\n",
              "    <tr>\n",
              "      <th>2</th>\n",
              "      <td>2.448438</td>\n",
              "      <td>0.349703</td>\n",
              "      <td>3.588676</td>\n",
              "      <td>10.811324</td>\n",
              "      <td>6</td>\n",
              "    </tr>\n",
              "    <tr>\n",
              "      <th>3</th>\n",
              "      <td>1.399680</td>\n",
              "      <td>2.129442</td>\n",
              "      <td>0.243728</td>\n",
              "      <td>6.099449</td>\n",
              "      <td>6</td>\n",
              "    </tr>\n",
              "    <tr>\n",
              "      <th>4</th>\n",
              "      <td>0.310114</td>\n",
              "      <td>2.099614</td>\n",
              "      <td>2.517491</td>\n",
              "      <td>11.527038</td>\n",
              "      <td>6</td>\n",
              "    </tr>\n",
              "    <tr>\n",
              "      <th>...</th>\n",
              "      <td>...</td>\n",
              "      <td>...</td>\n",
              "      <td>...</td>\n",
              "      <td>...</td>\n",
              "      <td>...</td>\n",
              "    </tr>\n",
              "    <tr>\n",
              "      <th>967</th>\n",
              "      <td>0.188498</td>\n",
              "      <td>1.538036</td>\n",
              "      <td>0.205539</td>\n",
              "      <td>16.169665</td>\n",
              "      <td>1</td>\n",
              "    </tr>\n",
              "    <tr>\n",
              "      <th>968</th>\n",
              "      <td>1.025179</td>\n",
              "      <td>1.637132</td>\n",
              "      <td>0.201827</td>\n",
              "      <td>17.702024</td>\n",
              "      <td>6</td>\n",
              "    </tr>\n",
              "    <tr>\n",
              "      <th>969</th>\n",
              "      <td>0.760965</td>\n",
              "      <td>1.876240</td>\n",
              "      <td>1.507760</td>\n",
              "      <td>16.094735</td>\n",
              "      <td>1</td>\n",
              "    </tr>\n",
              "    <tr>\n",
              "      <th>970</th>\n",
              "      <td>0.860991</td>\n",
              "      <td>0.306512</td>\n",
              "      <td>1.091936</td>\n",
              "      <td>7.705208</td>\n",
              "      <td>1</td>\n",
              "    </tr>\n",
              "    <tr>\n",
              "      <th>971</th>\n",
              "      <td>1.097441</td>\n",
              "      <td>0.373524</td>\n",
              "      <td>0.180241</td>\n",
              "      <td>7.688703</td>\n",
              "      <td>6</td>\n",
              "    </tr>\n",
              "  </tbody>\n",
              "</table>\n",
              "<p>972 rows × 5 columns</p>\n",
              "</div>"
            ],
            "text/plain": [
              "       area_C3    area_O2    area_F3   area_ECG  label\n",
              "0    30.000000  30.000000  30.000000  30.000000      0\n",
              "1     3.010115  16.586917   3.570716  11.843110      6\n",
              "2     2.448438   0.349703   3.588676  10.811324      6\n",
              "3     1.399680   2.129442   0.243728   6.099449      6\n",
              "4     0.310114   2.099614   2.517491  11.527038      6\n",
              "..         ...        ...        ...        ...    ...\n",
              "967   0.188498   1.538036   0.205539  16.169665      1\n",
              "968   1.025179   1.637132   0.201827  17.702024      6\n",
              "969   0.760965   1.876240   1.507760  16.094735      1\n",
              "970   0.860991   0.306512   1.091936   7.705208      1\n",
              "971   1.097441   0.373524   0.180241   7.688703      6\n",
              "\n",
              "[972 rows x 5 columns]"
            ]
          },
          "metadata": {
            "tags": []
          },
          "execution_count": 25
        }
      ]
    },
    {
      "cell_type": "markdown",
      "metadata": {
        "id": "5PqEBbWHy0_l",
        "colab_type": "text"
      },
      "source": [
        "# Extracting Features from Anil Verma Dataset"
      ]
    },
    {
      "cell_type": "code",
      "metadata": {
        "id": "EyOeztAcyxhI",
        "colab_type": "code",
        "colab": {
          "base_uri": "https://localhost:8080/",
          "height": 34
        },
        "outputId": "fa2d4fb7-b50c-47f8-e963-831ab206a7db"
      },
      "source": [
        "cd ../Anil\\ Verma"
      ],
      "execution_count": null,
      "outputs": [
        {
          "output_type": "stream",
          "text": [
            "/content/drive/My Drive/Sleep data/Anil Verma\n"
          ],
          "name": "stdout"
        }
      ]
    },
    {
      "cell_type": "code",
      "metadata": {
        "id": "PLJltL2QzFPU",
        "colab_type": "code",
        "colab": {
          "base_uri": "https://localhost:8080/",
          "height": 204
        },
        "outputId": "59d61282-26f7-4087-85cd-e9f8e2b4bba9"
      },
      "source": [
        "df1 = pd.read_csv(\"Anil_Verma_C3_O2_F3.csv\")\n",
        "df2 = pd.read_csv(\"Anil_Verma_ECG.csv\")\n",
        "df1.head(),df2.head()"
      ],
      "execution_count": null,
      "outputs": [
        {
          "output_type": "execute_result",
          "data": {
            "text/plain": [
              "(         C3        O2        F3\n",
              " 0 -0.012207 -0.012207 -0.012207\n",
              " 1 -0.012207 -0.012207 -0.012207\n",
              " 2 -0.012207 -0.012207 -0.012207\n",
              " 3 -0.012207 -0.012207 -0.012207\n",
              " 4 -0.012207 -0.012207 -0.012207,         ECG\n",
              " 0  0.036622\n",
              " 1  0.036622\n",
              " 2  0.036622\n",
              " 3  0.036622\n",
              " 4  0.036622)"
            ]
          },
          "metadata": {
            "tags": []
          },
          "execution_count": 34
        }
      ]
    },
    {
      "cell_type": "code",
      "metadata": {
        "id": "6LZDhG4Q0LQH",
        "colab_type": "code",
        "colab": {
          "base_uri": "https://localhost:8080/",
          "height": 34
        },
        "outputId": "c9cc425e-e3e5-4f89-b5c0-ef227d2f7cee"
      },
      "source": [
        "C3 = df1.C3.values\n",
        "O2 = df1.O2.values\n",
        "F3 = df1.F3.values\n",
        "ECG = df2.ECG.values\n",
        "len(C3), len(O2), len(F3), len(ECG)"
      ],
      "execution_count": null,
      "outputs": [
        {
          "output_type": "execute_result",
          "data": {
            "text/plain": [
              "(6344704, 6344704, 6344704, 6344704)"
            ]
          },
          "metadata": {
            "tags": []
          },
          "execution_count": 35
        }
      ]
    },
    {
      "cell_type": "markdown",
      "metadata": {
        "id": "IJfnbJXcUdd1",
        "colab_type": "text"
      },
      "source": [
        "## Reading the Sleep profile\n"
      ]
    },
    {
      "cell_type": "code",
      "metadata": {
        "id": "RpodKuQZUShY",
        "colab_type": "code",
        "colab": {
          "base_uri": "https://localhost:8080/",
          "height": 34
        },
        "outputId": "e9045533-e926-4b44-e87b-aff40dc74006"
      },
      "source": [
        "# Reading the sleep profile\n",
        "filename = 'Sleep profile.txt'\n",
        "profile = read_sleep_profile(filename)\n",
        "len(profile)"
      ],
      "execution_count": null,
      "outputs": [
        {
          "output_type": "execute_result",
          "data": {
            "text/plain": [
              "827"
            ]
          },
          "metadata": {
            "tags": []
          },
          "execution_count": 46
        }
      ]
    },
    {
      "cell_type": "code",
      "metadata": {
        "id": "DBVT_Tu1UmZp",
        "colab_type": "code",
        "colab": {
          "base_uri": "https://localhost:8080/",
          "height": 34
        },
        "outputId": "1557f497-be75-4103-9d2e-011d4464bcc3"
      },
      "source": [
        "profile[:5]"
      ],
      "execution_count": null,
      "outputs": [
        {
          "output_type": "execute_result",
          "data": {
            "text/plain": [
              "array([' A', ' Wake', ' Wake', ' Wake', ' Wake'], dtype='<U9')"
            ]
          },
          "metadata": {
            "tags": []
          },
          "execution_count": 38
        }
      ]
    },
    {
      "cell_type": "code",
      "metadata": {
        "id": "UqlydOhfUr_J",
        "colab_type": "code",
        "colab": {
          "base_uri": "https://localhost:8080/",
          "height": 34
        },
        "outputId": "0a675b07-7640-41fd-fac6-80a7819a60fe"
      },
      "source": [
        "set(profile)"
      ],
      "execution_count": null,
      "outputs": [
        {
          "output_type": "execute_result",
          "data": {
            "text/plain": [
              "{' A', ' Artefact', ' N1', ' N2', ' N3', ' REM', ' Wake'}"
            ]
          },
          "metadata": {
            "tags": []
          },
          "execution_count": 39
        }
      ]
    },
    {
      "cell_type": "code",
      "metadata": {
        "id": "oMkySqAmU-Lx",
        "colab_type": "code",
        "colab": {
          "base_uri": "https://localhost:8080/",
          "height": 136
        },
        "outputId": "a8157141-cea4-4ce8-ad9b-7adb492488de"
      },
      "source": [
        "[np.sum(profile == ' Artefact')/len(profile), np.sum(profile == ' N1')/len(profile),np.sum(profile == ' N2')/len(profile),\n",
        "np.sum(profile == ' N3')/len(profile), np.sum(profile == ' N4')/len(profile), np.sum(profile == ' REM')/len(profile),\n",
        "np.sum(profile == ' Wake')/len(profile)]"
      ],
      "execution_count": null,
      "outputs": [
        {
          "output_type": "execute_result",
          "data": {
            "text/plain": [
              "[0.013301088270858524,\n",
              " 0.010882708585247884,\n",
              " 0.2370012091898428,\n",
              " 0.3567110036275695,\n",
              " 0.0,\n",
              " 0.26844014510278114,\n",
              " 0.1124546553808948]"
            ]
          },
          "metadata": {
            "tags": []
          },
          "execution_count": 44
        }
      ]
    },
    {
      "cell_type": "code",
      "metadata": {
        "id": "Rr7-L8RYVEYq",
        "colab_type": "code",
        "colab": {}
      },
      "source": [
        "profile[profile == ' Artefact'] = 0\n",
        "profile[profile == ' A'] = 0\n",
        "profile[profile == ' N1'] = 1\n",
        "profile[profile == ' N2'] = 2\n",
        "profile[profile == ' N3'] = 3\n",
        "profile[profile == ' N4'] = 4\n",
        "profile[profile == ' REM'] = 5\n",
        "profile[profile == ' Wake'] = 6\n",
        "profile"
      ],
      "execution_count": null,
      "outputs": []
    },
    {
      "cell_type": "code",
      "metadata": {
        "id": "ao1kDFcmVdq5",
        "colab_type": "code",
        "colab": {
          "base_uri": "https://localhost:8080/",
          "height": 34
        },
        "outputId": "224c5251-2d01-479e-f191-2efad62b0ead"
      },
      "source": [
        "len(profile)"
      ],
      "execution_count": null,
      "outputs": [
        {
          "output_type": "execute_result",
          "data": {
            "text/plain": [
              "827"
            ]
          },
          "metadata": {
            "tags": []
          },
          "execution_count": 48
        }
      ]
    },
    {
      "cell_type": "markdown",
      "metadata": {
        "id": "lYZQ9YHaV3XO",
        "colab_type": "text"
      },
      "source": [
        "## Extracting and storing Features from C3 channel"
      ]
    },
    {
      "cell_type": "code",
      "metadata": {
        "id": "cGXVknnTV7yv",
        "colab_type": "code",
        "colab": {
          "base_uri": "https://localhost:8080/",
          "height": 238
        },
        "outputId": "796172a7-3e8f-4a9a-fb97-a21606fd7795"
      },
      "source": [
        "C3 = C3/max(C3)\n",
        "area_C3 = np.array([], dtype = float)\n",
        "for i in range(int(len(C3)/7680)-1):\n",
        "  #print(i)\n",
        "  x = C3[i*7680:i*7680+7680]\n",
        "  x1 = C3[i*7680:i*7680+2*7680]\n",
        "  #print(x)\n",
        "  ar = np.asarray([find_area(x,x1, dim = [dim], tau = tau)],dtype=float)\n",
        "  area_C3 = np.append(area_C3,ar)\n",
        "print(len(area_C3))\n",
        "ar_label = pd.DataFrame({'area_C3':area_C3})\n",
        "ar_label.head()"
      ],
      "execution_count": null,
      "outputs": [
        {
          "output_type": "stream",
          "text": [
            "825\n"
          ],
          "name": "stdout"
        },
        {
          "output_type": "execute_result",
          "data": {
            "text/html": [
              "<div>\n",
              "<style scoped>\n",
              "    .dataframe tbody tr th:only-of-type {\n",
              "        vertical-align: middle;\n",
              "    }\n",
              "\n",
              "    .dataframe tbody tr th {\n",
              "        vertical-align: top;\n",
              "    }\n",
              "\n",
              "    .dataframe thead th {\n",
              "        text-align: right;\n",
              "    }\n",
              "</style>\n",
              "<table border=\"1\" class=\"dataframe\">\n",
              "  <thead>\n",
              "    <tr style=\"text-align: right;\">\n",
              "      <th></th>\n",
              "      <th>area_C3</th>\n",
              "    </tr>\n",
              "  </thead>\n",
              "  <tbody>\n",
              "    <tr>\n",
              "      <th>0</th>\n",
              "      <td>1.106912</td>\n",
              "    </tr>\n",
              "    <tr>\n",
              "      <th>1</th>\n",
              "      <td>2.793432</td>\n",
              "    </tr>\n",
              "    <tr>\n",
              "      <th>2</th>\n",
              "      <td>9.179584</td>\n",
              "    </tr>\n",
              "    <tr>\n",
              "      <th>3</th>\n",
              "      <td>3.146348</td>\n",
              "    </tr>\n",
              "    <tr>\n",
              "      <th>4</th>\n",
              "      <td>2.560994</td>\n",
              "    </tr>\n",
              "  </tbody>\n",
              "</table>\n",
              "</div>"
            ],
            "text/plain": [
              "    area_C3\n",
              "0  1.106912\n",
              "1  2.793432\n",
              "2  9.179584\n",
              "3  3.146348\n",
              "4  2.560994"
            ]
          },
          "metadata": {
            "tags": []
          },
          "execution_count": 49
        },
        {
          "output_type": "display_data",
          "data": {
            "text/plain": [
              "<Figure size 432x288 with 0 Axes>"
            ]
          },
          "metadata": {
            "tags": []
          }
        }
      ]
    },
    {
      "cell_type": "markdown",
      "metadata": {
        "id": "ftagoWiUWGiQ",
        "colab_type": "text"
      },
      "source": [
        "## Extracting and storing Features from O2 channel"
      ]
    },
    {
      "cell_type": "code",
      "metadata": {
        "id": "L96WkkmRWMGD",
        "colab_type": "code",
        "colab": {
          "base_uri": "https://localhost:8080/",
          "height": 238
        },
        "outputId": "14c0a407-31a2-4099-8d5e-e998648eee65"
      },
      "source": [
        "O2 = O2/max(O2)\n",
        "area_O2 = np.array([], dtype = float)\n",
        "for i in range(int(len(O2)/7680)-1):\n",
        "  #print(i)\n",
        "  x = O2[i*7680:i*7680+7680]\n",
        "  x1 = O2[i*7680:i*7680+2*7680]\n",
        "  #print(x)\n",
        "  ar = np.asarray([find_area(x,x1, dim = [dim], tau = tau)],dtype=float)\n",
        "  area_O2 = np.append(area_O2,ar)\n",
        "print(len(area_O2))\n",
        "ar_label['area_O2'] = area_O2\n",
        "ar_label.head()"
      ],
      "execution_count": null,
      "outputs": [
        {
          "output_type": "stream",
          "text": [
            "825\n"
          ],
          "name": "stdout"
        },
        {
          "output_type": "execute_result",
          "data": {
            "text/html": [
              "<div>\n",
              "<style scoped>\n",
              "    .dataframe tbody tr th:only-of-type {\n",
              "        vertical-align: middle;\n",
              "    }\n",
              "\n",
              "    .dataframe tbody tr th {\n",
              "        vertical-align: top;\n",
              "    }\n",
              "\n",
              "    .dataframe thead th {\n",
              "        text-align: right;\n",
              "    }\n",
              "</style>\n",
              "<table border=\"1\" class=\"dataframe\">\n",
              "  <thead>\n",
              "    <tr style=\"text-align: right;\">\n",
              "      <th></th>\n",
              "      <th>area_C3</th>\n",
              "      <th>area_O2</th>\n",
              "    </tr>\n",
              "  </thead>\n",
              "  <tbody>\n",
              "    <tr>\n",
              "      <th>0</th>\n",
              "      <td>1.106912</td>\n",
              "      <td>1.136696</td>\n",
              "    </tr>\n",
              "    <tr>\n",
              "      <th>1</th>\n",
              "      <td>2.793432</td>\n",
              "      <td>2.842188</td>\n",
              "    </tr>\n",
              "    <tr>\n",
              "      <th>2</th>\n",
              "      <td>9.179584</td>\n",
              "      <td>7.207367</td>\n",
              "    </tr>\n",
              "    <tr>\n",
              "      <th>3</th>\n",
              "      <td>3.146348</td>\n",
              "      <td>3.121649</td>\n",
              "    </tr>\n",
              "    <tr>\n",
              "      <th>4</th>\n",
              "      <td>2.560994</td>\n",
              "      <td>2.577528</td>\n",
              "    </tr>\n",
              "  </tbody>\n",
              "</table>\n",
              "</div>"
            ],
            "text/plain": [
              "    area_C3   area_O2\n",
              "0  1.106912  1.136696\n",
              "1  2.793432  2.842188\n",
              "2  9.179584  7.207367\n",
              "3  3.146348  3.121649\n",
              "4  2.560994  2.577528"
            ]
          },
          "metadata": {
            "tags": []
          },
          "execution_count": 50
        },
        {
          "output_type": "display_data",
          "data": {
            "text/plain": [
              "<Figure size 432x288 with 0 Axes>"
            ]
          },
          "metadata": {
            "tags": []
          }
        }
      ]
    },
    {
      "cell_type": "markdown",
      "metadata": {
        "id": "TkDcABDWWM05",
        "colab_type": "text"
      },
      "source": [
        "## Extracting and storing Features from F3 channel"
      ]
    },
    {
      "cell_type": "code",
      "metadata": {
        "id": "zId07fh5WRvR",
        "colab_type": "code",
        "colab": {
          "base_uri": "https://localhost:8080/",
          "height": 238
        },
        "outputId": "004e399a-9fd8-4f2e-a198-39c0710b441e"
      },
      "source": [
        "F3 = F3/max(F3)\n",
        "area_F3 = np.array([], dtype = float)\n",
        "for i in range(int(len(F3)/7680)-1):\n",
        "  #print(i)\n",
        "  x = F3[i*7680:i*7680+7680]\n",
        "  x1 = F3[i*7680:i*7680+2*7680]\n",
        "  #print(x)\n",
        "  ar = np.asarray([find_area(x,x1, dim = [dim], tau = tau)],dtype=float)\n",
        "  area_F3 = np.append(area_F3,ar)\n",
        "print(len(area_F3))\n",
        "ar_label['area_F3'] = area_F3\n",
        "ar_label.head()"
      ],
      "execution_count": null,
      "outputs": [
        {
          "output_type": "stream",
          "text": [
            "825\n"
          ],
          "name": "stdout"
        },
        {
          "output_type": "execute_result",
          "data": {
            "text/html": [
              "<div>\n",
              "<style scoped>\n",
              "    .dataframe tbody tr th:only-of-type {\n",
              "        vertical-align: middle;\n",
              "    }\n",
              "\n",
              "    .dataframe tbody tr th {\n",
              "        vertical-align: top;\n",
              "    }\n",
              "\n",
              "    .dataframe thead th {\n",
              "        text-align: right;\n",
              "    }\n",
              "</style>\n",
              "<table border=\"1\" class=\"dataframe\">\n",
              "  <thead>\n",
              "    <tr style=\"text-align: right;\">\n",
              "      <th></th>\n",
              "      <th>area_C3</th>\n",
              "      <th>area_O2</th>\n",
              "      <th>area_F3</th>\n",
              "    </tr>\n",
              "  </thead>\n",
              "  <tbody>\n",
              "    <tr>\n",
              "      <th>0</th>\n",
              "      <td>1.106912</td>\n",
              "      <td>1.136696</td>\n",
              "      <td>1.146486</td>\n",
              "    </tr>\n",
              "    <tr>\n",
              "      <th>1</th>\n",
              "      <td>2.793432</td>\n",
              "      <td>2.842188</td>\n",
              "      <td>2.638771</td>\n",
              "    </tr>\n",
              "    <tr>\n",
              "      <th>2</th>\n",
              "      <td>9.179584</td>\n",
              "      <td>7.207367</td>\n",
              "      <td>8.277753</td>\n",
              "    </tr>\n",
              "    <tr>\n",
              "      <th>3</th>\n",
              "      <td>3.146348</td>\n",
              "      <td>3.121649</td>\n",
              "      <td>3.579870</td>\n",
              "    </tr>\n",
              "    <tr>\n",
              "      <th>4</th>\n",
              "      <td>2.560994</td>\n",
              "      <td>2.577528</td>\n",
              "      <td>0.647855</td>\n",
              "    </tr>\n",
              "  </tbody>\n",
              "</table>\n",
              "</div>"
            ],
            "text/plain": [
              "    area_C3   area_O2   area_F3\n",
              "0  1.106912  1.136696  1.146486\n",
              "1  2.793432  2.842188  2.638771\n",
              "2  9.179584  7.207367  8.277753\n",
              "3  3.146348  3.121649  3.579870\n",
              "4  2.560994  2.577528  0.647855"
            ]
          },
          "metadata": {
            "tags": []
          },
          "execution_count": 51
        },
        {
          "output_type": "display_data",
          "data": {
            "text/plain": [
              "<Figure size 432x288 with 0 Axes>"
            ]
          },
          "metadata": {
            "tags": []
          }
        }
      ]
    },
    {
      "cell_type": "markdown",
      "metadata": {
        "id": "Si6um-3qWSWF",
        "colab_type": "text"
      },
      "source": [
        "## Extracting and storing Features from ECG channel"
      ]
    },
    {
      "cell_type": "code",
      "metadata": {
        "id": "cDKB7Jl9WWeY",
        "colab_type": "code",
        "colab": {
          "base_uri": "https://localhost:8080/",
          "height": 238
        },
        "outputId": "e8eac552-0fc5-47c9-dfba-427edfab31e1"
      },
      "source": [
        "ECG = ECG/max(ECG)\n",
        "area_ECG = np.array([], dtype = float)\n",
        "for i in range(int(len(ECG)/7680)-1):\n",
        "  #print(i)\n",
        "  x = ECG[i*7680:i*7680+7680]\n",
        "  x1 = ECG[i*7680:i*7680+2*7680]\n",
        "  #print(x)\n",
        "  ar = np.asarray([find_area(x,x1, dim = [dim], tau = tau)],dtype=float)\n",
        "  area_ECG = np.append(area_ECG,ar)\n",
        "print(len(area_ECG))\n",
        "ar_label['area_ECG'] = area_ECG\n",
        "ar_label.head()"
      ],
      "execution_count": null,
      "outputs": [
        {
          "output_type": "stream",
          "text": [
            "825\n"
          ],
          "name": "stdout"
        },
        {
          "output_type": "execute_result",
          "data": {
            "text/html": [
              "<div>\n",
              "<style scoped>\n",
              "    .dataframe tbody tr th:only-of-type {\n",
              "        vertical-align: middle;\n",
              "    }\n",
              "\n",
              "    .dataframe tbody tr th {\n",
              "        vertical-align: top;\n",
              "    }\n",
              "\n",
              "    .dataframe thead th {\n",
              "        text-align: right;\n",
              "    }\n",
              "</style>\n",
              "<table border=\"1\" class=\"dataframe\">\n",
              "  <thead>\n",
              "    <tr style=\"text-align: right;\">\n",
              "      <th></th>\n",
              "      <th>area_C3</th>\n",
              "      <th>area_O2</th>\n",
              "      <th>area_F3</th>\n",
              "      <th>area_ECG</th>\n",
              "    </tr>\n",
              "  </thead>\n",
              "  <tbody>\n",
              "    <tr>\n",
              "      <th>0</th>\n",
              "      <td>1.106912</td>\n",
              "      <td>1.136696</td>\n",
              "      <td>1.146486</td>\n",
              "      <td>8.091134</td>\n",
              "    </tr>\n",
              "    <tr>\n",
              "      <th>1</th>\n",
              "      <td>2.793432</td>\n",
              "      <td>2.842188</td>\n",
              "      <td>2.638771</td>\n",
              "      <td>28.077340</td>\n",
              "    </tr>\n",
              "    <tr>\n",
              "      <th>2</th>\n",
              "      <td>9.179584</td>\n",
              "      <td>7.207367</td>\n",
              "      <td>8.277753</td>\n",
              "      <td>31.128761</td>\n",
              "    </tr>\n",
              "    <tr>\n",
              "      <th>3</th>\n",
              "      <td>3.146348</td>\n",
              "      <td>3.121649</td>\n",
              "      <td>3.579870</td>\n",
              "      <td>7.836355</td>\n",
              "    </tr>\n",
              "    <tr>\n",
              "      <th>4</th>\n",
              "      <td>2.560994</td>\n",
              "      <td>2.577528</td>\n",
              "      <td>0.647855</td>\n",
              "      <td>28.523173</td>\n",
              "    </tr>\n",
              "  </tbody>\n",
              "</table>\n",
              "</div>"
            ],
            "text/plain": [
              "    area_C3   area_O2   area_F3   area_ECG\n",
              "0  1.106912  1.136696  1.146486   8.091134\n",
              "1  2.793432  2.842188  2.638771  28.077340\n",
              "2  9.179584  7.207367  8.277753  31.128761\n",
              "3  3.146348  3.121649  3.579870   7.836355\n",
              "4  2.560994  2.577528  0.647855  28.523173"
            ]
          },
          "metadata": {
            "tags": []
          },
          "execution_count": 54
        },
        {
          "output_type": "display_data",
          "data": {
            "text/plain": [
              "<Figure size 432x288 with 0 Axes>"
            ]
          },
          "metadata": {
            "tags": []
          }
        }
      ]
    },
    {
      "cell_type": "markdown",
      "metadata": {
        "id": "YtaC0cgXX1Sg",
        "colab_type": "text"
      },
      "source": [
        "- Adding the profile column"
      ]
    },
    {
      "cell_type": "code",
      "metadata": {
        "id": "oA_66nQoXuYz",
        "colab_type": "code",
        "colab": {
          "base_uri": "https://localhost:8080/",
          "height": 34
        },
        "outputId": "31951f11-d59a-4b88-adad-4f94aad1d783"
      },
      "source": [
        "len(profile[:-2])"
      ],
      "execution_count": null,
      "outputs": [
        {
          "output_type": "execute_result",
          "data": {
            "text/plain": [
              "825"
            ]
          },
          "metadata": {
            "tags": []
          },
          "execution_count": 55
        }
      ]
    },
    {
      "cell_type": "code",
      "metadata": {
        "id": "sbS5IwLuYB67",
        "colab_type": "code",
        "colab": {
          "base_uri": "https://localhost:8080/",
          "height": 204
        },
        "outputId": "9efa908b-c326-41b5-85a9-b8888788c4ce"
      },
      "source": [
        "# Adding the label\n",
        "ar_label['label'] = profile[:-2]\n",
        "ar_label.head()"
      ],
      "execution_count": null,
      "outputs": [
        {
          "output_type": "execute_result",
          "data": {
            "text/html": [
              "<div>\n",
              "<style scoped>\n",
              "    .dataframe tbody tr th:only-of-type {\n",
              "        vertical-align: middle;\n",
              "    }\n",
              "\n",
              "    .dataframe tbody tr th {\n",
              "        vertical-align: top;\n",
              "    }\n",
              "\n",
              "    .dataframe thead th {\n",
              "        text-align: right;\n",
              "    }\n",
              "</style>\n",
              "<table border=\"1\" class=\"dataframe\">\n",
              "  <thead>\n",
              "    <tr style=\"text-align: right;\">\n",
              "      <th></th>\n",
              "      <th>area_C3</th>\n",
              "      <th>area_O2</th>\n",
              "      <th>area_F3</th>\n",
              "      <th>area_ECG</th>\n",
              "      <th>label</th>\n",
              "    </tr>\n",
              "  </thead>\n",
              "  <tbody>\n",
              "    <tr>\n",
              "      <th>0</th>\n",
              "      <td>1.106912</td>\n",
              "      <td>1.136696</td>\n",
              "      <td>1.146486</td>\n",
              "      <td>8.091134</td>\n",
              "      <td>0</td>\n",
              "    </tr>\n",
              "    <tr>\n",
              "      <th>1</th>\n",
              "      <td>2.793432</td>\n",
              "      <td>2.842188</td>\n",
              "      <td>2.638771</td>\n",
              "      <td>28.077340</td>\n",
              "      <td>6</td>\n",
              "    </tr>\n",
              "    <tr>\n",
              "      <th>2</th>\n",
              "      <td>9.179584</td>\n",
              "      <td>7.207367</td>\n",
              "      <td>8.277753</td>\n",
              "      <td>31.128761</td>\n",
              "      <td>6</td>\n",
              "    </tr>\n",
              "    <tr>\n",
              "      <th>3</th>\n",
              "      <td>3.146348</td>\n",
              "      <td>3.121649</td>\n",
              "      <td>3.579870</td>\n",
              "      <td>7.836355</td>\n",
              "      <td>6</td>\n",
              "    </tr>\n",
              "    <tr>\n",
              "      <th>4</th>\n",
              "      <td>2.560994</td>\n",
              "      <td>2.577528</td>\n",
              "      <td>0.647855</td>\n",
              "      <td>28.523173</td>\n",
              "      <td>6</td>\n",
              "    </tr>\n",
              "  </tbody>\n",
              "</table>\n",
              "</div>"
            ],
            "text/plain": [
              "    area_C3   area_O2   area_F3   area_ECG label\n",
              "0  1.106912  1.136696  1.146486   8.091134     0\n",
              "1  2.793432  2.842188  2.638771  28.077340     6\n",
              "2  9.179584  7.207367  8.277753  31.128761     6\n",
              "3  3.146348  3.121649  3.579870   7.836355     6\n",
              "4  2.560994  2.577528  0.647855  28.523173     6"
            ]
          },
          "metadata": {
            "tags": []
          },
          "execution_count": 56
        }
      ]
    },
    {
      "cell_type": "code",
      "metadata": {
        "id": "XqiTRoirYLJv",
        "colab_type": "code",
        "colab": {}
      },
      "source": [
        "ar_label.to_csv('Feature_C3_O2_F3_label_Anil_constant_tau_dim.csv', index = False)"
      ],
      "execution_count": null,
      "outputs": []
    },
    {
      "cell_type": "code",
      "metadata": {
        "id": "rgiYjIRkYNIh",
        "colab_type": "code",
        "colab": {
          "base_uri": "https://localhost:8080/",
          "height": 419
        },
        "outputId": "023b61d9-f815-4e17-b8fe-d849afa4ade1"
      },
      "source": [
        "df2 = pd.read_csv('Feature_C3_O2_F3_label_Anil_constant_tau_dim.csv')\n",
        "df2"
      ],
      "execution_count": null,
      "outputs": [
        {
          "output_type": "execute_result",
          "data": {
            "text/html": [
              "<div>\n",
              "<style scoped>\n",
              "    .dataframe tbody tr th:only-of-type {\n",
              "        vertical-align: middle;\n",
              "    }\n",
              "\n",
              "    .dataframe tbody tr th {\n",
              "        vertical-align: top;\n",
              "    }\n",
              "\n",
              "    .dataframe thead th {\n",
              "        text-align: right;\n",
              "    }\n",
              "</style>\n",
              "<table border=\"1\" class=\"dataframe\">\n",
              "  <thead>\n",
              "    <tr style=\"text-align: right;\">\n",
              "      <th></th>\n",
              "      <th>area_C3</th>\n",
              "      <th>area_O2</th>\n",
              "      <th>area_F3</th>\n",
              "      <th>area_ECG</th>\n",
              "      <th>label</th>\n",
              "    </tr>\n",
              "  </thead>\n",
              "  <tbody>\n",
              "    <tr>\n",
              "      <th>0</th>\n",
              "      <td>1.106912</td>\n",
              "      <td>1.136696</td>\n",
              "      <td>1.146486</td>\n",
              "      <td>8.091134</td>\n",
              "      <td>0</td>\n",
              "    </tr>\n",
              "    <tr>\n",
              "      <th>1</th>\n",
              "      <td>2.793432</td>\n",
              "      <td>2.842188</td>\n",
              "      <td>2.638771</td>\n",
              "      <td>28.077340</td>\n",
              "      <td>6</td>\n",
              "    </tr>\n",
              "    <tr>\n",
              "      <th>2</th>\n",
              "      <td>9.179584</td>\n",
              "      <td>7.207367</td>\n",
              "      <td>8.277753</td>\n",
              "      <td>31.128761</td>\n",
              "      <td>6</td>\n",
              "    </tr>\n",
              "    <tr>\n",
              "      <th>3</th>\n",
              "      <td>3.146348</td>\n",
              "      <td>3.121649</td>\n",
              "      <td>3.579870</td>\n",
              "      <td>7.836355</td>\n",
              "      <td>6</td>\n",
              "    </tr>\n",
              "    <tr>\n",
              "      <th>4</th>\n",
              "      <td>2.560994</td>\n",
              "      <td>2.577528</td>\n",
              "      <td>0.647855</td>\n",
              "      <td>28.523173</td>\n",
              "      <td>6</td>\n",
              "    </tr>\n",
              "    <tr>\n",
              "      <th>...</th>\n",
              "      <td>...</td>\n",
              "      <td>...</td>\n",
              "      <td>...</td>\n",
              "      <td>...</td>\n",
              "      <td>...</td>\n",
              "    </tr>\n",
              "    <tr>\n",
              "      <th>820</th>\n",
              "      <td>0.586899</td>\n",
              "      <td>0.596908</td>\n",
              "      <td>0.624382</td>\n",
              "      <td>28.149301</td>\n",
              "      <td>5</td>\n",
              "    </tr>\n",
              "    <tr>\n",
              "      <th>821</th>\n",
              "      <td>4.571104</td>\n",
              "      <td>4.732546</td>\n",
              "      <td>4.731905</td>\n",
              "      <td>8.132409</td>\n",
              "      <td>6</td>\n",
              "    </tr>\n",
              "    <tr>\n",
              "      <th>822</th>\n",
              "      <td>1.246982</td>\n",
              "      <td>1.274810</td>\n",
              "      <td>1.286997</td>\n",
              "      <td>9.320826</td>\n",
              "      <td>6</td>\n",
              "    </tr>\n",
              "    <tr>\n",
              "      <th>823</th>\n",
              "      <td>11.760017</td>\n",
              "      <td>12.098599</td>\n",
              "      <td>7.792394</td>\n",
              "      <td>33.078858</td>\n",
              "      <td>6</td>\n",
              "    </tr>\n",
              "    <tr>\n",
              "      <th>824</th>\n",
              "      <td>25.128965</td>\n",
              "      <td>24.392332</td>\n",
              "      <td>12.341570</td>\n",
              "      <td>28.572441</td>\n",
              "      <td>6</td>\n",
              "    </tr>\n",
              "  </tbody>\n",
              "</table>\n",
              "<p>825 rows × 5 columns</p>\n",
              "</div>"
            ],
            "text/plain": [
              "       area_C3    area_O2    area_F3   area_ECG  label\n",
              "0     1.106912   1.136696   1.146486   8.091134      0\n",
              "1     2.793432   2.842188   2.638771  28.077340      6\n",
              "2     9.179584   7.207367   8.277753  31.128761      6\n",
              "3     3.146348   3.121649   3.579870   7.836355      6\n",
              "4     2.560994   2.577528   0.647855  28.523173      6\n",
              "..         ...        ...        ...        ...    ...\n",
              "820   0.586899   0.596908   0.624382  28.149301      5\n",
              "821   4.571104   4.732546   4.731905   8.132409      6\n",
              "822   1.246982   1.274810   1.286997   9.320826      6\n",
              "823  11.760017  12.098599   7.792394  33.078858      6\n",
              "824  25.128965  24.392332  12.341570  28.572441      6\n",
              "\n",
              "[825 rows x 5 columns]"
            ]
          },
          "metadata": {
            "tags": []
          },
          "execution_count": 58
        }
      ]
    },
    {
      "cell_type": "markdown",
      "metadata": {
        "id": "ymrM5CwaAkzm",
        "colab_type": "text"
      },
      "source": [
        "# Extracting Features from Amit Agrahari Dataset"
      ]
    },
    {
      "cell_type": "code",
      "metadata": {
        "id": "F4Irc74kAvav",
        "colab_type": "code",
        "colab": {
          "base_uri": "https://localhost:8080/",
          "height": 34
        },
        "outputId": "8a68975b-0728-4e5f-fc52-bd2123910653"
      },
      "source": [
        "cd ../Amit\\ Agrahari"
      ],
      "execution_count": null,
      "outputs": [
        {
          "output_type": "stream",
          "text": [
            "/content/drive/My Drive/Sleep data/Amit Agrahari\n"
          ],
          "name": "stdout"
        }
      ]
    },
    {
      "cell_type": "code",
      "metadata": {
        "id": "3A6JpoguA2ld",
        "colab_type": "code",
        "colab": {
          "base_uri": "https://localhost:8080/",
          "height": 84
        },
        "outputId": "3067ecca-1b7f-456b-c0cf-cb923d2433a6"
      },
      "source": [
        "ls"
      ],
      "execution_count": null,
      "outputs": [
        {
          "output_type": "stream",
          "text": [
            " Amit_Agrahari_C3_F3_O2.csv  \u001b[0m\u001b[01;34m'Data for sir'\u001b[0m/          F3.mat\n",
            " Amit_Agrahari_ECG.csv       'ECG - 14.04.2014.txt'  'O1 - 14.04.2014.txt'\n",
            "'C3 - 14.04.2014.txt'         ECG.mat                 O1.mat\n",
            " C3.mat                      'F3 - 14.04.2014.txt'   'O2 - 14.04.2014.txt'\n"
          ],
          "name": "stdout"
        }
      ]
    },
    {
      "cell_type": "markdown",
      "metadata": {
        "id": "4LKx7o1zEhSW",
        "colab_type": "text"
      },
      "source": [
        "## Storing data into csv file"
      ]
    },
    {
      "cell_type": "code",
      "metadata": {
        "id": "1wQFZVLMA5wh",
        "colab_type": "code",
        "colab": {
          "base_uri": "https://localhost:8080/",
          "height": 154
        },
        "outputId": "c1809661-3cbe-48e4-e4a0-053394124351"
      },
      "source": [
        "C3 = txt_to_arr('C3 - 14.04.2014.txt')\n",
        "ECG = txt_to_arr('ECG - 14.04.2014.txt')\n",
        "F3 = txt_to_arr('F3 - 14.04.2014.txt')\n",
        "O2 = txt_to_arr('O2 - 14.04.2014.txt')\n",
        "len(C3), len(F3), len(O2), len(ECG)"
      ],
      "execution_count": null,
      "outputs": [
        {
          "output_type": "stream",
          "text": [
            "/usr/local/lib/python3.6/dist-packages/IPython/core/interactiveshell.py:2822: DtypeWarning: Columns (0) have mixed types.Specify dtype option on import or set low_memory=False.\n",
            "  if self.run_code(code, result):\n"
          ],
          "name": "stderr"
        },
        {
          "output_type": "stream",
          "text": [
            "Length of data :  4700161\n",
            "Length of data :  9400321\n",
            "Length of data :  4700161\n",
            "Length of data :  4700161\n"
          ],
          "name": "stdout"
        },
        {
          "output_type": "execute_result",
          "data": {
            "text/plain": [
              "(4700161, 4700161, 4700161, 9400321)"
            ]
          },
          "metadata": {
            "tags": []
          },
          "execution_count": 15
        }
      ]
    },
    {
      "cell_type": "code",
      "metadata": {
        "id": "J8lndvpSDWia",
        "colab_type": "code",
        "colab": {
          "base_uri": "https://localhost:8080/",
          "height": 195
        },
        "outputId": "65ba4be6-38cc-4497-f210-0434aa82c91b"
      },
      "source": [
        "df = pd.DataFrame()\n",
        "df['C3'] = C3\n",
        "df['F3'] = F3\n",
        "df['O2'] = O2\n",
        "df.head()"
      ],
      "execution_count": null,
      "outputs": [
        {
          "output_type": "execute_result",
          "data": {
            "text/html": [
              "<div>\n",
              "<style scoped>\n",
              "    .dataframe tbody tr th:only-of-type {\n",
              "        vertical-align: middle;\n",
              "    }\n",
              "\n",
              "    .dataframe tbody tr th {\n",
              "        vertical-align: top;\n",
              "    }\n",
              "\n",
              "    .dataframe thead th {\n",
              "        text-align: right;\n",
              "    }\n",
              "</style>\n",
              "<table border=\"1\" class=\"dataframe\">\n",
              "  <thead>\n",
              "    <tr style=\"text-align: right;\">\n",
              "      <th></th>\n",
              "      <th>C3</th>\n",
              "      <th>F3</th>\n",
              "      <th>O2</th>\n",
              "    </tr>\n",
              "  </thead>\n",
              "  <tbody>\n",
              "    <tr>\n",
              "      <th>0</th>\n",
              "      <td>25.0</td>\n",
              "      <td>0.0</td>\n",
              "      <td>0.0</td>\n",
              "    </tr>\n",
              "    <tr>\n",
              "      <th>1</th>\n",
              "      <td>21.0</td>\n",
              "      <td>0.0</td>\n",
              "      <td>0.0</td>\n",
              "    </tr>\n",
              "    <tr>\n",
              "      <th>2</th>\n",
              "      <td>19.0</td>\n",
              "      <td>0.0</td>\n",
              "      <td>0.0</td>\n",
              "    </tr>\n",
              "    <tr>\n",
              "      <th>3</th>\n",
              "      <td>16.0</td>\n",
              "      <td>0.0</td>\n",
              "      <td>0.0</td>\n",
              "    </tr>\n",
              "    <tr>\n",
              "      <th>4</th>\n",
              "      <td>14.0</td>\n",
              "      <td>0.0</td>\n",
              "      <td>0.0</td>\n",
              "    </tr>\n",
              "  </tbody>\n",
              "</table>\n",
              "</div>"
            ],
            "text/plain": [
              "     C3   F3   O2\n",
              "0  25.0  0.0  0.0\n",
              "1  21.0  0.0  0.0\n",
              "2  19.0  0.0  0.0\n",
              "3  16.0  0.0  0.0\n",
              "4  14.0  0.0  0.0"
            ]
          },
          "metadata": {
            "tags": []
          },
          "execution_count": 18
        }
      ]
    },
    {
      "cell_type": "code",
      "metadata": {
        "id": "Ln-mTo5dDzhU",
        "colab_type": "code",
        "colab": {}
      },
      "source": [
        "df.to_csv('Amit_Agrahari_C3_F3_O2.csv', index = None)"
      ],
      "execution_count": null,
      "outputs": []
    },
    {
      "cell_type": "code",
      "metadata": {
        "id": "HrBIQiIoE8AZ",
        "colab_type": "code",
        "colab": {
          "base_uri": "https://localhost:8080/",
          "height": 195
        },
        "outputId": "efead004-c86a-49f7-92bc-1d28e5437708"
      },
      "source": [
        "df1 = pd.DataFrame()\n",
        "df1['ECG'] = ECG\n",
        "df1.to_csv('Amit_Agrahari_ECG.csv', index = None)\n",
        "df1.head()"
      ],
      "execution_count": null,
      "outputs": [
        {
          "output_type": "execute_result",
          "data": {
            "text/html": [
              "<div>\n",
              "<style scoped>\n",
              "    .dataframe tbody tr th:only-of-type {\n",
              "        vertical-align: middle;\n",
              "    }\n",
              "\n",
              "    .dataframe tbody tr th {\n",
              "        vertical-align: top;\n",
              "    }\n",
              "\n",
              "    .dataframe thead th {\n",
              "        text-align: right;\n",
              "    }\n",
              "</style>\n",
              "<table border=\"1\" class=\"dataframe\">\n",
              "  <thead>\n",
              "    <tr style=\"text-align: right;\">\n",
              "      <th></th>\n",
              "      <th>ECG</th>\n",
              "    </tr>\n",
              "  </thead>\n",
              "  <tbody>\n",
              "    <tr>\n",
              "      <th>0</th>\n",
              "      <td>0.0</td>\n",
              "    </tr>\n",
              "    <tr>\n",
              "      <th>1</th>\n",
              "      <td>0.0</td>\n",
              "    </tr>\n",
              "    <tr>\n",
              "      <th>2</th>\n",
              "      <td>0.0</td>\n",
              "    </tr>\n",
              "    <tr>\n",
              "      <th>3</th>\n",
              "      <td>0.0</td>\n",
              "    </tr>\n",
              "    <tr>\n",
              "      <th>4</th>\n",
              "      <td>0.0</td>\n",
              "    </tr>\n",
              "  </tbody>\n",
              "</table>\n",
              "</div>"
            ],
            "text/plain": [
              "   ECG\n",
              "0  0.0\n",
              "1  0.0\n",
              "2  0.0\n",
              "3  0.0\n",
              "4  0.0"
            ]
          },
          "metadata": {
            "tags": []
          },
          "execution_count": 26
        }
      ]
    },
    {
      "cell_type": "markdown",
      "metadata": {
        "id": "3y4-uT8sFxU7",
        "colab_type": "text"
      },
      "source": [
        "## Reading the csv file"
      ]
    },
    {
      "cell_type": "code",
      "metadata": {
        "id": "eJk4JqXNERbv",
        "colab_type": "code",
        "colab": {
          "base_uri": "https://localhost:8080/",
          "height": 195
        },
        "outputId": "0df0b80b-bdbc-44ee-801a-fe1b156d3f72"
      },
      "source": [
        "df = pd.read_csv('Amit_Agrahari_C3_F3_O2.csv')\n",
        "df.head()"
      ],
      "execution_count": null,
      "outputs": [
        {
          "output_type": "execute_result",
          "data": {
            "text/html": [
              "<div>\n",
              "<style scoped>\n",
              "    .dataframe tbody tr th:only-of-type {\n",
              "        vertical-align: middle;\n",
              "    }\n",
              "\n",
              "    .dataframe tbody tr th {\n",
              "        vertical-align: top;\n",
              "    }\n",
              "\n",
              "    .dataframe thead th {\n",
              "        text-align: right;\n",
              "    }\n",
              "</style>\n",
              "<table border=\"1\" class=\"dataframe\">\n",
              "  <thead>\n",
              "    <tr style=\"text-align: right;\">\n",
              "      <th></th>\n",
              "      <th>C3</th>\n",
              "      <th>F3</th>\n",
              "      <th>O2</th>\n",
              "    </tr>\n",
              "  </thead>\n",
              "  <tbody>\n",
              "    <tr>\n",
              "      <th>0</th>\n",
              "      <td>25.0</td>\n",
              "      <td>0.0</td>\n",
              "      <td>0.0</td>\n",
              "    </tr>\n",
              "    <tr>\n",
              "      <th>1</th>\n",
              "      <td>21.0</td>\n",
              "      <td>0.0</td>\n",
              "      <td>0.0</td>\n",
              "    </tr>\n",
              "    <tr>\n",
              "      <th>2</th>\n",
              "      <td>19.0</td>\n",
              "      <td>0.0</td>\n",
              "      <td>0.0</td>\n",
              "    </tr>\n",
              "    <tr>\n",
              "      <th>3</th>\n",
              "      <td>16.0</td>\n",
              "      <td>0.0</td>\n",
              "      <td>0.0</td>\n",
              "    </tr>\n",
              "    <tr>\n",
              "      <th>4</th>\n",
              "      <td>14.0</td>\n",
              "      <td>0.0</td>\n",
              "      <td>0.0</td>\n",
              "    </tr>\n",
              "  </tbody>\n",
              "</table>\n",
              "</div>"
            ],
            "text/plain": [
              "     C3   F3   O2\n",
              "0  25.0  0.0  0.0\n",
              "1  21.0  0.0  0.0\n",
              "2  19.0  0.0  0.0\n",
              "3  16.0  0.0  0.0\n",
              "4  14.0  0.0  0.0"
            ]
          },
          "metadata": {
            "tags": []
          },
          "execution_count": 9
        }
      ]
    },
    {
      "cell_type": "code",
      "metadata": {
        "id": "Asb-cAHVElfa",
        "colab_type": "code",
        "colab": {
          "base_uri": "https://localhost:8080/",
          "height": 195
        },
        "outputId": "9272dbc9-041b-4908-9138-0a1a05bcc80d"
      },
      "source": [
        "df1 = pd.read_csv('Amit_Agrahari_ECG.csv')\n",
        "df1.head()"
      ],
      "execution_count": null,
      "outputs": [
        {
          "output_type": "execute_result",
          "data": {
            "text/html": [
              "<div>\n",
              "<style scoped>\n",
              "    .dataframe tbody tr th:only-of-type {\n",
              "        vertical-align: middle;\n",
              "    }\n",
              "\n",
              "    .dataframe tbody tr th {\n",
              "        vertical-align: top;\n",
              "    }\n",
              "\n",
              "    .dataframe thead th {\n",
              "        text-align: right;\n",
              "    }\n",
              "</style>\n",
              "<table border=\"1\" class=\"dataframe\">\n",
              "  <thead>\n",
              "    <tr style=\"text-align: right;\">\n",
              "      <th></th>\n",
              "      <th>ECG</th>\n",
              "    </tr>\n",
              "  </thead>\n",
              "  <tbody>\n",
              "    <tr>\n",
              "      <th>0</th>\n",
              "      <td>0.0</td>\n",
              "    </tr>\n",
              "    <tr>\n",
              "      <th>1</th>\n",
              "      <td>0.0</td>\n",
              "    </tr>\n",
              "    <tr>\n",
              "      <th>2</th>\n",
              "      <td>0.0</td>\n",
              "    </tr>\n",
              "    <tr>\n",
              "      <th>3</th>\n",
              "      <td>0.0</td>\n",
              "    </tr>\n",
              "    <tr>\n",
              "      <th>4</th>\n",
              "      <td>0.0</td>\n",
              "    </tr>\n",
              "  </tbody>\n",
              "</table>\n",
              "</div>"
            ],
            "text/plain": [
              "   ECG\n",
              "0  0.0\n",
              "1  0.0\n",
              "2  0.0\n",
              "3  0.0\n",
              "4  0.0"
            ]
          },
          "metadata": {
            "tags": []
          },
          "execution_count": 10
        }
      ]
    },
    {
      "cell_type": "code",
      "metadata": {
        "id": "P9-zPNU6F0ot",
        "colab_type": "code",
        "colab": {
          "base_uri": "https://localhost:8080/",
          "height": 34
        },
        "outputId": "7256f63c-7330-4307-bb06-d1b90fb6bc6b"
      },
      "source": [
        "C3 = df.C3.values\n",
        "F3 = df.F3.values\n",
        "O2 = df.O2.values\n",
        "ECG = df1.ECG.values\n",
        "ECG = ECG[range(1, len(ECG), 2)]\n",
        "len(C3), len(F3), len(O2), len(ECG)"
      ],
      "execution_count": null,
      "outputs": [
        {
          "output_type": "execute_result",
          "data": {
            "text/plain": [
              "(4700161, 4700161, 4700161, 4700160)"
            ]
          },
          "metadata": {
            "tags": []
          },
          "execution_count": 16
        }
      ]
    },
    {
      "cell_type": "markdown",
      "metadata": {
        "id": "snWyxK_OGT8B",
        "colab_type": "text"
      },
      "source": [
        "## No sleep profile available"
      ]
    },
    {
      "cell_type": "markdown",
      "metadata": {
        "id": "--rrOOoGGXBt",
        "colab_type": "text"
      },
      "source": [
        "## Extracting and storing Features from C3 channel"
      ]
    },
    {
      "cell_type": "code",
      "metadata": {
        "id": "87ZIR1aEGLYl",
        "colab_type": "code",
        "colab": {
          "base_uri": "https://localhost:8080/",
          "height": 229
        },
        "outputId": "9c631c55-e9de-46cf-a835-292a2b096957"
      },
      "source": [
        "C3 = C3/max(C3)\n",
        "area_C3 = np.array([], dtype = float)\n",
        "for i in range(int(len(C3)/7680)-1):\n",
        "  #print(i)\n",
        "  x = C3[i*7680:i*7680+7680]\n",
        "  x1 = C3[i*7680:i*7680+2*7680]\n",
        "  #print(x)\n",
        "  ar = np.asarray([find_area(x,x1, dim = [dim], tau = tau)],dtype=float)\n",
        "  area_C3 = np.append(area_C3,ar)\n",
        "print(len(area_C3))\n",
        "ar_label = pd.DataFrame({'area_C3':area_C3})\n",
        "ar_label.head()"
      ],
      "execution_count": null,
      "outputs": [
        {
          "output_type": "stream",
          "text": [
            "611\n"
          ],
          "name": "stdout"
        },
        {
          "output_type": "execute_result",
          "data": {
            "text/html": [
              "<div>\n",
              "<style scoped>\n",
              "    .dataframe tbody tr th:only-of-type {\n",
              "        vertical-align: middle;\n",
              "    }\n",
              "\n",
              "    .dataframe tbody tr th {\n",
              "        vertical-align: top;\n",
              "    }\n",
              "\n",
              "    .dataframe thead th {\n",
              "        text-align: right;\n",
              "    }\n",
              "</style>\n",
              "<table border=\"1\" class=\"dataframe\">\n",
              "  <thead>\n",
              "    <tr style=\"text-align: right;\">\n",
              "      <th></th>\n",
              "      <th>area_C3</th>\n",
              "    </tr>\n",
              "  </thead>\n",
              "  <tbody>\n",
              "    <tr>\n",
              "      <th>0</th>\n",
              "      <td>0.112500</td>\n",
              "    </tr>\n",
              "    <tr>\n",
              "      <th>1</th>\n",
              "      <td>1.747275</td>\n",
              "    </tr>\n",
              "    <tr>\n",
              "      <th>2</th>\n",
              "      <td>1.691571</td>\n",
              "    </tr>\n",
              "    <tr>\n",
              "      <th>3</th>\n",
              "      <td>1.846852</td>\n",
              "    </tr>\n",
              "    <tr>\n",
              "      <th>4</th>\n",
              "      <td>19.962917</td>\n",
              "    </tr>\n",
              "  </tbody>\n",
              "</table>\n",
              "</div>"
            ],
            "text/plain": [
              "     area_C3\n",
              "0   0.112500\n",
              "1   1.747275\n",
              "2   1.691571\n",
              "3   1.846852\n",
              "4  19.962917"
            ]
          },
          "metadata": {
            "tags": []
          },
          "execution_count": 17
        },
        {
          "output_type": "display_data",
          "data": {
            "text/plain": [
              "<Figure size 432x288 with 0 Axes>"
            ]
          },
          "metadata": {
            "tags": []
          }
        }
      ]
    },
    {
      "cell_type": "markdown",
      "metadata": {
        "id": "IrDEvaV4IEl3",
        "colab_type": "text"
      },
      "source": [
        "## Extracting and storing Features from F3 channel"
      ]
    },
    {
      "cell_type": "code",
      "metadata": {
        "id": "KGogIX6QH_0K",
        "colab_type": "code",
        "colab": {
          "base_uri": "https://localhost:8080/",
          "height": 229
        },
        "outputId": "b683a6f8-cd86-4dd3-e824-61432bf8dc43"
      },
      "source": [
        "F3 = F3/max(F3)\n",
        "area_F3 = np.array([], dtype = float)\n",
        "for i in range(int(len(F3)/7680)-1):\n",
        "  #print(i)\n",
        "  x = F3[i*7680:i*7680+7680]\n",
        "  x1 = F3[i*7680:i*7680+2*7680]\n",
        "  #print(x)\n",
        "  ar = np.asarray([find_area(x,x1, dim = [dim], tau = tau)],dtype=float)\n",
        "  area_F3 = np.append(area_F3,ar)\n",
        "print(len(area_F3))\n",
        "ar_label['area_F3'] = area_F3\n",
        "ar_label.head()"
      ],
      "execution_count": null,
      "outputs": [
        {
          "output_type": "stream",
          "text": [
            "611\n"
          ],
          "name": "stdout"
        },
        {
          "output_type": "execute_result",
          "data": {
            "text/html": [
              "<div>\n",
              "<style scoped>\n",
              "    .dataframe tbody tr th:only-of-type {\n",
              "        vertical-align: middle;\n",
              "    }\n",
              "\n",
              "    .dataframe tbody tr th {\n",
              "        vertical-align: top;\n",
              "    }\n",
              "\n",
              "    .dataframe thead th {\n",
              "        text-align: right;\n",
              "    }\n",
              "</style>\n",
              "<table border=\"1\" class=\"dataframe\">\n",
              "  <thead>\n",
              "    <tr style=\"text-align: right;\">\n",
              "      <th></th>\n",
              "      <th>area_C3</th>\n",
              "      <th>area_F3</th>\n",
              "    </tr>\n",
              "  </thead>\n",
              "  <tbody>\n",
              "    <tr>\n",
              "      <th>0</th>\n",
              "      <td>0.112500</td>\n",
              "      <td>30.000000</td>\n",
              "    </tr>\n",
              "    <tr>\n",
              "      <th>1</th>\n",
              "      <td>1.747275</td>\n",
              "      <td>1.840806</td>\n",
              "    </tr>\n",
              "    <tr>\n",
              "      <th>2</th>\n",
              "      <td>1.691571</td>\n",
              "      <td>2.066848</td>\n",
              "    </tr>\n",
              "    <tr>\n",
              "      <th>3</th>\n",
              "      <td>1.846852</td>\n",
              "      <td>1.985464</td>\n",
              "    </tr>\n",
              "    <tr>\n",
              "      <th>4</th>\n",
              "      <td>19.962917</td>\n",
              "      <td>20.764247</td>\n",
              "    </tr>\n",
              "  </tbody>\n",
              "</table>\n",
              "</div>"
            ],
            "text/plain": [
              "     area_C3    area_F3\n",
              "0   0.112500  30.000000\n",
              "1   1.747275   1.840806\n",
              "2   1.691571   2.066848\n",
              "3   1.846852   1.985464\n",
              "4  19.962917  20.764247"
            ]
          },
          "metadata": {
            "tags": []
          },
          "execution_count": 18
        },
        {
          "output_type": "display_data",
          "data": {
            "text/plain": [
              "<Figure size 432x288 with 0 Axes>"
            ]
          },
          "metadata": {
            "tags": []
          }
        }
      ]
    },
    {
      "cell_type": "markdown",
      "metadata": {
        "id": "SjckTUvGIRm6",
        "colab_type": "text"
      },
      "source": [
        "## Extracting and storing featues from O2 channel"
      ]
    },
    {
      "cell_type": "code",
      "metadata": {
        "id": "kMOQMo3cIV2B",
        "colab_type": "code",
        "colab": {
          "base_uri": "https://localhost:8080/",
          "height": 229
        },
        "outputId": "8fffdf3c-981a-404d-e025-62ddfb3d4834"
      },
      "source": [
        "O2 = O2/max(O2)\n",
        "area_O2 = np.array([], dtype = float)\n",
        "for i in range(int(len(O2)/7680)-1):\n",
        "  #print(i)\n",
        "  x = O2[i*7680:i*7680+7680]\n",
        "  x1 = O2[i*7680:i*7680+2*7680]\n",
        "  #print(x)\n",
        "  ar = np.asarray([find_area(x,x1, dim = [dim], tau = tau)],dtype=float)\n",
        "  area_O2 = np.append(area_O2,ar)\n",
        "print(len(area_O2))\n",
        "ar_label['area_O2'] = area_O2\n",
        "ar_label.head()"
      ],
      "execution_count": null,
      "outputs": [
        {
          "output_type": "stream",
          "text": [
            "611\n"
          ],
          "name": "stdout"
        },
        {
          "output_type": "execute_result",
          "data": {
            "text/html": [
              "<div>\n",
              "<style scoped>\n",
              "    .dataframe tbody tr th:only-of-type {\n",
              "        vertical-align: middle;\n",
              "    }\n",
              "\n",
              "    .dataframe tbody tr th {\n",
              "        vertical-align: top;\n",
              "    }\n",
              "\n",
              "    .dataframe thead th {\n",
              "        text-align: right;\n",
              "    }\n",
              "</style>\n",
              "<table border=\"1\" class=\"dataframe\">\n",
              "  <thead>\n",
              "    <tr style=\"text-align: right;\">\n",
              "      <th></th>\n",
              "      <th>area_C3</th>\n",
              "      <th>area_F3</th>\n",
              "      <th>area_O2</th>\n",
              "    </tr>\n",
              "  </thead>\n",
              "  <tbody>\n",
              "    <tr>\n",
              "      <th>0</th>\n",
              "      <td>0.112500</td>\n",
              "      <td>30.000000</td>\n",
              "      <td>30.000000</td>\n",
              "    </tr>\n",
              "    <tr>\n",
              "      <th>1</th>\n",
              "      <td>1.747275</td>\n",
              "      <td>1.840806</td>\n",
              "      <td>1.609279</td>\n",
              "    </tr>\n",
              "    <tr>\n",
              "      <th>2</th>\n",
              "      <td>1.691571</td>\n",
              "      <td>2.066848</td>\n",
              "      <td>1.676696</td>\n",
              "    </tr>\n",
              "    <tr>\n",
              "      <th>3</th>\n",
              "      <td>1.846852</td>\n",
              "      <td>1.985464</td>\n",
              "      <td>1.720606</td>\n",
              "    </tr>\n",
              "    <tr>\n",
              "      <th>4</th>\n",
              "      <td>19.962917</td>\n",
              "      <td>20.764247</td>\n",
              "      <td>20.542833</td>\n",
              "    </tr>\n",
              "  </tbody>\n",
              "</table>\n",
              "</div>"
            ],
            "text/plain": [
              "     area_C3    area_F3    area_O2\n",
              "0   0.112500  30.000000  30.000000\n",
              "1   1.747275   1.840806   1.609279\n",
              "2   1.691571   2.066848   1.676696\n",
              "3   1.846852   1.985464   1.720606\n",
              "4  19.962917  20.764247  20.542833"
            ]
          },
          "metadata": {
            "tags": []
          },
          "execution_count": 19
        },
        {
          "output_type": "display_data",
          "data": {
            "text/plain": [
              "<Figure size 432x288 with 0 Axes>"
            ]
          },
          "metadata": {
            "tags": []
          }
        }
      ]
    },
    {
      "cell_type": "markdown",
      "metadata": {
        "id": "vI5hA0HCIehz",
        "colab_type": "text"
      },
      "source": [
        "## Extracting and Storing Features from ECG"
      ]
    },
    {
      "cell_type": "code",
      "metadata": {
        "id": "VvDDYUiBIjZb",
        "colab_type": "code",
        "colab": {
          "base_uri": "https://localhost:8080/",
          "height": 229
        },
        "outputId": "9dfd3cc5-6265-44ad-c4b0-25667dc4ce47"
      },
      "source": [
        "ECG = ECG/max(ECG)\n",
        "area_ECG = np.array([], dtype = float)\n",
        "for i in range(int(len(ECG)/7680)-1):\n",
        "  #print(i)\n",
        "  x = ECG[i*7680:i*7680+7680]\n",
        "  x1 = ECG[i*7680:i*7680+2*7680]\n",
        "  #print(x)\n",
        "  ar = np.asarray([find_area(x,x1, dim = [dim], tau = tau)],dtype=float)\n",
        "  area_ECG = np.append(area_ECG,ar)\n",
        "print(len(area_ECG))\n",
        "ar_label['area_ECG'] = area_ECG\n",
        "ar_label.head()"
      ],
      "execution_count": null,
      "outputs": [
        {
          "output_type": "stream",
          "text": [
            "611\n"
          ],
          "name": "stdout"
        },
        {
          "output_type": "execute_result",
          "data": {
            "text/html": [
              "<div>\n",
              "<style scoped>\n",
              "    .dataframe tbody tr th:only-of-type {\n",
              "        vertical-align: middle;\n",
              "    }\n",
              "\n",
              "    .dataframe tbody tr th {\n",
              "        vertical-align: top;\n",
              "    }\n",
              "\n",
              "    .dataframe thead th {\n",
              "        text-align: right;\n",
              "    }\n",
              "</style>\n",
              "<table border=\"1\" class=\"dataframe\">\n",
              "  <thead>\n",
              "    <tr style=\"text-align: right;\">\n",
              "      <th></th>\n",
              "      <th>area_C3</th>\n",
              "      <th>area_F3</th>\n",
              "      <th>area_O2</th>\n",
              "      <th>area_ECG</th>\n",
              "    </tr>\n",
              "  </thead>\n",
              "  <tbody>\n",
              "    <tr>\n",
              "      <th>0</th>\n",
              "      <td>0.112500</td>\n",
              "      <td>30.000000</td>\n",
              "      <td>30.000000</td>\n",
              "      <td>30.000000</td>\n",
              "    </tr>\n",
              "    <tr>\n",
              "      <th>1</th>\n",
              "      <td>1.747275</td>\n",
              "      <td>1.840806</td>\n",
              "      <td>1.609279</td>\n",
              "      <td>45.944219</td>\n",
              "    </tr>\n",
              "    <tr>\n",
              "      <th>2</th>\n",
              "      <td>1.691571</td>\n",
              "      <td>2.066848</td>\n",
              "      <td>1.676696</td>\n",
              "      <td>45.588827</td>\n",
              "    </tr>\n",
              "    <tr>\n",
              "      <th>3</th>\n",
              "      <td>1.846852</td>\n",
              "      <td>1.985464</td>\n",
              "      <td>1.720606</td>\n",
              "      <td>29.785646</td>\n",
              "    </tr>\n",
              "    <tr>\n",
              "      <th>4</th>\n",
              "      <td>19.962917</td>\n",
              "      <td>20.764247</td>\n",
              "      <td>20.542833</td>\n",
              "      <td>43.572935</td>\n",
              "    </tr>\n",
              "  </tbody>\n",
              "</table>\n",
              "</div>"
            ],
            "text/plain": [
              "     area_C3    area_F3    area_O2   area_ECG\n",
              "0   0.112500  30.000000  30.000000  30.000000\n",
              "1   1.747275   1.840806   1.609279  45.944219\n",
              "2   1.691571   2.066848   1.676696  45.588827\n",
              "3   1.846852   1.985464   1.720606  29.785646\n",
              "4  19.962917  20.764247  20.542833  43.572935"
            ]
          },
          "metadata": {
            "tags": []
          },
          "execution_count": 20
        },
        {
          "output_type": "display_data",
          "data": {
            "text/plain": [
              "<Figure size 432x288 with 0 Axes>"
            ]
          },
          "metadata": {
            "tags": []
          }
        }
      ]
    },
    {
      "cell_type": "code",
      "metadata": {
        "id": "befuVOYoIzs9",
        "colab_type": "code",
        "colab": {}
      },
      "source": [
        "ar_label.to_csv('Feature_C3_F3_O2_ECG_nolabel_Amit_constant_tau_dim.csv', index = False)"
      ],
      "execution_count": null,
      "outputs": []
    },
    {
      "cell_type": "code",
      "metadata": {
        "id": "vf7e0UO-6mFB",
        "colab_type": "code",
        "colab": {
          "base_uri": "https://localhost:8080/",
          "height": 195
        },
        "outputId": "92b28ffa-877e-4827-bff3-f44dc672397d"
      },
      "source": [
        "df = pd.read_csv('Feature_C3_F3_O2_ECG_nolabel_Amit_constant_tau_dim.csv')\n",
        "df.head()"
      ],
      "execution_count": null,
      "outputs": [
        {
          "output_type": "execute_result",
          "data": {
            "text/html": [
              "<div>\n",
              "<style scoped>\n",
              "    .dataframe tbody tr th:only-of-type {\n",
              "        vertical-align: middle;\n",
              "    }\n",
              "\n",
              "    .dataframe tbody tr th {\n",
              "        vertical-align: top;\n",
              "    }\n",
              "\n",
              "    .dataframe thead th {\n",
              "        text-align: right;\n",
              "    }\n",
              "</style>\n",
              "<table border=\"1\" class=\"dataframe\">\n",
              "  <thead>\n",
              "    <tr style=\"text-align: right;\">\n",
              "      <th></th>\n",
              "      <th>area_C3</th>\n",
              "      <th>area_F3</th>\n",
              "      <th>area_O2</th>\n",
              "      <th>area_ECG</th>\n",
              "    </tr>\n",
              "  </thead>\n",
              "  <tbody>\n",
              "    <tr>\n",
              "      <th>0</th>\n",
              "      <td>0.112500</td>\n",
              "      <td>30.000000</td>\n",
              "      <td>30.000000</td>\n",
              "      <td>30.000000</td>\n",
              "    </tr>\n",
              "    <tr>\n",
              "      <th>1</th>\n",
              "      <td>1.747275</td>\n",
              "      <td>1.840806</td>\n",
              "      <td>1.609279</td>\n",
              "      <td>45.944219</td>\n",
              "    </tr>\n",
              "    <tr>\n",
              "      <th>2</th>\n",
              "      <td>1.691571</td>\n",
              "      <td>2.066848</td>\n",
              "      <td>1.676696</td>\n",
              "      <td>45.588827</td>\n",
              "    </tr>\n",
              "    <tr>\n",
              "      <th>3</th>\n",
              "      <td>1.846852</td>\n",
              "      <td>1.985464</td>\n",
              "      <td>1.720606</td>\n",
              "      <td>29.785646</td>\n",
              "    </tr>\n",
              "    <tr>\n",
              "      <th>4</th>\n",
              "      <td>19.962917</td>\n",
              "      <td>20.764247</td>\n",
              "      <td>20.542833</td>\n",
              "      <td>43.572935</td>\n",
              "    </tr>\n",
              "  </tbody>\n",
              "</table>\n",
              "</div>"
            ],
            "text/plain": [
              "     area_C3    area_F3    area_O2   area_ECG\n",
              "0   0.112500  30.000000  30.000000  30.000000\n",
              "1   1.747275   1.840806   1.609279  45.944219\n",
              "2   1.691571   2.066848   1.676696  45.588827\n",
              "3   1.846852   1.985464   1.720606  29.785646\n",
              "4  19.962917  20.764247  20.542833  43.572935"
            ]
          },
          "metadata": {
            "tags": []
          },
          "execution_count": 23
        }
      ]
    },
    {
      "cell_type": "code",
      "metadata": {
        "id": "KjBtceQJ6xzO",
        "colab_type": "code",
        "colab": {
          "base_uri": "https://localhost:8080/",
          "height": 34
        },
        "outputId": "b9a462b2-81fe-45e6-f704-aee6968f6282"
      },
      "source": [
        "len(df)"
      ],
      "execution_count": null,
      "outputs": [
        {
          "output_type": "execute_result",
          "data": {
            "text/plain": [
              "611"
            ]
          },
          "metadata": {
            "tags": []
          },
          "execution_count": 24
        }
      ]
    },
    {
      "cell_type": "markdown",
      "metadata": {
        "id": "kpC6fs6AF98M",
        "colab_type": "text"
      },
      "source": [
        "# Extracting Features from Arnavi Gupta"
      ]
    },
    {
      "cell_type": "code",
      "metadata": {
        "id": "j8YcMHfTGGmH",
        "colab_type": "code",
        "colab": {
          "base_uri": "https://localhost:8080/",
          "height": 34
        },
        "outputId": "70991395-8ec0-42e0-c691-3dc674d752fd"
      },
      "source": [
        "cd ../Arnavi\\ Gupta"
      ],
      "execution_count": null,
      "outputs": [
        {
          "output_type": "stream",
          "text": [
            "/content/drive/My Drive/Sleep data/Arnavi Gupta\n"
          ],
          "name": "stdout"
        }
      ]
    },
    {
      "cell_type": "code",
      "metadata": {
        "id": "2FaQAteUGJje",
        "colab_type": "code",
        "colab": {
          "base_uri": "https://localhost:8080/",
          "height": 50
        },
        "outputId": "a431a5e2-87e4-44b8-f800-4bb7ab86d811"
      },
      "source": [
        "ls"
      ],
      "execution_count": null,
      "outputs": [
        {
          "output_type": "stream",
          "text": [
            "'C3 - 03.02.2016.txt'     'F3 - 03.02.2016.txt'\n",
            "'ECG 2 - 03.02.2016.txt'  'O2 - 03.02.2016.txt'\n"
          ],
          "name": "stdout"
        }
      ]
    },
    {
      "cell_type": "markdown",
      "metadata": {
        "id": "CHuzuPwOGxz3",
        "colab_type": "text"
      },
      "source": [
        "## Storing the Data in csv file"
      ]
    },
    {
      "cell_type": "code",
      "metadata": {
        "id": "M24J8SfEGLkG",
        "colab_type": "code",
        "colab": {
          "base_uri": "https://localhost:8080/",
          "height": 154
        },
        "outputId": "7824b41a-f734-4f08-b7e3-a2b31a52249d"
      },
      "source": [
        "C3 = txt_to_arr('C3 - 03.02.2016.txt')\n",
        "F3 = txt_to_arr('F3 - 03.02.2016.txt')\n",
        "O2 = txt_to_arr('O2 - 03.02.2016.txt')\n",
        "ECG = txt_to_arr('ECG 2 - 03.02.2016.txt')\n",
        "ECG = ECG[range(0, len(ECG), 2)]\n",
        "len(C3), len(F3), len(O2), len(ECG)"
      ],
      "execution_count": null,
      "outputs": [
        {
          "output_type": "stream",
          "text": [
            "/usr/local/lib/python3.6/dist-packages/IPython/core/interactiveshell.py:2822: DtypeWarning: Columns (0) have mixed types.Specify dtype option on import or set low_memory=False.\n",
            "  if self.run_code(code, result):\n"
          ],
          "name": "stderr"
        },
        {
          "output_type": "stream",
          "text": [
            "Length of data :  2311168\n",
            "Length of data :  2311168\n",
            "Length of data :  2311168\n",
            "Length of data :  4622336\n"
          ],
          "name": "stdout"
        },
        {
          "output_type": "execute_result",
          "data": {
            "text/plain": [
              "(2311168, 2311168, 2311168, 2311168)"
            ]
          },
          "metadata": {
            "tags": []
          },
          "execution_count": 28
        }
      ]
    },
    {
      "cell_type": "code",
      "metadata": {
        "id": "8s9Uh2UTGwFU",
        "colab_type": "code",
        "colab": {
          "base_uri": "https://localhost:8080/",
          "height": 195
        },
        "outputId": "a60312ef-a66e-48dc-87f2-8ab4c9612745"
      },
      "source": [
        "df = pd.DataFrame()\n",
        "df['C3'] = C3\n",
        "df['F3'] = F3\n",
        "df['O2'] = O2\n",
        "df['ECG'] = ECG\n",
        "df.to_csv('Arnavi_Gupta_C3_F3_O2_ECG.csv', index = None)\n",
        "df.head()"
      ],
      "execution_count": null,
      "outputs": [
        {
          "output_type": "execute_result",
          "data": {
            "text/html": [
              "<div>\n",
              "<style scoped>\n",
              "    .dataframe tbody tr th:only-of-type {\n",
              "        vertical-align: middle;\n",
              "    }\n",
              "\n",
              "    .dataframe tbody tr th {\n",
              "        vertical-align: top;\n",
              "    }\n",
              "\n",
              "    .dataframe thead th {\n",
              "        text-align: right;\n",
              "    }\n",
              "</style>\n",
              "<table border=\"1\" class=\"dataframe\">\n",
              "  <thead>\n",
              "    <tr style=\"text-align: right;\">\n",
              "      <th></th>\n",
              "      <th>C3</th>\n",
              "      <th>F3</th>\n",
              "      <th>O2</th>\n",
              "      <th>ECG</th>\n",
              "    </tr>\n",
              "  </thead>\n",
              "  <tbody>\n",
              "    <tr>\n",
              "      <th>0</th>\n",
              "      <td>0.0</td>\n",
              "      <td>0.0</td>\n",
              "      <td>0.0</td>\n",
              "      <td>0.0</td>\n",
              "    </tr>\n",
              "    <tr>\n",
              "      <th>1</th>\n",
              "      <td>0.0</td>\n",
              "      <td>0.0</td>\n",
              "      <td>0.0</td>\n",
              "      <td>0.0</td>\n",
              "    </tr>\n",
              "    <tr>\n",
              "      <th>2</th>\n",
              "      <td>0.0</td>\n",
              "      <td>0.0</td>\n",
              "      <td>0.0</td>\n",
              "      <td>0.0</td>\n",
              "    </tr>\n",
              "    <tr>\n",
              "      <th>3</th>\n",
              "      <td>0.0</td>\n",
              "      <td>0.0</td>\n",
              "      <td>0.0</td>\n",
              "      <td>0.0</td>\n",
              "    </tr>\n",
              "    <tr>\n",
              "      <th>4</th>\n",
              "      <td>0.0</td>\n",
              "      <td>0.0</td>\n",
              "      <td>0.0</td>\n",
              "      <td>0.0</td>\n",
              "    </tr>\n",
              "  </tbody>\n",
              "</table>\n",
              "</div>"
            ],
            "text/plain": [
              "    C3   F3   O2  ECG\n",
              "0  0.0  0.0  0.0  0.0\n",
              "1  0.0  0.0  0.0  0.0\n",
              "2  0.0  0.0  0.0  0.0\n",
              "3  0.0  0.0  0.0  0.0\n",
              "4  0.0  0.0  0.0  0.0"
            ]
          },
          "metadata": {
            "tags": []
          },
          "execution_count": 31
        }
      ]
    },
    {
      "cell_type": "markdown",
      "metadata": {
        "id": "6ii8Op3sHWze",
        "colab_type": "text"
      },
      "source": [
        "## Reading the csv file"
      ]
    },
    {
      "cell_type": "code",
      "metadata": {
        "id": "fhl5AsAdHTCn",
        "colab_type": "code",
        "colab": {
          "base_uri": "https://localhost:8080/",
          "height": 195
        },
        "outputId": "74c4dc1a-38d8-4360-99b0-170e1e1abc47"
      },
      "source": [
        "df = pd.read_csv('Arnavi_Gupta_C3_F3_O2_ECG.csv')\n",
        "df.head()"
      ],
      "execution_count": null,
      "outputs": [
        {
          "output_type": "execute_result",
          "data": {
            "text/html": [
              "<div>\n",
              "<style scoped>\n",
              "    .dataframe tbody tr th:only-of-type {\n",
              "        vertical-align: middle;\n",
              "    }\n",
              "\n",
              "    .dataframe tbody tr th {\n",
              "        vertical-align: top;\n",
              "    }\n",
              "\n",
              "    .dataframe thead th {\n",
              "        text-align: right;\n",
              "    }\n",
              "</style>\n",
              "<table border=\"1\" class=\"dataframe\">\n",
              "  <thead>\n",
              "    <tr style=\"text-align: right;\">\n",
              "      <th></th>\n",
              "      <th>C3</th>\n",
              "      <th>F3</th>\n",
              "      <th>O2</th>\n",
              "      <th>ECG</th>\n",
              "    </tr>\n",
              "  </thead>\n",
              "  <tbody>\n",
              "    <tr>\n",
              "      <th>0</th>\n",
              "      <td>0.0</td>\n",
              "      <td>0.0</td>\n",
              "      <td>0.0</td>\n",
              "      <td>0.0</td>\n",
              "    </tr>\n",
              "    <tr>\n",
              "      <th>1</th>\n",
              "      <td>0.0</td>\n",
              "      <td>0.0</td>\n",
              "      <td>0.0</td>\n",
              "      <td>0.0</td>\n",
              "    </tr>\n",
              "    <tr>\n",
              "      <th>2</th>\n",
              "      <td>0.0</td>\n",
              "      <td>0.0</td>\n",
              "      <td>0.0</td>\n",
              "      <td>0.0</td>\n",
              "    </tr>\n",
              "    <tr>\n",
              "      <th>3</th>\n",
              "      <td>0.0</td>\n",
              "      <td>0.0</td>\n",
              "      <td>0.0</td>\n",
              "      <td>0.0</td>\n",
              "    </tr>\n",
              "    <tr>\n",
              "      <th>4</th>\n",
              "      <td>0.0</td>\n",
              "      <td>0.0</td>\n",
              "      <td>0.0</td>\n",
              "      <td>0.0</td>\n",
              "    </tr>\n",
              "  </tbody>\n",
              "</table>\n",
              "</div>"
            ],
            "text/plain": [
              "    C3   F3   O2  ECG\n",
              "0  0.0  0.0  0.0  0.0\n",
              "1  0.0  0.0  0.0  0.0\n",
              "2  0.0  0.0  0.0  0.0\n",
              "3  0.0  0.0  0.0  0.0\n",
              "4  0.0  0.0  0.0  0.0"
            ]
          },
          "metadata": {
            "tags": []
          },
          "execution_count": 32
        }
      ]
    },
    {
      "cell_type": "code",
      "metadata": {
        "id": "uKzP8SoOHoue",
        "colab_type": "code",
        "colab": {
          "base_uri": "https://localhost:8080/",
          "height": 34
        },
        "outputId": "8755dd91-284c-4650-9d2e-2d923e80ba88"
      },
      "source": [
        "C3 = df.C3.values\n",
        "F3 = df.F3.values\n",
        "O2 = df.O2.values\n",
        "ECG = df.ECG.values\n",
        "len(C3), len(F3), len(O2), len(ECG)"
      ],
      "execution_count": null,
      "outputs": [
        {
          "output_type": "execute_result",
          "data": {
            "text/plain": [
              "(2311168, 2311168, 2311168, 2311168)"
            ]
          },
          "metadata": {
            "tags": []
          },
          "execution_count": 33
        }
      ]
    },
    {
      "cell_type": "markdown",
      "metadata": {
        "id": "XkD2EQXkH6jg",
        "colab_type": "text"
      },
      "source": [
        "## Extracting and Storing Features from C3 Channel"
      ]
    },
    {
      "cell_type": "code",
      "metadata": {
        "id": "75IXCyA8H5zu",
        "colab_type": "code",
        "colab": {
          "base_uri": "https://localhost:8080/",
          "height": 229
        },
        "outputId": "38516b0c-df66-4d0c-db8a-22c74809736e"
      },
      "source": [
        "C3 = C3/max(C3)\n",
        "area_C3 = np.array([], dtype = float)\n",
        "for i in range(int(len(C3)/7680)-1):\n",
        "  #print(i)\n",
        "  x = C3[i*7680:i*7680+7680]\n",
        "  x1 = C3[i*7680:i*7680+2*7680]\n",
        "  #print(x)\n",
        "  ar = np.asarray([find_area(x,x1, dim = [dim], tau = tau)],dtype=float)\n",
        "  area_C3 = np.append(area_C3,ar)\n",
        "print(len(area_C3))\n",
        "ar_label = pd.DataFrame({'area_C3':area_C3})\n",
        "ar_label.head()"
      ],
      "execution_count": null,
      "outputs": [
        {
          "output_type": "stream",
          "text": [
            "299\n"
          ],
          "name": "stdout"
        },
        {
          "output_type": "execute_result",
          "data": {
            "text/html": [
              "<div>\n",
              "<style scoped>\n",
              "    .dataframe tbody tr th:only-of-type {\n",
              "        vertical-align: middle;\n",
              "    }\n",
              "\n",
              "    .dataframe tbody tr th {\n",
              "        vertical-align: top;\n",
              "    }\n",
              "\n",
              "    .dataframe thead th {\n",
              "        text-align: right;\n",
              "    }\n",
              "</style>\n",
              "<table border=\"1\" class=\"dataframe\">\n",
              "  <thead>\n",
              "    <tr style=\"text-align: right;\">\n",
              "      <th></th>\n",
              "      <th>area_C3</th>\n",
              "    </tr>\n",
              "  </thead>\n",
              "  <tbody>\n",
              "    <tr>\n",
              "      <th>0</th>\n",
              "      <td>6.210094</td>\n",
              "    </tr>\n",
              "    <tr>\n",
              "      <th>1</th>\n",
              "      <td>3.230525</td>\n",
              "    </tr>\n",
              "    <tr>\n",
              "      <th>2</th>\n",
              "      <td>3.821619</td>\n",
              "    </tr>\n",
              "    <tr>\n",
              "      <th>3</th>\n",
              "      <td>0.842749</td>\n",
              "    </tr>\n",
              "    <tr>\n",
              "      <th>4</th>\n",
              "      <td>0.841668</td>\n",
              "    </tr>\n",
              "  </tbody>\n",
              "</table>\n",
              "</div>"
            ],
            "text/plain": [
              "    area_C3\n",
              "0  6.210094\n",
              "1  3.230525\n",
              "2  3.821619\n",
              "3  0.842749\n",
              "4  0.841668"
            ]
          },
          "metadata": {
            "tags": []
          },
          "execution_count": 34
        },
        {
          "output_type": "display_data",
          "data": {
            "text/plain": [
              "<Figure size 432x288 with 0 Axes>"
            ]
          },
          "metadata": {
            "tags": []
          }
        }
      ]
    },
    {
      "cell_type": "markdown",
      "metadata": {
        "id": "1ucibyT_ID4P",
        "colab_type": "text"
      },
      "source": [
        "## Extracting and Storing Features from F3 channel"
      ]
    },
    {
      "cell_type": "code",
      "metadata": {
        "id": "IW7BR87rIJ1u",
        "colab_type": "code",
        "colab": {
          "base_uri": "https://localhost:8080/",
          "height": 229
        },
        "outputId": "726520df-efd9-4f53-f08b-dfccb9054f16"
      },
      "source": [
        "F3 = F3/max(F3)\n",
        "area_F3 = np.array([], dtype = float)\n",
        "for i in range(int(len(F3)/7680)-1):\n",
        "  #print(i)\n",
        "  x = F3[i*7680:i*7680+7680]\n",
        "  x1 = F3[i*7680:i*7680+2*7680]\n",
        "  #print(x)\n",
        "  ar = np.asarray([find_area(x,x1, dim = [dim], tau = tau)],dtype=float)\n",
        "  area_F3 = np.append(area_F3,ar)\n",
        "print(len(area_F3))\n",
        "ar_label['area_F3'] = area_F3\n",
        "ar_label.head()"
      ],
      "execution_count": null,
      "outputs": [
        {
          "output_type": "stream",
          "text": [
            "299\n"
          ],
          "name": "stdout"
        },
        {
          "output_type": "execute_result",
          "data": {
            "text/html": [
              "<div>\n",
              "<style scoped>\n",
              "    .dataframe tbody tr th:only-of-type {\n",
              "        vertical-align: middle;\n",
              "    }\n",
              "\n",
              "    .dataframe tbody tr th {\n",
              "        vertical-align: top;\n",
              "    }\n",
              "\n",
              "    .dataframe thead th {\n",
              "        text-align: right;\n",
              "    }\n",
              "</style>\n",
              "<table border=\"1\" class=\"dataframe\">\n",
              "  <thead>\n",
              "    <tr style=\"text-align: right;\">\n",
              "      <th></th>\n",
              "      <th>area_C3</th>\n",
              "      <th>area_F3</th>\n",
              "    </tr>\n",
              "  </thead>\n",
              "  <tbody>\n",
              "    <tr>\n",
              "      <th>0</th>\n",
              "      <td>6.210094</td>\n",
              "      <td>1.433811</td>\n",
              "    </tr>\n",
              "    <tr>\n",
              "      <th>1</th>\n",
              "      <td>3.230525</td>\n",
              "      <td>0.494932</td>\n",
              "    </tr>\n",
              "    <tr>\n",
              "      <th>2</th>\n",
              "      <td>3.821619</td>\n",
              "      <td>0.576153</td>\n",
              "    </tr>\n",
              "    <tr>\n",
              "      <th>3</th>\n",
              "      <td>0.842749</td>\n",
              "      <td>0.534944</td>\n",
              "    </tr>\n",
              "    <tr>\n",
              "      <th>4</th>\n",
              "      <td>0.841668</td>\n",
              "      <td>0.494932</td>\n",
              "    </tr>\n",
              "  </tbody>\n",
              "</table>\n",
              "</div>"
            ],
            "text/plain": [
              "    area_C3   area_F3\n",
              "0  6.210094  1.433811\n",
              "1  3.230525  0.494932\n",
              "2  3.821619  0.576153\n",
              "3  0.842749  0.534944\n",
              "4  0.841668  0.494932"
            ]
          },
          "metadata": {
            "tags": []
          },
          "execution_count": 35
        },
        {
          "output_type": "display_data",
          "data": {
            "text/plain": [
              "<Figure size 432x288 with 0 Axes>"
            ]
          },
          "metadata": {
            "tags": []
          }
        }
      ]
    },
    {
      "cell_type": "markdown",
      "metadata": {
        "id": "TA-pUVWRINEA",
        "colab_type": "text"
      },
      "source": [
        "## Extracting and Storing Features from O2 channel"
      ]
    },
    {
      "cell_type": "code",
      "metadata": {
        "id": "0qjTZegLIRgP",
        "colab_type": "code",
        "colab": {
          "base_uri": "https://localhost:8080/",
          "height": 229
        },
        "outputId": "6af8b27e-cde3-49d4-8ced-2e66e06ca9f6"
      },
      "source": [
        "O2 = O2/max(O2)\n",
        "area_O2 = np.array([], dtype = float)\n",
        "for i in range(int(len(O2)/7680)-1):\n",
        "  #print(i)\n",
        "  x = O2[i*7680:i*7680+7680]\n",
        "  x1 = O2[i*7680:i*7680+2*7680]\n",
        "  #print(x)\n",
        "  ar = np.asarray([find_area(x,x1, dim = [dim], tau = tau)],dtype=float)\n",
        "  area_O2 = np.append(area_O2,ar)\n",
        "print(len(area_O2))\n",
        "ar_label['area_O2'] = area_O2\n",
        "ar_label.head()"
      ],
      "execution_count": null,
      "outputs": [
        {
          "output_type": "stream",
          "text": [
            "299\n"
          ],
          "name": "stdout"
        },
        {
          "output_type": "execute_result",
          "data": {
            "text/html": [
              "<div>\n",
              "<style scoped>\n",
              "    .dataframe tbody tr th:only-of-type {\n",
              "        vertical-align: middle;\n",
              "    }\n",
              "\n",
              "    .dataframe tbody tr th {\n",
              "        vertical-align: top;\n",
              "    }\n",
              "\n",
              "    .dataframe thead th {\n",
              "        text-align: right;\n",
              "    }\n",
              "</style>\n",
              "<table border=\"1\" class=\"dataframe\">\n",
              "  <thead>\n",
              "    <tr style=\"text-align: right;\">\n",
              "      <th></th>\n",
              "      <th>area_C3</th>\n",
              "      <th>area_F3</th>\n",
              "      <th>area_O2</th>\n",
              "    </tr>\n",
              "  </thead>\n",
              "  <tbody>\n",
              "    <tr>\n",
              "      <th>0</th>\n",
              "      <td>6.210094</td>\n",
              "      <td>1.433811</td>\n",
              "      <td>7.966651</td>\n",
              "    </tr>\n",
              "    <tr>\n",
              "      <th>1</th>\n",
              "      <td>3.230525</td>\n",
              "      <td>0.494932</td>\n",
              "      <td>7.379974</td>\n",
              "    </tr>\n",
              "    <tr>\n",
              "      <th>2</th>\n",
              "      <td>3.821619</td>\n",
              "      <td>0.576153</td>\n",
              "      <td>1.484779</td>\n",
              "    </tr>\n",
              "    <tr>\n",
              "      <th>3</th>\n",
              "      <td>0.842749</td>\n",
              "      <td>0.534944</td>\n",
              "      <td>1.688526</td>\n",
              "    </tr>\n",
              "    <tr>\n",
              "      <th>4</th>\n",
              "      <td>0.841668</td>\n",
              "      <td>0.494932</td>\n",
              "      <td>1.879593</td>\n",
              "    </tr>\n",
              "  </tbody>\n",
              "</table>\n",
              "</div>"
            ],
            "text/plain": [
              "    area_C3   area_F3   area_O2\n",
              "0  6.210094  1.433811  7.966651\n",
              "1  3.230525  0.494932  7.379974\n",
              "2  3.821619  0.576153  1.484779\n",
              "3  0.842749  0.534944  1.688526\n",
              "4  0.841668  0.494932  1.879593"
            ]
          },
          "metadata": {
            "tags": []
          },
          "execution_count": 36
        },
        {
          "output_type": "display_data",
          "data": {
            "text/plain": [
              "<Figure size 432x288 with 0 Axes>"
            ]
          },
          "metadata": {
            "tags": []
          }
        }
      ]
    },
    {
      "cell_type": "markdown",
      "metadata": {
        "id": "1zMgXoMQIUad",
        "colab_type": "text"
      },
      "source": [
        "## Extracting and Storing Features from ECG channel"
      ]
    },
    {
      "cell_type": "code",
      "metadata": {
        "id": "XSUT_k0KIa_9",
        "colab_type": "code",
        "colab": {
          "base_uri": "https://localhost:8080/",
          "height": 229
        },
        "outputId": "830840aa-2b2c-4518-d71c-57e6a20d0a2d"
      },
      "source": [
        "ECG = ECG/max(ECG)\n",
        "area_ECG = np.array([], dtype = float)\n",
        "for i in range(int(len(ECG)/7680)-1):\n",
        "  #print(i)\n",
        "  x = ECG[i*7680:i*7680+7680]\n",
        "  x1 = ECG[i*7680:i*7680+2*7680]\n",
        "  #print(x)\n",
        "  ar = np.asarray([find_area(x,x1, dim = [dim], tau = tau)],dtype=float)\n",
        "  area_ECG = np.append(area_ECG,ar)\n",
        "print(len(area_ECG))\n",
        "ar_label['area_ECG'] = area_ECG\n",
        "ar_label.head()"
      ],
      "execution_count": null,
      "outputs": [
        {
          "output_type": "stream",
          "text": [
            "299\n"
          ],
          "name": "stdout"
        },
        {
          "output_type": "execute_result",
          "data": {
            "text/html": [
              "<div>\n",
              "<style scoped>\n",
              "    .dataframe tbody tr th:only-of-type {\n",
              "        vertical-align: middle;\n",
              "    }\n",
              "\n",
              "    .dataframe tbody tr th {\n",
              "        vertical-align: top;\n",
              "    }\n",
              "\n",
              "    .dataframe thead th {\n",
              "        text-align: right;\n",
              "    }\n",
              "</style>\n",
              "<table border=\"1\" class=\"dataframe\">\n",
              "  <thead>\n",
              "    <tr style=\"text-align: right;\">\n",
              "      <th></th>\n",
              "      <th>area_C3</th>\n",
              "      <th>area_F3</th>\n",
              "      <th>area_O2</th>\n",
              "      <th>area_ECG</th>\n",
              "    </tr>\n",
              "  </thead>\n",
              "  <tbody>\n",
              "    <tr>\n",
              "      <th>0</th>\n",
              "      <td>6.210094</td>\n",
              "      <td>1.433811</td>\n",
              "      <td>7.966651</td>\n",
              "      <td>31.348936</td>\n",
              "    </tr>\n",
              "    <tr>\n",
              "      <th>1</th>\n",
              "      <td>3.230525</td>\n",
              "      <td>0.494932</td>\n",
              "      <td>7.379974</td>\n",
              "      <td>29.983543</td>\n",
              "    </tr>\n",
              "    <tr>\n",
              "      <th>2</th>\n",
              "      <td>3.821619</td>\n",
              "      <td>0.576153</td>\n",
              "      <td>1.484779</td>\n",
              "      <td>30.955552</td>\n",
              "    </tr>\n",
              "    <tr>\n",
              "      <th>3</th>\n",
              "      <td>0.842749</td>\n",
              "      <td>0.534944</td>\n",
              "      <td>1.688526</td>\n",
              "      <td>41.580560</td>\n",
              "    </tr>\n",
              "    <tr>\n",
              "      <th>4</th>\n",
              "      <td>0.841668</td>\n",
              "      <td>0.494932</td>\n",
              "      <td>1.879593</td>\n",
              "      <td>16.862991</td>\n",
              "    </tr>\n",
              "  </tbody>\n",
              "</table>\n",
              "</div>"
            ],
            "text/plain": [
              "    area_C3   area_F3   area_O2   area_ECG\n",
              "0  6.210094  1.433811  7.966651  31.348936\n",
              "1  3.230525  0.494932  7.379974  29.983543\n",
              "2  3.821619  0.576153  1.484779  30.955552\n",
              "3  0.842749  0.534944  1.688526  41.580560\n",
              "4  0.841668  0.494932  1.879593  16.862991"
            ]
          },
          "metadata": {
            "tags": []
          },
          "execution_count": 37
        },
        {
          "output_type": "display_data",
          "data": {
            "text/plain": [
              "<Figure size 432x288 with 0 Axes>"
            ]
          },
          "metadata": {
            "tags": []
          }
        }
      ]
    },
    {
      "cell_type": "code",
      "metadata": {
        "id": "rBUtZFnUJGOb",
        "colab_type": "code",
        "colab": {
          "base_uri": "https://localhost:8080/",
          "height": 195
        },
        "outputId": "e4d5f7ed-c6c1-4404-b8c8-6fb3f731cd4d"
      },
      "source": [
        "ar_label.to_csv('Feature_C3_F3_O2_ECG_nolabel_Arnavi_constant_tau_dim.csv', index = False)\n",
        "df = pd.read_csv('Feature_C3_F3_O2_ECG_nolabel_Arnavi_constant_tau_dim.csv')\n",
        "df.head()"
      ],
      "execution_count": null,
      "outputs": [
        {
          "output_type": "execute_result",
          "data": {
            "text/html": [
              "<div>\n",
              "<style scoped>\n",
              "    .dataframe tbody tr th:only-of-type {\n",
              "        vertical-align: middle;\n",
              "    }\n",
              "\n",
              "    .dataframe tbody tr th {\n",
              "        vertical-align: top;\n",
              "    }\n",
              "\n",
              "    .dataframe thead th {\n",
              "        text-align: right;\n",
              "    }\n",
              "</style>\n",
              "<table border=\"1\" class=\"dataframe\">\n",
              "  <thead>\n",
              "    <tr style=\"text-align: right;\">\n",
              "      <th></th>\n",
              "      <th>area_C3</th>\n",
              "      <th>area_F3</th>\n",
              "      <th>area_O2</th>\n",
              "      <th>area_ECG</th>\n",
              "    </tr>\n",
              "  </thead>\n",
              "  <tbody>\n",
              "    <tr>\n",
              "      <th>0</th>\n",
              "      <td>6.210094</td>\n",
              "      <td>1.433811</td>\n",
              "      <td>7.966651</td>\n",
              "      <td>31.348936</td>\n",
              "    </tr>\n",
              "    <tr>\n",
              "      <th>1</th>\n",
              "      <td>3.230525</td>\n",
              "      <td>0.494932</td>\n",
              "      <td>7.379974</td>\n",
              "      <td>29.983543</td>\n",
              "    </tr>\n",
              "    <tr>\n",
              "      <th>2</th>\n",
              "      <td>3.821619</td>\n",
              "      <td>0.576153</td>\n",
              "      <td>1.484779</td>\n",
              "      <td>30.955552</td>\n",
              "    </tr>\n",
              "    <tr>\n",
              "      <th>3</th>\n",
              "      <td>0.842749</td>\n",
              "      <td>0.534944</td>\n",
              "      <td>1.688526</td>\n",
              "      <td>41.580560</td>\n",
              "    </tr>\n",
              "    <tr>\n",
              "      <th>4</th>\n",
              "      <td>0.841668</td>\n",
              "      <td>0.494932</td>\n",
              "      <td>1.879593</td>\n",
              "      <td>16.862991</td>\n",
              "    </tr>\n",
              "  </tbody>\n",
              "</table>\n",
              "</div>"
            ],
            "text/plain": [
              "    area_C3   area_F3   area_O2   area_ECG\n",
              "0  6.210094  1.433811  7.966651  31.348936\n",
              "1  3.230525  0.494932  7.379974  29.983543\n",
              "2  3.821619  0.576153  1.484779  30.955552\n",
              "3  0.842749  0.534944  1.688526  41.580560\n",
              "4  0.841668  0.494932  1.879593  16.862991"
            ]
          },
          "metadata": {
            "tags": []
          },
          "execution_count": 38
        }
      ]
    },
    {
      "cell_type": "markdown",
      "metadata": {
        "id": "k_uhmIZhJT4Y",
        "colab_type": "text"
      },
      "source": [
        "# Extracting Features from Ashi"
      ]
    },
    {
      "cell_type": "code",
      "metadata": {
        "id": "0y97c1QtJbBY",
        "colab_type": "code",
        "colab": {
          "base_uri": "https://localhost:8080/",
          "height": 34
        },
        "outputId": "0c15eeb3-4ede-4f45-8a0b-11cbd22e8cd9"
      },
      "source": [
        "cd ../Ashi\\ Jaini"
      ],
      "execution_count": null,
      "outputs": [
        {
          "output_type": "stream",
          "text": [
            "/content/drive/My Drive/Sleep data/Ashi Jaini\n"
          ],
          "name": "stdout"
        }
      ]
    },
    {
      "cell_type": "code",
      "metadata": {
        "id": "yGtub0ubJdQb",
        "colab_type": "code",
        "colab": {
          "base_uri": "https://localhost:8080/",
          "height": 50
        },
        "outputId": "6a65b49e-6605-480a-e7f3-7863f648a934"
      },
      "source": [
        "ls"
      ],
      "execution_count": null,
      "outputs": [
        {
          "output_type": "stream",
          "text": [
            "'C3 - 10.07.2019.txt'   'F3 - 10.07.2019.txt'\n",
            "'ECG - 10.07.2019.txt'  'O2 - 10.07.2019.txt'\n"
          ],
          "name": "stdout"
        }
      ]
    },
    {
      "cell_type": "markdown",
      "metadata": {
        "id": "eKPvZ8yUJkfl",
        "colab_type": "text"
      },
      "source": [
        "## Storing data into csv file"
      ]
    },
    {
      "cell_type": "code",
      "metadata": {
        "id": "B8rBijFPJnmf",
        "colab_type": "code",
        "colab": {
          "base_uri": "https://localhost:8080/",
          "height": 154
        },
        "outputId": "42c481b1-9179-4783-d27a-fd78327433d7"
      },
      "source": [
        "C3 = txt_to_arr('C3 - 10.07.2019.txt')\n",
        "F3 = txt_to_arr('F3 - 10.07.2019.txt')\n",
        "O2 = txt_to_arr('O2 - 10.07.2019.txt')\n",
        "ECG = txt_to_arr('ECG - 10.07.2019.txt')\n",
        "ECG = ECG[range(0, len(ECG), 2)]\n",
        "len(C3), len(F3), len(O2), len(ECG)"
      ],
      "execution_count": null,
      "outputs": [
        {
          "output_type": "stream",
          "text": [
            "/usr/local/lib/python3.6/dist-packages/IPython/core/interactiveshell.py:2822: DtypeWarning: Columns (0) have mixed types.Specify dtype option on import or set low_memory=False.\n",
            "  if self.run_code(code, result):\n"
          ],
          "name": "stderr"
        },
        {
          "output_type": "stream",
          "text": [
            "Length of data :  2012160\n",
            "Length of data :  2012160\n",
            "Length of data :  2012160\n",
            "Length of data :  4024320\n"
          ],
          "name": "stdout"
        },
        {
          "output_type": "execute_result",
          "data": {
            "text/plain": [
              "(2012160, 2012160, 2012160, 2012160)"
            ]
          },
          "metadata": {
            "tags": []
          },
          "execution_count": 43
        }
      ]
    },
    {
      "cell_type": "code",
      "metadata": {
        "id": "Ce85TDlMKHjW",
        "colab_type": "code",
        "colab": {
          "base_uri": "https://localhost:8080/",
          "height": 195
        },
        "outputId": "58467e7e-f7a3-4488-ac4d-3b9d2b8719a6"
      },
      "source": [
        "df = pd.DataFrame()\n",
        "df['C3'] = C3\n",
        "df['F3'] = F3\n",
        "df['O2'] = O2\n",
        "df['ECG'] = ECG\n",
        "df.to_csv('Ashi_Jaini_C3_F3_O2_ECG.csv', index = None)\n",
        "df.head()"
      ],
      "execution_count": null,
      "outputs": [
        {
          "output_type": "execute_result",
          "data": {
            "text/html": [
              "<div>\n",
              "<style scoped>\n",
              "    .dataframe tbody tr th:only-of-type {\n",
              "        vertical-align: middle;\n",
              "    }\n",
              "\n",
              "    .dataframe tbody tr th {\n",
              "        vertical-align: top;\n",
              "    }\n",
              "\n",
              "    .dataframe thead th {\n",
              "        text-align: right;\n",
              "    }\n",
              "</style>\n",
              "<table border=\"1\" class=\"dataframe\">\n",
              "  <thead>\n",
              "    <tr style=\"text-align: right;\">\n",
              "      <th></th>\n",
              "      <th>C3</th>\n",
              "      <th>F3</th>\n",
              "      <th>O2</th>\n",
              "      <th>ECG</th>\n",
              "    </tr>\n",
              "  </thead>\n",
              "  <tbody>\n",
              "    <tr>\n",
              "      <th>0</th>\n",
              "      <td>0.0</td>\n",
              "      <td>0.0</td>\n",
              "      <td>0.0</td>\n",
              "      <td>0.0</td>\n",
              "    </tr>\n",
              "    <tr>\n",
              "      <th>1</th>\n",
              "      <td>0.0</td>\n",
              "      <td>0.0</td>\n",
              "      <td>0.0</td>\n",
              "      <td>0.0</td>\n",
              "    </tr>\n",
              "    <tr>\n",
              "      <th>2</th>\n",
              "      <td>0.0</td>\n",
              "      <td>0.0</td>\n",
              "      <td>0.0</td>\n",
              "      <td>0.0</td>\n",
              "    </tr>\n",
              "    <tr>\n",
              "      <th>3</th>\n",
              "      <td>0.0</td>\n",
              "      <td>0.0</td>\n",
              "      <td>0.0</td>\n",
              "      <td>0.0</td>\n",
              "    </tr>\n",
              "    <tr>\n",
              "      <th>4</th>\n",
              "      <td>0.0</td>\n",
              "      <td>0.0</td>\n",
              "      <td>0.0</td>\n",
              "      <td>0.0</td>\n",
              "    </tr>\n",
              "  </tbody>\n",
              "</table>\n",
              "</div>"
            ],
            "text/plain": [
              "    C3   F3   O2  ECG\n",
              "0  0.0  0.0  0.0  0.0\n",
              "1  0.0  0.0  0.0  0.0\n",
              "2  0.0  0.0  0.0  0.0\n",
              "3  0.0  0.0  0.0  0.0\n",
              "4  0.0  0.0  0.0  0.0"
            ]
          },
          "metadata": {
            "tags": []
          },
          "execution_count": 45
        }
      ]
    },
    {
      "cell_type": "markdown",
      "metadata": {
        "id": "wIzg51cpKfVW",
        "colab_type": "text"
      },
      "source": [
        "## Reading the csv file"
      ]
    },
    {
      "cell_type": "code",
      "metadata": {
        "id": "qJqxd0bTKicH",
        "colab_type": "code",
        "colab": {
          "base_uri": "https://localhost:8080/",
          "height": 195
        },
        "outputId": "afbc4c7d-9dcb-4c3f-aa3b-009617a8ba8e"
      },
      "source": [
        "df = pd.read_csv('Ashi_Jaini_C3_F3_O2_ECG.csv')\n",
        "df.head()"
      ],
      "execution_count": null,
      "outputs": [
        {
          "output_type": "execute_result",
          "data": {
            "text/html": [
              "<div>\n",
              "<style scoped>\n",
              "    .dataframe tbody tr th:only-of-type {\n",
              "        vertical-align: middle;\n",
              "    }\n",
              "\n",
              "    .dataframe tbody tr th {\n",
              "        vertical-align: top;\n",
              "    }\n",
              "\n",
              "    .dataframe thead th {\n",
              "        text-align: right;\n",
              "    }\n",
              "</style>\n",
              "<table border=\"1\" class=\"dataframe\">\n",
              "  <thead>\n",
              "    <tr style=\"text-align: right;\">\n",
              "      <th></th>\n",
              "      <th>C3</th>\n",
              "      <th>F3</th>\n",
              "      <th>O2</th>\n",
              "      <th>ECG</th>\n",
              "    </tr>\n",
              "  </thead>\n",
              "  <tbody>\n",
              "    <tr>\n",
              "      <th>0</th>\n",
              "      <td>0.0</td>\n",
              "      <td>0.0</td>\n",
              "      <td>0.0</td>\n",
              "      <td>0.0</td>\n",
              "    </tr>\n",
              "    <tr>\n",
              "      <th>1</th>\n",
              "      <td>0.0</td>\n",
              "      <td>0.0</td>\n",
              "      <td>0.0</td>\n",
              "      <td>0.0</td>\n",
              "    </tr>\n",
              "    <tr>\n",
              "      <th>2</th>\n",
              "      <td>0.0</td>\n",
              "      <td>0.0</td>\n",
              "      <td>0.0</td>\n",
              "      <td>0.0</td>\n",
              "    </tr>\n",
              "    <tr>\n",
              "      <th>3</th>\n",
              "      <td>0.0</td>\n",
              "      <td>0.0</td>\n",
              "      <td>0.0</td>\n",
              "      <td>0.0</td>\n",
              "    </tr>\n",
              "    <tr>\n",
              "      <th>4</th>\n",
              "      <td>0.0</td>\n",
              "      <td>0.0</td>\n",
              "      <td>0.0</td>\n",
              "      <td>0.0</td>\n",
              "    </tr>\n",
              "  </tbody>\n",
              "</table>\n",
              "</div>"
            ],
            "text/plain": [
              "    C3   F3   O2  ECG\n",
              "0  0.0  0.0  0.0  0.0\n",
              "1  0.0  0.0  0.0  0.0\n",
              "2  0.0  0.0  0.0  0.0\n",
              "3  0.0  0.0  0.0  0.0\n",
              "4  0.0  0.0  0.0  0.0"
            ]
          },
          "metadata": {
            "tags": []
          },
          "execution_count": 46
        }
      ]
    },
    {
      "cell_type": "code",
      "metadata": {
        "id": "ZZakIGgKKtMc",
        "colab_type": "code",
        "colab": {
          "base_uri": "https://localhost:8080/",
          "height": 34
        },
        "outputId": "9318595d-18b8-4a36-be6f-293c6ff93f62"
      },
      "source": [
        "C3 = df.C3.values\n",
        "F3 = df.F3.values\n",
        "O2 = df.O2.values\n",
        "ECG = df.ECG.values\n",
        "len(C3), len(F3), len(O2), len(ECG)"
      ],
      "execution_count": null,
      "outputs": [
        {
          "output_type": "execute_result",
          "data": {
            "text/plain": [
              "(2012160, 2012160, 2012160, 2012160)"
            ]
          },
          "metadata": {
            "tags": []
          },
          "execution_count": 47
        }
      ]
    },
    {
      "cell_type": "markdown",
      "metadata": {
        "id": "voYr2h5BKx2x",
        "colab_type": "text"
      },
      "source": [
        "## Extracting and Storing Features from C3 channel"
      ]
    },
    {
      "cell_type": "code",
      "metadata": {
        "id": "T_rN0q6mKw4e",
        "colab_type": "code",
        "colab": {
          "base_uri": "https://localhost:8080/",
          "height": 229
        },
        "outputId": "5bf86bbe-9f7e-4069-a832-f02ba902f460"
      },
      "source": [
        "C3 = C3/max(C3)\n",
        "area_C3 = np.array([], dtype = float)\n",
        "for i in range(int(len(C3)/7680)-1):\n",
        "  #print(i)\n",
        "  x = C3[i*7680:i*7680+7680]\n",
        "  x1 = C3[i*7680:i*7680+2*7680]\n",
        "  #print(x)\n",
        "  ar = np.asarray([find_area(x,x1, dim = [dim], tau = tau)],dtype=float)\n",
        "  area_C3 = np.append(area_C3,ar)\n",
        "print(len(area_C3))\n",
        "ar_label = pd.DataFrame({'area_C3':area_C3})\n",
        "ar_label.head()"
      ],
      "execution_count": null,
      "outputs": [
        {
          "output_type": "stream",
          "text": [
            "261\n"
          ],
          "name": "stdout"
        },
        {
          "output_type": "execute_result",
          "data": {
            "text/html": [
              "<div>\n",
              "<style scoped>\n",
              "    .dataframe tbody tr th:only-of-type {\n",
              "        vertical-align: middle;\n",
              "    }\n",
              "\n",
              "    .dataframe tbody tr th {\n",
              "        vertical-align: top;\n",
              "    }\n",
              "\n",
              "    .dataframe thead th {\n",
              "        text-align: right;\n",
              "    }\n",
              "</style>\n",
              "<table border=\"1\" class=\"dataframe\">\n",
              "  <thead>\n",
              "    <tr style=\"text-align: right;\">\n",
              "      <th></th>\n",
              "      <th>area_C3</th>\n",
              "    </tr>\n",
              "  </thead>\n",
              "  <tbody>\n",
              "    <tr>\n",
              "      <th>0</th>\n",
              "      <td>30.000000</td>\n",
              "    </tr>\n",
              "    <tr>\n",
              "      <th>1</th>\n",
              "      <td>30.000000</td>\n",
              "    </tr>\n",
              "    <tr>\n",
              "      <th>2</th>\n",
              "      <td>2.468172</td>\n",
              "    </tr>\n",
              "    <tr>\n",
              "      <th>3</th>\n",
              "      <td>5.235664</td>\n",
              "    </tr>\n",
              "    <tr>\n",
              "      <th>4</th>\n",
              "      <td>5.148358</td>\n",
              "    </tr>\n",
              "  </tbody>\n",
              "</table>\n",
              "</div>"
            ],
            "text/plain": [
              "     area_C3\n",
              "0  30.000000\n",
              "1  30.000000\n",
              "2   2.468172\n",
              "3   5.235664\n",
              "4   5.148358"
            ]
          },
          "metadata": {
            "tags": []
          },
          "execution_count": 48
        },
        {
          "output_type": "display_data",
          "data": {
            "text/plain": [
              "<Figure size 432x288 with 0 Axes>"
            ]
          },
          "metadata": {
            "tags": []
          }
        }
      ]
    },
    {
      "cell_type": "markdown",
      "metadata": {
        "id": "wCgVQefgK3Gw",
        "colab_type": "text"
      },
      "source": [
        "## Extracting and Storing Features from F3 channel"
      ]
    },
    {
      "cell_type": "code",
      "metadata": {
        "id": "-0XWQgDjK9yY",
        "colab_type": "code",
        "colab": {
          "base_uri": "https://localhost:8080/",
          "height": 229
        },
        "outputId": "5df1b472-b6e5-45f8-d3c8-b58efddd4cd9"
      },
      "source": [
        "F3 = F3/max(F3)\n",
        "area_F3 = np.array([], dtype = float)\n",
        "for i in range(int(len(F3)/7680)-1):\n",
        "  #print(i)\n",
        "  x = F3[i*7680:i*7680+7680]\n",
        "  x1 = F3[i*7680:i*7680+2*7680]\n",
        "  #print(x)\n",
        "  ar = np.asarray([find_area(x,x1, dim = [dim], tau = tau)],dtype=float)\n",
        "  area_F3 = np.append(area_F3,ar)\n",
        "print(len(area_F3))\n",
        "ar_label['area_F3'] = area_F3\n",
        "ar_label.head()"
      ],
      "execution_count": null,
      "outputs": [
        {
          "output_type": "stream",
          "text": [
            "261\n"
          ],
          "name": "stdout"
        },
        {
          "output_type": "execute_result",
          "data": {
            "text/html": [
              "<div>\n",
              "<style scoped>\n",
              "    .dataframe tbody tr th:only-of-type {\n",
              "        vertical-align: middle;\n",
              "    }\n",
              "\n",
              "    .dataframe tbody tr th {\n",
              "        vertical-align: top;\n",
              "    }\n",
              "\n",
              "    .dataframe thead th {\n",
              "        text-align: right;\n",
              "    }\n",
              "</style>\n",
              "<table border=\"1\" class=\"dataframe\">\n",
              "  <thead>\n",
              "    <tr style=\"text-align: right;\">\n",
              "      <th></th>\n",
              "      <th>area_C3</th>\n",
              "      <th>area_F3</th>\n",
              "    </tr>\n",
              "  </thead>\n",
              "  <tbody>\n",
              "    <tr>\n",
              "      <th>0</th>\n",
              "      <td>30.000000</td>\n",
              "      <td>30.000000</td>\n",
              "    </tr>\n",
              "    <tr>\n",
              "      <th>1</th>\n",
              "      <td>30.000000</td>\n",
              "      <td>30.000000</td>\n",
              "    </tr>\n",
              "    <tr>\n",
              "      <th>2</th>\n",
              "      <td>2.468172</td>\n",
              "      <td>2.583993</td>\n",
              "    </tr>\n",
              "    <tr>\n",
              "      <th>3</th>\n",
              "      <td>5.235664</td>\n",
              "      <td>6.076265</td>\n",
              "    </tr>\n",
              "    <tr>\n",
              "      <th>4</th>\n",
              "      <td>5.148358</td>\n",
              "      <td>4.871707</td>\n",
              "    </tr>\n",
              "  </tbody>\n",
              "</table>\n",
              "</div>"
            ],
            "text/plain": [
              "     area_C3    area_F3\n",
              "0  30.000000  30.000000\n",
              "1  30.000000  30.000000\n",
              "2   2.468172   2.583993\n",
              "3   5.235664   6.076265\n",
              "4   5.148358   4.871707"
            ]
          },
          "metadata": {
            "tags": []
          },
          "execution_count": 49
        },
        {
          "output_type": "display_data",
          "data": {
            "text/plain": [
              "<Figure size 432x288 with 0 Axes>"
            ]
          },
          "metadata": {
            "tags": []
          }
        }
      ]
    },
    {
      "cell_type": "markdown",
      "metadata": {
        "id": "p3JAkw0LLBlG",
        "colab_type": "text"
      },
      "source": [
        "## Extracting and Storing Features from O2 channel"
      ]
    },
    {
      "cell_type": "code",
      "metadata": {
        "id": "I2Gr2sgFLGLb",
        "colab_type": "code",
        "colab": {
          "base_uri": "https://localhost:8080/",
          "height": 229
        },
        "outputId": "9ac329ce-1fe2-4afd-ea82-db09db4d5dc4"
      },
      "source": [
        "O2 = O2/max(O2)\n",
        "area_O2 = np.array([], dtype = float)\n",
        "for i in range(int(len(O2)/7680)-1):\n",
        "  #print(i)\n",
        "  x = O2[i*7680:i*7680+7680]\n",
        "  x1 = O2[i*7680:i*7680+2*7680]\n",
        "  #print(x)\n",
        "  ar = np.asarray([find_area(x,x1, dim = [dim], tau = tau)],dtype=float)\n",
        "  area_O2 = np.append(area_O2,ar)\n",
        "print(len(area_O2))\n",
        "ar_label['area_O2'] = area_O2\n",
        "ar_label.head()"
      ],
      "execution_count": null,
      "outputs": [
        {
          "output_type": "stream",
          "text": [
            "261\n"
          ],
          "name": "stdout"
        },
        {
          "output_type": "execute_result",
          "data": {
            "text/html": [
              "<div>\n",
              "<style scoped>\n",
              "    .dataframe tbody tr th:only-of-type {\n",
              "        vertical-align: middle;\n",
              "    }\n",
              "\n",
              "    .dataframe tbody tr th {\n",
              "        vertical-align: top;\n",
              "    }\n",
              "\n",
              "    .dataframe thead th {\n",
              "        text-align: right;\n",
              "    }\n",
              "</style>\n",
              "<table border=\"1\" class=\"dataframe\">\n",
              "  <thead>\n",
              "    <tr style=\"text-align: right;\">\n",
              "      <th></th>\n",
              "      <th>area_C3</th>\n",
              "      <th>area_F3</th>\n",
              "      <th>area_O2</th>\n",
              "    </tr>\n",
              "  </thead>\n",
              "  <tbody>\n",
              "    <tr>\n",
              "      <th>0</th>\n",
              "      <td>30.000000</td>\n",
              "      <td>30.000000</td>\n",
              "      <td>30.000000</td>\n",
              "    </tr>\n",
              "    <tr>\n",
              "      <th>1</th>\n",
              "      <td>30.000000</td>\n",
              "      <td>30.000000</td>\n",
              "      <td>30.000000</td>\n",
              "    </tr>\n",
              "    <tr>\n",
              "      <th>2</th>\n",
              "      <td>2.468172</td>\n",
              "      <td>2.583993</td>\n",
              "      <td>2.839266</td>\n",
              "    </tr>\n",
              "    <tr>\n",
              "      <th>3</th>\n",
              "      <td>5.235664</td>\n",
              "      <td>6.076265</td>\n",
              "      <td>8.621127</td>\n",
              "    </tr>\n",
              "    <tr>\n",
              "      <th>4</th>\n",
              "      <td>5.148358</td>\n",
              "      <td>4.871707</td>\n",
              "      <td>4.835506</td>\n",
              "    </tr>\n",
              "  </tbody>\n",
              "</table>\n",
              "</div>"
            ],
            "text/plain": [
              "     area_C3    area_F3    area_O2\n",
              "0  30.000000  30.000000  30.000000\n",
              "1  30.000000  30.000000  30.000000\n",
              "2   2.468172   2.583993   2.839266\n",
              "3   5.235664   6.076265   8.621127\n",
              "4   5.148358   4.871707   4.835506"
            ]
          },
          "metadata": {
            "tags": []
          },
          "execution_count": 50
        },
        {
          "output_type": "display_data",
          "data": {
            "text/plain": [
              "<Figure size 432x288 with 0 Axes>"
            ]
          },
          "metadata": {
            "tags": []
          }
        }
      ]
    },
    {
      "cell_type": "markdown",
      "metadata": {
        "id": "oUQ0rgOuLG1L",
        "colab_type": "text"
      },
      "source": [
        "## Extracting and Storing Features from ECG channel"
      ]
    },
    {
      "cell_type": "code",
      "metadata": {
        "id": "3ZpRSbYsLKuY",
        "colab_type": "code",
        "colab": {
          "base_uri": "https://localhost:8080/",
          "height": 229
        },
        "outputId": "bde94630-e59f-4b5a-b36e-f441da613d41"
      },
      "source": [
        "ECG = ECG/max(ECG)\n",
        "area_ECG = np.array([], dtype = float)\n",
        "for i in range(int(len(ECG)/7680)-1):\n",
        "  #print(i)\n",
        "  x = ECG[i*7680:i*7680+7680]\n",
        "  x1 = ECG[i*7680:i*7680+2*7680]\n",
        "  #print(x)\n",
        "  ar = np.asarray([find_area(x,x1, dim = [dim], tau = tau)],dtype=float)\n",
        "  area_ECG = np.append(area_ECG,ar)\n",
        "print(len(area_ECG))\n",
        "ar_label['area_ECG'] = area_ECG\n",
        "ar_label.head()"
      ],
      "execution_count": null,
      "outputs": [
        {
          "output_type": "stream",
          "text": [
            "261\n"
          ],
          "name": "stdout"
        },
        {
          "output_type": "execute_result",
          "data": {
            "text/html": [
              "<div>\n",
              "<style scoped>\n",
              "    .dataframe tbody tr th:only-of-type {\n",
              "        vertical-align: middle;\n",
              "    }\n",
              "\n",
              "    .dataframe tbody tr th {\n",
              "        vertical-align: top;\n",
              "    }\n",
              "\n",
              "    .dataframe thead th {\n",
              "        text-align: right;\n",
              "    }\n",
              "</style>\n",
              "<table border=\"1\" class=\"dataframe\">\n",
              "  <thead>\n",
              "    <tr style=\"text-align: right;\">\n",
              "      <th></th>\n",
              "      <th>area_C3</th>\n",
              "      <th>area_F3</th>\n",
              "      <th>area_O2</th>\n",
              "      <th>area_ECG</th>\n",
              "    </tr>\n",
              "  </thead>\n",
              "  <tbody>\n",
              "    <tr>\n",
              "      <th>0</th>\n",
              "      <td>30.000000</td>\n",
              "      <td>30.000000</td>\n",
              "      <td>30.000000</td>\n",
              "      <td>30.000000</td>\n",
              "    </tr>\n",
              "    <tr>\n",
              "      <th>1</th>\n",
              "      <td>30.000000</td>\n",
              "      <td>30.000000</td>\n",
              "      <td>30.000000</td>\n",
              "      <td>30.000000</td>\n",
              "    </tr>\n",
              "    <tr>\n",
              "      <th>2</th>\n",
              "      <td>2.468172</td>\n",
              "      <td>2.583993</td>\n",
              "      <td>2.839266</td>\n",
              "      <td>18.663955</td>\n",
              "    </tr>\n",
              "    <tr>\n",
              "      <th>3</th>\n",
              "      <td>5.235664</td>\n",
              "      <td>6.076265</td>\n",
              "      <td>8.621127</td>\n",
              "      <td>19.340948</td>\n",
              "    </tr>\n",
              "    <tr>\n",
              "      <th>4</th>\n",
              "      <td>5.148358</td>\n",
              "      <td>4.871707</td>\n",
              "      <td>4.835506</td>\n",
              "      <td>16.822310</td>\n",
              "    </tr>\n",
              "  </tbody>\n",
              "</table>\n",
              "</div>"
            ],
            "text/plain": [
              "     area_C3    area_F3    area_O2   area_ECG\n",
              "0  30.000000  30.000000  30.000000  30.000000\n",
              "1  30.000000  30.000000  30.000000  30.000000\n",
              "2   2.468172   2.583993   2.839266  18.663955\n",
              "3   5.235664   6.076265   8.621127  19.340948\n",
              "4   5.148358   4.871707   4.835506  16.822310"
            ]
          },
          "metadata": {
            "tags": []
          },
          "execution_count": 51
        },
        {
          "output_type": "display_data",
          "data": {
            "text/plain": [
              "<Figure size 432x288 with 0 Axes>"
            ]
          },
          "metadata": {
            "tags": []
          }
        }
      ]
    },
    {
      "cell_type": "code",
      "metadata": {
        "id": "ySrDYW_uLTIs",
        "colab_type": "code",
        "colab": {
          "base_uri": "https://localhost:8080/",
          "height": 195
        },
        "outputId": "c73bccdf-df70-48a8-b519-f96f786e539d"
      },
      "source": [
        "ar_label.to_csv('Feature_C3_F3_O2_ECG_nolabel_Ashi_constant_tau_dim.csv', index = False)\n",
        "df = pd.read_csv('Feature_C3_F3_O2_ECG_nolabel_Ashi_constant_tau_dim.csv')\n",
        "df.head()"
      ],
      "execution_count": null,
      "outputs": [
        {
          "output_type": "execute_result",
          "data": {
            "text/html": [
              "<div>\n",
              "<style scoped>\n",
              "    .dataframe tbody tr th:only-of-type {\n",
              "        vertical-align: middle;\n",
              "    }\n",
              "\n",
              "    .dataframe tbody tr th {\n",
              "        vertical-align: top;\n",
              "    }\n",
              "\n",
              "    .dataframe thead th {\n",
              "        text-align: right;\n",
              "    }\n",
              "</style>\n",
              "<table border=\"1\" class=\"dataframe\">\n",
              "  <thead>\n",
              "    <tr style=\"text-align: right;\">\n",
              "      <th></th>\n",
              "      <th>area_C3</th>\n",
              "      <th>area_F3</th>\n",
              "      <th>area_O2</th>\n",
              "      <th>area_ECG</th>\n",
              "    </tr>\n",
              "  </thead>\n",
              "  <tbody>\n",
              "    <tr>\n",
              "      <th>0</th>\n",
              "      <td>30.000000</td>\n",
              "      <td>30.000000</td>\n",
              "      <td>30.000000</td>\n",
              "      <td>30.000000</td>\n",
              "    </tr>\n",
              "    <tr>\n",
              "      <th>1</th>\n",
              "      <td>30.000000</td>\n",
              "      <td>30.000000</td>\n",
              "      <td>30.000000</td>\n",
              "      <td>30.000000</td>\n",
              "    </tr>\n",
              "    <tr>\n",
              "      <th>2</th>\n",
              "      <td>2.468172</td>\n",
              "      <td>2.583993</td>\n",
              "      <td>2.839266</td>\n",
              "      <td>18.663955</td>\n",
              "    </tr>\n",
              "    <tr>\n",
              "      <th>3</th>\n",
              "      <td>5.235664</td>\n",
              "      <td>6.076265</td>\n",
              "      <td>8.621127</td>\n",
              "      <td>19.340948</td>\n",
              "    </tr>\n",
              "    <tr>\n",
              "      <th>4</th>\n",
              "      <td>5.148358</td>\n",
              "      <td>4.871707</td>\n",
              "      <td>4.835506</td>\n",
              "      <td>16.822310</td>\n",
              "    </tr>\n",
              "  </tbody>\n",
              "</table>\n",
              "</div>"
            ],
            "text/plain": [
              "     area_C3    area_F3    area_O2   area_ECG\n",
              "0  30.000000  30.000000  30.000000  30.000000\n",
              "1  30.000000  30.000000  30.000000  30.000000\n",
              "2   2.468172   2.583993   2.839266  18.663955\n",
              "3   5.235664   6.076265   8.621127  19.340948\n",
              "4   5.148358   4.871707   4.835506  16.822310"
            ]
          },
          "metadata": {
            "tags": []
          },
          "execution_count": 52
        }
      ]
    },
    {
      "cell_type": "markdown",
      "metadata": {
        "id": "PnFNKIfdNb2C",
        "colab_type": "text"
      },
      "source": [
        "# Extracting Features from Durgesh"
      ]
    },
    {
      "cell_type": "code",
      "metadata": {
        "id": "CnDBsPPFVXrK",
        "colab_type": "code",
        "colab": {
          "base_uri": "https://localhost:8080/",
          "height": 34
        },
        "outputId": "7702216a-2ade-4391-feda-f9b90c57ee3d"
      },
      "source": [
        "cd ../Durgesh\\ Singh"
      ],
      "execution_count": null,
      "outputs": [
        {
          "output_type": "stream",
          "text": [
            "/content/drive/My Drive/Sleep data/Durgesh Singh\n"
          ],
          "name": "stdout"
        }
      ]
    },
    {
      "cell_type": "code",
      "metadata": {
        "id": "CA6DBiB0VaWV",
        "colab_type": "code",
        "colab": {
          "base_uri": "https://localhost:8080/",
          "height": 50
        },
        "outputId": "95036028-0f27-48ae-85b6-78aa7e8543e3"
      },
      "source": [
        "ls"
      ],
      "execution_count": null,
      "outputs": [
        {
          "output_type": "stream",
          "text": [
            "'C3 - 05.12.2019.txt'   'F3 - 05.12.2019.txt'\n",
            "'ECG - 05.12.2019.txt'  'O2 - 05.12.2019.txt'\n"
          ],
          "name": "stdout"
        }
      ]
    },
    {
      "cell_type": "markdown",
      "metadata": {
        "id": "StakEavVVmMc",
        "colab_type": "text"
      },
      "source": [
        "## Storing data to csv file"
      ]
    },
    {
      "cell_type": "code",
      "metadata": {
        "id": "ATUO1hWTVeOU",
        "colab_type": "code",
        "colab": {
          "base_uri": "https://localhost:8080/",
          "height": 154
        },
        "outputId": "73f43fd9-b194-4369-b33c-4adfcd27a4ae"
      },
      "source": [
        "C3 = txt_to_arr('C3 - 05.12.2019.txt')\n",
        "F3 = txt_to_arr('F3 - 05.12.2019.txt')\n",
        "O2 = txt_to_arr('O2 - 05.12.2019.txt')\n",
        "ECG = txt_to_arr('ECG - 05.12.2019.txt')\n",
        "ECG = ECG[range(0, len(ECG), 2)]\n",
        "len(C3), len(F3), len(O2), len(ECG)"
      ],
      "execution_count": null,
      "outputs": [
        {
          "output_type": "stream",
          "text": [
            "/usr/local/lib/python3.6/dist-packages/IPython/core/interactiveshell.py:2822: DtypeWarning: Columns (0) have mixed types.Specify dtype option on import or set low_memory=False.\n",
            "  if self.run_code(code, result):\n"
          ],
          "name": "stderr"
        },
        {
          "output_type": "stream",
          "text": [
            "Length of data :  6456126\n",
            "Length of data :  6456126\n",
            "Length of data :  6456126\n",
            "Length of data :  12912251\n"
          ],
          "name": "stdout"
        },
        {
          "output_type": "execute_result",
          "data": {
            "text/plain": [
              "(6456126, 6456126, 6456126, 6456126)"
            ]
          },
          "metadata": {
            "tags": []
          },
          "execution_count": 56
        }
      ]
    },
    {
      "cell_type": "code",
      "metadata": {
        "id": "M9kDQZDPV7at",
        "colab_type": "code",
        "colab": {
          "base_uri": "https://localhost:8080/",
          "height": 195
        },
        "outputId": "56eaf04d-fb2a-47a1-8fe6-8e816db0d02d"
      },
      "source": [
        "df = pd.DataFrame()\n",
        "df['C3'] = C3\n",
        "df['F3'] = F3\n",
        "df['O2'] = O2\n",
        "df['ECG'] = ECG\n",
        "df.to_csv('Durgesh_Singh_C3_F3_O2_ECG.csv', index = None)\n",
        "df.head()"
      ],
      "execution_count": null,
      "outputs": [
        {
          "output_type": "execute_result",
          "data": {
            "text/html": [
              "<div>\n",
              "<style scoped>\n",
              "    .dataframe tbody tr th:only-of-type {\n",
              "        vertical-align: middle;\n",
              "    }\n",
              "\n",
              "    .dataframe tbody tr th {\n",
              "        vertical-align: top;\n",
              "    }\n",
              "\n",
              "    .dataframe thead th {\n",
              "        text-align: right;\n",
              "    }\n",
              "</style>\n",
              "<table border=\"1\" class=\"dataframe\">\n",
              "  <thead>\n",
              "    <tr style=\"text-align: right;\">\n",
              "      <th></th>\n",
              "      <th>C3</th>\n",
              "      <th>F3</th>\n",
              "      <th>O2</th>\n",
              "      <th>ECG</th>\n",
              "    </tr>\n",
              "  </thead>\n",
              "  <tbody>\n",
              "    <tr>\n",
              "      <th>0</th>\n",
              "      <td>38.0</td>\n",
              "      <td>302.0</td>\n",
              "      <td>-5.0</td>\n",
              "      <td>479.0</td>\n",
              "    </tr>\n",
              "    <tr>\n",
              "      <th>1</th>\n",
              "      <td>1.0</td>\n",
              "      <td>-9.0</td>\n",
              "      <td>13.0</td>\n",
              "      <td>331.0</td>\n",
              "    </tr>\n",
              "    <tr>\n",
              "      <th>2</th>\n",
              "      <td>15.0</td>\n",
              "      <td>3.0</td>\n",
              "      <td>8.0</td>\n",
              "      <td>361.0</td>\n",
              "    </tr>\n",
              "    <tr>\n",
              "      <th>3</th>\n",
              "      <td>20.0</td>\n",
              "      <td>2.0</td>\n",
              "      <td>9.0</td>\n",
              "      <td>405.0</td>\n",
              "    </tr>\n",
              "    <tr>\n",
              "      <th>4</th>\n",
              "      <td>26.0</td>\n",
              "      <td>6.0</td>\n",
              "      <td>8.0</td>\n",
              "      <td>338.0</td>\n",
              "    </tr>\n",
              "  </tbody>\n",
              "</table>\n",
              "</div>"
            ],
            "text/plain": [
              "     C3     F3    O2    ECG\n",
              "0  38.0  302.0  -5.0  479.0\n",
              "1   1.0   -9.0  13.0  331.0\n",
              "2  15.0    3.0   8.0  361.0\n",
              "3  20.0    2.0   9.0  405.0\n",
              "4  26.0    6.0   8.0  338.0"
            ]
          },
          "metadata": {
            "tags": []
          },
          "execution_count": 57
        }
      ]
    },
    {
      "cell_type": "markdown",
      "metadata": {
        "id": "Kp5HSxnwWPj2",
        "colab_type": "text"
      },
      "source": [
        "## Reading csv file"
      ]
    },
    {
      "cell_type": "code",
      "metadata": {
        "id": "CUPRx6mnWC4g",
        "colab_type": "code",
        "colab": {
          "base_uri": "https://localhost:8080/",
          "height": 195
        },
        "outputId": "84112e8e-ba34-4289-957d-1594d8f3b0e2"
      },
      "source": [
        "df = pd.read_csv('Durgesh_Singh_C3_F3_O2_ECG.csv')\n",
        "df.head()"
      ],
      "execution_count": null,
      "outputs": [
        {
          "output_type": "execute_result",
          "data": {
            "text/html": [
              "<div>\n",
              "<style scoped>\n",
              "    .dataframe tbody tr th:only-of-type {\n",
              "        vertical-align: middle;\n",
              "    }\n",
              "\n",
              "    .dataframe tbody tr th {\n",
              "        vertical-align: top;\n",
              "    }\n",
              "\n",
              "    .dataframe thead th {\n",
              "        text-align: right;\n",
              "    }\n",
              "</style>\n",
              "<table border=\"1\" class=\"dataframe\">\n",
              "  <thead>\n",
              "    <tr style=\"text-align: right;\">\n",
              "      <th></th>\n",
              "      <th>C3</th>\n",
              "      <th>F3</th>\n",
              "      <th>O2</th>\n",
              "      <th>ECG</th>\n",
              "    </tr>\n",
              "  </thead>\n",
              "  <tbody>\n",
              "    <tr>\n",
              "      <th>0</th>\n",
              "      <td>38.0</td>\n",
              "      <td>302.0</td>\n",
              "      <td>-5.0</td>\n",
              "      <td>479.0</td>\n",
              "    </tr>\n",
              "    <tr>\n",
              "      <th>1</th>\n",
              "      <td>1.0</td>\n",
              "      <td>-9.0</td>\n",
              "      <td>13.0</td>\n",
              "      <td>331.0</td>\n",
              "    </tr>\n",
              "    <tr>\n",
              "      <th>2</th>\n",
              "      <td>15.0</td>\n",
              "      <td>3.0</td>\n",
              "      <td>8.0</td>\n",
              "      <td>361.0</td>\n",
              "    </tr>\n",
              "    <tr>\n",
              "      <th>3</th>\n",
              "      <td>20.0</td>\n",
              "      <td>2.0</td>\n",
              "      <td>9.0</td>\n",
              "      <td>405.0</td>\n",
              "    </tr>\n",
              "    <tr>\n",
              "      <th>4</th>\n",
              "      <td>26.0</td>\n",
              "      <td>6.0</td>\n",
              "      <td>8.0</td>\n",
              "      <td>338.0</td>\n",
              "    </tr>\n",
              "  </tbody>\n",
              "</table>\n",
              "</div>"
            ],
            "text/plain": [
              "     C3     F3    O2    ECG\n",
              "0  38.0  302.0  -5.0  479.0\n",
              "1   1.0   -9.0  13.0  331.0\n",
              "2  15.0    3.0   8.0  361.0\n",
              "3  20.0    2.0   9.0  405.0\n",
              "4  26.0    6.0   8.0  338.0"
            ]
          },
          "metadata": {
            "tags": []
          },
          "execution_count": 58
        }
      ]
    },
    {
      "cell_type": "code",
      "metadata": {
        "id": "_yFL4kaWdfBi",
        "colab_type": "code",
        "colab": {
          "base_uri": "https://localhost:8080/",
          "height": 34
        },
        "outputId": "3e795fcc-dbbb-4c48-bb2d-d1e63595b333"
      },
      "source": [
        "C3 = df.C3.values\n",
        "F3 = df.F3.values\n",
        "O2 = df.O2.values\n",
        "ECG = df.ECG.values\n",
        "len(C3), len(F3), len(O2), len(ECG)"
      ],
      "execution_count": null,
      "outputs": [
        {
          "output_type": "execute_result",
          "data": {
            "text/plain": [
              "(6456126, 6456126, 6456126, 6456126)"
            ]
          },
          "metadata": {
            "tags": []
          },
          "execution_count": 59
        }
      ]
    },
    {
      "cell_type": "markdown",
      "metadata": {
        "id": "Im6xsgmNd_kE",
        "colab_type": "text"
      },
      "source": [
        "## Extracting and Storing Features from C3 channel"
      ]
    },
    {
      "cell_type": "code",
      "metadata": {
        "id": "7EMmOFwOd-AP",
        "colab_type": "code",
        "colab": {
          "base_uri": "https://localhost:8080/",
          "height": 229
        },
        "outputId": "3733cfac-a4fb-4207-fc5e-02698fb3abe8"
      },
      "source": [
        "C3 = C3/max(C3)\n",
        "area_C3 = np.array([], dtype = float)\n",
        "for i in range(int(len(C3)/7680)-1):\n",
        "  #print(i)\n",
        "  x = C3[i*7680:i*7680+7680]\n",
        "  x1 = C3[i*7680:i*7680+2*7680]\n",
        "  #print(x)\n",
        "  ar = np.asarray([find_area(x,x1, dim = [dim], tau = tau)],dtype=float)\n",
        "  area_C3 = np.append(area_C3,ar)\n",
        "print(len(area_C3))\n",
        "ar_label = pd.DataFrame({'area_C3':area_C3})\n",
        "ar_label.head()"
      ],
      "execution_count": null,
      "outputs": [
        {
          "output_type": "stream",
          "text": [
            "839\n"
          ],
          "name": "stdout"
        },
        {
          "output_type": "execute_result",
          "data": {
            "text/html": [
              "<div>\n",
              "<style scoped>\n",
              "    .dataframe tbody tr th:only-of-type {\n",
              "        vertical-align: middle;\n",
              "    }\n",
              "\n",
              "    .dataframe tbody tr th {\n",
              "        vertical-align: top;\n",
              "    }\n",
              "\n",
              "    .dataframe thead th {\n",
              "        text-align: right;\n",
              "    }\n",
              "</style>\n",
              "<table border=\"1\" class=\"dataframe\">\n",
              "  <thead>\n",
              "    <tr style=\"text-align: right;\">\n",
              "      <th></th>\n",
              "      <th>area_C3</th>\n",
              "    </tr>\n",
              "  </thead>\n",
              "  <tbody>\n",
              "    <tr>\n",
              "      <th>0</th>\n",
              "      <td>22.213548</td>\n",
              "    </tr>\n",
              "    <tr>\n",
              "      <th>1</th>\n",
              "      <td>1.042608</td>\n",
              "    </tr>\n",
              "    <tr>\n",
              "      <th>2</th>\n",
              "      <td>2.079507</td>\n",
              "    </tr>\n",
              "    <tr>\n",
              "      <th>3</th>\n",
              "      <td>6.114661</td>\n",
              "    </tr>\n",
              "    <tr>\n",
              "      <th>4</th>\n",
              "      <td>0.863315</td>\n",
              "    </tr>\n",
              "  </tbody>\n",
              "</table>\n",
              "</div>"
            ],
            "text/plain": [
              "     area_C3\n",
              "0  22.213548\n",
              "1   1.042608\n",
              "2   2.079507\n",
              "3   6.114661\n",
              "4   0.863315"
            ]
          },
          "metadata": {
            "tags": []
          },
          "execution_count": 60
        },
        {
          "output_type": "display_data",
          "data": {
            "text/plain": [
              "<Figure size 432x288 with 0 Axes>"
            ]
          },
          "metadata": {
            "tags": []
          }
        }
      ]
    },
    {
      "cell_type": "markdown",
      "metadata": {
        "id": "3wUlA3EVf4jU",
        "colab_type": "text"
      },
      "source": [
        "## Extracting and Features from F3 channel"
      ]
    },
    {
      "cell_type": "code",
      "metadata": {
        "id": "q0___czSf-IN",
        "colab_type": "code",
        "colab": {
          "base_uri": "https://localhost:8080/",
          "height": 229
        },
        "outputId": "7f1f8928-4969-4660-b49c-4b47c731599e"
      },
      "source": [
        "F3 = F3/max(F3)\n",
        "area_F3 = np.array([], dtype = float)\n",
        "for i in range(int(len(F3)/7680)-1):\n",
        "  #print(i)\n",
        "  x = F3[i*7680:i*7680+7680]\n",
        "  x1 = F3[i*7680:i*7680+2*7680]\n",
        "  #print(x)\n",
        "  ar = np.asarray([find_area(x,x1, dim = [dim], tau = tau)],dtype=float)\n",
        "  area_F3 = np.append(area_F3,ar)\n",
        "print(len(area_F3))\n",
        "ar_label['area_F3'] = area_F3\n",
        "ar_label.head()"
      ],
      "execution_count": null,
      "outputs": [
        {
          "output_type": "stream",
          "text": [
            "839\n"
          ],
          "name": "stdout"
        },
        {
          "output_type": "execute_result",
          "data": {
            "text/html": [
              "<div>\n",
              "<style scoped>\n",
              "    .dataframe tbody tr th:only-of-type {\n",
              "        vertical-align: middle;\n",
              "    }\n",
              "\n",
              "    .dataframe tbody tr th {\n",
              "        vertical-align: top;\n",
              "    }\n",
              "\n",
              "    .dataframe thead th {\n",
              "        text-align: right;\n",
              "    }\n",
              "</style>\n",
              "<table border=\"1\" class=\"dataframe\">\n",
              "  <thead>\n",
              "    <tr style=\"text-align: right;\">\n",
              "      <th></th>\n",
              "      <th>area_C3</th>\n",
              "      <th>area_F3</th>\n",
              "    </tr>\n",
              "  </thead>\n",
              "  <tbody>\n",
              "    <tr>\n",
              "      <th>0</th>\n",
              "      <td>22.213548</td>\n",
              "      <td>11.521899</td>\n",
              "    </tr>\n",
              "    <tr>\n",
              "      <th>1</th>\n",
              "      <td>1.042608</td>\n",
              "      <td>0.862500</td>\n",
              "    </tr>\n",
              "    <tr>\n",
              "      <th>2</th>\n",
              "      <td>2.079507</td>\n",
              "      <td>1.984668</td>\n",
              "    </tr>\n",
              "    <tr>\n",
              "      <th>3</th>\n",
              "      <td>6.114661</td>\n",
              "      <td>0.534293</td>\n",
              "    </tr>\n",
              "    <tr>\n",
              "      <th>4</th>\n",
              "      <td>0.863315</td>\n",
              "      <td>1.066610</td>\n",
              "    </tr>\n",
              "  </tbody>\n",
              "</table>\n",
              "</div>"
            ],
            "text/plain": [
              "     area_C3    area_F3\n",
              "0  22.213548  11.521899\n",
              "1   1.042608   0.862500\n",
              "2   2.079507   1.984668\n",
              "3   6.114661   0.534293\n",
              "4   0.863315   1.066610"
            ]
          },
          "metadata": {
            "tags": []
          },
          "execution_count": 61
        },
        {
          "output_type": "display_data",
          "data": {
            "text/plain": [
              "<Figure size 432x288 with 0 Axes>"
            ]
          },
          "metadata": {
            "tags": []
          }
        }
      ]
    },
    {
      "cell_type": "markdown",
      "metadata": {
        "id": "clnGFRgFf-lG",
        "colab_type": "text"
      },
      "source": [
        "## Extracting and Storing Features from O2 Channel"
      ]
    },
    {
      "cell_type": "code",
      "metadata": {
        "id": "o6eAXc0VgEKe",
        "colab_type": "code",
        "colab": {
          "base_uri": "https://localhost:8080/",
          "height": 229
        },
        "outputId": "1953d871-ca50-4d1f-897e-9412af22a5a2"
      },
      "source": [
        "O2 = O2/max(O2)\n",
        "area_O2 = np.array([], dtype = float)\n",
        "for i in range(int(len(O2)/7680)-1):\n",
        "  #print(i)\n",
        "  x = O2[i*7680:i*7680+7680]\n",
        "  x1 = O2[i*7680:i*7680+2*7680]\n",
        "  #print(x)\n",
        "  ar = np.asarray([find_area(x,x1, dim = [dim], tau = tau)],dtype=float)\n",
        "  area_O2 = np.append(area_O2,ar)\n",
        "print(len(area_O2))\n",
        "ar_label['area_O2'] = area_O2\n",
        "ar_label.head()"
      ],
      "execution_count": null,
      "outputs": [
        {
          "output_type": "stream",
          "text": [
            "839\n"
          ],
          "name": "stdout"
        },
        {
          "output_type": "execute_result",
          "data": {
            "text/html": [
              "<div>\n",
              "<style scoped>\n",
              "    .dataframe tbody tr th:only-of-type {\n",
              "        vertical-align: middle;\n",
              "    }\n",
              "\n",
              "    .dataframe tbody tr th {\n",
              "        vertical-align: top;\n",
              "    }\n",
              "\n",
              "    .dataframe thead th {\n",
              "        text-align: right;\n",
              "    }\n",
              "</style>\n",
              "<table border=\"1\" class=\"dataframe\">\n",
              "  <thead>\n",
              "    <tr style=\"text-align: right;\">\n",
              "      <th></th>\n",
              "      <th>area_C3</th>\n",
              "      <th>area_F3</th>\n",
              "      <th>area_O2</th>\n",
              "    </tr>\n",
              "  </thead>\n",
              "  <tbody>\n",
              "    <tr>\n",
              "      <th>0</th>\n",
              "      <td>22.213548</td>\n",
              "      <td>11.521899</td>\n",
              "      <td>0.469130</td>\n",
              "    </tr>\n",
              "    <tr>\n",
              "      <th>1</th>\n",
              "      <td>1.042608</td>\n",
              "      <td>0.862500</td>\n",
              "      <td>0.424595</td>\n",
              "    </tr>\n",
              "    <tr>\n",
              "      <th>2</th>\n",
              "      <td>2.079507</td>\n",
              "      <td>1.984668</td>\n",
              "      <td>2.551703</td>\n",
              "    </tr>\n",
              "    <tr>\n",
              "      <th>3</th>\n",
              "      <td>6.114661</td>\n",
              "      <td>0.534293</td>\n",
              "      <td>2.477053</td>\n",
              "    </tr>\n",
              "    <tr>\n",
              "      <th>4</th>\n",
              "      <td>0.863315</td>\n",
              "      <td>1.066610</td>\n",
              "      <td>3.549870</td>\n",
              "    </tr>\n",
              "  </tbody>\n",
              "</table>\n",
              "</div>"
            ],
            "text/plain": [
              "     area_C3    area_F3   area_O2\n",
              "0  22.213548  11.521899  0.469130\n",
              "1   1.042608   0.862500  0.424595\n",
              "2   2.079507   1.984668  2.551703\n",
              "3   6.114661   0.534293  2.477053\n",
              "4   0.863315   1.066610  3.549870"
            ]
          },
          "metadata": {
            "tags": []
          },
          "execution_count": 62
        },
        {
          "output_type": "display_data",
          "data": {
            "text/plain": [
              "<Figure size 432x288 with 0 Axes>"
            ]
          },
          "metadata": {
            "tags": []
          }
        }
      ]
    },
    {
      "cell_type": "markdown",
      "metadata": {
        "id": "aX1NWoPDgEvj",
        "colab_type": "text"
      },
      "source": [
        "## Extracting and Storing Features from ECG Channel"
      ]
    },
    {
      "cell_type": "code",
      "metadata": {
        "id": "XRMpDUQ6gJbw",
        "colab_type": "code",
        "colab": {
          "base_uri": "https://localhost:8080/",
          "height": 229
        },
        "outputId": "9c913fd5-c5be-4e19-fa86-5e42f2dadd6e"
      },
      "source": [
        "ECG = ECG/max(ECG)\n",
        "area_ECG = np.array([], dtype = float)\n",
        "for i in range(int(len(ECG)/7680)-1):\n",
        "  #print(i)\n",
        "  x = ECG[i*7680:i*7680+7680]\n",
        "  x1 = ECG[i*7680:i*7680+2*7680]\n",
        "  #print(x)\n",
        "  ar = np.asarray([find_area(x,x1, dim = [dim], tau = tau)],dtype=float)\n",
        "  area_ECG = np.append(area_ECG,ar)\n",
        "print(len(area_ECG))\n",
        "ar_label['area_ECG'] = area_ECG\n",
        "ar_label.head()"
      ],
      "execution_count": null,
      "outputs": [
        {
          "output_type": "stream",
          "text": [
            "839\n"
          ],
          "name": "stdout"
        },
        {
          "output_type": "execute_result",
          "data": {
            "text/html": [
              "<div>\n",
              "<style scoped>\n",
              "    .dataframe tbody tr th:only-of-type {\n",
              "        vertical-align: middle;\n",
              "    }\n",
              "\n",
              "    .dataframe tbody tr th {\n",
              "        vertical-align: top;\n",
              "    }\n",
              "\n",
              "    .dataframe thead th {\n",
              "        text-align: right;\n",
              "    }\n",
              "</style>\n",
              "<table border=\"1\" class=\"dataframe\">\n",
              "  <thead>\n",
              "    <tr style=\"text-align: right;\">\n",
              "      <th></th>\n",
              "      <th>area_C3</th>\n",
              "      <th>area_F3</th>\n",
              "      <th>area_O2</th>\n",
              "      <th>area_ECG</th>\n",
              "    </tr>\n",
              "  </thead>\n",
              "  <tbody>\n",
              "    <tr>\n",
              "      <th>0</th>\n",
              "      <td>22.213548</td>\n",
              "      <td>11.521899</td>\n",
              "      <td>0.469130</td>\n",
              "      <td>25.598502</td>\n",
              "    </tr>\n",
              "    <tr>\n",
              "      <th>1</th>\n",
              "      <td>1.042608</td>\n",
              "      <td>0.862500</td>\n",
              "      <td>0.424595</td>\n",
              "      <td>10.694522</td>\n",
              "    </tr>\n",
              "    <tr>\n",
              "      <th>2</th>\n",
              "      <td>2.079507</td>\n",
              "      <td>1.984668</td>\n",
              "      <td>2.551703</td>\n",
              "      <td>10.934460</td>\n",
              "    </tr>\n",
              "    <tr>\n",
              "      <th>3</th>\n",
              "      <td>6.114661</td>\n",
              "      <td>0.534293</td>\n",
              "      <td>2.477053</td>\n",
              "      <td>43.729325</td>\n",
              "    </tr>\n",
              "    <tr>\n",
              "      <th>4</th>\n",
              "      <td>0.863315</td>\n",
              "      <td>1.066610</td>\n",
              "      <td>3.549870</td>\n",
              "      <td>10.840449</td>\n",
              "    </tr>\n",
              "  </tbody>\n",
              "</table>\n",
              "</div>"
            ],
            "text/plain": [
              "     area_C3    area_F3   area_O2   area_ECG\n",
              "0  22.213548  11.521899  0.469130  25.598502\n",
              "1   1.042608   0.862500  0.424595  10.694522\n",
              "2   2.079507   1.984668  2.551703  10.934460\n",
              "3   6.114661   0.534293  2.477053  43.729325\n",
              "4   0.863315   1.066610  3.549870  10.840449"
            ]
          },
          "metadata": {
            "tags": []
          },
          "execution_count": 63
        },
        {
          "output_type": "display_data",
          "data": {
            "text/plain": [
              "<Figure size 432x288 with 0 Axes>"
            ]
          },
          "metadata": {
            "tags": []
          }
        }
      ]
    },
    {
      "cell_type": "code",
      "metadata": {
        "id": "9i2uNL_LgVLv",
        "colab_type": "code",
        "colab": {
          "base_uri": "https://localhost:8080/",
          "height": 195
        },
        "outputId": "e5be54ef-a0f4-4c61-9c6c-8005cc0a7422"
      },
      "source": [
        "ar_label.to_csv('Feature_C3_F3_O2_ECG_nolabel_Durgesh_constant_tau_dim.csv', index = False)\n",
        "df = pd.read_csv('Feature_C3_F3_O2_ECG_nolabel_Durgesh_constant_tau_dim.csv')\n",
        "df.head()"
      ],
      "execution_count": null,
      "outputs": [
        {
          "output_type": "execute_result",
          "data": {
            "text/html": [
              "<div>\n",
              "<style scoped>\n",
              "    .dataframe tbody tr th:only-of-type {\n",
              "        vertical-align: middle;\n",
              "    }\n",
              "\n",
              "    .dataframe tbody tr th {\n",
              "        vertical-align: top;\n",
              "    }\n",
              "\n",
              "    .dataframe thead th {\n",
              "        text-align: right;\n",
              "    }\n",
              "</style>\n",
              "<table border=\"1\" class=\"dataframe\">\n",
              "  <thead>\n",
              "    <tr style=\"text-align: right;\">\n",
              "      <th></th>\n",
              "      <th>area_C3</th>\n",
              "      <th>area_F3</th>\n",
              "      <th>area_O2</th>\n",
              "      <th>area_ECG</th>\n",
              "    </tr>\n",
              "  </thead>\n",
              "  <tbody>\n",
              "    <tr>\n",
              "      <th>0</th>\n",
              "      <td>22.213548</td>\n",
              "      <td>11.521899</td>\n",
              "      <td>0.469130</td>\n",
              "      <td>25.598502</td>\n",
              "    </tr>\n",
              "    <tr>\n",
              "      <th>1</th>\n",
              "      <td>1.042608</td>\n",
              "      <td>0.862500</td>\n",
              "      <td>0.424595</td>\n",
              "      <td>10.694522</td>\n",
              "    </tr>\n",
              "    <tr>\n",
              "      <th>2</th>\n",
              "      <td>2.079507</td>\n",
              "      <td>1.984668</td>\n",
              "      <td>2.551703</td>\n",
              "      <td>10.934460</td>\n",
              "    </tr>\n",
              "    <tr>\n",
              "      <th>3</th>\n",
              "      <td>6.114661</td>\n",
              "      <td>0.534293</td>\n",
              "      <td>2.477053</td>\n",
              "      <td>43.729325</td>\n",
              "    </tr>\n",
              "    <tr>\n",
              "      <th>4</th>\n",
              "      <td>0.863315</td>\n",
              "      <td>1.066610</td>\n",
              "      <td>3.549870</td>\n",
              "      <td>10.840449</td>\n",
              "    </tr>\n",
              "  </tbody>\n",
              "</table>\n",
              "</div>"
            ],
            "text/plain": [
              "     area_C3    area_F3   area_O2   area_ECG\n",
              "0  22.213548  11.521899  0.469130  25.598502\n",
              "1   1.042608   0.862500  0.424595  10.694522\n",
              "2   2.079507   1.984668  2.551703  10.934460\n",
              "3   6.114661   0.534293  2.477053  43.729325\n",
              "4   0.863315   1.066610  3.549870  10.840449"
            ]
          },
          "metadata": {
            "tags": []
          },
          "execution_count": 64
        }
      ]
    },
    {
      "cell_type": "markdown",
      "metadata": {
        "id": "ilSnK0o8vCe7",
        "colab_type": "text"
      },
      "source": [
        "# Exctracting Features from Shobhit"
      ]
    },
    {
      "cell_type": "code",
      "metadata": {
        "id": "L_iRyHdAvTMT",
        "colab_type": "code",
        "colab": {
          "base_uri": "https://localhost:8080/",
          "height": 34
        },
        "outputId": "7b0de077-ee3b-4160-ea8f-4026fd21e302"
      },
      "source": [
        "cd ../Shobhit \\Gupta"
      ],
      "execution_count": null,
      "outputs": [
        {
          "output_type": "stream",
          "text": [
            "/content/drive/My Drive/Sleep data/Shobhit Gupta\n"
          ],
          "name": "stdout"
        }
      ]
    },
    {
      "cell_type": "code",
      "metadata": {
        "id": "VNSZ0FNovdo2",
        "colab_type": "code",
        "colab": {
          "base_uri": "https://localhost:8080/",
          "height": 50
        },
        "outputId": "a6ecab8a-9e4e-45fe-fe8a-f675fddbf7aa"
      },
      "source": [
        "ls"
      ],
      "execution_count": null,
      "outputs": [
        {
          "output_type": "stream",
          "text": [
            "'C3 - 06.08.2019.txt'   'F3 - 06.08.2019.txt'\n",
            "'ECG - 06.08.2019.txt'  'O2 - 06.08.2019.txt'\n"
          ],
          "name": "stdout"
        }
      ]
    },
    {
      "cell_type": "markdown",
      "metadata": {
        "id": "6ferRhNnv4pF",
        "colab_type": "text"
      },
      "source": [
        "## Storing the Data in csv file"
      ]
    },
    {
      "cell_type": "code",
      "metadata": {
        "id": "t_fvpaNVv8BK",
        "colab_type": "code",
        "colab": {
          "base_uri": "https://localhost:8080/",
          "height": 154
        },
        "outputId": "781b840f-fb8a-4a2c-a4be-a682a2dd48e5"
      },
      "source": [
        "C3 = txt_to_arr('C3 - 06.08.2019.txt')\n",
        "F3 = txt_to_arr('F3 - 06.08.2019.txt')\n",
        "O2 = txt_to_arr('O2 - 06.08.2019.txt')\n",
        "ECG = txt_to_arr('ECG - 06.08.2019.txt')\n",
        "ECG = ECG[range(0, len(ECG), 2)]\n",
        "len(C3), len(F3), len(O2), len(ECG)"
      ],
      "execution_count": null,
      "outputs": [
        {
          "output_type": "stream",
          "text": [
            "/usr/local/lib/python3.6/dist-packages/IPython/core/interactiveshell.py:2822: DtypeWarning: Columns (0) have mixed types.Specify dtype option on import or set low_memory=False.\n",
            "  if self.run_code(code, result):\n"
          ],
          "name": "stderr"
        },
        {
          "output_type": "stream",
          "text": [
            "Length of data :  4619072\n",
            "Length of data :  4619072\n",
            "Length of data :  4619072\n",
            "Length of data :  9238144\n"
          ],
          "name": "stdout"
        },
        {
          "output_type": "execute_result",
          "data": {
            "text/plain": [
              "(4619072, 4619072, 4619072, 4619072)"
            ]
          },
          "metadata": {
            "tags": []
          },
          "execution_count": 71
        }
      ]
    },
    {
      "cell_type": "code",
      "metadata": {
        "id": "nC0g8wtjwQQH",
        "colab_type": "code",
        "colab": {
          "base_uri": "https://localhost:8080/",
          "height": 195
        },
        "outputId": "1c135ce5-febd-4a71-97c8-e8fc61138771"
      },
      "source": [
        "df = pd.DataFrame()\n",
        "df['C3'] = C3\n",
        "df['F3'] = F3\n",
        "df['O2'] = O2\n",
        "df['ECG'] = ECG\n",
        "df.to_csv('Shobhit_Gupta_C3_F3_O2_ECG.csv', index = None)\n",
        "df.head()"
      ],
      "execution_count": null,
      "outputs": [
        {
          "output_type": "execute_result",
          "data": {
            "text/html": [
              "<div>\n",
              "<style scoped>\n",
              "    .dataframe tbody tr th:only-of-type {\n",
              "        vertical-align: middle;\n",
              "    }\n",
              "\n",
              "    .dataframe tbody tr th {\n",
              "        vertical-align: top;\n",
              "    }\n",
              "\n",
              "    .dataframe thead th {\n",
              "        text-align: right;\n",
              "    }\n",
              "</style>\n",
              "<table border=\"1\" class=\"dataframe\">\n",
              "  <thead>\n",
              "    <tr style=\"text-align: right;\">\n",
              "      <th></th>\n",
              "      <th>C3</th>\n",
              "      <th>F3</th>\n",
              "      <th>O2</th>\n",
              "      <th>ECG</th>\n",
              "    </tr>\n",
              "  </thead>\n",
              "  <tbody>\n",
              "    <tr>\n",
              "      <th>0</th>\n",
              "      <td>0.0</td>\n",
              "      <td>0.0</td>\n",
              "      <td>0.0</td>\n",
              "      <td>0.0</td>\n",
              "    </tr>\n",
              "    <tr>\n",
              "      <th>1</th>\n",
              "      <td>0.0</td>\n",
              "      <td>0.0</td>\n",
              "      <td>0.0</td>\n",
              "      <td>0.0</td>\n",
              "    </tr>\n",
              "    <tr>\n",
              "      <th>2</th>\n",
              "      <td>0.0</td>\n",
              "      <td>0.0</td>\n",
              "      <td>0.0</td>\n",
              "      <td>0.0</td>\n",
              "    </tr>\n",
              "    <tr>\n",
              "      <th>3</th>\n",
              "      <td>0.0</td>\n",
              "      <td>0.0</td>\n",
              "      <td>0.0</td>\n",
              "      <td>0.0</td>\n",
              "    </tr>\n",
              "    <tr>\n",
              "      <th>4</th>\n",
              "      <td>0.0</td>\n",
              "      <td>0.0</td>\n",
              "      <td>0.0</td>\n",
              "      <td>0.0</td>\n",
              "    </tr>\n",
              "  </tbody>\n",
              "</table>\n",
              "</div>"
            ],
            "text/plain": [
              "    C3   F3   O2  ECG\n",
              "0  0.0  0.0  0.0  0.0\n",
              "1  0.0  0.0  0.0  0.0\n",
              "2  0.0  0.0  0.0  0.0\n",
              "3  0.0  0.0  0.0  0.0\n",
              "4  0.0  0.0  0.0  0.0"
            ]
          },
          "metadata": {
            "tags": []
          },
          "execution_count": 72
        }
      ]
    },
    {
      "cell_type": "markdown",
      "metadata": {
        "id": "3udO6uNmwa9f",
        "colab_type": "text"
      },
      "source": [
        "## Reading csv file"
      ]
    },
    {
      "cell_type": "code",
      "metadata": {
        "id": "Ot1X93cxwaRA",
        "colab_type": "code",
        "colab": {
          "base_uri": "https://localhost:8080/",
          "height": 195
        },
        "outputId": "dca2b6cd-cb3f-4c4e-ea21-cc4efa43e605"
      },
      "source": [
        "df = pd.read_csv('Shobhit_Gupta_C3_F3_O2_ECG.csv')\n",
        "df.head()"
      ],
      "execution_count": null,
      "outputs": [
        {
          "output_type": "execute_result",
          "data": {
            "text/html": [
              "<div>\n",
              "<style scoped>\n",
              "    .dataframe tbody tr th:only-of-type {\n",
              "        vertical-align: middle;\n",
              "    }\n",
              "\n",
              "    .dataframe tbody tr th {\n",
              "        vertical-align: top;\n",
              "    }\n",
              "\n",
              "    .dataframe thead th {\n",
              "        text-align: right;\n",
              "    }\n",
              "</style>\n",
              "<table border=\"1\" class=\"dataframe\">\n",
              "  <thead>\n",
              "    <tr style=\"text-align: right;\">\n",
              "      <th></th>\n",
              "      <th>C3</th>\n",
              "      <th>F3</th>\n",
              "      <th>O2</th>\n",
              "      <th>ECG</th>\n",
              "    </tr>\n",
              "  </thead>\n",
              "  <tbody>\n",
              "    <tr>\n",
              "      <th>0</th>\n",
              "      <td>0.0</td>\n",
              "      <td>0.0</td>\n",
              "      <td>0.0</td>\n",
              "      <td>0.0</td>\n",
              "    </tr>\n",
              "    <tr>\n",
              "      <th>1</th>\n",
              "      <td>0.0</td>\n",
              "      <td>0.0</td>\n",
              "      <td>0.0</td>\n",
              "      <td>0.0</td>\n",
              "    </tr>\n",
              "    <tr>\n",
              "      <th>2</th>\n",
              "      <td>0.0</td>\n",
              "      <td>0.0</td>\n",
              "      <td>0.0</td>\n",
              "      <td>0.0</td>\n",
              "    </tr>\n",
              "    <tr>\n",
              "      <th>3</th>\n",
              "      <td>0.0</td>\n",
              "      <td>0.0</td>\n",
              "      <td>0.0</td>\n",
              "      <td>0.0</td>\n",
              "    </tr>\n",
              "    <tr>\n",
              "      <th>4</th>\n",
              "      <td>0.0</td>\n",
              "      <td>0.0</td>\n",
              "      <td>0.0</td>\n",
              "      <td>0.0</td>\n",
              "    </tr>\n",
              "  </tbody>\n",
              "</table>\n",
              "</div>"
            ],
            "text/plain": [
              "    C3   F3   O2  ECG\n",
              "0  0.0  0.0  0.0  0.0\n",
              "1  0.0  0.0  0.0  0.0\n",
              "2  0.0  0.0  0.0  0.0\n",
              "3  0.0  0.0  0.0  0.0\n",
              "4  0.0  0.0  0.0  0.0"
            ]
          },
          "metadata": {
            "tags": []
          },
          "execution_count": 74
        }
      ]
    },
    {
      "cell_type": "code",
      "metadata": {
        "id": "4sTiWE5TwouD",
        "colab_type": "code",
        "colab": {
          "base_uri": "https://localhost:8080/",
          "height": 34
        },
        "outputId": "9a54b386-4580-457b-b6ce-b0a2ca0a35c9"
      },
      "source": [
        "C3 = df.C3.values\n",
        "F3 = df.F3.values\n",
        "O2 = df.O2.values\n",
        "ECG = df.ECG.values\n",
        "len(C3), len(F3), len(O2), len(ECG)"
      ],
      "execution_count": null,
      "outputs": [
        {
          "output_type": "execute_result",
          "data": {
            "text/plain": [
              "(4619072, 4619072, 4619072, 4619072)"
            ]
          },
          "metadata": {
            "tags": []
          },
          "execution_count": 75
        }
      ]
    },
    {
      "cell_type": "markdown",
      "metadata": {
        "id": "XbmKHgl8w0T6",
        "colab_type": "text"
      },
      "source": [
        "## Extracting and Storing Features from C3 Channel"
      ]
    },
    {
      "cell_type": "code",
      "metadata": {
        "id": "N3R2L2OWwz2h",
        "colab_type": "code",
        "colab": {
          "base_uri": "https://localhost:8080/",
          "height": 229
        },
        "outputId": "129d3349-967e-48ef-fea1-34a16097e261"
      },
      "source": [
        "C3 = C3/max(C3)\n",
        "area_C3 = np.array([], dtype = float)\n",
        "for i in range(int(len(C3)/7680)-1):\n",
        "  #print(i)\n",
        "  x = C3[i*7680:i*7680+7680]\n",
        "  x1 = C3[i*7680:i*7680+2*7680]\n",
        "  #print(x)\n",
        "  ar = np.asarray([find_area(x,x1, dim = [dim], tau = tau)],dtype=float)\n",
        "  area_C3 = np.append(area_C3,ar)\n",
        "print(len(area_C3))\n",
        "ar_label = pd.DataFrame({'area_C3':area_C3})\n",
        "ar_label.head()"
      ],
      "execution_count": null,
      "outputs": [
        {
          "output_type": "stream",
          "text": [
            "600\n"
          ],
          "name": "stdout"
        },
        {
          "output_type": "execute_result",
          "data": {
            "text/html": [
              "<div>\n",
              "<style scoped>\n",
              "    .dataframe tbody tr th:only-of-type {\n",
              "        vertical-align: middle;\n",
              "    }\n",
              "\n",
              "    .dataframe tbody tr th {\n",
              "        vertical-align: top;\n",
              "    }\n",
              "\n",
              "    .dataframe thead th {\n",
              "        text-align: right;\n",
              "    }\n",
              "</style>\n",
              "<table border=\"1\" class=\"dataframe\">\n",
              "  <thead>\n",
              "    <tr style=\"text-align: right;\">\n",
              "      <th></th>\n",
              "      <th>area_C3</th>\n",
              "    </tr>\n",
              "  </thead>\n",
              "  <tbody>\n",
              "    <tr>\n",
              "      <th>0</th>\n",
              "      <td>75.116188</td>\n",
              "    </tr>\n",
              "    <tr>\n",
              "      <th>1</th>\n",
              "      <td>5.244319</td>\n",
              "    </tr>\n",
              "    <tr>\n",
              "      <th>2</th>\n",
              "      <td>43.884235</td>\n",
              "    </tr>\n",
              "    <tr>\n",
              "      <th>3</th>\n",
              "      <td>55.355214</td>\n",
              "    </tr>\n",
              "    <tr>\n",
              "      <th>4</th>\n",
              "      <td>3.590647</td>\n",
              "    </tr>\n",
              "  </tbody>\n",
              "</table>\n",
              "</div>"
            ],
            "text/plain": [
              "     area_C3\n",
              "0  75.116188\n",
              "1   5.244319\n",
              "2  43.884235\n",
              "3  55.355214\n",
              "4   3.590647"
            ]
          },
          "metadata": {
            "tags": []
          },
          "execution_count": 76
        },
        {
          "output_type": "display_data",
          "data": {
            "text/plain": [
              "<Figure size 432x288 with 0 Axes>"
            ]
          },
          "metadata": {
            "tags": []
          }
        }
      ]
    },
    {
      "cell_type": "markdown",
      "metadata": {
        "id": "c_X3QP1sw8Lu",
        "colab_type": "text"
      },
      "source": [
        "## Extracting and Storing Features from F3 Channel"
      ]
    },
    {
      "cell_type": "code",
      "metadata": {
        "id": "VPgmewPWw6NP",
        "colab_type": "code",
        "colab": {
          "base_uri": "https://localhost:8080/",
          "height": 229
        },
        "outputId": "0bc9a33f-9cef-402a-abee-15519f006098"
      },
      "source": [
        "F3 = F3/max(F3)\n",
        "area_F3 = np.array([], dtype = float)\n",
        "for i in range(int(len(F3)/7680)-1):\n",
        "  #print(i)\n",
        "  x = F3[i*7680:i*7680+7680]\n",
        "  x1 = F3[i*7680:i*7680+2*7680]\n",
        "  #print(x)\n",
        "  ar = np.asarray([find_area(x,x1, dim = [dim], tau = tau)],dtype=float)\n",
        "  area_F3 = np.append(area_F3,ar)\n",
        "print(len(area_F3))\n",
        "ar_label['area_F3'] = area_F3\n",
        "ar_label.head()"
      ],
      "execution_count": null,
      "outputs": [
        {
          "output_type": "stream",
          "text": [
            "600\n"
          ],
          "name": "stdout"
        },
        {
          "output_type": "execute_result",
          "data": {
            "text/html": [
              "<div>\n",
              "<style scoped>\n",
              "    .dataframe tbody tr th:only-of-type {\n",
              "        vertical-align: middle;\n",
              "    }\n",
              "\n",
              "    .dataframe tbody tr th {\n",
              "        vertical-align: top;\n",
              "    }\n",
              "\n",
              "    .dataframe thead th {\n",
              "        text-align: right;\n",
              "    }\n",
              "</style>\n",
              "<table border=\"1\" class=\"dataframe\">\n",
              "  <thead>\n",
              "    <tr style=\"text-align: right;\">\n",
              "      <th></th>\n",
              "      <th>area_C3</th>\n",
              "      <th>area_F3</th>\n",
              "    </tr>\n",
              "  </thead>\n",
              "  <tbody>\n",
              "    <tr>\n",
              "      <th>0</th>\n",
              "      <td>75.116188</td>\n",
              "      <td>96.945072</td>\n",
              "    </tr>\n",
              "    <tr>\n",
              "      <th>1</th>\n",
              "      <td>5.244319</td>\n",
              "      <td>4.920165</td>\n",
              "    </tr>\n",
              "    <tr>\n",
              "      <th>2</th>\n",
              "      <td>43.884235</td>\n",
              "      <td>8.840105</td>\n",
              "    </tr>\n",
              "    <tr>\n",
              "      <th>3</th>\n",
              "      <td>55.355214</td>\n",
              "      <td>19.057999</td>\n",
              "    </tr>\n",
              "    <tr>\n",
              "      <th>4</th>\n",
              "      <td>3.590647</td>\n",
              "      <td>3.265240</td>\n",
              "    </tr>\n",
              "  </tbody>\n",
              "</table>\n",
              "</div>"
            ],
            "text/plain": [
              "     area_C3    area_F3\n",
              "0  75.116188  96.945072\n",
              "1   5.244319   4.920165\n",
              "2  43.884235   8.840105\n",
              "3  55.355214  19.057999\n",
              "4   3.590647   3.265240"
            ]
          },
          "metadata": {
            "tags": []
          },
          "execution_count": 77
        },
        {
          "output_type": "display_data",
          "data": {
            "text/plain": [
              "<Figure size 432x288 with 0 Axes>"
            ]
          },
          "metadata": {
            "tags": []
          }
        }
      ]
    },
    {
      "cell_type": "markdown",
      "metadata": {
        "id": "AXpc2r3TxAIq",
        "colab_type": "text"
      },
      "source": [
        "## Extracting and Storing Features from O2 Channel"
      ]
    },
    {
      "cell_type": "code",
      "metadata": {
        "id": "WuAal3moxEU9",
        "colab_type": "code",
        "colab": {
          "base_uri": "https://localhost:8080/",
          "height": 229
        },
        "outputId": "7e22d4e1-e9d4-4228-e47f-968a3be9fbe4"
      },
      "source": [
        "O2 = O2/max(O2)\n",
        "area_O2 = np.array([], dtype = float)\n",
        "for i in range(int(len(O2)/7680)-1):\n",
        "  #print(i)\n",
        "  x = O2[i*7680:i*7680+7680]\n",
        "  x1 = O2[i*7680:i*7680+2*7680]\n",
        "  #print(x)\n",
        "  ar = np.asarray([find_area(x,x1, dim = [dim], tau = tau)],dtype=float)\n",
        "  area_O2 = np.append(area_O2,ar)\n",
        "print(len(area_O2))\n",
        "ar_label['area_O2'] = area_O2\n",
        "ar_label.head()"
      ],
      "execution_count": null,
      "outputs": [
        {
          "output_type": "stream",
          "text": [
            "600\n"
          ],
          "name": "stdout"
        },
        {
          "output_type": "execute_result",
          "data": {
            "text/html": [
              "<div>\n",
              "<style scoped>\n",
              "    .dataframe tbody tr th:only-of-type {\n",
              "        vertical-align: middle;\n",
              "    }\n",
              "\n",
              "    .dataframe tbody tr th {\n",
              "        vertical-align: top;\n",
              "    }\n",
              "\n",
              "    .dataframe thead th {\n",
              "        text-align: right;\n",
              "    }\n",
              "</style>\n",
              "<table border=\"1\" class=\"dataframe\">\n",
              "  <thead>\n",
              "    <tr style=\"text-align: right;\">\n",
              "      <th></th>\n",
              "      <th>area_C3</th>\n",
              "      <th>area_F3</th>\n",
              "      <th>area_O2</th>\n",
              "    </tr>\n",
              "  </thead>\n",
              "  <tbody>\n",
              "    <tr>\n",
              "      <th>0</th>\n",
              "      <td>75.116188</td>\n",
              "      <td>96.945072</td>\n",
              "      <td>95.060392</td>\n",
              "    </tr>\n",
              "    <tr>\n",
              "      <th>1</th>\n",
              "      <td>5.244319</td>\n",
              "      <td>4.920165</td>\n",
              "      <td>13.587425</td>\n",
              "    </tr>\n",
              "    <tr>\n",
              "      <th>2</th>\n",
              "      <td>43.884235</td>\n",
              "      <td>8.840105</td>\n",
              "      <td>12.945789</td>\n",
              "    </tr>\n",
              "    <tr>\n",
              "      <th>3</th>\n",
              "      <td>55.355214</td>\n",
              "      <td>19.057999</td>\n",
              "      <td>5.506793</td>\n",
              "    </tr>\n",
              "    <tr>\n",
              "      <th>4</th>\n",
              "      <td>3.590647</td>\n",
              "      <td>3.265240</td>\n",
              "      <td>5.352508</td>\n",
              "    </tr>\n",
              "  </tbody>\n",
              "</table>\n",
              "</div>"
            ],
            "text/plain": [
              "     area_C3    area_F3    area_O2\n",
              "0  75.116188  96.945072  95.060392\n",
              "1   5.244319   4.920165  13.587425\n",
              "2  43.884235   8.840105  12.945789\n",
              "3  55.355214  19.057999   5.506793\n",
              "4   3.590647   3.265240   5.352508"
            ]
          },
          "metadata": {
            "tags": []
          },
          "execution_count": 78
        },
        {
          "output_type": "display_data",
          "data": {
            "text/plain": [
              "<Figure size 432x288 with 0 Axes>"
            ]
          },
          "metadata": {
            "tags": []
          }
        }
      ]
    },
    {
      "cell_type": "markdown",
      "metadata": {
        "id": "ncOQCswyxEy3",
        "colab_type": "text"
      },
      "source": [
        "## Extracting and Storing Features from ECG Channel"
      ]
    },
    {
      "cell_type": "code",
      "metadata": {
        "id": "DeRsudCcxI6C",
        "colab_type": "code",
        "colab": {
          "base_uri": "https://localhost:8080/",
          "height": 229
        },
        "outputId": "73c9b2b9-5316-4176-8df6-972b17b859ba"
      },
      "source": [
        "ECG = ECG/max(ECG)\n",
        "area_ECG = np.array([], dtype = float)\n",
        "for i in range(int(len(ECG)/7680)-1):\n",
        "  #print(i)\n",
        "  x = ECG[i*7680:i*7680+7680]\n",
        "  x1 = ECG[i*7680:i*7680+2*7680]\n",
        "  #print(x)\n",
        "  ar = np.asarray([find_area(x,x1, dim = [dim], tau = tau)],dtype=float)\n",
        "  area_ECG = np.append(area_ECG,ar)\n",
        "print(len(area_ECG))\n",
        "ar_label['area_ECG'] = area_ECG\n",
        "ar_label.head()"
      ],
      "execution_count": null,
      "outputs": [
        {
          "output_type": "stream",
          "text": [
            "600\n"
          ],
          "name": "stdout"
        },
        {
          "output_type": "execute_result",
          "data": {
            "text/html": [
              "<div>\n",
              "<style scoped>\n",
              "    .dataframe tbody tr th:only-of-type {\n",
              "        vertical-align: middle;\n",
              "    }\n",
              "\n",
              "    .dataframe tbody tr th {\n",
              "        vertical-align: top;\n",
              "    }\n",
              "\n",
              "    .dataframe thead th {\n",
              "        text-align: right;\n",
              "    }\n",
              "</style>\n",
              "<table border=\"1\" class=\"dataframe\">\n",
              "  <thead>\n",
              "    <tr style=\"text-align: right;\">\n",
              "      <th></th>\n",
              "      <th>area_C3</th>\n",
              "      <th>area_F3</th>\n",
              "      <th>area_O2</th>\n",
              "      <th>area_ECG</th>\n",
              "    </tr>\n",
              "  </thead>\n",
              "  <tbody>\n",
              "    <tr>\n",
              "      <th>0</th>\n",
              "      <td>75.116188</td>\n",
              "      <td>96.945072</td>\n",
              "      <td>95.060392</td>\n",
              "      <td>31.459880</td>\n",
              "    </tr>\n",
              "    <tr>\n",
              "      <th>1</th>\n",
              "      <td>5.244319</td>\n",
              "      <td>4.920165</td>\n",
              "      <td>13.587425</td>\n",
              "      <td>41.162437</td>\n",
              "    </tr>\n",
              "    <tr>\n",
              "      <th>2</th>\n",
              "      <td>43.884235</td>\n",
              "      <td>8.840105</td>\n",
              "      <td>12.945789</td>\n",
              "      <td>39.619453</td>\n",
              "    </tr>\n",
              "    <tr>\n",
              "      <th>3</th>\n",
              "      <td>55.355214</td>\n",
              "      <td>19.057999</td>\n",
              "      <td>5.506793</td>\n",
              "      <td>38.975962</td>\n",
              "    </tr>\n",
              "    <tr>\n",
              "      <th>4</th>\n",
              "      <td>3.590647</td>\n",
              "      <td>3.265240</td>\n",
              "      <td>5.352508</td>\n",
              "      <td>39.249151</td>\n",
              "    </tr>\n",
              "  </tbody>\n",
              "</table>\n",
              "</div>"
            ],
            "text/plain": [
              "     area_C3    area_F3    area_O2   area_ECG\n",
              "0  75.116188  96.945072  95.060392  31.459880\n",
              "1   5.244319   4.920165  13.587425  41.162437\n",
              "2  43.884235   8.840105  12.945789  39.619453\n",
              "3  55.355214  19.057999   5.506793  38.975962\n",
              "4   3.590647   3.265240   5.352508  39.249151"
            ]
          },
          "metadata": {
            "tags": []
          },
          "execution_count": 79
        },
        {
          "output_type": "display_data",
          "data": {
            "text/plain": [
              "<Figure size 432x288 with 0 Axes>"
            ]
          },
          "metadata": {
            "tags": []
          }
        }
      ]
    },
    {
      "cell_type": "code",
      "metadata": {
        "id": "dbwcXLU-xU8y",
        "colab_type": "code",
        "colab": {
          "base_uri": "https://localhost:8080/",
          "height": 195
        },
        "outputId": "2c91e092-1077-4b9b-8bc0-4798a90c3e8d"
      },
      "source": [
        "ar_label.to_csv('Feature_C3_F3_O2_ECG_nolabel_Shobhit_constant_tau_dim.csv', index = False)\n",
        "df = pd.read_csv('Feature_C3_F3_O2_ECG_nolabel_Shobhit_constant_tau_dim.csv')\n",
        "df.head()"
      ],
      "execution_count": null,
      "outputs": [
        {
          "output_type": "execute_result",
          "data": {
            "text/html": [
              "<div>\n",
              "<style scoped>\n",
              "    .dataframe tbody tr th:only-of-type {\n",
              "        vertical-align: middle;\n",
              "    }\n",
              "\n",
              "    .dataframe tbody tr th {\n",
              "        vertical-align: top;\n",
              "    }\n",
              "\n",
              "    .dataframe thead th {\n",
              "        text-align: right;\n",
              "    }\n",
              "</style>\n",
              "<table border=\"1\" class=\"dataframe\">\n",
              "  <thead>\n",
              "    <tr style=\"text-align: right;\">\n",
              "      <th></th>\n",
              "      <th>area_C3</th>\n",
              "      <th>area_F3</th>\n",
              "      <th>area_O2</th>\n",
              "      <th>area_ECG</th>\n",
              "    </tr>\n",
              "  </thead>\n",
              "  <tbody>\n",
              "    <tr>\n",
              "      <th>0</th>\n",
              "      <td>75.116188</td>\n",
              "      <td>96.945072</td>\n",
              "      <td>95.060392</td>\n",
              "      <td>31.459880</td>\n",
              "    </tr>\n",
              "    <tr>\n",
              "      <th>1</th>\n",
              "      <td>5.244319</td>\n",
              "      <td>4.920165</td>\n",
              "      <td>13.587425</td>\n",
              "      <td>41.162437</td>\n",
              "    </tr>\n",
              "    <tr>\n",
              "      <th>2</th>\n",
              "      <td>43.884235</td>\n",
              "      <td>8.840105</td>\n",
              "      <td>12.945789</td>\n",
              "      <td>39.619453</td>\n",
              "    </tr>\n",
              "    <tr>\n",
              "      <th>3</th>\n",
              "      <td>55.355214</td>\n",
              "      <td>19.057999</td>\n",
              "      <td>5.506793</td>\n",
              "      <td>38.975962</td>\n",
              "    </tr>\n",
              "    <tr>\n",
              "      <th>4</th>\n",
              "      <td>3.590647</td>\n",
              "      <td>3.265240</td>\n",
              "      <td>5.352508</td>\n",
              "      <td>39.249151</td>\n",
              "    </tr>\n",
              "  </tbody>\n",
              "</table>\n",
              "</div>"
            ],
            "text/plain": [
              "     area_C3    area_F3    area_O2   area_ECG\n",
              "0  75.116188  96.945072  95.060392  31.459880\n",
              "1   5.244319   4.920165  13.587425  41.162437\n",
              "2  43.884235   8.840105  12.945789  39.619453\n",
              "3  55.355214  19.057999   5.506793  38.975962\n",
              "4   3.590647   3.265240   5.352508  39.249151"
            ]
          },
          "metadata": {
            "tags": []
          },
          "execution_count": 80
        }
      ]
    },
    {
      "cell_type": "markdown",
      "metadata": {
        "id": "URQEYw9BySu2",
        "colab_type": "text"
      },
      "source": [
        "# Extracting Features from Subham"
      ]
    },
    {
      "cell_type": "markdown",
      "metadata": {
        "id": "eSH2NobAIcxT",
        "colab_type": "text"
      },
      "source": [
        "## Storing Data in csv file"
      ]
    },
    {
      "cell_type": "code",
      "metadata": {
        "id": "I9A18AMByPRy",
        "colab_type": "code",
        "colab": {
          "base_uri": "https://localhost:8080/",
          "height": 34
        },
        "outputId": "f96562ba-1a15-41d3-96b0-39e02f53c4e9"
      },
      "source": [
        "cd ../Subham\\ Tripathi"
      ],
      "execution_count": null,
      "outputs": [
        {
          "output_type": "stream",
          "text": [
            "/content/drive/My Drive/Sleep data/Subham Tripathi\n"
          ],
          "name": "stdout"
        }
      ]
    },
    {
      "cell_type": "code",
      "metadata": {
        "id": "Js6YOg1tIkpu",
        "colab_type": "code",
        "colab": {
          "base_uri": "https://localhost:8080/",
          "height": 50
        },
        "outputId": "521a9fd4-c31b-402a-a51e-5bde04e4240e"
      },
      "source": [
        "ls"
      ],
      "execution_count": null,
      "outputs": [
        {
          "output_type": "stream",
          "text": [
            "'C3 - 06.08.2019.txt'   'F3 - 06.08.2019.txt'\n",
            "'ECG - 06.08.2019.txt'  'O2 - 06.08.2019.txt'\n"
          ],
          "name": "stdout"
        }
      ]
    },
    {
      "cell_type": "code",
      "metadata": {
        "id": "iO6i_SbKIl9W",
        "colab_type": "code",
        "colab": {
          "base_uri": "https://localhost:8080/",
          "height": 154
        },
        "outputId": "1f32ea04-6e48-4a87-f3c2-6acc9d6ac25c"
      },
      "source": [
        "C3 = txt_to_arr('C3 - 06.08.2019.txt')\n",
        "F3 = txt_to_arr('F3 - 06.08.2019.txt')\n",
        "O2 = txt_to_arr('O2 - 06.08.2019.txt')\n",
        "ECG = txt_to_arr('ECG - 06.08.2019.txt')\n",
        "ECG = ECG[range(0, len(ECG), 2)]\n",
        "len(C3), len(F3), len(O2), len(ECG)"
      ],
      "execution_count": null,
      "outputs": [
        {
          "output_type": "stream",
          "text": [
            "/usr/local/lib/python3.6/dist-packages/IPython/core/interactiveshell.py:2822: DtypeWarning: Columns (0) have mixed types.Specify dtype option on import or set low_memory=False.\n",
            "  if self.run_code(code, result):\n"
          ],
          "name": "stderr"
        },
        {
          "output_type": "stream",
          "text": [
            "Length of data :  4619072\n",
            "Length of data :  4619072\n",
            "Length of data :  4619072\n",
            "Length of data :  9238144\n"
          ],
          "name": "stdout"
        },
        {
          "output_type": "execute_result",
          "data": {
            "text/plain": [
              "(4619072, 4619072, 4619072, 4619072)"
            ]
          },
          "metadata": {
            "tags": []
          },
          "execution_count": 9
        }
      ]
    },
    {
      "cell_type": "code",
      "metadata": {
        "id": "0rpPDTSTI0is",
        "colab_type": "code",
        "colab": {
          "base_uri": "https://localhost:8080/",
          "height": 195
        },
        "outputId": "c3504945-185c-434e-f946-c4109276d752"
      },
      "source": [
        "df = pd.DataFrame()\n",
        "df['C3'] = C3\n",
        "df['F3'] = F3\n",
        "df['O2'] = O2\n",
        "df['ECG'] = ECG\n",
        "df.to_csv('Subham_Tripathy_C3_F3_O2_ECG.csv', index = None)\n",
        "df.head()"
      ],
      "execution_count": null,
      "outputs": [
        {
          "output_type": "execute_result",
          "data": {
            "text/html": [
              "<div>\n",
              "<style scoped>\n",
              "    .dataframe tbody tr th:only-of-type {\n",
              "        vertical-align: middle;\n",
              "    }\n",
              "\n",
              "    .dataframe tbody tr th {\n",
              "        vertical-align: top;\n",
              "    }\n",
              "\n",
              "    .dataframe thead th {\n",
              "        text-align: right;\n",
              "    }\n",
              "</style>\n",
              "<table border=\"1\" class=\"dataframe\">\n",
              "  <thead>\n",
              "    <tr style=\"text-align: right;\">\n",
              "      <th></th>\n",
              "      <th>C3</th>\n",
              "      <th>F3</th>\n",
              "      <th>O2</th>\n",
              "      <th>ECG</th>\n",
              "    </tr>\n",
              "  </thead>\n",
              "  <tbody>\n",
              "    <tr>\n",
              "      <th>0</th>\n",
              "      <td>0.0</td>\n",
              "      <td>0.0</td>\n",
              "      <td>0.0</td>\n",
              "      <td>0.0</td>\n",
              "    </tr>\n",
              "    <tr>\n",
              "      <th>1</th>\n",
              "      <td>0.0</td>\n",
              "      <td>0.0</td>\n",
              "      <td>0.0</td>\n",
              "      <td>0.0</td>\n",
              "    </tr>\n",
              "    <tr>\n",
              "      <th>2</th>\n",
              "      <td>0.0</td>\n",
              "      <td>0.0</td>\n",
              "      <td>0.0</td>\n",
              "      <td>0.0</td>\n",
              "    </tr>\n",
              "    <tr>\n",
              "      <th>3</th>\n",
              "      <td>0.0</td>\n",
              "      <td>0.0</td>\n",
              "      <td>0.0</td>\n",
              "      <td>0.0</td>\n",
              "    </tr>\n",
              "    <tr>\n",
              "      <th>4</th>\n",
              "      <td>0.0</td>\n",
              "      <td>0.0</td>\n",
              "      <td>0.0</td>\n",
              "      <td>0.0</td>\n",
              "    </tr>\n",
              "  </tbody>\n",
              "</table>\n",
              "</div>"
            ],
            "text/plain": [
              "    C3   F3   O2  ECG\n",
              "0  0.0  0.0  0.0  0.0\n",
              "1  0.0  0.0  0.0  0.0\n",
              "2  0.0  0.0  0.0  0.0\n",
              "3  0.0  0.0  0.0  0.0\n",
              "4  0.0  0.0  0.0  0.0"
            ]
          },
          "metadata": {
            "tags": []
          },
          "execution_count": 10
        }
      ]
    },
    {
      "cell_type": "markdown",
      "metadata": {
        "id": "RFDrMBsDI8td",
        "colab_type": "text"
      },
      "source": [
        "## Reading csv file"
      ]
    },
    {
      "cell_type": "code",
      "metadata": {
        "id": "rfwwIweGI-20",
        "colab_type": "code",
        "colab": {
          "base_uri": "https://localhost:8080/",
          "height": 195
        },
        "outputId": "99528c53-be76-4303-918a-8234ffaa7825"
      },
      "source": [
        "df = pd.read_csv('Subham_Tripathy_C3_F3_O2_ECG.csv')\n",
        "df.head()"
      ],
      "execution_count": null,
      "outputs": [
        {
          "output_type": "execute_result",
          "data": {
            "text/html": [
              "<div>\n",
              "<style scoped>\n",
              "    .dataframe tbody tr th:only-of-type {\n",
              "        vertical-align: middle;\n",
              "    }\n",
              "\n",
              "    .dataframe tbody tr th {\n",
              "        vertical-align: top;\n",
              "    }\n",
              "\n",
              "    .dataframe thead th {\n",
              "        text-align: right;\n",
              "    }\n",
              "</style>\n",
              "<table border=\"1\" class=\"dataframe\">\n",
              "  <thead>\n",
              "    <tr style=\"text-align: right;\">\n",
              "      <th></th>\n",
              "      <th>C3</th>\n",
              "      <th>F3</th>\n",
              "      <th>O2</th>\n",
              "      <th>ECG</th>\n",
              "    </tr>\n",
              "  </thead>\n",
              "  <tbody>\n",
              "    <tr>\n",
              "      <th>0</th>\n",
              "      <td>0.0</td>\n",
              "      <td>0.0</td>\n",
              "      <td>0.0</td>\n",
              "      <td>0.0</td>\n",
              "    </tr>\n",
              "    <tr>\n",
              "      <th>1</th>\n",
              "      <td>0.0</td>\n",
              "      <td>0.0</td>\n",
              "      <td>0.0</td>\n",
              "      <td>0.0</td>\n",
              "    </tr>\n",
              "    <tr>\n",
              "      <th>2</th>\n",
              "      <td>0.0</td>\n",
              "      <td>0.0</td>\n",
              "      <td>0.0</td>\n",
              "      <td>0.0</td>\n",
              "    </tr>\n",
              "    <tr>\n",
              "      <th>3</th>\n",
              "      <td>0.0</td>\n",
              "      <td>0.0</td>\n",
              "      <td>0.0</td>\n",
              "      <td>0.0</td>\n",
              "    </tr>\n",
              "    <tr>\n",
              "      <th>4</th>\n",
              "      <td>0.0</td>\n",
              "      <td>0.0</td>\n",
              "      <td>0.0</td>\n",
              "      <td>0.0</td>\n",
              "    </tr>\n",
              "  </tbody>\n",
              "</table>\n",
              "</div>"
            ],
            "text/plain": [
              "    C3   F3   O2  ECG\n",
              "0  0.0  0.0  0.0  0.0\n",
              "1  0.0  0.0  0.0  0.0\n",
              "2  0.0  0.0  0.0  0.0\n",
              "3  0.0  0.0  0.0  0.0\n",
              "4  0.0  0.0  0.0  0.0"
            ]
          },
          "metadata": {
            "tags": []
          },
          "execution_count": 11
        }
      ]
    },
    {
      "cell_type": "code",
      "metadata": {
        "id": "NfNHlYs-JJg2",
        "colab_type": "code",
        "colab": {
          "base_uri": "https://localhost:8080/",
          "height": 34
        },
        "outputId": "942f5e62-dd83-4366-b1dd-5fbd6c63a45e"
      },
      "source": [
        "C3 = df.C3.values\n",
        "F3 = df.F3.values\n",
        "O2 = df.O2.values\n",
        "ECG = df.ECG.values\n",
        "len(C3), len(F3), len(O2), len(ECG)"
      ],
      "execution_count": null,
      "outputs": [
        {
          "output_type": "execute_result",
          "data": {
            "text/plain": [
              "(4619072, 4619072, 4619072, 4619072)"
            ]
          },
          "metadata": {
            "tags": []
          },
          "execution_count": 12
        }
      ]
    },
    {
      "cell_type": "markdown",
      "metadata": {
        "id": "Nnew0BtoJPFG",
        "colab_type": "text"
      },
      "source": [
        "## Extracting and Storing Features from C3 channel"
      ]
    },
    {
      "cell_type": "code",
      "metadata": {
        "id": "pTN7LlwcJMwJ",
        "colab_type": "code",
        "colab": {
          "base_uri": "https://localhost:8080/",
          "height": 229
        },
        "outputId": "d3929b2a-8111-4265-fdc3-67a244d532a2"
      },
      "source": [
        "C3 = C3/max(C3)\n",
        "area_C3 = np.array([], dtype = float)\n",
        "for i in range(int(len(C3)/7680)-1):\n",
        "  #print(i)\n",
        "  x = C3[i*7680:i*7680+7680]\n",
        "  x1 = C3[i*7680:i*7680+2*7680]\n",
        "  #print(x)\n",
        "  ar = np.asarray([find_area(x,x1, dim = [dim], tau = tau)],dtype=float)\n",
        "  area_C3 = np.append(area_C3,ar)\n",
        "print(len(area_C3))\n",
        "ar_label = pd.DataFrame({'area_C3':area_C3})\n",
        "ar_label.head()"
      ],
      "execution_count": null,
      "outputs": [
        {
          "output_type": "stream",
          "text": [
            "600\n"
          ],
          "name": "stdout"
        },
        {
          "output_type": "execute_result",
          "data": {
            "text/html": [
              "<div>\n",
              "<style scoped>\n",
              "    .dataframe tbody tr th:only-of-type {\n",
              "        vertical-align: middle;\n",
              "    }\n",
              "\n",
              "    .dataframe tbody tr th {\n",
              "        vertical-align: top;\n",
              "    }\n",
              "\n",
              "    .dataframe thead th {\n",
              "        text-align: right;\n",
              "    }\n",
              "</style>\n",
              "<table border=\"1\" class=\"dataframe\">\n",
              "  <thead>\n",
              "    <tr style=\"text-align: right;\">\n",
              "      <th></th>\n",
              "      <th>area_C3</th>\n",
              "    </tr>\n",
              "  </thead>\n",
              "  <tbody>\n",
              "    <tr>\n",
              "      <th>0</th>\n",
              "      <td>75.116188</td>\n",
              "    </tr>\n",
              "    <tr>\n",
              "      <th>1</th>\n",
              "      <td>5.244319</td>\n",
              "    </tr>\n",
              "    <tr>\n",
              "      <th>2</th>\n",
              "      <td>43.884235</td>\n",
              "    </tr>\n",
              "    <tr>\n",
              "      <th>3</th>\n",
              "      <td>55.355214</td>\n",
              "    </tr>\n",
              "    <tr>\n",
              "      <th>4</th>\n",
              "      <td>3.590647</td>\n",
              "    </tr>\n",
              "  </tbody>\n",
              "</table>\n",
              "</div>"
            ],
            "text/plain": [
              "     area_C3\n",
              "0  75.116188\n",
              "1   5.244319\n",
              "2  43.884235\n",
              "3  55.355214\n",
              "4   3.590647"
            ]
          },
          "metadata": {
            "tags": []
          },
          "execution_count": 13
        },
        {
          "output_type": "display_data",
          "data": {
            "text/plain": [
              "<Figure size 432x288 with 0 Axes>"
            ]
          },
          "metadata": {
            "tags": []
          }
        }
      ]
    },
    {
      "cell_type": "markdown",
      "metadata": {
        "id": "AHpIhPB6JXD9",
        "colab_type": "text"
      },
      "source": [
        "## Extracting and Storing Features from F3 Channel"
      ]
    },
    {
      "cell_type": "code",
      "metadata": {
        "id": "sUGnbqYGJcBc",
        "colab_type": "code",
        "colab": {
          "base_uri": "https://localhost:8080/",
          "height": 229
        },
        "outputId": "56bec769-af44-4c6d-c238-444912b500a0"
      },
      "source": [
        "F3 = F3/max(F3)\n",
        "area_F3 = np.array([], dtype = float)\n",
        "for i in range(int(len(F3)/7680)-1):\n",
        "  #print(i)\n",
        "  x = F3[i*7680:i*7680+7680]\n",
        "  x1 = F3[i*7680:i*7680+2*7680]\n",
        "  #print(x)\n",
        "  ar = np.asarray([find_area(x,x1, dim = [dim], tau = tau)],dtype=float)\n",
        "  area_F3 = np.append(area_F3,ar)\n",
        "print(len(area_F3))\n",
        "ar_label['area_F3'] = area_F3\n",
        "ar_label.head()"
      ],
      "execution_count": null,
      "outputs": [
        {
          "output_type": "stream",
          "text": [
            "600\n"
          ],
          "name": "stdout"
        },
        {
          "output_type": "execute_result",
          "data": {
            "text/html": [
              "<div>\n",
              "<style scoped>\n",
              "    .dataframe tbody tr th:only-of-type {\n",
              "        vertical-align: middle;\n",
              "    }\n",
              "\n",
              "    .dataframe tbody tr th {\n",
              "        vertical-align: top;\n",
              "    }\n",
              "\n",
              "    .dataframe thead th {\n",
              "        text-align: right;\n",
              "    }\n",
              "</style>\n",
              "<table border=\"1\" class=\"dataframe\">\n",
              "  <thead>\n",
              "    <tr style=\"text-align: right;\">\n",
              "      <th></th>\n",
              "      <th>area_C3</th>\n",
              "      <th>area_F3</th>\n",
              "    </tr>\n",
              "  </thead>\n",
              "  <tbody>\n",
              "    <tr>\n",
              "      <th>0</th>\n",
              "      <td>75.116188</td>\n",
              "      <td>96.945072</td>\n",
              "    </tr>\n",
              "    <tr>\n",
              "      <th>1</th>\n",
              "      <td>5.244319</td>\n",
              "      <td>4.920165</td>\n",
              "    </tr>\n",
              "    <tr>\n",
              "      <th>2</th>\n",
              "      <td>43.884235</td>\n",
              "      <td>8.840105</td>\n",
              "    </tr>\n",
              "    <tr>\n",
              "      <th>3</th>\n",
              "      <td>55.355214</td>\n",
              "      <td>19.057999</td>\n",
              "    </tr>\n",
              "    <tr>\n",
              "      <th>4</th>\n",
              "      <td>3.590647</td>\n",
              "      <td>3.265240</td>\n",
              "    </tr>\n",
              "  </tbody>\n",
              "</table>\n",
              "</div>"
            ],
            "text/plain": [
              "     area_C3    area_F3\n",
              "0  75.116188  96.945072\n",
              "1   5.244319   4.920165\n",
              "2  43.884235   8.840105\n",
              "3  55.355214  19.057999\n",
              "4   3.590647   3.265240"
            ]
          },
          "metadata": {
            "tags": []
          },
          "execution_count": 14
        },
        {
          "output_type": "display_data",
          "data": {
            "text/plain": [
              "<Figure size 432x288 with 0 Axes>"
            ]
          },
          "metadata": {
            "tags": []
          }
        }
      ]
    },
    {
      "cell_type": "markdown",
      "metadata": {
        "id": "kmbbotFgJcjm",
        "colab_type": "text"
      },
      "source": [
        "## Extracting and Storing Features from O2 Channel"
      ]
    },
    {
      "cell_type": "code",
      "metadata": {
        "id": "nSrYjOqyJgvq",
        "colab_type": "code",
        "colab": {
          "base_uri": "https://localhost:8080/",
          "height": 229
        },
        "outputId": "67cefb65-d2a5-48f1-d16b-3e8697638167"
      },
      "source": [
        "O2 = O2/max(O2)\n",
        "area_O2 = np.array([], dtype = float)\n",
        "for i in range(int(len(O2)/7680)-1):\n",
        "  #print(i)\n",
        "  x = O2[i*7680:i*7680+7680]\n",
        "  x1 = O2[i*7680:i*7680+2*7680]\n",
        "  #print(x)\n",
        "  ar = np.asarray([find_area(x,x1, dim = [dim], tau = tau)],dtype=float)\n",
        "  area_O2 = np.append(area_O2,ar)\n",
        "print(len(area_O2))\n",
        "ar_label['area_O2'] = area_O2\n",
        "ar_label.head()"
      ],
      "execution_count": null,
      "outputs": [
        {
          "output_type": "stream",
          "text": [
            "600\n"
          ],
          "name": "stdout"
        },
        {
          "output_type": "execute_result",
          "data": {
            "text/html": [
              "<div>\n",
              "<style scoped>\n",
              "    .dataframe tbody tr th:only-of-type {\n",
              "        vertical-align: middle;\n",
              "    }\n",
              "\n",
              "    .dataframe tbody tr th {\n",
              "        vertical-align: top;\n",
              "    }\n",
              "\n",
              "    .dataframe thead th {\n",
              "        text-align: right;\n",
              "    }\n",
              "</style>\n",
              "<table border=\"1\" class=\"dataframe\">\n",
              "  <thead>\n",
              "    <tr style=\"text-align: right;\">\n",
              "      <th></th>\n",
              "      <th>area_C3</th>\n",
              "      <th>area_F3</th>\n",
              "      <th>area_O2</th>\n",
              "    </tr>\n",
              "  </thead>\n",
              "  <tbody>\n",
              "    <tr>\n",
              "      <th>0</th>\n",
              "      <td>75.116188</td>\n",
              "      <td>96.945072</td>\n",
              "      <td>95.060392</td>\n",
              "    </tr>\n",
              "    <tr>\n",
              "      <th>1</th>\n",
              "      <td>5.244319</td>\n",
              "      <td>4.920165</td>\n",
              "      <td>13.587425</td>\n",
              "    </tr>\n",
              "    <tr>\n",
              "      <th>2</th>\n",
              "      <td>43.884235</td>\n",
              "      <td>8.840105</td>\n",
              "      <td>12.945789</td>\n",
              "    </tr>\n",
              "    <tr>\n",
              "      <th>3</th>\n",
              "      <td>55.355214</td>\n",
              "      <td>19.057999</td>\n",
              "      <td>5.506793</td>\n",
              "    </tr>\n",
              "    <tr>\n",
              "      <th>4</th>\n",
              "      <td>3.590647</td>\n",
              "      <td>3.265240</td>\n",
              "      <td>5.352508</td>\n",
              "    </tr>\n",
              "  </tbody>\n",
              "</table>\n",
              "</div>"
            ],
            "text/plain": [
              "     area_C3    area_F3    area_O2\n",
              "0  75.116188  96.945072  95.060392\n",
              "1   5.244319   4.920165  13.587425\n",
              "2  43.884235   8.840105  12.945789\n",
              "3  55.355214  19.057999   5.506793\n",
              "4   3.590647   3.265240   5.352508"
            ]
          },
          "metadata": {
            "tags": []
          },
          "execution_count": 15
        },
        {
          "output_type": "display_data",
          "data": {
            "text/plain": [
              "<Figure size 432x288 with 0 Axes>"
            ]
          },
          "metadata": {
            "tags": []
          }
        }
      ]
    },
    {
      "cell_type": "markdown",
      "metadata": {
        "id": "30k9s8AyJhU-",
        "colab_type": "text"
      },
      "source": [
        "## Extracting and Storing Features from ECG Channel"
      ]
    },
    {
      "cell_type": "code",
      "metadata": {
        "id": "eh-fdQmJJmpR",
        "colab_type": "code",
        "colab": {
          "base_uri": "https://localhost:8080/",
          "height": 229
        },
        "outputId": "ccec806a-c437-4ad6-d7ff-74f1866d9e03"
      },
      "source": [
        "ECG = ECG/max(ECG)\n",
        "area_ECG = np.array([], dtype = float)\n",
        "for i in range(int(len(ECG)/7680)-1):\n",
        "  #print(i)\n",
        "  x = ECG[i*7680:i*7680+7680]\n",
        "  x1 = ECG[i*7680:i*7680+2*7680]\n",
        "  #print(x)\n",
        "  ar = np.asarray([find_area(x,x1, dim = [dim], tau = tau)],dtype=float)\n",
        "  area_ECG = np.append(area_ECG,ar)\n",
        "print(len(area_ECG))\n",
        "ar_label['area_ECG'] = area_ECG\n",
        "ar_label.head()"
      ],
      "execution_count": null,
      "outputs": [
        {
          "output_type": "stream",
          "text": [
            "600\n"
          ],
          "name": "stdout"
        },
        {
          "output_type": "execute_result",
          "data": {
            "text/html": [
              "<div>\n",
              "<style scoped>\n",
              "    .dataframe tbody tr th:only-of-type {\n",
              "        vertical-align: middle;\n",
              "    }\n",
              "\n",
              "    .dataframe tbody tr th {\n",
              "        vertical-align: top;\n",
              "    }\n",
              "\n",
              "    .dataframe thead th {\n",
              "        text-align: right;\n",
              "    }\n",
              "</style>\n",
              "<table border=\"1\" class=\"dataframe\">\n",
              "  <thead>\n",
              "    <tr style=\"text-align: right;\">\n",
              "      <th></th>\n",
              "      <th>area_C3</th>\n",
              "      <th>area_F3</th>\n",
              "      <th>area_O2</th>\n",
              "      <th>area_ECG</th>\n",
              "    </tr>\n",
              "  </thead>\n",
              "  <tbody>\n",
              "    <tr>\n",
              "      <th>0</th>\n",
              "      <td>75.116188</td>\n",
              "      <td>96.945072</td>\n",
              "      <td>95.060392</td>\n",
              "      <td>31.459880</td>\n",
              "    </tr>\n",
              "    <tr>\n",
              "      <th>1</th>\n",
              "      <td>5.244319</td>\n",
              "      <td>4.920165</td>\n",
              "      <td>13.587425</td>\n",
              "      <td>41.162437</td>\n",
              "    </tr>\n",
              "    <tr>\n",
              "      <th>2</th>\n",
              "      <td>43.884235</td>\n",
              "      <td>8.840105</td>\n",
              "      <td>12.945789</td>\n",
              "      <td>39.619453</td>\n",
              "    </tr>\n",
              "    <tr>\n",
              "      <th>3</th>\n",
              "      <td>55.355214</td>\n",
              "      <td>19.057999</td>\n",
              "      <td>5.506793</td>\n",
              "      <td>38.975962</td>\n",
              "    </tr>\n",
              "    <tr>\n",
              "      <th>4</th>\n",
              "      <td>3.590647</td>\n",
              "      <td>3.265240</td>\n",
              "      <td>5.352508</td>\n",
              "      <td>39.249151</td>\n",
              "    </tr>\n",
              "  </tbody>\n",
              "</table>\n",
              "</div>"
            ],
            "text/plain": [
              "     area_C3    area_F3    area_O2   area_ECG\n",
              "0  75.116188  96.945072  95.060392  31.459880\n",
              "1   5.244319   4.920165  13.587425  41.162437\n",
              "2  43.884235   8.840105  12.945789  39.619453\n",
              "3  55.355214  19.057999   5.506793  38.975962\n",
              "4   3.590647   3.265240   5.352508  39.249151"
            ]
          },
          "metadata": {
            "tags": []
          },
          "execution_count": 16
        },
        {
          "output_type": "display_data",
          "data": {
            "text/plain": [
              "<Figure size 432x288 with 0 Axes>"
            ]
          },
          "metadata": {
            "tags": []
          }
        }
      ]
    },
    {
      "cell_type": "code",
      "metadata": {
        "id": "z64-7VdnKSPe",
        "colab_type": "code",
        "colab": {
          "base_uri": "https://localhost:8080/",
          "height": 195
        },
        "outputId": "e23418c3-940c-443d-d853-8a924570339b"
      },
      "source": [
        "ar_label.to_csv('Feature_C3_F3_O2_ECG_nolabel_Subham_constant_tau_dim.csv', index = False)\n",
        "df = pd.read_csv('Feature_C3_F3_O2_ECG_nolabel_Subham_constant_tau_dim.csv')\n",
        "df.head()"
      ],
      "execution_count": null,
      "outputs": [
        {
          "output_type": "execute_result",
          "data": {
            "text/html": [
              "<div>\n",
              "<style scoped>\n",
              "    .dataframe tbody tr th:only-of-type {\n",
              "        vertical-align: middle;\n",
              "    }\n",
              "\n",
              "    .dataframe tbody tr th {\n",
              "        vertical-align: top;\n",
              "    }\n",
              "\n",
              "    .dataframe thead th {\n",
              "        text-align: right;\n",
              "    }\n",
              "</style>\n",
              "<table border=\"1\" class=\"dataframe\">\n",
              "  <thead>\n",
              "    <tr style=\"text-align: right;\">\n",
              "      <th></th>\n",
              "      <th>area_C3</th>\n",
              "      <th>area_F3</th>\n",
              "      <th>area_O2</th>\n",
              "      <th>area_ECG</th>\n",
              "    </tr>\n",
              "  </thead>\n",
              "  <tbody>\n",
              "    <tr>\n",
              "      <th>0</th>\n",
              "      <td>75.116188</td>\n",
              "      <td>96.945072</td>\n",
              "      <td>95.060392</td>\n",
              "      <td>31.459880</td>\n",
              "    </tr>\n",
              "    <tr>\n",
              "      <th>1</th>\n",
              "      <td>5.244319</td>\n",
              "      <td>4.920165</td>\n",
              "      <td>13.587425</td>\n",
              "      <td>41.162437</td>\n",
              "    </tr>\n",
              "    <tr>\n",
              "      <th>2</th>\n",
              "      <td>43.884235</td>\n",
              "      <td>8.840105</td>\n",
              "      <td>12.945789</td>\n",
              "      <td>39.619453</td>\n",
              "    </tr>\n",
              "    <tr>\n",
              "      <th>3</th>\n",
              "      <td>55.355214</td>\n",
              "      <td>19.057999</td>\n",
              "      <td>5.506793</td>\n",
              "      <td>38.975962</td>\n",
              "    </tr>\n",
              "    <tr>\n",
              "      <th>4</th>\n",
              "      <td>3.590647</td>\n",
              "      <td>3.265240</td>\n",
              "      <td>5.352508</td>\n",
              "      <td>39.249151</td>\n",
              "    </tr>\n",
              "  </tbody>\n",
              "</table>\n",
              "</div>"
            ],
            "text/plain": [
              "     area_C3    area_F3    area_O2   area_ECG\n",
              "0  75.116188  96.945072  95.060392  31.459880\n",
              "1   5.244319   4.920165  13.587425  41.162437\n",
              "2  43.884235   8.840105  12.945789  39.619453\n",
              "3  55.355214  19.057999   5.506793  38.975962\n",
              "4   3.590647   3.265240   5.352508  39.249151"
            ]
          },
          "metadata": {
            "tags": []
          },
          "execution_count": 17
        }
      ]
    },
    {
      "cell_type": "markdown",
      "metadata": {
        "id": "mHa_erC1LMEj",
        "colab_type": "text"
      },
      "source": [
        "# Extracting Features from Sumit"
      ]
    },
    {
      "cell_type": "code",
      "metadata": {
        "id": "mveFnkvwLLcK",
        "colab_type": "code",
        "colab": {
          "base_uri": "https://localhost:8080/",
          "height": 34
        },
        "outputId": "933edc29-7856-4c52-99f3-4a8f54118c41"
      },
      "source": [
        "cd ../Sumit\\ Rawat"
      ],
      "execution_count": null,
      "outputs": [
        {
          "output_type": "stream",
          "text": [
            "/content/drive/My Drive/Sleep data/Sumit Rawat\n"
          ],
          "name": "stdout"
        }
      ]
    },
    {
      "cell_type": "code",
      "metadata": {
        "id": "TMpDrAlHLX1w",
        "colab_type": "code",
        "colab": {
          "base_uri": "https://localhost:8080/",
          "height": 151
        },
        "outputId": "0459733f-8982-47f6-ad6c-d0a02ba93b00"
      },
      "source": [
        "ls"
      ],
      "execution_count": null,
      "outputs": [
        {
          "output_type": "stream",
          "text": [
            "'C3 - 06.08.2019.txt'      'E2 - 06.08.2019.txt'    'M1 - 06.08.2019.txt'\n",
            "'C3M2 - 06.08.2019.txt'    'E2M1 - 06.08.2019.txt'  'M2 - 06.08.2019.txt'\n",
            "'C4 - 06.08.2019.txt'      'E2M2 - 06.08.2019.txt'  'O1 - 06.08.2019.txt'\n",
            "'C4M1 - 06.08.2019.txt'    'ECG - 06.08.2019.txt'   'O1M2 - 06.08.2019.txt'\n",
            "'Chin 1 - 06.08.2019.txt'  'F3 - 06.08.2019.txt'    'O2 - 06.08.2019.txt'\n",
            "'E1 - 06.08.2019.txt'      'F3M2 - 06.08.2019.txt'  'O2M1 - 06.08.2019.txt'\n",
            "'E1M1 - 06.08.2019.txt'    'F4 - 06.08.2019.txt'    'Sum RIPs - 06.08.2019.txt'\n",
            "'E1M2 - 06.08.2019.txt'    'F4M1 - 06.08.2019.txt'\n"
          ],
          "name": "stdout"
        }
      ]
    },
    {
      "cell_type": "markdown",
      "metadata": {
        "id": "SucwmXobLgX2",
        "colab_type": "text"
      },
      "source": [
        "## Storing Data in csv file"
      ]
    },
    {
      "cell_type": "code",
      "metadata": {
        "id": "PIopaelQLXrs",
        "colab_type": "code",
        "colab": {
          "base_uri": "https://localhost:8080/",
          "height": 154
        },
        "outputId": "0fbdbaf4-0e6c-4383-cd0f-5bef1a85603b"
      },
      "source": [
        "C3 = txt_to_arr('C3 - 06.08.2019.txt')\n",
        "F3 = txt_to_arr('F3 - 06.08.2019.txt')\n",
        "O2 = txt_to_arr('O2 - 06.08.2019.txt')\n",
        "ECG = txt_to_arr('ECG - 06.08.2019.txt')\n",
        "ECG = ECG[range(0, len(ECG), 2)]\n",
        "len(C3), len(F3), len(O2), len(ECG)"
      ],
      "execution_count": null,
      "outputs": [
        {
          "output_type": "stream",
          "text": [
            "/usr/local/lib/python3.6/dist-packages/IPython/core/interactiveshell.py:2822: DtypeWarning: Columns (0) have mixed types.Specify dtype option on import or set low_memory=False.\n",
            "  if self.run_code(code, result):\n"
          ],
          "name": "stderr"
        },
        {
          "output_type": "stream",
          "text": [
            "Length of data :  4619072\n",
            "Length of data :  4619072\n",
            "Length of data :  4619072\n",
            "Length of data :  9238144\n"
          ],
          "name": "stdout"
        },
        {
          "output_type": "execute_result",
          "data": {
            "text/plain": [
              "(4619072, 4619072, 4619072, 4619072)"
            ]
          },
          "metadata": {
            "tags": []
          },
          "execution_count": 20
        }
      ]
    },
    {
      "cell_type": "code",
      "metadata": {
        "id": "T4Lh-ymWLpaU",
        "colab_type": "code",
        "colab": {
          "base_uri": "https://localhost:8080/",
          "height": 195
        },
        "outputId": "7dc141bd-983b-4610-88fb-ab6ae94e5590"
      },
      "source": [
        "df = pd.DataFrame()\n",
        "df['C3'] = C3\n",
        "df['F3'] = F3\n",
        "df['O2'] = O2\n",
        "df['ECG'] = ECG\n",
        "df.to_csv('Sumit_Rawat_C3_F3_O2_ECG.csv', index = None)\n",
        "df.head()"
      ],
      "execution_count": null,
      "outputs": [
        {
          "output_type": "execute_result",
          "data": {
            "text/html": [
              "<div>\n",
              "<style scoped>\n",
              "    .dataframe tbody tr th:only-of-type {\n",
              "        vertical-align: middle;\n",
              "    }\n",
              "\n",
              "    .dataframe tbody tr th {\n",
              "        vertical-align: top;\n",
              "    }\n",
              "\n",
              "    .dataframe thead th {\n",
              "        text-align: right;\n",
              "    }\n",
              "</style>\n",
              "<table border=\"1\" class=\"dataframe\">\n",
              "  <thead>\n",
              "    <tr style=\"text-align: right;\">\n",
              "      <th></th>\n",
              "      <th>C3</th>\n",
              "      <th>F3</th>\n",
              "      <th>O2</th>\n",
              "      <th>ECG</th>\n",
              "    </tr>\n",
              "  </thead>\n",
              "  <tbody>\n",
              "    <tr>\n",
              "      <th>0</th>\n",
              "      <td>0.0</td>\n",
              "      <td>0.0</td>\n",
              "      <td>0.0</td>\n",
              "      <td>0.0</td>\n",
              "    </tr>\n",
              "    <tr>\n",
              "      <th>1</th>\n",
              "      <td>0.0</td>\n",
              "      <td>0.0</td>\n",
              "      <td>0.0</td>\n",
              "      <td>0.0</td>\n",
              "    </tr>\n",
              "    <tr>\n",
              "      <th>2</th>\n",
              "      <td>0.0</td>\n",
              "      <td>0.0</td>\n",
              "      <td>0.0</td>\n",
              "      <td>0.0</td>\n",
              "    </tr>\n",
              "    <tr>\n",
              "      <th>3</th>\n",
              "      <td>0.0</td>\n",
              "      <td>0.0</td>\n",
              "      <td>0.0</td>\n",
              "      <td>0.0</td>\n",
              "    </tr>\n",
              "    <tr>\n",
              "      <th>4</th>\n",
              "      <td>0.0</td>\n",
              "      <td>0.0</td>\n",
              "      <td>0.0</td>\n",
              "      <td>0.0</td>\n",
              "    </tr>\n",
              "  </tbody>\n",
              "</table>\n",
              "</div>"
            ],
            "text/plain": [
              "    C3   F3   O2  ECG\n",
              "0  0.0  0.0  0.0  0.0\n",
              "1  0.0  0.0  0.0  0.0\n",
              "2  0.0  0.0  0.0  0.0\n",
              "3  0.0  0.0  0.0  0.0\n",
              "4  0.0  0.0  0.0  0.0"
            ]
          },
          "metadata": {
            "tags": []
          },
          "execution_count": 21
        }
      ]
    },
    {
      "cell_type": "markdown",
      "metadata": {
        "id": "hhmVcZdqLwGQ",
        "colab_type": "text"
      },
      "source": [
        "## Reading csv file"
      ]
    },
    {
      "cell_type": "code",
      "metadata": {
        "id": "2znr4cP3LzDG",
        "colab_type": "code",
        "colab": {
          "base_uri": "https://localhost:8080/",
          "height": 195
        },
        "outputId": "989dc62f-caa1-4312-cb2e-5efa2bbf9d5e"
      },
      "source": [
        "df = pd.read_csv('Sumit_Rawat_C3_F3_O2_ECG.csv')\n",
        "df.head()"
      ],
      "execution_count": null,
      "outputs": [
        {
          "output_type": "execute_result",
          "data": {
            "text/html": [
              "<div>\n",
              "<style scoped>\n",
              "    .dataframe tbody tr th:only-of-type {\n",
              "        vertical-align: middle;\n",
              "    }\n",
              "\n",
              "    .dataframe tbody tr th {\n",
              "        vertical-align: top;\n",
              "    }\n",
              "\n",
              "    .dataframe thead th {\n",
              "        text-align: right;\n",
              "    }\n",
              "</style>\n",
              "<table border=\"1\" class=\"dataframe\">\n",
              "  <thead>\n",
              "    <tr style=\"text-align: right;\">\n",
              "      <th></th>\n",
              "      <th>C3</th>\n",
              "      <th>F3</th>\n",
              "      <th>O2</th>\n",
              "      <th>ECG</th>\n",
              "    </tr>\n",
              "  </thead>\n",
              "  <tbody>\n",
              "    <tr>\n",
              "      <th>0</th>\n",
              "      <td>0.0</td>\n",
              "      <td>0.0</td>\n",
              "      <td>0.0</td>\n",
              "      <td>0.0</td>\n",
              "    </tr>\n",
              "    <tr>\n",
              "      <th>1</th>\n",
              "      <td>0.0</td>\n",
              "      <td>0.0</td>\n",
              "      <td>0.0</td>\n",
              "      <td>0.0</td>\n",
              "    </tr>\n",
              "    <tr>\n",
              "      <th>2</th>\n",
              "      <td>0.0</td>\n",
              "      <td>0.0</td>\n",
              "      <td>0.0</td>\n",
              "      <td>0.0</td>\n",
              "    </tr>\n",
              "    <tr>\n",
              "      <th>3</th>\n",
              "      <td>0.0</td>\n",
              "      <td>0.0</td>\n",
              "      <td>0.0</td>\n",
              "      <td>0.0</td>\n",
              "    </tr>\n",
              "    <tr>\n",
              "      <th>4</th>\n",
              "      <td>0.0</td>\n",
              "      <td>0.0</td>\n",
              "      <td>0.0</td>\n",
              "      <td>0.0</td>\n",
              "    </tr>\n",
              "  </tbody>\n",
              "</table>\n",
              "</div>"
            ],
            "text/plain": [
              "    C3   F3   O2  ECG\n",
              "0  0.0  0.0  0.0  0.0\n",
              "1  0.0  0.0  0.0  0.0\n",
              "2  0.0  0.0  0.0  0.0\n",
              "3  0.0  0.0  0.0  0.0\n",
              "4  0.0  0.0  0.0  0.0"
            ]
          },
          "metadata": {
            "tags": []
          },
          "execution_count": 22
        }
      ]
    },
    {
      "cell_type": "code",
      "metadata": {
        "id": "xQ7X8JYIL7NL",
        "colab_type": "code",
        "colab": {
          "base_uri": "https://localhost:8080/",
          "height": 34
        },
        "outputId": "14566497-c8a1-4fa9-cd2a-6fff9d650521"
      },
      "source": [
        "C3 = df.C3.values\n",
        "F3 = df.F3.values\n",
        "O2 = df.O2.values\n",
        "ECG = df.ECG.values\n",
        "len(C3), len(F3), len(O2), len(ECG)"
      ],
      "execution_count": null,
      "outputs": [
        {
          "output_type": "execute_result",
          "data": {
            "text/plain": [
              "(4619072, 4619072, 4619072, 4619072)"
            ]
          },
          "metadata": {
            "tags": []
          },
          "execution_count": 23
        }
      ]
    },
    {
      "cell_type": "markdown",
      "metadata": {
        "id": "rtKmh42NMARd",
        "colab_type": "text"
      },
      "source": [
        "## Extracting and Storing Features from C3 Channel"
      ]
    },
    {
      "cell_type": "code",
      "metadata": {
        "id": "uXAY9AKqL-q7",
        "colab_type": "code",
        "colab": {
          "base_uri": "https://localhost:8080/",
          "height": 229
        },
        "outputId": "6bdd8f3d-1855-47b7-8558-c0ab6dd3158c"
      },
      "source": [
        "C3 = C3/max(C3)\n",
        "area_C3 = np.array([], dtype = float)\n",
        "for i in range(int(len(C3)/7680)-1):\n",
        "  #print(i)\n",
        "  x = C3[i*7680:i*7680+7680]\n",
        "  x1 = C3[i*7680:i*7680+2*7680]\n",
        "  #print(x)\n",
        "  ar = np.asarray([find_area(x,x1, dim = [dim], tau = tau)],dtype=float)\n",
        "  area_C3 = np.append(area_C3,ar)\n",
        "print(len(area_C3))\n",
        "ar_label = pd.DataFrame({'area_C3':area_C3})\n",
        "ar_label.head()"
      ],
      "execution_count": null,
      "outputs": [
        {
          "output_type": "stream",
          "text": [
            "600\n"
          ],
          "name": "stdout"
        },
        {
          "output_type": "execute_result",
          "data": {
            "text/html": [
              "<div>\n",
              "<style scoped>\n",
              "    .dataframe tbody tr th:only-of-type {\n",
              "        vertical-align: middle;\n",
              "    }\n",
              "\n",
              "    .dataframe tbody tr th {\n",
              "        vertical-align: top;\n",
              "    }\n",
              "\n",
              "    .dataframe thead th {\n",
              "        text-align: right;\n",
              "    }\n",
              "</style>\n",
              "<table border=\"1\" class=\"dataframe\">\n",
              "  <thead>\n",
              "    <tr style=\"text-align: right;\">\n",
              "      <th></th>\n",
              "      <th>area_C3</th>\n",
              "    </tr>\n",
              "  </thead>\n",
              "  <tbody>\n",
              "    <tr>\n",
              "      <th>0</th>\n",
              "      <td>75.116188</td>\n",
              "    </tr>\n",
              "    <tr>\n",
              "      <th>1</th>\n",
              "      <td>5.244319</td>\n",
              "    </tr>\n",
              "    <tr>\n",
              "      <th>2</th>\n",
              "      <td>43.884235</td>\n",
              "    </tr>\n",
              "    <tr>\n",
              "      <th>3</th>\n",
              "      <td>55.355214</td>\n",
              "    </tr>\n",
              "    <tr>\n",
              "      <th>4</th>\n",
              "      <td>3.590647</td>\n",
              "    </tr>\n",
              "  </tbody>\n",
              "</table>\n",
              "</div>"
            ],
            "text/plain": [
              "     area_C3\n",
              "0  75.116188\n",
              "1   5.244319\n",
              "2  43.884235\n",
              "3  55.355214\n",
              "4   3.590647"
            ]
          },
          "metadata": {
            "tags": []
          },
          "execution_count": 24
        },
        {
          "output_type": "display_data",
          "data": {
            "text/plain": [
              "<Figure size 432x288 with 0 Axes>"
            ]
          },
          "metadata": {
            "tags": []
          }
        }
      ]
    },
    {
      "cell_type": "markdown",
      "metadata": {
        "id": "Xw8Fixx1MLBH",
        "colab_type": "text"
      },
      "source": [
        "## Extracting and Storing Features from F3 Channel"
      ]
    },
    {
      "cell_type": "code",
      "metadata": {
        "id": "K8-f1O0lMQbS",
        "colab_type": "code",
        "colab": {
          "base_uri": "https://localhost:8080/",
          "height": 229
        },
        "outputId": "14c175d9-0edf-4d25-c17c-6f0169a5b2b1"
      },
      "source": [
        "F3 = F3/max(F3)\n",
        "area_F3 = np.array([], dtype = float)\n",
        "for i in range(int(len(F3)/7680)-1):\n",
        "  #print(i)\n",
        "  x = F3[i*7680:i*7680+7680]\n",
        "  x1 = F3[i*7680:i*7680+2*7680]\n",
        "  #print(x)\n",
        "  ar = np.asarray([find_area(x,x1, dim = [dim], tau = tau)],dtype=float)\n",
        "  area_F3 = np.append(area_F3,ar)\n",
        "print(len(area_F3))\n",
        "ar_label['area_F3'] = area_F3\n",
        "ar_label.head()"
      ],
      "execution_count": null,
      "outputs": [
        {
          "output_type": "stream",
          "text": [
            "600\n"
          ],
          "name": "stdout"
        },
        {
          "output_type": "execute_result",
          "data": {
            "text/html": [
              "<div>\n",
              "<style scoped>\n",
              "    .dataframe tbody tr th:only-of-type {\n",
              "        vertical-align: middle;\n",
              "    }\n",
              "\n",
              "    .dataframe tbody tr th {\n",
              "        vertical-align: top;\n",
              "    }\n",
              "\n",
              "    .dataframe thead th {\n",
              "        text-align: right;\n",
              "    }\n",
              "</style>\n",
              "<table border=\"1\" class=\"dataframe\">\n",
              "  <thead>\n",
              "    <tr style=\"text-align: right;\">\n",
              "      <th></th>\n",
              "      <th>area_C3</th>\n",
              "      <th>area_F3</th>\n",
              "    </tr>\n",
              "  </thead>\n",
              "  <tbody>\n",
              "    <tr>\n",
              "      <th>0</th>\n",
              "      <td>75.116188</td>\n",
              "      <td>96.945072</td>\n",
              "    </tr>\n",
              "    <tr>\n",
              "      <th>1</th>\n",
              "      <td>5.244319</td>\n",
              "      <td>4.920165</td>\n",
              "    </tr>\n",
              "    <tr>\n",
              "      <th>2</th>\n",
              "      <td>43.884235</td>\n",
              "      <td>8.840105</td>\n",
              "    </tr>\n",
              "    <tr>\n",
              "      <th>3</th>\n",
              "      <td>55.355214</td>\n",
              "      <td>19.057999</td>\n",
              "    </tr>\n",
              "    <tr>\n",
              "      <th>4</th>\n",
              "      <td>3.590647</td>\n",
              "      <td>3.265240</td>\n",
              "    </tr>\n",
              "  </tbody>\n",
              "</table>\n",
              "</div>"
            ],
            "text/plain": [
              "     area_C3    area_F3\n",
              "0  75.116188  96.945072\n",
              "1   5.244319   4.920165\n",
              "2  43.884235   8.840105\n",
              "3  55.355214  19.057999\n",
              "4   3.590647   3.265240"
            ]
          },
          "metadata": {
            "tags": []
          },
          "execution_count": 25
        },
        {
          "output_type": "display_data",
          "data": {
            "text/plain": [
              "<Figure size 432x288 with 0 Axes>"
            ]
          },
          "metadata": {
            "tags": []
          }
        }
      ]
    },
    {
      "cell_type": "markdown",
      "metadata": {
        "id": "zSVk48ekMQwn",
        "colab_type": "text"
      },
      "source": [
        "## Extracting and Storing Features from O2 Channel"
      ]
    },
    {
      "cell_type": "code",
      "metadata": {
        "id": "P7xCavX8MVQu",
        "colab_type": "code",
        "colab": {
          "base_uri": "https://localhost:8080/",
          "height": 229
        },
        "outputId": "ace9da60-9930-41cf-bbe5-05d4b91ca315"
      },
      "source": [
        "O2 = O2/max(O2)\n",
        "area_O2 = np.array([], dtype = float)\n",
        "for i in range(int(len(O2)/7680)-1):\n",
        "  #print(i)\n",
        "  x = O2[i*7680:i*7680+7680]\n",
        "  x1 = O2[i*7680:i*7680+2*7680]\n",
        "  #print(x)\n",
        "  ar = np.asarray([find_area(x,x1, dim = [dim], tau = tau)],dtype=float)\n",
        "  area_O2 = np.append(area_O2,ar)\n",
        "print(len(area_O2))\n",
        "ar_label['area_O2'] = area_O2\n",
        "ar_label.head()"
      ],
      "execution_count": null,
      "outputs": [
        {
          "output_type": "stream",
          "text": [
            "600\n"
          ],
          "name": "stdout"
        },
        {
          "output_type": "execute_result",
          "data": {
            "text/html": [
              "<div>\n",
              "<style scoped>\n",
              "    .dataframe tbody tr th:only-of-type {\n",
              "        vertical-align: middle;\n",
              "    }\n",
              "\n",
              "    .dataframe tbody tr th {\n",
              "        vertical-align: top;\n",
              "    }\n",
              "\n",
              "    .dataframe thead th {\n",
              "        text-align: right;\n",
              "    }\n",
              "</style>\n",
              "<table border=\"1\" class=\"dataframe\">\n",
              "  <thead>\n",
              "    <tr style=\"text-align: right;\">\n",
              "      <th></th>\n",
              "      <th>area_C3</th>\n",
              "      <th>area_F3</th>\n",
              "      <th>area_O2</th>\n",
              "    </tr>\n",
              "  </thead>\n",
              "  <tbody>\n",
              "    <tr>\n",
              "      <th>0</th>\n",
              "      <td>75.116188</td>\n",
              "      <td>96.945072</td>\n",
              "      <td>95.060392</td>\n",
              "    </tr>\n",
              "    <tr>\n",
              "      <th>1</th>\n",
              "      <td>5.244319</td>\n",
              "      <td>4.920165</td>\n",
              "      <td>13.587425</td>\n",
              "    </tr>\n",
              "    <tr>\n",
              "      <th>2</th>\n",
              "      <td>43.884235</td>\n",
              "      <td>8.840105</td>\n",
              "      <td>12.945789</td>\n",
              "    </tr>\n",
              "    <tr>\n",
              "      <th>3</th>\n",
              "      <td>55.355214</td>\n",
              "      <td>19.057999</td>\n",
              "      <td>5.506793</td>\n",
              "    </tr>\n",
              "    <tr>\n",
              "      <th>4</th>\n",
              "      <td>3.590647</td>\n",
              "      <td>3.265240</td>\n",
              "      <td>5.352508</td>\n",
              "    </tr>\n",
              "  </tbody>\n",
              "</table>\n",
              "</div>"
            ],
            "text/plain": [
              "     area_C3    area_F3    area_O2\n",
              "0  75.116188  96.945072  95.060392\n",
              "1   5.244319   4.920165  13.587425\n",
              "2  43.884235   8.840105  12.945789\n",
              "3  55.355214  19.057999   5.506793\n",
              "4   3.590647   3.265240   5.352508"
            ]
          },
          "metadata": {
            "tags": []
          },
          "execution_count": 26
        },
        {
          "output_type": "display_data",
          "data": {
            "text/plain": [
              "<Figure size 432x288 with 0 Axes>"
            ]
          },
          "metadata": {
            "tags": []
          }
        }
      ]
    },
    {
      "cell_type": "markdown",
      "metadata": {
        "id": "g1HJvAIUMaxf",
        "colab_type": "text"
      },
      "source": [
        "## Extracting and Storing Features from ECG Channel"
      ]
    },
    {
      "cell_type": "code",
      "metadata": {
        "id": "r0Z1_OfkMfNb",
        "colab_type": "code",
        "colab": {
          "base_uri": "https://localhost:8080/",
          "height": 229
        },
        "outputId": "8c401eef-1527-4f08-dd6e-9b071ed6adce"
      },
      "source": [
        "ECG = ECG/max(ECG)\n",
        "area_ECG = np.array([], dtype = float)\n",
        "for i in range(int(len(ECG)/7680)-1):\n",
        "  #print(i)\n",
        "  x = ECG[i*7680:i*7680+7680]\n",
        "  x1 = ECG[i*7680:i*7680+2*7680]\n",
        "  #print(x)\n",
        "  ar = np.asarray([find_area(x,x1, dim = [dim], tau = tau)],dtype=float)\n",
        "  area_ECG = np.append(area_ECG,ar)\n",
        "print(len(area_ECG))\n",
        "ar_label['area_ECG'] = area_ECG\n",
        "ar_label.head()"
      ],
      "execution_count": null,
      "outputs": [
        {
          "output_type": "stream",
          "text": [
            "600\n"
          ],
          "name": "stdout"
        },
        {
          "output_type": "execute_result",
          "data": {
            "text/html": [
              "<div>\n",
              "<style scoped>\n",
              "    .dataframe tbody tr th:only-of-type {\n",
              "        vertical-align: middle;\n",
              "    }\n",
              "\n",
              "    .dataframe tbody tr th {\n",
              "        vertical-align: top;\n",
              "    }\n",
              "\n",
              "    .dataframe thead th {\n",
              "        text-align: right;\n",
              "    }\n",
              "</style>\n",
              "<table border=\"1\" class=\"dataframe\">\n",
              "  <thead>\n",
              "    <tr style=\"text-align: right;\">\n",
              "      <th></th>\n",
              "      <th>area_C3</th>\n",
              "      <th>area_F3</th>\n",
              "      <th>area_O2</th>\n",
              "      <th>area_ECG</th>\n",
              "    </tr>\n",
              "  </thead>\n",
              "  <tbody>\n",
              "    <tr>\n",
              "      <th>0</th>\n",
              "      <td>75.116188</td>\n",
              "      <td>96.945072</td>\n",
              "      <td>95.060392</td>\n",
              "      <td>31.459880</td>\n",
              "    </tr>\n",
              "    <tr>\n",
              "      <th>1</th>\n",
              "      <td>5.244319</td>\n",
              "      <td>4.920165</td>\n",
              "      <td>13.587425</td>\n",
              "      <td>41.162437</td>\n",
              "    </tr>\n",
              "    <tr>\n",
              "      <th>2</th>\n",
              "      <td>43.884235</td>\n",
              "      <td>8.840105</td>\n",
              "      <td>12.945789</td>\n",
              "      <td>39.619453</td>\n",
              "    </tr>\n",
              "    <tr>\n",
              "      <th>3</th>\n",
              "      <td>55.355214</td>\n",
              "      <td>19.057999</td>\n",
              "      <td>5.506793</td>\n",
              "      <td>38.975962</td>\n",
              "    </tr>\n",
              "    <tr>\n",
              "      <th>4</th>\n",
              "      <td>3.590647</td>\n",
              "      <td>3.265240</td>\n",
              "      <td>5.352508</td>\n",
              "      <td>39.249151</td>\n",
              "    </tr>\n",
              "  </tbody>\n",
              "</table>\n",
              "</div>"
            ],
            "text/plain": [
              "     area_C3    area_F3    area_O2   area_ECG\n",
              "0  75.116188  96.945072  95.060392  31.459880\n",
              "1   5.244319   4.920165  13.587425  41.162437\n",
              "2  43.884235   8.840105  12.945789  39.619453\n",
              "3  55.355214  19.057999   5.506793  38.975962\n",
              "4   3.590647   3.265240   5.352508  39.249151"
            ]
          },
          "metadata": {
            "tags": []
          },
          "execution_count": 27
        },
        {
          "output_type": "display_data",
          "data": {
            "text/plain": [
              "<Figure size 432x288 with 0 Axes>"
            ]
          },
          "metadata": {
            "tags": []
          }
        }
      ]
    },
    {
      "cell_type": "code",
      "metadata": {
        "id": "cKTb7BAQMlBU",
        "colab_type": "code",
        "colab": {
          "base_uri": "https://localhost:8080/",
          "height": 195
        },
        "outputId": "04789bf9-1f04-4653-ba77-819a2d990218"
      },
      "source": [
        "ar_label.to_csv('Feature_C3_F3_O2_ECG_nolabel_Sumit_constant_tau_dim.csv', index = False)\n",
        "df = pd.read_csv('Feature_C3_F3_O2_ECG_nolabel_Sumit_constant_tau_dim.csv')\n",
        "df.head()"
      ],
      "execution_count": null,
      "outputs": [
        {
          "output_type": "execute_result",
          "data": {
            "text/html": [
              "<div>\n",
              "<style scoped>\n",
              "    .dataframe tbody tr th:only-of-type {\n",
              "        vertical-align: middle;\n",
              "    }\n",
              "\n",
              "    .dataframe tbody tr th {\n",
              "        vertical-align: top;\n",
              "    }\n",
              "\n",
              "    .dataframe thead th {\n",
              "        text-align: right;\n",
              "    }\n",
              "</style>\n",
              "<table border=\"1\" class=\"dataframe\">\n",
              "  <thead>\n",
              "    <tr style=\"text-align: right;\">\n",
              "      <th></th>\n",
              "      <th>area_C3</th>\n",
              "      <th>area_F3</th>\n",
              "      <th>area_O2</th>\n",
              "      <th>area_ECG</th>\n",
              "    </tr>\n",
              "  </thead>\n",
              "  <tbody>\n",
              "    <tr>\n",
              "      <th>0</th>\n",
              "      <td>75.116188</td>\n",
              "      <td>96.945072</td>\n",
              "      <td>95.060392</td>\n",
              "      <td>31.459880</td>\n",
              "    </tr>\n",
              "    <tr>\n",
              "      <th>1</th>\n",
              "      <td>5.244319</td>\n",
              "      <td>4.920165</td>\n",
              "      <td>13.587425</td>\n",
              "      <td>41.162437</td>\n",
              "    </tr>\n",
              "    <tr>\n",
              "      <th>2</th>\n",
              "      <td>43.884235</td>\n",
              "      <td>8.840105</td>\n",
              "      <td>12.945789</td>\n",
              "      <td>39.619453</td>\n",
              "    </tr>\n",
              "    <tr>\n",
              "      <th>3</th>\n",
              "      <td>55.355214</td>\n",
              "      <td>19.057999</td>\n",
              "      <td>5.506793</td>\n",
              "      <td>38.975962</td>\n",
              "    </tr>\n",
              "    <tr>\n",
              "      <th>4</th>\n",
              "      <td>3.590647</td>\n",
              "      <td>3.265240</td>\n",
              "      <td>5.352508</td>\n",
              "      <td>39.249151</td>\n",
              "    </tr>\n",
              "  </tbody>\n",
              "</table>\n",
              "</div>"
            ],
            "text/plain": [
              "     area_C3    area_F3    area_O2   area_ECG\n",
              "0  75.116188  96.945072  95.060392  31.459880\n",
              "1   5.244319   4.920165  13.587425  41.162437\n",
              "2  43.884235   8.840105  12.945789  39.619453\n",
              "3  55.355214  19.057999   5.506793  38.975962\n",
              "4   3.590647   3.265240   5.352508  39.249151"
            ]
          },
          "metadata": {
            "tags": []
          },
          "execution_count": 28
        }
      ]
    },
    {
      "cell_type": "markdown",
      "metadata": {
        "id": "-7YYYnlxMuHA",
        "colab_type": "text"
      },
      "source": [
        "# Extracting Features from Sunny"
      ]
    },
    {
      "cell_type": "code",
      "metadata": {
        "id": "paF0yrxyMz1P",
        "colab_type": "code",
        "colab": {
          "base_uri": "https://localhost:8080/",
          "height": 34
        },
        "outputId": "10200d9d-b9f1-4235-9c0e-912e2169bc24"
      },
      "source": [
        "cd ../Sunny\\ Thakur"
      ],
      "execution_count": null,
      "outputs": [
        {
          "output_type": "stream",
          "text": [
            "/content/drive/My Drive/Sleep data/Sunny Thakur\n"
          ],
          "name": "stdout"
        }
      ]
    },
    {
      "cell_type": "code",
      "metadata": {
        "id": "RJGzh4qZNXIt",
        "colab_type": "code",
        "colab": {
          "base_uri": "https://localhost:8080/",
          "height": 50
        },
        "outputId": "869a7e43-b65f-467c-d978-949a20654096"
      },
      "source": [
        "ls"
      ],
      "execution_count": null,
      "outputs": [
        {
          "output_type": "stream",
          "text": [
            "'C3 - 01.07.2019.txt'   'F3 - 01.07.2019.txt'\n",
            "'ECG - 01.07.2019.txt'  'O2 - 01.07.2019.txt'\n"
          ],
          "name": "stdout"
        }
      ]
    },
    {
      "cell_type": "markdown",
      "metadata": {
        "id": "OvxJ1Gd3MuBn",
        "colab_type": "text"
      },
      "source": [
        "## Storing Data in csv file"
      ]
    },
    {
      "cell_type": "code",
      "metadata": {
        "id": "BGZOF8FnNd3N",
        "colab_type": "code",
        "colab": {
          "base_uri": "https://localhost:8080/",
          "height": 154
        },
        "outputId": "9f652a31-8a02-421d-bf96-25c2867ca9d5"
      },
      "source": [
        "C3 = txt_to_arr('C3 - 01.07.2019.txt')\n",
        "F3 = txt_to_arr('F3 - 01.07.2019.txt')\n",
        "O2 = txt_to_arr('O2 - 01.07.2019.txt')\n",
        "ECG = txt_to_arr('ECG - 01.07.2019.txt')\n",
        "ECG = ECG[range(0, len(ECG), 2)]\n",
        "len(C3), len(F3), len(O2), len(ECG)"
      ],
      "execution_count": null,
      "outputs": [
        {
          "output_type": "stream",
          "text": [
            "/usr/local/lib/python3.6/dist-packages/IPython/core/interactiveshell.py:2822: DtypeWarning: Columns (0) have mixed types.Specify dtype option on import or set low_memory=False.\n",
            "  if self.run_code(code, result):\n"
          ],
          "name": "stderr"
        },
        {
          "output_type": "stream",
          "text": [
            "Length of data :  7032064\n",
            "Length of data :  7032064\n",
            "Length of data :  7032064\n",
            "Length of data :  14064128\n"
          ],
          "name": "stdout"
        },
        {
          "output_type": "execute_result",
          "data": {
            "text/plain": [
              "(7032064, 7032064, 7032064, 7032064)"
            ]
          },
          "metadata": {
            "tags": []
          },
          "execution_count": 31
        }
      ]
    },
    {
      "cell_type": "code",
      "metadata": {
        "id": "zRWDMlrINstM",
        "colab_type": "code",
        "colab": {
          "base_uri": "https://localhost:8080/",
          "height": 195
        },
        "outputId": "33a0df91-3ce7-4eb1-ff65-6af387abf957"
      },
      "source": [
        "df = pd.DataFrame()\n",
        "df['C3'] = C3\n",
        "df['F3'] = F3\n",
        "df['O2'] = O2\n",
        "df['ECG'] = ECG\n",
        "df.to_csv('Sunny_Thakur_C3_F3_O2_ECG.csv', index = None)\n",
        "df.head()"
      ],
      "execution_count": null,
      "outputs": [
        {
          "output_type": "execute_result",
          "data": {
            "text/html": [
              "<div>\n",
              "<style scoped>\n",
              "    .dataframe tbody tr th:only-of-type {\n",
              "        vertical-align: middle;\n",
              "    }\n",
              "\n",
              "    .dataframe tbody tr th {\n",
              "        vertical-align: top;\n",
              "    }\n",
              "\n",
              "    .dataframe thead th {\n",
              "        text-align: right;\n",
              "    }\n",
              "</style>\n",
              "<table border=\"1\" class=\"dataframe\">\n",
              "  <thead>\n",
              "    <tr style=\"text-align: right;\">\n",
              "      <th></th>\n",
              "      <th>C3</th>\n",
              "      <th>F3</th>\n",
              "      <th>O2</th>\n",
              "      <th>ECG</th>\n",
              "    </tr>\n",
              "  </thead>\n",
              "  <tbody>\n",
              "    <tr>\n",
              "      <th>0</th>\n",
              "      <td>0.0</td>\n",
              "      <td>0.0</td>\n",
              "      <td>0.0</td>\n",
              "      <td>0.0</td>\n",
              "    </tr>\n",
              "    <tr>\n",
              "      <th>1</th>\n",
              "      <td>0.0</td>\n",
              "      <td>0.0</td>\n",
              "      <td>0.0</td>\n",
              "      <td>0.0</td>\n",
              "    </tr>\n",
              "    <tr>\n",
              "      <th>2</th>\n",
              "      <td>0.0</td>\n",
              "      <td>0.0</td>\n",
              "      <td>0.0</td>\n",
              "      <td>0.0</td>\n",
              "    </tr>\n",
              "    <tr>\n",
              "      <th>3</th>\n",
              "      <td>0.0</td>\n",
              "      <td>0.0</td>\n",
              "      <td>0.0</td>\n",
              "      <td>0.0</td>\n",
              "    </tr>\n",
              "    <tr>\n",
              "      <th>4</th>\n",
              "      <td>0.0</td>\n",
              "      <td>0.0</td>\n",
              "      <td>0.0</td>\n",
              "      <td>0.0</td>\n",
              "    </tr>\n",
              "  </tbody>\n",
              "</table>\n",
              "</div>"
            ],
            "text/plain": [
              "    C3   F3   O2  ECG\n",
              "0  0.0  0.0  0.0  0.0\n",
              "1  0.0  0.0  0.0  0.0\n",
              "2  0.0  0.0  0.0  0.0\n",
              "3  0.0  0.0  0.0  0.0\n",
              "4  0.0  0.0  0.0  0.0"
            ]
          },
          "metadata": {
            "tags": []
          },
          "execution_count": 32
        }
      ]
    },
    {
      "cell_type": "markdown",
      "metadata": {
        "id": "bIYwWcH8NyiF",
        "colab_type": "text"
      },
      "source": [
        "## Reading csv file"
      ]
    },
    {
      "cell_type": "code",
      "metadata": {
        "id": "ZbXe4Aq3N1XW",
        "colab_type": "code",
        "colab": {
          "base_uri": "https://localhost:8080/",
          "height": 195
        },
        "outputId": "072ddf15-d6d1-4d42-bcf8-9dca56998a19"
      },
      "source": [
        "df = pd.read_csv('Sunny_Thakur_C3_F3_O2_ECG.csv')\n",
        "df.head()"
      ],
      "execution_count": null,
      "outputs": [
        {
          "output_type": "execute_result",
          "data": {
            "text/html": [
              "<div>\n",
              "<style scoped>\n",
              "    .dataframe tbody tr th:only-of-type {\n",
              "        vertical-align: middle;\n",
              "    }\n",
              "\n",
              "    .dataframe tbody tr th {\n",
              "        vertical-align: top;\n",
              "    }\n",
              "\n",
              "    .dataframe thead th {\n",
              "        text-align: right;\n",
              "    }\n",
              "</style>\n",
              "<table border=\"1\" class=\"dataframe\">\n",
              "  <thead>\n",
              "    <tr style=\"text-align: right;\">\n",
              "      <th></th>\n",
              "      <th>C3</th>\n",
              "      <th>F3</th>\n",
              "      <th>O2</th>\n",
              "      <th>ECG</th>\n",
              "    </tr>\n",
              "  </thead>\n",
              "  <tbody>\n",
              "    <tr>\n",
              "      <th>0</th>\n",
              "      <td>0.0</td>\n",
              "      <td>0.0</td>\n",
              "      <td>0.0</td>\n",
              "      <td>0.0</td>\n",
              "    </tr>\n",
              "    <tr>\n",
              "      <th>1</th>\n",
              "      <td>0.0</td>\n",
              "      <td>0.0</td>\n",
              "      <td>0.0</td>\n",
              "      <td>0.0</td>\n",
              "    </tr>\n",
              "    <tr>\n",
              "      <th>2</th>\n",
              "      <td>0.0</td>\n",
              "      <td>0.0</td>\n",
              "      <td>0.0</td>\n",
              "      <td>0.0</td>\n",
              "    </tr>\n",
              "    <tr>\n",
              "      <th>3</th>\n",
              "      <td>0.0</td>\n",
              "      <td>0.0</td>\n",
              "      <td>0.0</td>\n",
              "      <td>0.0</td>\n",
              "    </tr>\n",
              "    <tr>\n",
              "      <th>4</th>\n",
              "      <td>0.0</td>\n",
              "      <td>0.0</td>\n",
              "      <td>0.0</td>\n",
              "      <td>0.0</td>\n",
              "    </tr>\n",
              "  </tbody>\n",
              "</table>\n",
              "</div>"
            ],
            "text/plain": [
              "    C3   F3   O2  ECG\n",
              "0  0.0  0.0  0.0  0.0\n",
              "1  0.0  0.0  0.0  0.0\n",
              "2  0.0  0.0  0.0  0.0\n",
              "3  0.0  0.0  0.0  0.0\n",
              "4  0.0  0.0  0.0  0.0"
            ]
          },
          "metadata": {
            "tags": []
          },
          "execution_count": 33
        }
      ]
    },
    {
      "cell_type": "code",
      "metadata": {
        "id": "4fZ97KiCOBRU",
        "colab_type": "code",
        "colab": {
          "base_uri": "https://localhost:8080/",
          "height": 34
        },
        "outputId": "9267b502-9791-42de-b9fd-97e09e94e7cd"
      },
      "source": [
        "C3 = df.C3.values\n",
        "F3 = df.F3.values\n",
        "O2 = df.O2.values\n",
        "ECG = df.ECG.values\n",
        "len(C3), len(F3), len(O2), len(ECG)"
      ],
      "execution_count": null,
      "outputs": [
        {
          "output_type": "execute_result",
          "data": {
            "text/plain": [
              "(7032064, 7032064, 7032064, 7032064)"
            ]
          },
          "metadata": {
            "tags": []
          },
          "execution_count": 34
        }
      ]
    },
    {
      "cell_type": "markdown",
      "metadata": {
        "id": "jK8hyyvqOClS",
        "colab_type": "text"
      },
      "source": [
        "## Extracting and Storing Features from C3 Channel"
      ]
    },
    {
      "cell_type": "code",
      "metadata": {
        "id": "N-uGtO6ZOG02",
        "colab_type": "code",
        "colab": {
          "base_uri": "https://localhost:8080/",
          "height": 229
        },
        "outputId": "08eb71a7-1486-4bc6-959a-d921ec624266"
      },
      "source": [
        "C3 = C3/max(C3)\n",
        "area_C3 = np.array([], dtype = float)\n",
        "for i in range(int(len(C3)/7680)-1):\n",
        "  #print(i)\n",
        "  x = C3[i*7680:i*7680+7680]\n",
        "  x1 = C3[i*7680:i*7680+2*7680]\n",
        "  #print(x)\n",
        "  ar = np.asarray([find_area(x,x1, dim = [dim], tau = tau)],dtype=float)\n",
        "  area_C3 = np.append(area_C3,ar)\n",
        "print(len(area_C3))\n",
        "ar_label = pd.DataFrame({'area_C3':area_C3})\n",
        "ar_label.head()"
      ],
      "execution_count": null,
      "outputs": [
        {
          "output_type": "stream",
          "text": [
            "914\n"
          ],
          "name": "stdout"
        },
        {
          "output_type": "execute_result",
          "data": {
            "text/html": [
              "<div>\n",
              "<style scoped>\n",
              "    .dataframe tbody tr th:only-of-type {\n",
              "        vertical-align: middle;\n",
              "    }\n",
              "\n",
              "    .dataframe tbody tr th {\n",
              "        vertical-align: top;\n",
              "    }\n",
              "\n",
              "    .dataframe thead th {\n",
              "        text-align: right;\n",
              "    }\n",
              "</style>\n",
              "<table border=\"1\" class=\"dataframe\">\n",
              "  <thead>\n",
              "    <tr style=\"text-align: right;\">\n",
              "      <th></th>\n",
              "      <th>area_C3</th>\n",
              "    </tr>\n",
              "  </thead>\n",
              "  <tbody>\n",
              "    <tr>\n",
              "      <th>0</th>\n",
              "      <td>3.814876</td>\n",
              "    </tr>\n",
              "    <tr>\n",
              "      <th>1</th>\n",
              "      <td>2.849026</td>\n",
              "    </tr>\n",
              "    <tr>\n",
              "      <th>2</th>\n",
              "      <td>2.041976</td>\n",
              "    </tr>\n",
              "    <tr>\n",
              "      <th>3</th>\n",
              "      <td>2.466733</td>\n",
              "    </tr>\n",
              "    <tr>\n",
              "      <th>4</th>\n",
              "      <td>2.091364</td>\n",
              "    </tr>\n",
              "  </tbody>\n",
              "</table>\n",
              "</div>"
            ],
            "text/plain": [
              "    area_C3\n",
              "0  3.814876\n",
              "1  2.849026\n",
              "2  2.041976\n",
              "3  2.466733\n",
              "4  2.091364"
            ]
          },
          "metadata": {
            "tags": []
          },
          "execution_count": 35
        },
        {
          "output_type": "display_data",
          "data": {
            "text/plain": [
              "<Figure size 432x288 with 0 Axes>"
            ]
          },
          "metadata": {
            "tags": []
          }
        }
      ]
    },
    {
      "cell_type": "markdown",
      "metadata": {
        "id": "qfLBK4ZmOHKV",
        "colab_type": "text"
      },
      "source": [
        "## Extracting and Storing Features from F3 Channel"
      ]
    },
    {
      "cell_type": "code",
      "metadata": {
        "id": "OFIoqNJPOLdz",
        "colab_type": "code",
        "colab": {
          "base_uri": "https://localhost:8080/",
          "height": 229
        },
        "outputId": "0bc87c36-ec08-482d-8f74-5d178c0db426"
      },
      "source": [
        "F3 = F3/max(F3)\n",
        "area_F3 = np.array([], dtype = float)\n",
        "for i in range(int(len(F3)/7680)-1):\n",
        "  #print(i)\n",
        "  x = F3[i*7680:i*7680+7680]\n",
        "  x1 = F3[i*7680:i*7680+2*7680]\n",
        "  #print(x)\n",
        "  ar = np.asarray([find_area(x,x1, dim = [dim], tau = tau)],dtype=float)\n",
        "  area_F3 = np.append(area_F3,ar)\n",
        "print(len(area_F3))\n",
        "ar_label['area_F3'] = area_F3\n",
        "ar_label.head()"
      ],
      "execution_count": null,
      "outputs": [
        {
          "output_type": "stream",
          "text": [
            "914\n"
          ],
          "name": "stdout"
        },
        {
          "output_type": "execute_result",
          "data": {
            "text/html": [
              "<div>\n",
              "<style scoped>\n",
              "    .dataframe tbody tr th:only-of-type {\n",
              "        vertical-align: middle;\n",
              "    }\n",
              "\n",
              "    .dataframe tbody tr th {\n",
              "        vertical-align: top;\n",
              "    }\n",
              "\n",
              "    .dataframe thead th {\n",
              "        text-align: right;\n",
              "    }\n",
              "</style>\n",
              "<table border=\"1\" class=\"dataframe\">\n",
              "  <thead>\n",
              "    <tr style=\"text-align: right;\">\n",
              "      <th></th>\n",
              "      <th>area_C3</th>\n",
              "      <th>area_F3</th>\n",
              "    </tr>\n",
              "  </thead>\n",
              "  <tbody>\n",
              "    <tr>\n",
              "      <th>0</th>\n",
              "      <td>3.814876</td>\n",
              "      <td>3.026601</td>\n",
              "    </tr>\n",
              "    <tr>\n",
              "      <th>1</th>\n",
              "      <td>2.849026</td>\n",
              "      <td>2.944856</td>\n",
              "    </tr>\n",
              "    <tr>\n",
              "      <th>2</th>\n",
              "      <td>2.041976</td>\n",
              "      <td>2.215776</td>\n",
              "    </tr>\n",
              "    <tr>\n",
              "      <th>3</th>\n",
              "      <td>2.466733</td>\n",
              "      <td>2.836901</td>\n",
              "    </tr>\n",
              "    <tr>\n",
              "      <th>4</th>\n",
              "      <td>2.091364</td>\n",
              "      <td>2.322230</td>\n",
              "    </tr>\n",
              "  </tbody>\n",
              "</table>\n",
              "</div>"
            ],
            "text/plain": [
              "    area_C3   area_F3\n",
              "0  3.814876  3.026601\n",
              "1  2.849026  2.944856\n",
              "2  2.041976  2.215776\n",
              "3  2.466733  2.836901\n",
              "4  2.091364  2.322230"
            ]
          },
          "metadata": {
            "tags": []
          },
          "execution_count": 36
        },
        {
          "output_type": "display_data",
          "data": {
            "text/plain": [
              "<Figure size 432x288 with 0 Axes>"
            ]
          },
          "metadata": {
            "tags": []
          }
        }
      ]
    },
    {
      "cell_type": "markdown",
      "metadata": {
        "id": "juNBdqE0OL0o",
        "colab_type": "text"
      },
      "source": [
        "## Extracting and Storing Features from O2 Channel"
      ]
    },
    {
      "cell_type": "code",
      "metadata": {
        "id": "M48vX3EuOSrJ",
        "colab_type": "code",
        "colab": {
          "base_uri": "https://localhost:8080/",
          "height": 229
        },
        "outputId": "8a9a081e-862c-45fa-b7b1-06234bd1ddf2"
      },
      "source": [
        "O2 = O2/max(O2)\n",
        "area_O2 = np.array([], dtype = float)\n",
        "for i in range(int(len(O2)/7680)-1):\n",
        "  #print(i)\n",
        "  x = O2[i*7680:i*7680+7680]\n",
        "  x1 = O2[i*7680:i*7680+2*7680]\n",
        "  #print(x)\n",
        "  ar = np.asarray([find_area(x,x1, dim = [dim], tau = tau)],dtype=float)\n",
        "  area_O2 = np.append(area_O2,ar)\n",
        "print(len(area_O2))\n",
        "ar_label['area_O2'] = area_O2\n",
        "ar_label.head()"
      ],
      "execution_count": null,
      "outputs": [
        {
          "output_type": "stream",
          "text": [
            "914\n"
          ],
          "name": "stdout"
        },
        {
          "output_type": "execute_result",
          "data": {
            "text/html": [
              "<div>\n",
              "<style scoped>\n",
              "    .dataframe tbody tr th:only-of-type {\n",
              "        vertical-align: middle;\n",
              "    }\n",
              "\n",
              "    .dataframe tbody tr th {\n",
              "        vertical-align: top;\n",
              "    }\n",
              "\n",
              "    .dataframe thead th {\n",
              "        text-align: right;\n",
              "    }\n",
              "</style>\n",
              "<table border=\"1\" class=\"dataframe\">\n",
              "  <thead>\n",
              "    <tr style=\"text-align: right;\">\n",
              "      <th></th>\n",
              "      <th>area_C3</th>\n",
              "      <th>area_F3</th>\n",
              "      <th>area_O2</th>\n",
              "    </tr>\n",
              "  </thead>\n",
              "  <tbody>\n",
              "    <tr>\n",
              "      <th>0</th>\n",
              "      <td>3.814876</td>\n",
              "      <td>3.026601</td>\n",
              "      <td>2.995074</td>\n",
              "    </tr>\n",
              "    <tr>\n",
              "      <th>1</th>\n",
              "      <td>2.849026</td>\n",
              "      <td>2.944856</td>\n",
              "      <td>3.102988</td>\n",
              "    </tr>\n",
              "    <tr>\n",
              "      <th>2</th>\n",
              "      <td>2.041976</td>\n",
              "      <td>2.215776</td>\n",
              "      <td>2.318145</td>\n",
              "    </tr>\n",
              "    <tr>\n",
              "      <th>3</th>\n",
              "      <td>2.466733</td>\n",
              "      <td>2.836901</td>\n",
              "      <td>2.795980</td>\n",
              "    </tr>\n",
              "    <tr>\n",
              "      <th>4</th>\n",
              "      <td>2.091364</td>\n",
              "      <td>2.322230</td>\n",
              "      <td>2.135181</td>\n",
              "    </tr>\n",
              "  </tbody>\n",
              "</table>\n",
              "</div>"
            ],
            "text/plain": [
              "    area_C3   area_F3   area_O2\n",
              "0  3.814876  3.026601  2.995074\n",
              "1  2.849026  2.944856  3.102988\n",
              "2  2.041976  2.215776  2.318145\n",
              "3  2.466733  2.836901  2.795980\n",
              "4  2.091364  2.322230  2.135181"
            ]
          },
          "metadata": {
            "tags": []
          },
          "execution_count": 37
        },
        {
          "output_type": "display_data",
          "data": {
            "text/plain": [
              "<Figure size 432x288 with 0 Axes>"
            ]
          },
          "metadata": {
            "tags": []
          }
        }
      ]
    },
    {
      "cell_type": "markdown",
      "metadata": {
        "id": "PQ1M6H95OTa0",
        "colab_type": "text"
      },
      "source": [
        "## Extracting and Storing Features from ECG Channel"
      ]
    },
    {
      "cell_type": "code",
      "metadata": {
        "id": "-3WvFKDYOX0Z",
        "colab_type": "code",
        "colab": {
          "base_uri": "https://localhost:8080/",
          "height": 229
        },
        "outputId": "4bc73c5f-3ba1-48e0-eb10-bce91d909fa1"
      },
      "source": [
        "ECG = ECG/max(ECG)\n",
        "area_ECG = np.array([], dtype = float)\n",
        "for i in range(int(len(ECG)/7680)-1):\n",
        "  #print(i)\n",
        "  x = ECG[i*7680:i*7680+7680]\n",
        "  x1 = ECG[i*7680:i*7680+2*7680]\n",
        "  #print(x)\n",
        "  ar = np.asarray([find_area(x,x1, dim = [dim], tau = tau)],dtype=float)\n",
        "  area_ECG = np.append(area_ECG,ar)\n",
        "print(len(area_ECG))\n",
        "ar_label['area_ECG'] = area_ECG\n",
        "ar_label.head()"
      ],
      "execution_count": null,
      "outputs": [
        {
          "output_type": "stream",
          "text": [
            "914\n"
          ],
          "name": "stdout"
        },
        {
          "output_type": "execute_result",
          "data": {
            "text/html": [
              "<div>\n",
              "<style scoped>\n",
              "    .dataframe tbody tr th:only-of-type {\n",
              "        vertical-align: middle;\n",
              "    }\n",
              "\n",
              "    .dataframe tbody tr th {\n",
              "        vertical-align: top;\n",
              "    }\n",
              "\n",
              "    .dataframe thead th {\n",
              "        text-align: right;\n",
              "    }\n",
              "</style>\n",
              "<table border=\"1\" class=\"dataframe\">\n",
              "  <thead>\n",
              "    <tr style=\"text-align: right;\">\n",
              "      <th></th>\n",
              "      <th>area_C3</th>\n",
              "      <th>area_F3</th>\n",
              "      <th>area_O2</th>\n",
              "      <th>area_ECG</th>\n",
              "    </tr>\n",
              "  </thead>\n",
              "  <tbody>\n",
              "    <tr>\n",
              "      <th>0</th>\n",
              "      <td>3.814876</td>\n",
              "      <td>3.026601</td>\n",
              "      <td>2.995074</td>\n",
              "      <td>12.430815</td>\n",
              "    </tr>\n",
              "    <tr>\n",
              "      <th>1</th>\n",
              "      <td>2.849026</td>\n",
              "      <td>2.944856</td>\n",
              "      <td>3.102988</td>\n",
              "      <td>7.730752</td>\n",
              "    </tr>\n",
              "    <tr>\n",
              "      <th>2</th>\n",
              "      <td>2.041976</td>\n",
              "      <td>2.215776</td>\n",
              "      <td>2.318145</td>\n",
              "      <td>26.337589</td>\n",
              "    </tr>\n",
              "    <tr>\n",
              "      <th>3</th>\n",
              "      <td>2.466733</td>\n",
              "      <td>2.836901</td>\n",
              "      <td>2.795980</td>\n",
              "      <td>7.636212</td>\n",
              "    </tr>\n",
              "    <tr>\n",
              "      <th>4</th>\n",
              "      <td>2.091364</td>\n",
              "      <td>2.322230</td>\n",
              "      <td>2.135181</td>\n",
              "      <td>29.918835</td>\n",
              "    </tr>\n",
              "  </tbody>\n",
              "</table>\n",
              "</div>"
            ],
            "text/plain": [
              "    area_C3   area_F3   area_O2   area_ECG\n",
              "0  3.814876  3.026601  2.995074  12.430815\n",
              "1  2.849026  2.944856  3.102988   7.730752\n",
              "2  2.041976  2.215776  2.318145  26.337589\n",
              "3  2.466733  2.836901  2.795980   7.636212\n",
              "4  2.091364  2.322230  2.135181  29.918835"
            ]
          },
          "metadata": {
            "tags": []
          },
          "execution_count": 38
        },
        {
          "output_type": "display_data",
          "data": {
            "text/plain": [
              "<Figure size 432x288 with 0 Axes>"
            ]
          },
          "metadata": {
            "tags": []
          }
        }
      ]
    },
    {
      "cell_type": "code",
      "metadata": {
        "id": "HpXa3MT_OkJq",
        "colab_type": "code",
        "colab": {
          "base_uri": "https://localhost:8080/",
          "height": 195
        },
        "outputId": "fb54af2e-265c-464f-9811-014a660b5b39"
      },
      "source": [
        "ar_label.to_csv('Feature_C3_F3_O2_ECG_nolabel_Sunny_constant_tau_dim.csv', index = False)\n",
        "df = pd.read_csv('Feature_C3_F3_O2_ECG_nolabel_Sunny_constant_tau_dim.csv')\n",
        "df.head()"
      ],
      "execution_count": null,
      "outputs": [
        {
          "output_type": "execute_result",
          "data": {
            "text/html": [
              "<div>\n",
              "<style scoped>\n",
              "    .dataframe tbody tr th:only-of-type {\n",
              "        vertical-align: middle;\n",
              "    }\n",
              "\n",
              "    .dataframe tbody tr th {\n",
              "        vertical-align: top;\n",
              "    }\n",
              "\n",
              "    .dataframe thead th {\n",
              "        text-align: right;\n",
              "    }\n",
              "</style>\n",
              "<table border=\"1\" class=\"dataframe\">\n",
              "  <thead>\n",
              "    <tr style=\"text-align: right;\">\n",
              "      <th></th>\n",
              "      <th>area_C3</th>\n",
              "      <th>area_F3</th>\n",
              "      <th>area_O2</th>\n",
              "      <th>area_ECG</th>\n",
              "    </tr>\n",
              "  </thead>\n",
              "  <tbody>\n",
              "    <tr>\n",
              "      <th>0</th>\n",
              "      <td>3.814876</td>\n",
              "      <td>3.026601</td>\n",
              "      <td>2.995074</td>\n",
              "      <td>12.430815</td>\n",
              "    </tr>\n",
              "    <tr>\n",
              "      <th>1</th>\n",
              "      <td>2.849026</td>\n",
              "      <td>2.944856</td>\n",
              "      <td>3.102988</td>\n",
              "      <td>7.730752</td>\n",
              "    </tr>\n",
              "    <tr>\n",
              "      <th>2</th>\n",
              "      <td>2.041976</td>\n",
              "      <td>2.215776</td>\n",
              "      <td>2.318145</td>\n",
              "      <td>26.337589</td>\n",
              "    </tr>\n",
              "    <tr>\n",
              "      <th>3</th>\n",
              "      <td>2.466733</td>\n",
              "      <td>2.836901</td>\n",
              "      <td>2.795980</td>\n",
              "      <td>7.636212</td>\n",
              "    </tr>\n",
              "    <tr>\n",
              "      <th>4</th>\n",
              "      <td>2.091364</td>\n",
              "      <td>2.322230</td>\n",
              "      <td>2.135181</td>\n",
              "      <td>29.918835</td>\n",
              "    </tr>\n",
              "  </tbody>\n",
              "</table>\n",
              "</div>"
            ],
            "text/plain": [
              "    area_C3   area_F3   area_O2   area_ECG\n",
              "0  3.814876  3.026601  2.995074  12.430815\n",
              "1  2.849026  2.944856  3.102988   7.730752\n",
              "2  2.041976  2.215776  2.318145  26.337589\n",
              "3  2.466733  2.836901  2.795980   7.636212\n",
              "4  2.091364  2.322230  2.135181  29.918835"
            ]
          },
          "metadata": {
            "tags": []
          },
          "execution_count": 39
        }
      ]
    }
  ]
}