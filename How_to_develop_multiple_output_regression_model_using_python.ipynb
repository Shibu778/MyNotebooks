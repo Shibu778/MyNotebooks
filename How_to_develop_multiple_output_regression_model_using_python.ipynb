{
  "nbformat": 4,
  "nbformat_minor": 0,
  "metadata": {
    "colab": {
      "name": "How to develop multiple output regression model using python",
      "provenance": [],
      "authorship_tag": "ABX9TyN1G7gjyaV4PNzOkhU2c5wd",
      "include_colab_link": true
    },
    "kernelspec": {
      "name": "python3",
      "display_name": "Python 3"
    }
  },
  "cells": [
    {
      "cell_type": "markdown",
      "metadata": {
        "id": "view-in-github",
        "colab_type": "text"
      },
      "source": [
        "<a href=\"https://colab.research.google.com/github/Shibu778/MyNotebooks/blob/master/How_to_develop_multiple_output_regression_model_using_python.ipynb\" target=\"_parent\"><img src=\"https://colab.research.google.com/assets/colab-badge.svg\" alt=\"Open In Colab\"/></a>"
      ]
    },
    {
      "cell_type": "markdown",
      "metadata": {
        "id": "iMbuOimC_h0D"
      },
      "source": [
        "This notebook is the result of my learning from the following blog.\r\n",
        "\r\n",
        "https://machinelearningmastery.com/multi-output-regression-models-with-python/"
      ]
    },
    {
      "cell_type": "markdown",
      "metadata": {
        "id": "eW1ME4uB_qit"
      },
      "source": [
        "## How to develop multiple output regression model using python\r\n",
        "\r\n",
        "Things to learn\r\n",
        " - The problem of multioutput regression in machine learning\r\n",
        " - How to develop machine learning model that inherently support multiple-output regression\r\n",
        " - How to develop wrapper models that allow algorithms that do not inherently support multiple output to support multiple-output regression"
      ]
    },
    {
      "cell_type": "code",
      "metadata": {
        "id": "71unSaBy_cxK",
        "colab": {
          "base_uri": "https://localhost:8080/"
        },
        "outputId": "36cc0096-302d-4500-cc7d-92f1cfe8c932"
      },
      "source": [
        "# check scikit-learn version\r\n",
        "import sklearn\r\n",
        "print(sklearn.__version__)"
      ],
      "execution_count": 1,
      "outputs": [
        {
          "output_type": "stream",
          "text": [
            "0.22.2.post1\n"
          ],
          "name": "stdout"
        }
      ]
    },
    {
      "cell_type": "code",
      "metadata": {
        "colab": {
          "base_uri": "https://localhost:8080/"
        },
        "id": "GNUk0tj1OL4M",
        "outputId": "e4b4a9a4-6304-449b-ddeb-496f533b4761"
      },
      "source": [
        "# Generating dataset using make_regression function of sklearn.datasets\r\n",
        "# example of multioutput regression test problem\r\n",
        "from sklearn.datasets import make_regression\r\n",
        "# create datasets\r\n",
        "X, y = make_regression(n_samples=1000, n_features=10, n_informative=5, n_targets=2, random_state=1, noise=0.5)\r\n",
        "# summarize dataset\r\n",
        "print(X.shape, y.shape)"
      ],
      "execution_count": 2,
      "outputs": [
        {
          "output_type": "stream",
          "text": [
            "(1000, 10) (1000, 2)\n"
          ],
          "name": "stdout"
        }
      ]
    },
    {
      "cell_type": "markdown",
      "metadata": {
        "id": "ubeIwLflOt48"
      },
      "source": [
        "**Inherently Multiple-output regression algorithm**\r\n",
        "1. Linear Regression and related\r\n",
        "2. KNeighborsRegressor\r\n",
        "3. DecisionTreeRegressor\r\n",
        "4. RandomForestRegressor and related"
      ]
    },
    {
      "cell_type": "code",
      "metadata": {
        "colab": {
          "base_uri": "https://localhost:8080/"
        },
        "id": "ftkEfr4MOP5f",
        "outputId": "2e1ec028-6959-43be-ffe4-346009eb4f76"
      },
      "source": [
        "# Linear Regression for multioutput regression problem\r\n",
        "# linear regression for multioutput regression\r\n",
        "from sklearn.datasets import make_regression\r\n",
        "from sklearn.linear_model import LinearRegression\r\n",
        "# create datasets\r\n",
        "X, y = make_regression(n_samples=1000, n_features=10, n_informative=5, n_targets=2, random_state=1, noise=0.5)\r\n",
        "# define model\r\n",
        "model = LinearRegression()\r\n",
        "# fit model\r\n",
        "model.fit(X, y)\r\n",
        "# make a prediction\r\n",
        "row = [0.21947749, 0.32948997, 0.81560036, 0.440956, -0.0606303, -0.29257894, -0.2820059, -0.00290545, 0.96402263, 0.04992249]\r\n",
        "yhat = model.predict([row])\r\n",
        "# summarize prediction\r\n",
        "print(yhat[0])"
      ],
      "execution_count": 6,
      "outputs": [
        {
          "output_type": "stream",
          "text": [
            "[50.06781717 64.564973  ]\n"
          ],
          "name": "stdout"
        }
      ]
    },
    {
      "cell_type": "code",
      "metadata": {
        "colab": {
          "base_uri": "https://localhost:8080/"
        },
        "id": "I3_3CP5PPkh2",
        "outputId": "a8756ae1-6183-4f06-e5fa-26be9dcb649d"
      },
      "source": [
        "# KNearest Neighbors for multioutput regression\r\n",
        "# k-nearest neighbors for multioutput regression\r\n",
        "from sklearn.datasets import make_regression\r\n",
        "from sklearn.neighbors import KNeighborsRegressor\r\n",
        "# create datasets\r\n",
        "X, y = make_regression(n_samples=1000, n_features=10, n_informative=5, n_targets=2, random_state=1, noise=0.5)\r\n",
        "# define model\r\n",
        "model = KNeighborsRegressor()\r\n",
        "# fit model\r\n",
        "model.fit(X, y)\r\n",
        "# make a prediction\r\n",
        "row = [0.21947749, 0.32948997, 0.81560036, 0.440956, -0.0606303, -0.29257894, -0.2820059, -0.00290545, 0.96402263, 0.04992249]\r\n",
        "yhat = model.predict([row])\r\n",
        "# summarize prediction\r\n",
        "print(yhat[0])"
      ],
      "execution_count": 7,
      "outputs": [
        {
          "output_type": "stream",
          "text": [
            "[-11.73511093  52.78406297]\n"
          ],
          "name": "stdout"
        }
      ]
    },
    {
      "cell_type": "code",
      "metadata": {
        "colab": {
          "base_uri": "https://localhost:8080/"
        },
        "id": "0-IQ1KhwQAeZ",
        "outputId": "973807a3-ad75-4dfe-c53a-629952840344"
      },
      "source": [
        "# Decision Tree for multioutput regression\r\n",
        "# decision tree for multioutput regression\r\n",
        "from sklearn.datasets import make_regression\r\n",
        "from sklearn.tree import DecisionTreeRegressor\r\n",
        "# create datasets\r\n",
        "X, y = make_regression(n_samples=1000, n_features=10, n_informative=5, n_targets=2, random_state=1, noise=0.5)\r\n",
        "# define model\r\n",
        "model = DecisionTreeRegressor()\r\n",
        "# fit model\r\n",
        "model.fit(X, y)\r\n",
        "# make a prediction\r\n",
        "row = [0.21947749, 0.32948997, 0.81560036, 0.440956, -0.0606303, -0.29257894, -0.2820059, -0.00290545, 0.96402263, 0.04992249]\r\n",
        "yhat = model.predict([row])\r\n",
        "# summarize prediction\r\n",
        "print(yhat[0])"
      ],
      "execution_count": 8,
      "outputs": [
        {
          "output_type": "stream",
          "text": [
            "[49.93137149 64.08484989]\n"
          ],
          "name": "stdout"
        }
      ]
    },
    {
      "cell_type": "code",
      "metadata": {
        "colab": {
          "base_uri": "https://localhost:8080/"
        },
        "id": "neAETbSMQJ4Z",
        "outputId": "c4619fe5-31c1-4e15-e606-b863429ca0c4"
      },
      "source": [
        "# evaluate multioutput regression model with k-fold cross-validation\r\n",
        "from numpy import absolute\r\n",
        "from numpy import mean\r\n",
        "from numpy import std\r\n",
        "from sklearn.datasets import make_regression\r\n",
        "from sklearn.tree import DecisionTreeRegressor\r\n",
        "from sklearn.model_selection import cross_val_score\r\n",
        "from sklearn.model_selection import RepeatedKFold\r\n",
        "# create datasets\r\n",
        "X, y = make_regression(n_samples=1000, n_features=10, n_informative=5, n_targets=2, random_state=1, noise=0.5)\r\n",
        "# define model\r\n",
        "model = DecisionTreeRegressor()\r\n",
        "# define the evaluation procedure\r\n",
        "cv = RepeatedKFold(n_splits=10, n_repeats=3, random_state=1)\r\n",
        "# evaluate the model and collect the scores\r\n",
        "n_scores = cross_val_score(model, X, y, scoring='neg_mean_absolute_error', cv=cv, n_jobs=-1)\r\n",
        "# force the scores to be positive\r\n",
        "n_scores = absolute(n_scores)\r\n",
        "# summarize performance\r\n",
        "print('MAE: %.3f (%.3f)' % (mean(n_scores), std(n_scores)))"
      ],
      "execution_count": 9,
      "outputs": [
        {
          "output_type": "stream",
          "text": [
            "MAE: 52.167 (2.893)\n"
          ],
          "name": "stdout"
        }
      ]
    },
    {
      "cell_type": "code",
      "metadata": {
        "colab": {
          "base_uri": "https://localhost:8080/"
        },
        "id": "OPgEjMNmSHe2",
        "outputId": "acffc17f-40a4-4c29-dacb-8c08ad73f2a0"
      },
      "source": [
        "# Example for kfold cross validation\r\n",
        "from sklearn import datasets, linear_model\r\n",
        "from sklearn.model_selection import cross_val_score\r\n",
        "diabetes = datasets.load_diabetes()\r\n",
        "X = diabetes.data[:150]\r\n",
        "y = diabetes.target[:150]\r\n",
        "lasso = linear_model.Lasso()\r\n",
        "print(cross_val_score(lasso, X, y, cv=3))"
      ],
      "execution_count": 10,
      "outputs": [
        {
          "output_type": "stream",
          "text": [
            "[0.33150734 0.08022311 0.03531764]\n"
          ],
          "name": "stdout"
        }
      ]
    },
    {
      "cell_type": "code",
      "metadata": {
        "colab": {
          "base_uri": "https://localhost:8080/",
          "height": 337
        },
        "id": "2wMN1uhhSPem",
        "outputId": "ea288d28-1e8c-4327-8677-866261c094aa"
      },
      "source": [
        "# failure of support vector regression for multioutput regression (causes an error)\r\n",
        "from sklearn.datasets import make_regression\r\n",
        "from sklearn.svm import LinearSVR\r\n",
        "# create datasets\r\n",
        "X, y = make_regression(n_samples=1000, n_features=10, n_informative=5, n_targets=2, random_state=1)\r\n",
        "# define model\r\n",
        "model = LinearSVR()\r\n",
        "# fit model\r\n",
        "# (THIS WILL CAUSE AN ERROR!)\r\n",
        "model.fit(X, y)"
      ],
      "execution_count": 21,
      "outputs": [
        {
          "output_type": "error",
          "ename": "ValueError",
          "evalue": "ignored",
          "traceback": [
            "\u001b[0;31m---------------------------------------------------------------------------\u001b[0m",
            "\u001b[0;31mValueError\u001b[0m                                Traceback (most recent call last)",
            "\u001b[0;32m<ipython-input-21-c503f6a1d7de>\u001b[0m in \u001b[0;36m<module>\u001b[0;34m()\u001b[0m\n\u001b[1;32m      8\u001b[0m \u001b[0;31m# fit model\u001b[0m\u001b[0;34m\u001b[0m\u001b[0;34m\u001b[0m\u001b[0;34m\u001b[0m\u001b[0m\n\u001b[1;32m      9\u001b[0m \u001b[0;31m# (THIS WILL CAUSE AN ERROR!)\u001b[0m\u001b[0;34m\u001b[0m\u001b[0;34m\u001b[0m\u001b[0;34m\u001b[0m\u001b[0m\n\u001b[0;32m---> 10\u001b[0;31m \u001b[0mmodel\u001b[0m\u001b[0;34m.\u001b[0m\u001b[0mfit\u001b[0m\u001b[0;34m(\u001b[0m\u001b[0mX\u001b[0m\u001b[0;34m,\u001b[0m \u001b[0my\u001b[0m\u001b[0;34m)\u001b[0m\u001b[0;34m\u001b[0m\u001b[0;34m\u001b[0m\u001b[0m\n\u001b[0m",
            "\u001b[0;32m/usr/local/lib/python3.6/dist-packages/sklearn/svm/_classes.py\u001b[0m in \u001b[0;36mfit\u001b[0;34m(self, X, y, sample_weight)\u001b[0m\n\u001b[1;32m    424\u001b[0m         X, y = check_X_y(X, y, accept_sparse='csr',\n\u001b[1;32m    425\u001b[0m                          \u001b[0mdtype\u001b[0m\u001b[0;34m=\u001b[0m\u001b[0mnp\u001b[0m\u001b[0;34m.\u001b[0m\u001b[0mfloat64\u001b[0m\u001b[0;34m,\u001b[0m \u001b[0morder\u001b[0m\u001b[0;34m=\u001b[0m\u001b[0;34m\"C\"\u001b[0m\u001b[0;34m,\u001b[0m\u001b[0;34m\u001b[0m\u001b[0;34m\u001b[0m\u001b[0m\n\u001b[0;32m--> 426\u001b[0;31m                          accept_large_sparse=False)\n\u001b[0m\u001b[1;32m    427\u001b[0m         \u001b[0mpenalty\u001b[0m \u001b[0;34m=\u001b[0m \u001b[0;34m'l2'\u001b[0m  \u001b[0;31m# SVR only accepts l2 penalty\u001b[0m\u001b[0;34m\u001b[0m\u001b[0;34m\u001b[0m\u001b[0m\n\u001b[1;32m    428\u001b[0m         self.coef_, self.intercept_, self.n_iter_ = _fit_liblinear(\n",
            "\u001b[0;32m/usr/local/lib/python3.6/dist-packages/sklearn/utils/validation.py\u001b[0m in \u001b[0;36mcheck_X_y\u001b[0;34m(X, y, accept_sparse, accept_large_sparse, dtype, order, copy, force_all_finite, ensure_2d, allow_nd, multi_output, ensure_min_samples, ensure_min_features, y_numeric, warn_on_dtype, estimator)\u001b[0m\n\u001b[1;32m    758\u001b[0m                         dtype=None)\n\u001b[1;32m    759\u001b[0m     \u001b[0;32melse\u001b[0m\u001b[0;34m:\u001b[0m\u001b[0;34m\u001b[0m\u001b[0;34m\u001b[0m\u001b[0m\n\u001b[0;32m--> 760\u001b[0;31m         \u001b[0my\u001b[0m \u001b[0;34m=\u001b[0m \u001b[0mcolumn_or_1d\u001b[0m\u001b[0;34m(\u001b[0m\u001b[0my\u001b[0m\u001b[0;34m,\u001b[0m \u001b[0mwarn\u001b[0m\u001b[0;34m=\u001b[0m\u001b[0;32mTrue\u001b[0m\u001b[0;34m)\u001b[0m\u001b[0;34m\u001b[0m\u001b[0;34m\u001b[0m\u001b[0m\n\u001b[0m\u001b[1;32m    761\u001b[0m         \u001b[0m_assert_all_finite\u001b[0m\u001b[0;34m(\u001b[0m\u001b[0my\u001b[0m\u001b[0;34m)\u001b[0m\u001b[0;34m\u001b[0m\u001b[0;34m\u001b[0m\u001b[0m\n\u001b[1;32m    762\u001b[0m     \u001b[0;32mif\u001b[0m \u001b[0my_numeric\u001b[0m \u001b[0;32mand\u001b[0m \u001b[0my\u001b[0m\u001b[0;34m.\u001b[0m\u001b[0mdtype\u001b[0m\u001b[0;34m.\u001b[0m\u001b[0mkind\u001b[0m \u001b[0;34m==\u001b[0m \u001b[0;34m'O'\u001b[0m\u001b[0;34m:\u001b[0m\u001b[0;34m\u001b[0m\u001b[0;34m\u001b[0m\u001b[0m\n",
            "\u001b[0;32m/usr/local/lib/python3.6/dist-packages/sklearn/utils/validation.py\u001b[0m in \u001b[0;36mcolumn_or_1d\u001b[0;34m(y, warn)\u001b[0m\n\u001b[1;32m    795\u001b[0m         \u001b[0;32mreturn\u001b[0m \u001b[0mnp\u001b[0m\u001b[0;34m.\u001b[0m\u001b[0mravel\u001b[0m\u001b[0;34m(\u001b[0m\u001b[0my\u001b[0m\u001b[0;34m)\u001b[0m\u001b[0;34m\u001b[0m\u001b[0;34m\u001b[0m\u001b[0m\n\u001b[1;32m    796\u001b[0m \u001b[0;34m\u001b[0m\u001b[0m\n\u001b[0;32m--> 797\u001b[0;31m     \u001b[0;32mraise\u001b[0m \u001b[0mValueError\u001b[0m\u001b[0;34m(\u001b[0m\u001b[0;34m\"bad input shape {0}\"\u001b[0m\u001b[0;34m.\u001b[0m\u001b[0mformat\u001b[0m\u001b[0;34m(\u001b[0m\u001b[0mshape\u001b[0m\u001b[0;34m)\u001b[0m\u001b[0;34m)\u001b[0m\u001b[0;34m\u001b[0m\u001b[0;34m\u001b[0m\u001b[0m\n\u001b[0m\u001b[1;32m    798\u001b[0m \u001b[0;34m\u001b[0m\u001b[0m\n\u001b[1;32m    799\u001b[0m \u001b[0;34m\u001b[0m\u001b[0m\n",
            "\u001b[0;31mValueError\u001b[0m: bad input shape (1000, 2)"
          ]
        }
      ]
    },
    {
      "cell_type": "code",
      "metadata": {
        "colab": {
          "base_uri": "https://localhost:8080/"
        },
        "id": "cFQeGsj5UThr",
        "outputId": "ecf5e840-368c-4fe3-9d47-6c14642c8748"
      },
      "source": [
        "# example of evaluating direct multioutput regression with an SVM model\r\n",
        "from numpy import mean\r\n",
        "from numpy import std\r\n",
        "from numpy import absolute\r\n",
        "from sklearn.datasets import make_regression\r\n",
        "from sklearn.model_selection import cross_val_score\r\n",
        "from sklearn.model_selection import RepeatedKFold\r\n",
        "from sklearn.multioutput import MultiOutputRegressor\r\n",
        "from sklearn.svm import LinearSVR\r\n",
        "# define dataset\r\n",
        "X, y = make_regression(n_samples=1000, n_features=10, n_informative=5, n_targets=2, random_state=1, noise=0.5)\r\n",
        "# define base model\r\n",
        "model = LinearSVR()\r\n",
        "# define the direct multioutput wrapper model\r\n",
        "wrapper = MultiOutputRegressor(model)\r\n",
        "# define the evaluation procedure\r\n",
        "cv = RepeatedKFold(n_splits=10, n_repeats=3, random_state=1)\r\n",
        "# evaluate the model and collect the scores\r\n",
        "n_scores = cross_val_score(wrapper, X, y, scoring='neg_mean_absolute_error', cv=cv, n_jobs=-1)\r\n",
        "# force the scores to be positive\r\n",
        "n_scores = absolute(n_scores)\r\n",
        "# summarize performance\r\n",
        "print('MAE: %.3f (%.3f)' % (mean(n_scores), std(n_scores)))"
      ],
      "execution_count": 27,
      "outputs": [
        {
          "output_type": "stream",
          "text": [
            "MAE: 0.419 (0.024)\n"
          ],
          "name": "stdout"
        }
      ]
    },
    {
      "cell_type": "code",
      "metadata": {
        "colab": {
          "base_uri": "https://localhost:8080/"
        },
        "id": "k3rozkSLVfUt",
        "outputId": "8a121a0f-6e85-4e5f-c212-5aaf09e0d310"
      },
      "source": [
        "# example of making a prediction with the direct multioutput regression model\r\n",
        "from sklearn.datasets import make_regression\r\n",
        "from sklearn.multioutput import MultiOutputRegressor\r\n",
        "from sklearn.svm import LinearSVR\r\n",
        "# define dataset\r\n",
        "X, y = make_regression(n_samples=1000, n_features=10, n_informative=5, n_targets=2, random_state=1, noise=0.5)\r\n",
        "# define base model\r\n",
        "model = LinearSVR()\r\n",
        "# define the direct multioutput wrapper model\r\n",
        "wrapper = MultiOutputRegressor(model)\r\n",
        "# fit the model on the whole dataset\r\n",
        "wrapper.fit(X, y)\r\n",
        "# make a single prediction\r\n",
        "row = [0.21947749, 0.32948997, 0.81560036, 0.440956, -0.0606303, -0.29257894, -0.2820059, -0.00290545, 0.96402263, 0.04992249]\r\n",
        "yhat = wrapper.predict([row])\r\n",
        "# summarize the prediction\r\n",
        "print('Predicted: %s' % yhat[0])"
      ],
      "execution_count": 23,
      "outputs": [
        {
          "output_type": "stream",
          "text": [
            "Predicted: [50.01306156 64.51492147]\n"
          ],
          "name": "stdout"
        }
      ]
    },
    {
      "cell_type": "code",
      "metadata": {
        "colab": {
          "base_uri": "https://localhost:8080/"
        },
        "id": "4cgEcDCnWSos",
        "outputId": "ab25532a-49e5-4462-d0bd-cd302ffb79c0"
      },
      "source": [
        "# example of evaluating chained multioutput regression with an SVM model\r\n",
        "from numpy import mean\r\n",
        "from numpy import std\r\n",
        "from numpy import absolute\r\n",
        "from sklearn.datasets import make_regression\r\n",
        "from sklearn.model_selection import cross_val_score\r\n",
        "from sklearn.model_selection import RepeatedKFold\r\n",
        "from sklearn.multioutput import RegressorChain\r\n",
        "from sklearn.svm import LinearSVR\r\n",
        "# define dataset\r\n",
        "X, y = make_regression(n_samples=1000, n_features=10, n_informative=5, n_targets=2, random_state=1, noise=0.5)\r\n",
        "# define base model\r\n",
        "model = LinearSVR()\r\n",
        "# define the chained multioutput wrapper model\r\n",
        "wrapper = RegressorChain(model)\r\n",
        "# define the evaluation procedure\r\n",
        "cv = RepeatedKFold(n_splits=10, n_repeats=3, random_state=1)\r\n",
        "# evaluate the model and collect the scores\r\n",
        "n_scores = cross_val_score(wrapper, X, y, scoring='neg_mean_absolute_error', cv=cv, n_jobs=-1)\r\n",
        "# force the scores to be positive\r\n",
        "n_scores = absolute(n_scores)\r\n",
        "# summarize performance\r\n",
        "print('MAE: %.3f (%.3f)' % (mean(n_scores), std(n_scores)))"
      ],
      "execution_count": 26,
      "outputs": [
        {
          "output_type": "stream",
          "text": [
            "MAE: 0.557 (0.151)\n"
          ],
          "name": "stdout"
        }
      ]
    },
    {
      "cell_type": "code",
      "metadata": {
        "colab": {
          "base_uri": "https://localhost:8080/"
        },
        "id": "7YVZFMbXWVnB",
        "outputId": "3c44fa00-bd0e-47fe-8c47-87b3c5364477"
      },
      "source": [
        "# example of making a prediction with the chained multioutput regression model\r\n",
        "from sklearn.datasets import make_regression\r\n",
        "from sklearn.multioutput import RegressorChain\r\n",
        "from sklearn.svm import LinearSVR\r\n",
        "# define dataset\r\n",
        "X, y = make_regression(n_samples=1000, n_features=10, n_informative=5, n_targets=2, random_state=1, noise=0.5)\r\n",
        "# define base model\r\n",
        "model = LinearSVR()\r\n",
        "# define the chained multioutput wrapper model\r\n",
        "wrapper = RegressorChain(model)\r\n",
        "# fit the model on the whole dataset\r\n",
        "wrapper.fit(X, y)\r\n",
        "# make a single prediction\r\n",
        "row = [0.21947749, 0.32948997, 0.81560036, 0.440956, -0.0606303, -0.29257894, -0.2820059, -0.00290545, 0.96402263, 0.04992249]\r\n",
        "yhat = wrapper.predict([row])\r\n",
        "# summarize the prediction\r\n",
        "print('Predicted: %s' % yhat[0])"
      ],
      "execution_count": 28,
      "outputs": [
        {
          "output_type": "stream",
          "text": [
            "Predicted: [50.01835244 65.11478016]\n"
          ],
          "name": "stdout"
        },
        {
          "output_type": "stream",
          "text": [
            "/usr/local/lib/python3.6/dist-packages/sklearn/svm/_base.py:947: ConvergenceWarning: Liblinear failed to converge, increase the number of iterations.\n",
            "  \"the number of iterations.\", ConvergenceWarning)\n"
          ],
          "name": "stderr"
        }
      ]
    },
    {
      "cell_type": "markdown",
      "metadata": {
        "id": "icW5aA-zW2JU"
      },
      "source": [
        "### Resources\r\n",
        "\r\n",
        "1. https://scikit-learn.org/stable/modules/multiclass.html\r\n",
        "2. https://scikit-learn.org/stable/modules/generated/sklearn.datasets.make_regression.html\r\n",
        "3. https://scikit-learn.org/stable/modules/generated/sklearn.multioutput.MultiOutputRegressor.html\r\n",
        "4. https://scikit-learn.org/stable/modules/generated/sklearn.multioutput.RegressorChain.html"
      ]
    }
  ]
}